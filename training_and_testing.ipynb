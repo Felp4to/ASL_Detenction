{
 "cells": [
  {
   "cell_type": "code",
   "execution_count": null,
   "outputs": [],
   "source": [
    "import keras.models\n",
    "!pip install sklearn tensorflow"
   ],
   "metadata": {
    "collapsed": false
   },
   "id": "ce6ea809c3b3d5cd"
  },
  {
   "cell_type": "code",
   "execution_count": 2,
   "outputs": [],
   "source": [
    "import numpy as np\n",
    "import os\n",
    "import constants as cs\n",
    "import yaml\n",
    "import globali as gg"
   ],
   "metadata": {
    "collapsed": false,
    "ExecuteTime": {
     "end_time": "2024-05-31T16:51:59.177769500Z",
     "start_time": "2024-05-31T16:51:59.169213500Z"
    }
   },
   "id": "initial_id"
  },
  {
   "cell_type": "code",
   "execution_count": 3,
   "outputs": [],
   "source": [
    "from sklearn.model_selection import train_test_split\n",
    "from tensorflow.keras.utils import to_categorical\n",
    "from sklearn.metrics import accuracy_score\n",
    "from sklearn.metrics import confusion_matrix, ConfusionMatrixDisplay\n",
    "from tqdm import tqdm\n",
    "from matplotlib import pyplot as plt\n",
    "from sklearn.metrics import ConfusionMatrixDisplay\n",
    "from sklearn.metrics import confusion_matrix"
   ],
   "metadata": {
    "collapsed": false,
    "ExecuteTime": {
     "end_time": "2024-05-31T16:52:10.679758200Z",
     "start_time": "2024-05-31T16:52:01.547370300Z"
    }
   },
   "id": "321e257ce2920253"
  },
  {
   "cell_type": "code",
   "execution_count": 4,
   "outputs": [],
   "source": [
    "def read_yaml_fields():\n",
    "    with open(cs.YAMLFILE, 'r') as ff:\n",
    "        content = yaml.safe_load(ff)\n",
    "        a = set(content.get('actions', []))\n",
    "        c = content.get('counter', {})\n",
    "        return a, c\n"
   ],
   "metadata": {
    "collapsed": false,
    "ExecuteTime": {
     "end_time": "2024-05-31T16:52:10.687333800Z",
     "start_time": "2024-05-31T16:52:10.687333800Z"
    }
   },
   "id": "ecc142c7d3fb24eb"
  },
  {
   "cell_type": "code",
   "execution_count": 5,
   "outputs": [],
   "source": [
    "gg.actions, gg.counters = read_yaml_fields()"
   ],
   "metadata": {
    "collapsed": false,
    "ExecuteTime": {
     "end_time": "2024-05-31T16:52:10.739639Z",
     "start_time": "2024-05-31T16:52:10.687333800Z"
    }
   },
   "id": "8e3f5d6a45fd4e69"
  },
  {
   "cell_type": "code",
   "execution_count": 6,
   "outputs": [
    {
     "data": {
      "text/plain": "27"
     },
     "metadata": {},
     "output_type": "display_data"
    },
    {
     "data": {
      "text/plain": "{'a',\n 'b',\n 'c',\n 'cinque',\n 'd',\n 'due',\n 'e',\n 'f',\n 'g',\n 'h',\n 'i',\n 'j',\n 'k',\n 'l',\n 'm',\n 'n',\n 'nove',\n 'o',\n 'otto',\n 'p',\n 'q',\n 'quattro',\n 'sei',\n 'sette',\n 'tre',\n 'uno',\n 'zero'}"
     },
     "metadata": {},
     "output_type": "display_data"
    },
    {
     "data": {
      "text/plain": "{'a': 100,\n 'b': 100,\n 'c': 100,\n 'cinque': 100,\n 'd': 100,\n 'due': 100,\n 'e': 100,\n 'f': 100,\n 'g': 100,\n 'h': 100,\n 'i': 100,\n 'j': 100,\n 'k': 100,\n 'l': 100,\n 'm': 100,\n 'n': 100,\n 'nove': 100,\n 'o': 100,\n 'otto': 100,\n 'p': 100,\n 'q': 100,\n 'quattro': 100,\n 'sei': 100,\n 'sette': 100,\n 'tre': 100,\n 'uno': 100,\n 'zero': 100}"
     },
     "metadata": {},
     "output_type": "display_data"
    }
   ],
   "source": [
    "display(len(gg.actions))\n",
    "display(gg.actions)\n",
    "display(gg.counters)"
   ],
   "metadata": {
    "collapsed": false,
    "ExecuteTime": {
     "end_time": "2024-05-31T16:52:10.739639Z",
     "start_time": "2024-05-31T16:52:10.704782800Z"
    }
   },
   "id": "8718105678c545c9"
  },
  {
   "cell_type": "code",
   "execution_count": 7,
   "outputs": [],
   "source": [
    "label_map = {label:num for num, label in enumerate(gg.actions)}"
   ],
   "metadata": {
    "collapsed": false,
    "ExecuteTime": {
     "end_time": "2024-05-31T16:52:10.739639Z",
     "start_time": "2024-05-31T16:52:10.727690400Z"
    }
   },
   "id": "4154bb68582700fd"
  },
  {
   "cell_type": "code",
   "execution_count": 8,
   "outputs": [
    {
     "data": {
      "text/plain": "{'nove': 0,\n 'due': 1,\n 'j': 2,\n 'k': 3,\n 'quattro': 4,\n 'q': 5,\n 'sei': 6,\n 'n': 7,\n 'e': 8,\n 'd': 9,\n 'h': 10,\n 'uno': 11,\n 'f': 12,\n 'sette': 13,\n 'a': 14,\n 'g': 15,\n 'b': 16,\n 'c': 17,\n 'cinque': 18,\n 'l': 19,\n 'm': 20,\n 'o': 21,\n 'tre': 22,\n 'zero': 23,\n 'otto': 24,\n 'i': 25,\n 'p': 26}"
     },
     "execution_count": 8,
     "metadata": {},
     "output_type": "execute_result"
    }
   ],
   "source": [
    "label_map"
   ],
   "metadata": {
    "collapsed": false,
    "ExecuteTime": {
     "end_time": "2024-05-31T16:52:10.818373Z",
     "start_time": "2024-05-31T16:52:10.739639Z"
    }
   },
   "id": "95f6482004098d29"
  },
  {
   "cell_type": "code",
   "execution_count": 9,
   "outputs": [
    {
     "name": "stderr",
     "output_type": "stream",
     "text": [
      "Processing Actions: 100%|██████████| 27/27 [00:39<00:00,  1.45s/it]\n"
     ]
    }
   ],
   "source": [
    "sequences, labels = [], []\n",
    "\n",
    "for action in tqdm(gg.actions, desc=\"Processing Actions\"):\n",
    "    for sequence in range(gg.counters[action]):\n",
    "        window = []\n",
    "        for frame_num in range(cs.NUM_FRAME):\n",
    "            res = np.load(os.path.join(cs.KEYPOINTS_FOLDER, action, str(sequence), \"{}.npy\".format(frame_num)))\n",
    "            window.append(res)\n",
    "        sequences.append(window)\n",
    "        labels.append(label_map[action])\n"
   ],
   "metadata": {
    "collapsed": false,
    "ExecuteTime": {
     "end_time": "2024-05-31T16:52:53.422792Z",
     "start_time": "2024-05-31T16:52:14.247545900Z"
    }
   },
   "id": "ab4605957098bac"
  },
  {
   "cell_type": "code",
   "execution_count": 10,
   "outputs": [
    {
     "data": {
      "text/plain": "(2700, 30, 1662)"
     },
     "execution_count": 10,
     "metadata": {},
     "output_type": "execute_result"
    }
   ],
   "source": [
    "np.array(sequences).shape       # 15 videos, 30 frames, 1662 features"
   ],
   "metadata": {
    "collapsed": false,
    "ExecuteTime": {
     "end_time": "2024-05-31T17:01:56.745458400Z",
     "start_time": "2024-05-31T17:01:56.111962500Z"
    }
   },
   "id": "f7e09637e9a16f14"
  },
  {
   "cell_type": "code",
   "execution_count": 11,
   "outputs": [
    {
     "data": {
      "text/plain": "(2700,)"
     },
     "execution_count": 11,
     "metadata": {},
     "output_type": "execute_result"
    }
   ],
   "source": [
    "np.array(labels).shape"
   ],
   "metadata": {
    "collapsed": false,
    "ExecuteTime": {
     "end_time": "2024-05-31T17:01:59.372747600Z",
     "start_time": "2024-05-31T17:01:59.344126800Z"
    }
   },
   "id": "4f74748f89db4bde"
  },
  {
   "cell_type": "code",
   "execution_count": 12,
   "outputs": [
    {
     "data": {
      "text/plain": "[0,\n 0,\n 0,\n 0,\n 0,\n 0,\n 0,\n 0,\n 0,\n 0,\n 0,\n 0,\n 0,\n 0,\n 0,\n 0,\n 0,\n 0,\n 0,\n 0,\n 0,\n 0,\n 0,\n 0,\n 0,\n 0,\n 0,\n 0,\n 0,\n 0,\n 0,\n 0,\n 0,\n 0,\n 0,\n 0,\n 0,\n 0,\n 0,\n 0,\n 0,\n 0,\n 0,\n 0,\n 0,\n 0,\n 0,\n 0,\n 0,\n 0,\n 0,\n 0,\n 0,\n 0,\n 0,\n 0,\n 0,\n 0,\n 0,\n 0,\n 0,\n 0,\n 0,\n 0,\n 0,\n 0,\n 0,\n 0,\n 0,\n 0,\n 0,\n 0,\n 0,\n 0,\n 0,\n 0,\n 0,\n 0,\n 0,\n 0,\n 0,\n 0,\n 0,\n 0,\n 0,\n 0,\n 0,\n 0,\n 0,\n 0,\n 0,\n 0,\n 0,\n 0,\n 0,\n 0,\n 0,\n 0,\n 0,\n 0,\n 1,\n 1,\n 1,\n 1,\n 1,\n 1,\n 1,\n 1,\n 1,\n 1,\n 1,\n 1,\n 1,\n 1,\n 1,\n 1,\n 1,\n 1,\n 1,\n 1,\n 1,\n 1,\n 1,\n 1,\n 1,\n 1,\n 1,\n 1,\n 1,\n 1,\n 1,\n 1,\n 1,\n 1,\n 1,\n 1,\n 1,\n 1,\n 1,\n 1,\n 1,\n 1,\n 1,\n 1,\n 1,\n 1,\n 1,\n 1,\n 1,\n 1,\n 1,\n 1,\n 1,\n 1,\n 1,\n 1,\n 1,\n 1,\n 1,\n 1,\n 1,\n 1,\n 1,\n 1,\n 1,\n 1,\n 1,\n 1,\n 1,\n 1,\n 1,\n 1,\n 1,\n 1,\n 1,\n 1,\n 1,\n 1,\n 1,\n 1,\n 1,\n 1,\n 1,\n 1,\n 1,\n 1,\n 1,\n 1,\n 1,\n 1,\n 1,\n 1,\n 1,\n 1,\n 1,\n 1,\n 1,\n 1,\n 1,\n 1,\n 2,\n 2,\n 2,\n 2,\n 2,\n 2,\n 2,\n 2,\n 2,\n 2,\n 2,\n 2,\n 2,\n 2,\n 2,\n 2,\n 2,\n 2,\n 2,\n 2,\n 2,\n 2,\n 2,\n 2,\n 2,\n 2,\n 2,\n 2,\n 2,\n 2,\n 2,\n 2,\n 2,\n 2,\n 2,\n 2,\n 2,\n 2,\n 2,\n 2,\n 2,\n 2,\n 2,\n 2,\n 2,\n 2,\n 2,\n 2,\n 2,\n 2,\n 2,\n 2,\n 2,\n 2,\n 2,\n 2,\n 2,\n 2,\n 2,\n 2,\n 2,\n 2,\n 2,\n 2,\n 2,\n 2,\n 2,\n 2,\n 2,\n 2,\n 2,\n 2,\n 2,\n 2,\n 2,\n 2,\n 2,\n 2,\n 2,\n 2,\n 2,\n 2,\n 2,\n 2,\n 2,\n 2,\n 2,\n 2,\n 2,\n 2,\n 2,\n 2,\n 2,\n 2,\n 2,\n 2,\n 2,\n 2,\n 2,\n 2,\n 3,\n 3,\n 3,\n 3,\n 3,\n 3,\n 3,\n 3,\n 3,\n 3,\n 3,\n 3,\n 3,\n 3,\n 3,\n 3,\n 3,\n 3,\n 3,\n 3,\n 3,\n 3,\n 3,\n 3,\n 3,\n 3,\n 3,\n 3,\n 3,\n 3,\n 3,\n 3,\n 3,\n 3,\n 3,\n 3,\n 3,\n 3,\n 3,\n 3,\n 3,\n 3,\n 3,\n 3,\n 3,\n 3,\n 3,\n 3,\n 3,\n 3,\n 3,\n 3,\n 3,\n 3,\n 3,\n 3,\n 3,\n 3,\n 3,\n 3,\n 3,\n 3,\n 3,\n 3,\n 3,\n 3,\n 3,\n 3,\n 3,\n 3,\n 3,\n 3,\n 3,\n 3,\n 3,\n 3,\n 3,\n 3,\n 3,\n 3,\n 3,\n 3,\n 3,\n 3,\n 3,\n 3,\n 3,\n 3,\n 3,\n 3,\n 3,\n 3,\n 3,\n 3,\n 3,\n 3,\n 3,\n 3,\n 3,\n 3,\n 4,\n 4,\n 4,\n 4,\n 4,\n 4,\n 4,\n 4,\n 4,\n 4,\n 4,\n 4,\n 4,\n 4,\n 4,\n 4,\n 4,\n 4,\n 4,\n 4,\n 4,\n 4,\n 4,\n 4,\n 4,\n 4,\n 4,\n 4,\n 4,\n 4,\n 4,\n 4,\n 4,\n 4,\n 4,\n 4,\n 4,\n 4,\n 4,\n 4,\n 4,\n 4,\n 4,\n 4,\n 4,\n 4,\n 4,\n 4,\n 4,\n 4,\n 4,\n 4,\n 4,\n 4,\n 4,\n 4,\n 4,\n 4,\n 4,\n 4,\n 4,\n 4,\n 4,\n 4,\n 4,\n 4,\n 4,\n 4,\n 4,\n 4,\n 4,\n 4,\n 4,\n 4,\n 4,\n 4,\n 4,\n 4,\n 4,\n 4,\n 4,\n 4,\n 4,\n 4,\n 4,\n 4,\n 4,\n 4,\n 4,\n 4,\n 4,\n 4,\n 4,\n 4,\n 4,\n 4,\n 4,\n 4,\n 4,\n 4,\n 5,\n 5,\n 5,\n 5,\n 5,\n 5,\n 5,\n 5,\n 5,\n 5,\n 5,\n 5,\n 5,\n 5,\n 5,\n 5,\n 5,\n 5,\n 5,\n 5,\n 5,\n 5,\n 5,\n 5,\n 5,\n 5,\n 5,\n 5,\n 5,\n 5,\n 5,\n 5,\n 5,\n 5,\n 5,\n 5,\n 5,\n 5,\n 5,\n 5,\n 5,\n 5,\n 5,\n 5,\n 5,\n 5,\n 5,\n 5,\n 5,\n 5,\n 5,\n 5,\n 5,\n 5,\n 5,\n 5,\n 5,\n 5,\n 5,\n 5,\n 5,\n 5,\n 5,\n 5,\n 5,\n 5,\n 5,\n 5,\n 5,\n 5,\n 5,\n 5,\n 5,\n 5,\n 5,\n 5,\n 5,\n 5,\n 5,\n 5,\n 5,\n 5,\n 5,\n 5,\n 5,\n 5,\n 5,\n 5,\n 5,\n 5,\n 5,\n 5,\n 5,\n 5,\n 5,\n 5,\n 5,\n 5,\n 5,\n 5,\n 6,\n 6,\n 6,\n 6,\n 6,\n 6,\n 6,\n 6,\n 6,\n 6,\n 6,\n 6,\n 6,\n 6,\n 6,\n 6,\n 6,\n 6,\n 6,\n 6,\n 6,\n 6,\n 6,\n 6,\n 6,\n 6,\n 6,\n 6,\n 6,\n 6,\n 6,\n 6,\n 6,\n 6,\n 6,\n 6,\n 6,\n 6,\n 6,\n 6,\n 6,\n 6,\n 6,\n 6,\n 6,\n 6,\n 6,\n 6,\n 6,\n 6,\n 6,\n 6,\n 6,\n 6,\n 6,\n 6,\n 6,\n 6,\n 6,\n 6,\n 6,\n 6,\n 6,\n 6,\n 6,\n 6,\n 6,\n 6,\n 6,\n 6,\n 6,\n 6,\n 6,\n 6,\n 6,\n 6,\n 6,\n 6,\n 6,\n 6,\n 6,\n 6,\n 6,\n 6,\n 6,\n 6,\n 6,\n 6,\n 6,\n 6,\n 6,\n 6,\n 6,\n 6,\n 6,\n 6,\n 6,\n 6,\n 6,\n 6,\n 7,\n 7,\n 7,\n 7,\n 7,\n 7,\n 7,\n 7,\n 7,\n 7,\n 7,\n 7,\n 7,\n 7,\n 7,\n 7,\n 7,\n 7,\n 7,\n 7,\n 7,\n 7,\n 7,\n 7,\n 7,\n 7,\n 7,\n 7,\n 7,\n 7,\n 7,\n 7,\n 7,\n 7,\n 7,\n 7,\n 7,\n 7,\n 7,\n 7,\n 7,\n 7,\n 7,\n 7,\n 7,\n 7,\n 7,\n 7,\n 7,\n 7,\n 7,\n 7,\n 7,\n 7,\n 7,\n 7,\n 7,\n 7,\n 7,\n 7,\n 7,\n 7,\n 7,\n 7,\n 7,\n 7,\n 7,\n 7,\n 7,\n 7,\n 7,\n 7,\n 7,\n 7,\n 7,\n 7,\n 7,\n 7,\n 7,\n 7,\n 7,\n 7,\n 7,\n 7,\n 7,\n 7,\n 7,\n 7,\n 7,\n 7,\n 7,\n 7,\n 7,\n 7,\n 7,\n 7,\n 7,\n 7,\n 7,\n 7,\n 8,\n 8,\n 8,\n 8,\n 8,\n 8,\n 8,\n 8,\n 8,\n 8,\n 8,\n 8,\n 8,\n 8,\n 8,\n 8,\n 8,\n 8,\n 8,\n 8,\n 8,\n 8,\n 8,\n 8,\n 8,\n 8,\n 8,\n 8,\n 8,\n 8,\n 8,\n 8,\n 8,\n 8,\n 8,\n 8,\n 8,\n 8,\n 8,\n 8,\n 8,\n 8,\n 8,\n 8,\n 8,\n 8,\n 8,\n 8,\n 8,\n 8,\n 8,\n 8,\n 8,\n 8,\n 8,\n 8,\n 8,\n 8,\n 8,\n 8,\n 8,\n 8,\n 8,\n 8,\n 8,\n 8,\n 8,\n 8,\n 8,\n 8,\n 8,\n 8,\n 8,\n 8,\n 8,\n 8,\n 8,\n 8,\n 8,\n 8,\n 8,\n 8,\n 8,\n 8,\n 8,\n 8,\n 8,\n 8,\n 8,\n 8,\n 8,\n 8,\n 8,\n 8,\n 8,\n 8,\n 8,\n 8,\n 8,\n 8,\n 9,\n 9,\n 9,\n 9,\n 9,\n 9,\n 9,\n 9,\n 9,\n 9,\n 9,\n 9,\n 9,\n 9,\n 9,\n 9,\n 9,\n 9,\n 9,\n 9,\n 9,\n 9,\n 9,\n 9,\n 9,\n 9,\n 9,\n 9,\n 9,\n 9,\n 9,\n 9,\n 9,\n 9,\n 9,\n 9,\n 9,\n 9,\n 9,\n 9,\n 9,\n 9,\n 9,\n 9,\n 9,\n 9,\n 9,\n 9,\n 9,\n 9,\n 9,\n 9,\n 9,\n 9,\n 9,\n 9,\n 9,\n 9,\n 9,\n 9,\n 9,\n 9,\n 9,\n 9,\n 9,\n 9,\n 9,\n 9,\n 9,\n 9,\n 9,\n 9,\n 9,\n 9,\n 9,\n 9,\n 9,\n 9,\n 9,\n 9,\n 9,\n 9,\n 9,\n 9,\n 9,\n 9,\n 9,\n 9,\n 9,\n 9,\n 9,\n 9,\n 9,\n 9,\n 9,\n 9,\n 9,\n 9,\n 9,\n 9,\n ...]"
     },
     "execution_count": 12,
     "metadata": {},
     "output_type": "execute_result"
    }
   ],
   "source": [
    "labels"
   ],
   "metadata": {
    "collapsed": false,
    "ExecuteTime": {
     "end_time": "2024-05-31T17:02:00.018073200Z",
     "start_time": "2024-05-31T17:01:59.989643200Z"
    }
   },
   "id": "1702792245d1bdd"
  },
  {
   "cell_type": "code",
   "execution_count": 13,
   "outputs": [],
   "source": [
    "X = np.array(sequences)"
   ],
   "metadata": {
    "collapsed": false,
    "ExecuteTime": {
     "end_time": "2024-05-31T17:02:04.592741500Z",
     "start_time": "2024-05-31T17:02:04.288429600Z"
    }
   },
   "id": "9ffadaf6d87150fd"
  },
  {
   "cell_type": "code",
   "execution_count": 14,
   "outputs": [
    {
     "data": {
      "text/plain": "(2700, 30, 1662)"
     },
     "execution_count": 14,
     "metadata": {},
     "output_type": "execute_result"
    }
   ],
   "source": [
    "X.shape"
   ],
   "metadata": {
    "collapsed": false,
    "ExecuteTime": {
     "end_time": "2024-05-31T17:02:05.845532500Z",
     "start_time": "2024-05-31T17:02:05.822544700Z"
    }
   },
   "id": "99fcac35002f88fc"
  },
  {
   "cell_type": "code",
   "execution_count": 15,
   "outputs": [],
   "source": [
    "y = to_categorical(labels).astype(int)"
   ],
   "metadata": {
    "collapsed": false,
    "ExecuteTime": {
     "end_time": "2024-05-31T17:02:06.549739300Z",
     "start_time": "2024-05-31T17:02:06.525915200Z"
    }
   },
   "id": "6e8c937049e38080"
  },
  {
   "cell_type": "code",
   "execution_count": 16,
   "outputs": [
    {
     "data": {
      "text/plain": "array([[1, 0, 0, ..., 0, 0, 0],\n       [1, 0, 0, ..., 0, 0, 0],\n       [1, 0, 0, ..., 0, 0, 0],\n       ...,\n       [0, 0, 0, ..., 0, 0, 1],\n       [0, 0, 0, ..., 0, 0, 1],\n       [0, 0, 0, ..., 0, 0, 1]])"
     },
     "execution_count": 16,
     "metadata": {},
     "output_type": "execute_result"
    }
   ],
   "source": [
    "y"
   ],
   "metadata": {
    "collapsed": false,
    "ExecuteTime": {
     "end_time": "2024-05-31T17:02:07.023680400Z",
     "start_time": "2024-05-31T17:02:06.994185900Z"
    }
   },
   "id": "f02a1aa39995e859"
  },
  {
   "cell_type": "code",
   "execution_count": 17,
   "outputs": [],
   "source": [
    "X_train, X_test, y_train, y_test = train_test_split(X, y, test_size=0.05)"
   ],
   "metadata": {
    "collapsed": false,
    "ExecuteTime": {
     "end_time": "2024-05-31T17:02:08.849892Z",
     "start_time": "2024-05-31T17:02:08.433434800Z"
    }
   },
   "id": "1d8011c3059222b5"
  },
  {
   "cell_type": "code",
   "execution_count": 18,
   "outputs": [
    {
     "data": {
      "text/plain": "(135, 27)"
     },
     "execution_count": 18,
     "metadata": {},
     "output_type": "execute_result"
    }
   ],
   "source": [
    "y_test.shape"
   ],
   "metadata": {
    "collapsed": false,
    "ExecuteTime": {
     "end_time": "2024-05-31T17:02:09.336061800Z",
     "start_time": "2024-05-31T17:02:09.300953100Z"
    }
   },
   "id": "1b2a47ec97f89485"
  },
  {
   "cell_type": "markdown",
   "source": [
    "### Build and Train LSTM Natural Network"
   ],
   "metadata": {
    "collapsed": false
   },
   "id": "205e0a7e3b67012d"
  },
  {
   "cell_type": "code",
   "execution_count": 19,
   "outputs": [],
   "source": [
    "from tensorflow.keras.models import Sequential\n",
    "from tensorflow.keras.layers import LSTM, Dense\n",
    "from tensorflow.keras.models import load_model\n",
    "from tensorflow.keras.callbacks import TensorBoard\n",
    "from tensorflow.keras.callbacks import EarlyStopping\n",
    "from tensorflow.keras.callbacks import ModelCheckpoint\n",
    "from tensorflow.keras.layers import LSTM, GRU, Dense, Dropout, BatchNormalization\n",
    "from tensorflow.keras.regularizers import l2\n",
    "from tensorflow.keras.callbacks import CSVLogger\n",
    "import datetime"
   ],
   "metadata": {
    "collapsed": false,
    "ExecuteTime": {
     "end_time": "2024-05-31T17:02:11.146309Z",
     "start_time": "2024-05-31T17:02:11.110268300Z"
    }
   },
   "id": "4474996a74b1bf70"
  },
  {
   "cell_type": "code",
   "execution_count": 20,
   "outputs": [],
   "source": [
    "csv_logger = CSVLogger('./logs/csv/training_log_cell_lstm_27classes.csv', append=True)"
   ],
   "metadata": {
    "collapsed": false,
    "ExecuteTime": {
     "end_time": "2024-05-31T17:02:55.783858500Z",
     "start_time": "2024-05-31T17:02:55.759177500Z"
    }
   },
   "id": "7d2c14ff2e4cdc6"
  },
  {
   "cell_type": "code",
   "execution_count": 21,
   "outputs": [],
   "source": [
    "# Configura il callback di TensorBoard\n",
    "# log_dir = os.path.join(os.getcwd(), \"logs\", \"fit\", datetime.datetime.now().strftime(\"%Y%m%d-%H%M%S\"))\n",
    "log_dir = \"D:/PROVA\" #os.path.join(\"./logs\", \"AAA\")\n",
    "os.makedirs(log_dir, exist_ok=True)\n",
    "log_dir = log_dir + datetime.datetime.now().strftime(\"%Y%m%d-%H%M%S\")\n",
    "tensorboard_callback = TensorBoard(log_dir=log_dir, histogram_freq=1)"
   ],
   "metadata": {
    "collapsed": false,
    "ExecuteTime": {
     "end_time": "2024-05-31T17:03:01.530688700Z",
     "start_time": "2024-05-31T17:03:01.494916400Z"
    }
   },
   "id": "da59f90b489813bd"
  },
  {
   "cell_type": "code",
   "execution_count": 30,
   "outputs": [
    {
     "name": "stdout",
     "output_type": "stream",
     "text": [
      "27\n"
     ]
    }
   ],
   "source": [
    "# LSTM\n",
    "\n",
    "np_actions = np.array(list(gg.actions))\n",
    "print(np_actions.shape[0])\n",
    "model = Sequential()\n",
    "model.add(LSTM(64, return_sequences=True, activation='tanh', input_shape=(30, 1662)))\n",
    "model.add(Dropout(0.2))\n",
    "model.add(LSTM(128, return_sequences=True, activation='tanh'))\n",
    "model.add(Dropout(0.2))\n",
    "model.add(LSTM(64, return_sequences=False, activation='tanh'))\n",
    "model.add(BatchNormalization())\n",
    "model.add(Dense(64, activation='relu', kernel_regularizer=l2(0.01)))\n",
    "model.add(Dropout(0.5))\n",
    "model.add(Dense(32, activation='relu', kernel_regularizer=l2(0.01)))\n",
    "model.add(Dropout(0.5))\n",
    "model.add(Dense(np_actions.shape[0], activation='softmax'))\n"
   ],
   "metadata": {
    "collapsed": false,
    "ExecuteTime": {
     "end_time": "2024-05-31T17:06:31.762636600Z",
     "start_time": "2024-05-31T17:06:30.102258200Z"
    }
   },
   "id": "5f4554201e7ac0cc"
  },
  {
   "cell_type": "code",
   "execution_count": 32,
   "outputs": [
    {
     "ename": "ValueError",
     "evalue": "Unable to load weights saved in HDF5 format into a subclassed Model which has not created its variables yet. Call the Model first, then load the weights.",
     "output_type": "error",
     "traceback": [
      "\u001B[1;31m---------------------------------------------------------------------------\u001B[0m",
      "\u001B[1;31mValueError\u001B[0m                                Traceback (most recent call last)",
      "Cell \u001B[1;32mIn[32], line 3\u001B[0m\n\u001B[0;32m      1\u001B[0m \u001B[38;5;28;01mdel\u001B[39;00m model\n\u001B[0;32m      2\u001B[0m model \u001B[38;5;241m=\u001B[39m Sequential()\n\u001B[1;32m----> 3\u001B[0m model \u001B[38;5;241m=\u001B[39m model\u001B[38;5;241m.\u001B[39mload_weights(\u001B[38;5;124m'\u001B[39m\u001B[38;5;124m./models/old/final_model.h5\u001B[39m\u001B[38;5;124m'\u001B[39m)\n",
      "File \u001B[1;32m~\\AppData\\Roaming\\Python\\Python311\\site-packages\\keras\\src\\utils\\traceback_utils.py:70\u001B[0m, in \u001B[0;36mfilter_traceback.<locals>.error_handler\u001B[1;34m(*args, **kwargs)\u001B[0m\n\u001B[0;32m     67\u001B[0m     filtered_tb \u001B[38;5;241m=\u001B[39m _process_traceback_frames(e\u001B[38;5;241m.\u001B[39m__traceback__)\n\u001B[0;32m     68\u001B[0m     \u001B[38;5;66;03m# To get the full stack trace, call:\u001B[39;00m\n\u001B[0;32m     69\u001B[0m     \u001B[38;5;66;03m# `tf.debugging.disable_traceback_filtering()`\u001B[39;00m\n\u001B[1;32m---> 70\u001B[0m     \u001B[38;5;28;01mraise\u001B[39;00m e\u001B[38;5;241m.\u001B[39mwith_traceback(filtered_tb) \u001B[38;5;28;01mfrom\u001B[39;00m \u001B[38;5;28;01mNone\u001B[39;00m\n\u001B[0;32m     71\u001B[0m \u001B[38;5;28;01mfinally\u001B[39;00m:\n\u001B[0;32m     72\u001B[0m     \u001B[38;5;28;01mdel\u001B[39;00m filtered_tb\n",
      "File \u001B[1;32m~\\AppData\\Roaming\\Python\\Python311\\site-packages\\keras\\src\\saving\\legacy\\save.py:480\u001B[0m, in \u001B[0;36mload_weights\u001B[1;34m(model, filepath, by_name, skip_mismatch, options)\u001B[0m\n\u001B[0;32m    475\u001B[0m     \u001B[38;5;28;01mraise\u001B[39;00m \u001B[38;5;167;01mImportError\u001B[39;00m(\n\u001B[0;32m    476\u001B[0m         \u001B[38;5;124m\"\u001B[39m\u001B[38;5;124m`load_weights` requires h5py package when loading weights \u001B[39m\u001B[38;5;124m\"\u001B[39m\n\u001B[0;32m    477\u001B[0m         \u001B[38;5;124m\"\u001B[39m\u001B[38;5;124mfrom HDF5. Try installing h5py.\u001B[39m\u001B[38;5;124m\"\u001B[39m\n\u001B[0;32m    478\u001B[0m     )\n\u001B[0;32m    479\u001B[0m \u001B[38;5;28;01mif\u001B[39;00m \u001B[38;5;129;01mnot\u001B[39;00m model\u001B[38;5;241m.\u001B[39m_is_graph_network \u001B[38;5;129;01mand\u001B[39;00m \u001B[38;5;129;01mnot\u001B[39;00m model\u001B[38;5;241m.\u001B[39mbuilt:\n\u001B[1;32m--> 480\u001B[0m     \u001B[38;5;28;01mraise\u001B[39;00m \u001B[38;5;167;01mValueError\u001B[39;00m(\n\u001B[0;32m    481\u001B[0m         \u001B[38;5;124m\"\u001B[39m\u001B[38;5;124mUnable to load weights saved in HDF5 format into a \u001B[39m\u001B[38;5;124m\"\u001B[39m\n\u001B[0;32m    482\u001B[0m         \u001B[38;5;124m\"\u001B[39m\u001B[38;5;124msubclassed Model which has not created its variables yet. \u001B[39m\u001B[38;5;124m\"\u001B[39m\n\u001B[0;32m    483\u001B[0m         \u001B[38;5;124m\"\u001B[39m\u001B[38;5;124mCall the Model first, then load the weights.\u001B[39m\u001B[38;5;124m\"\u001B[39m\n\u001B[0;32m    484\u001B[0m     )\n\u001B[0;32m    485\u001B[0m model\u001B[38;5;241m.\u001B[39m_assert_weights_created()\n\u001B[0;32m    486\u001B[0m \u001B[38;5;28;01mwith\u001B[39;00m h5py\u001B[38;5;241m.\u001B[39mFile(filepath, \u001B[38;5;124m\"\u001B[39m\u001B[38;5;124mr\u001B[39m\u001B[38;5;124m\"\u001B[39m) \u001B[38;5;28;01mas\u001B[39;00m f:\n",
      "\u001B[1;31mValueError\u001B[0m: Unable to load weights saved in HDF5 format into a subclassed Model which has not created its variables yet. Call the Model first, then load the weights."
     ]
    }
   ],
   "source": [
    "# LOAD MODEL\n",
    "\n",
    "# del model\n",
    "model = Sequential()\n",
    "model = model.load_weights('./models/old/final_model.h5')\n"
   ],
   "metadata": {
    "collapsed": false,
    "ExecuteTime": {
     "end_time": "2024-05-31T13:24:15.805365600Z",
     "start_time": "2024-05-31T13:24:15.670717100Z"
    }
   },
   "id": "8d5f5c9fc0590c2f"
  },
  {
   "cell_type": "code",
   "execution_count": 57,
   "outputs": [
    {
     "name": "stdout",
     "output_type": "stream",
     "text": [
      "27\n"
     ]
    }
   ],
   "source": [
    "# GRU\n",
    "\n",
    "np_actions = np.array(list(gg.actions))\n",
    "print(np_actions.shape[0])\n",
    "model = Sequential()\n",
    "model.add(GRU(64, return_sequences=True, activation='tanh', input_shape=(30, 1662)))\n",
    "model.add(Dropout(0.2))\n",
    "model.add(GRU(128, return_sequences=True, activation='tanh'))\n",
    "model.add(Dropout(0.2))\n",
    "model.add(GRU(64, return_sequences=False, activation='tanh'))\n",
    "model.add(BatchNormalization())\n",
    "model.add(Dense(64, activation='relu', kernel_regularizer=l2(0.01)))\n",
    "model.add(Dropout(0.5))\n",
    "model.add(Dense(32, activation='relu', kernel_regularizer=l2(0.01)))\n",
    "model.add(Dropout(0.5))\n",
    "model.add(Dense(np_actions.shape[0], activation='softmax'))\n"
   ],
   "metadata": {
    "collapsed": false,
    "ExecuteTime": {
     "end_time": "2024-05-31T13:30:47.899725400Z",
     "start_time": "2024-05-31T13:30:45.811604500Z"
    }
   },
   "id": "cee9f362babf91a2"
  },
  {
   "cell_type": "code",
   "execution_count": 23,
   "outputs": [],
   "source": [
    "# TRANSFORMERS\n"
   ],
   "metadata": {
    "collapsed": false,
    "ExecuteTime": {
     "end_time": "2024-05-31T10:02:03.712169300Z",
     "start_time": "2024-05-31T10:02:03.692013900Z"
    }
   },
   "id": "59efc6036b7352a3"
  },
  {
   "cell_type": "code",
   "execution_count": 22,
   "outputs": [
    {
     "name": "stdout",
     "output_type": "stream",
     "text": [
      "5\n"
     ]
    }
   ],
   "source": [
    "# Vecchio LSTM\n",
    "\n",
    "np_actions = np.array(list(gg.actions))\n",
    "print(np_actions.shape[0])\n",
    "model = Sequential()\n",
    "model.add(LSTM(64, return_sequences=True, activation='relu', input_shape=(30,1662)))\n",
    "model.add(LSTM(128, return_sequences=True, activation='relu'))\n",
    "model.add(LSTM(64, return_sequences=False, activation='relu'))\n",
    "model.add(Dense(64, activation='relu'))\n",
    "model.add(Dense(32, activation='relu'))\n",
    "model.add(Dense(np_actions.shape[0], activation='softmax'))"
   ],
   "metadata": {
    "collapsed": false,
    "ExecuteTime": {
     "end_time": "2024-05-22T21:22:00.291143500Z",
     "start_time": "2024-05-22T21:21:59.699492900Z"
    }
   },
   "id": "442c822b87caafee"
  },
  {
   "cell_type": "code",
   "execution_count": 31,
   "outputs": [],
   "source": [
    "res = [.7, 0.2, 0.1]"
   ],
   "metadata": {
    "collapsed": false,
    "ExecuteTime": {
     "end_time": "2024-05-31T17:06:37.346390800Z",
     "start_time": "2024-05-31T17:06:37.346390800Z"
    }
   },
   "id": "c18286f3128e5281"
  },
  {
   "cell_type": "code",
   "execution_count": 32,
   "outputs": [
    {
     "data": {
      "text/plain": "'nove'"
     },
     "execution_count": 32,
     "metadata": {},
     "output_type": "execute_result"
    }
   ],
   "source": [
    "np_actions[np.argmax(res)]"
   ],
   "metadata": {
    "collapsed": false,
    "ExecuteTime": {
     "end_time": "2024-05-31T17:06:37.874203Z",
     "start_time": "2024-05-31T17:06:37.822194Z"
    }
   },
   "id": "379931df55d27429"
  },
  {
   "cell_type": "code",
   "execution_count": 33,
   "outputs": [],
   "source": [
    "model.compile(optimizer='Adam', loss='categorical_crossentropy', metrics=['categorical_accuracy'])"
   ],
   "metadata": {
    "collapsed": false,
    "ExecuteTime": {
     "end_time": "2024-05-31T17:06:38.556736500Z",
     "start_time": "2024-05-31T17:06:38.531279300Z"
    }
   },
   "id": "a95bc5d05d55f9bf"
  },
  {
   "cell_type": "code",
   "execution_count": 34,
   "outputs": [],
   "source": [
    "early_stopping = EarlyStopping(monitor='loss', patience=60, restore_best_weights=True)"
   ],
   "metadata": {
    "collapsed": false,
    "ExecuteTime": {
     "end_time": "2024-05-31T17:06:39.046822800Z",
     "start_time": "2024-05-31T17:06:39.046822800Z"
    }
   },
   "id": "bb5e778679726a95"
  },
  {
   "cell_type": "code",
   "execution_count": 35,
   "outputs": [],
   "source": [
    "FOLDER_MODEL = \"cell_lstm_27_classes\""
   ],
   "metadata": {
    "collapsed": false,
    "ExecuteTime": {
     "end_time": "2024-05-31T17:06:39.874030800Z",
     "start_time": "2024-05-31T17:06:39.840949400Z"
    }
   },
   "id": "272acc470331f884"
  },
  {
   "cell_type": "code",
   "execution_count": 36,
   "outputs": [],
   "source": [
    "best_model_path = os.path.join(cs.MODELS_FOLDER, FOLDER_MODEL, 'best_model.h5') \n",
    "checkpoint = ModelCheckpoint(best_model_path, monitor='loss', save_best_only=True)"
   ],
   "metadata": {
    "collapsed": false,
    "ExecuteTime": {
     "end_time": "2024-05-31T17:06:40.528704Z",
     "start_time": "2024-05-31T17:06:40.512904400Z"
    }
   },
   "id": "49fe1e7958dd6fe0"
  },
  {
   "cell_type": "code",
   "execution_count": 37,
   "outputs": [
    {
     "name": "stdout",
     "output_type": "stream",
     "text": [
      "Epoch 1/3000\n",
      "81/81 [==============================] - 16s 100ms/step - loss: 4.3823 - categorical_accuracy: 0.0413\n",
      "Epoch 2/3000\n",
      " 1/81 [..............................] - ETA: 8s - loss: 4.1072 - categorical_accuracy: 0.0625"
     ]
    },
    {
     "name": "stderr",
     "output_type": "stream",
     "text": [
      "C:\\Users\\Paolo\\AppData\\Roaming\\Python\\Python311\\site-packages\\keras\\src\\engine\\training.py:3000: UserWarning: You are saving your model as an HDF5 file via `model.save()`. This file format is considered legacy. We recommend using instead the native Keras format, e.g. `model.save('my_model.keras')`.\n",
      "  saving_api.save_model(\n"
     ]
    },
    {
     "name": "stdout",
     "output_type": "stream",
     "text": [
      "81/81 [==============================] - 8s 102ms/step - loss: 4.0556 - categorical_accuracy: 0.0487\n",
      "Epoch 3/3000\n",
      "81/81 [==============================] - 8s 99ms/step - loss: 3.8180 - categorical_accuracy: 0.0698\n",
      "Epoch 4/3000\n",
      "81/81 [==============================] - 8s 97ms/step - loss: 3.6282 - categorical_accuracy: 0.0776\n",
      "Epoch 5/3000\n",
      "81/81 [==============================] - 8s 98ms/step - loss: 3.4466 - categorical_accuracy: 0.0830\n",
      "Epoch 6/3000\n",
      "81/81 [==============================] - 9s 107ms/step - loss: 3.2864 - categorical_accuracy: 0.1103\n",
      "Epoch 7/3000\n",
      "81/81 [==============================] - 14s 174ms/step - loss: 3.1846 - categorical_accuracy: 0.1037\n",
      "Epoch 8/3000\n",
      "81/81 [==============================] - 11s 139ms/step - loss: 3.0653 - categorical_accuracy: 0.1115\n",
      "Epoch 9/3000\n",
      "81/81 [==============================] - 10s 126ms/step - loss: 2.9628 - categorical_accuracy: 0.1185\n",
      "Epoch 10/3000\n",
      "81/81 [==============================] - 9s 113ms/step - loss: 2.9021 - categorical_accuracy: 0.1400\n",
      "Epoch 11/3000\n",
      "81/81 [==============================] - 10s 120ms/step - loss: 2.8558 - categorical_accuracy: 0.1341\n",
      "Epoch 12/3000\n",
      "81/81 [==============================] - 9s 109ms/step - loss: 2.7794 - categorical_accuracy: 0.1404\n",
      "Epoch 13/3000\n",
      "81/81 [==============================] - 9s 112ms/step - loss: 2.7234 - categorical_accuracy: 0.1520\n",
      "Epoch 14/3000\n",
      "81/81 [==============================] - 9s 115ms/step - loss: 2.6982 - categorical_accuracy: 0.1540\n",
      "Epoch 15/3000\n",
      "81/81 [==============================] - 9s 111ms/step - loss: 2.6202 - categorical_accuracy: 0.1762\n",
      "Epoch 16/3000\n",
      "81/81 [==============================] - 9s 115ms/step - loss: 2.6185 - categorical_accuracy: 0.1637\n",
      "Epoch 17/3000\n",
      "81/81 [==============================] - 9s 112ms/step - loss: 2.5535 - categorical_accuracy: 0.1758\n",
      "Epoch 18/3000\n",
      "81/81 [==============================] - 9s 115ms/step - loss: 2.5168 - categorical_accuracy: 0.1879\n",
      "Epoch 19/3000\n",
      "81/81 [==============================] - 9s 113ms/step - loss: 2.4805 - categorical_accuracy: 0.1934\n",
      "Epoch 20/3000\n",
      "81/81 [==============================] - 10s 128ms/step - loss: 2.4516 - categorical_accuracy: 0.2086\n",
      "Epoch 21/3000\n",
      "81/81 [==============================] - 12s 153ms/step - loss: 2.4299 - categorical_accuracy: 0.2109\n",
      "Epoch 22/3000\n",
      "81/81 [==============================] - 15s 182ms/step - loss: 2.4266 - categorical_accuracy: 0.2047\n",
      "Epoch 23/3000\n",
      "81/81 [==============================] - 9s 105ms/step - loss: 2.3494 - categorical_accuracy: 0.2308\n",
      "Epoch 24/3000\n",
      "81/81 [==============================] - 10s 125ms/step - loss: 2.3810 - categorical_accuracy: 0.2207\n",
      "Epoch 25/3000\n",
      "81/81 [==============================] - 10s 129ms/step - loss: 2.3655 - categorical_accuracy: 0.2117\n",
      "Epoch 26/3000\n",
      "81/81 [==============================] - 12s 147ms/step - loss: 2.3242 - categorical_accuracy: 0.2234\n",
      "Epoch 27/3000\n",
      "81/81 [==============================] - 11s 137ms/step - loss: 2.2698 - categorical_accuracy: 0.2320\n",
      "Epoch 28/3000\n",
      "81/81 [==============================] - 11s 132ms/step - loss: 2.2770 - categorical_accuracy: 0.2285\n",
      "Epoch 29/3000\n",
      "81/81 [==============================] - 12s 143ms/step - loss: 2.2574 - categorical_accuracy: 0.2495\n",
      "Epoch 30/3000\n",
      "81/81 [==============================] - 11s 132ms/step - loss: 2.2681 - categorical_accuracy: 0.2472\n",
      "Epoch 31/3000\n",
      "81/81 [==============================] - 12s 142ms/step - loss: 2.2561 - categorical_accuracy: 0.2589\n",
      "Epoch 32/3000\n",
      "81/81 [==============================] - 12s 151ms/step - loss: 2.2214 - categorical_accuracy: 0.2635\n",
      "Epoch 33/3000\n",
      "81/81 [==============================] - 11s 135ms/step - loss: 2.2452 - categorical_accuracy: 0.2589\n",
      "Epoch 34/3000\n",
      "81/81 [==============================] - 11s 140ms/step - loss: 2.1661 - categorical_accuracy: 0.2565\n",
      "Epoch 35/3000\n",
      "81/81 [==============================] - 9s 110ms/step - loss: 2.2013 - categorical_accuracy: 0.2534\n",
      "Epoch 36/3000\n",
      "81/81 [==============================] - 9s 107ms/step - loss: 2.1918 - categorical_accuracy: 0.2456\n",
      "Epoch 37/3000\n",
      "81/81 [==============================] - 9s 111ms/step - loss: 2.3107 - categorical_accuracy: 0.2366\n",
      "Epoch 38/3000\n",
      "81/81 [==============================] - 9s 114ms/step - loss: 2.2290 - categorical_accuracy: 0.2538\n",
      "Epoch 39/3000\n",
      "81/81 [==============================] - 9s 109ms/step - loss: 2.1509 - categorical_accuracy: 0.2651\n",
      "Epoch 40/3000\n",
      "81/81 [==============================] - 9s 107ms/step - loss: 2.1826 - categorical_accuracy: 0.2671\n",
      "Epoch 41/3000\n",
      "81/81 [==============================] - 9s 107ms/step - loss: 2.2039 - categorical_accuracy: 0.2667\n",
      "Epoch 42/3000\n",
      "81/81 [==============================] - 9s 110ms/step - loss: 2.1450 - categorical_accuracy: 0.2713\n",
      "Epoch 43/3000\n",
      "81/81 [==============================] - 9s 109ms/step - loss: 2.1562 - categorical_accuracy: 0.2713\n",
      "Epoch 44/3000\n",
      "81/81 [==============================] - 9s 108ms/step - loss: 2.0940 - categorical_accuracy: 0.2873\n",
      "Epoch 45/3000\n",
      "81/81 [==============================] - 9s 107ms/step - loss: 2.1065 - categorical_accuracy: 0.2791\n",
      "Epoch 46/3000\n",
      "81/81 [==============================] - 9s 109ms/step - loss: 2.0769 - categorical_accuracy: 0.2916\n",
      "Epoch 47/3000\n",
      "81/81 [==============================] - 9s 108ms/step - loss: 2.1372 - categorical_accuracy: 0.2663\n",
      "Epoch 48/3000\n",
      "81/81 [==============================] - 9s 108ms/step - loss: 2.0565 - categorical_accuracy: 0.3006\n",
      "Epoch 49/3000\n",
      "81/81 [==============================] - 9s 108ms/step - loss: 2.0977 - categorical_accuracy: 0.2936\n",
      "Epoch 50/3000\n",
      "81/81 [==============================] - 9s 110ms/step - loss: 2.0226 - categorical_accuracy: 0.3099\n",
      "Epoch 51/3000\n",
      "81/81 [==============================] - 9s 109ms/step - loss: 2.0164 - categorical_accuracy: 0.3096\n",
      "Epoch 52/3000\n",
      "81/81 [==============================] - 9s 108ms/step - loss: 2.1658 - categorical_accuracy: 0.2869\n",
      "Epoch 53/3000\n",
      "81/81 [==============================] - 9s 111ms/step - loss: 1.9946 - categorical_accuracy: 0.3283\n",
      "Epoch 54/3000\n",
      "81/81 [==============================] - 10s 122ms/step - loss: 1.9856 - categorical_accuracy: 0.3216\n",
      "Epoch 55/3000\n",
      "81/81 [==============================] - 10s 119ms/step - loss: 1.9588 - categorical_accuracy: 0.3380\n",
      "Epoch 56/3000\n",
      "81/81 [==============================] - 10s 121ms/step - loss: 1.9561 - categorical_accuracy: 0.3329\n",
      "Epoch 57/3000\n",
      "81/81 [==============================] - 9s 109ms/step - loss: 2.0934 - categorical_accuracy: 0.3170\n",
      "Epoch 58/3000\n",
      "81/81 [==============================] - 9s 110ms/step - loss: 2.1354 - categorical_accuracy: 0.2908\n",
      "Epoch 59/3000\n",
      "81/81 [==============================] - 9s 108ms/step - loss: 2.0151 - categorical_accuracy: 0.3205\n",
      "Epoch 60/3000\n",
      "81/81 [==============================] - 9s 108ms/step - loss: 1.9746 - categorical_accuracy: 0.3314\n",
      "Epoch 61/3000\n",
      "81/81 [==============================] - 9s 110ms/step - loss: 1.8752 - categorical_accuracy: 0.3567\n",
      "Epoch 62/3000\n",
      "81/81 [==============================] - 9s 108ms/step - loss: 2.0248 - categorical_accuracy: 0.3138\n",
      "Epoch 63/3000\n",
      "81/81 [==============================] - 9s 107ms/step - loss: 1.9818 - categorical_accuracy: 0.3279\n",
      "Epoch 64/3000\n",
      "81/81 [==============================] - 8s 103ms/step - loss: 1.9532 - categorical_accuracy: 0.3407\n",
      "Epoch 65/3000\n",
      "81/81 [==============================] - 8s 101ms/step - loss: 1.9174 - categorical_accuracy: 0.3606\n",
      "Epoch 66/3000\n",
      "81/81 [==============================] - 8s 100ms/step - loss: 1.8704 - categorical_accuracy: 0.3540\n",
      "Epoch 67/3000\n",
      "81/81 [==============================] - 9s 109ms/step - loss: 1.8407 - categorical_accuracy: 0.3735\n",
      "Epoch 68/3000\n",
      "81/81 [==============================] - 13s 164ms/step - loss: 2.0062 - categorical_accuracy: 0.3318\n",
      "Epoch 69/3000\n",
      "81/81 [==============================] - 9s 112ms/step - loss: 1.8548 - categorical_accuracy: 0.3731\n",
      "Epoch 70/3000\n",
      "81/81 [==============================] - 10s 121ms/step - loss: 1.8891 - categorical_accuracy: 0.3645\n",
      "Epoch 71/3000\n",
      "81/81 [==============================] - 9s 115ms/step - loss: 1.8249 - categorical_accuracy: 0.3782\n",
      "Epoch 72/3000\n",
      "81/81 [==============================] - 9s 115ms/step - loss: 1.9302 - categorical_accuracy: 0.3653\n",
      "Epoch 73/3000\n",
      "81/81 [==============================] - 11s 136ms/step - loss: 1.8353 - categorical_accuracy: 0.3879\n",
      "Epoch 74/3000\n",
      "81/81 [==============================] - 9s 114ms/step - loss: 1.8820 - categorical_accuracy: 0.3688\n",
      "Epoch 75/3000\n",
      "81/81 [==============================] - 10s 123ms/step - loss: 1.8559 - categorical_accuracy: 0.3712\n",
      "Epoch 76/3000\n",
      "81/81 [==============================] - 12s 144ms/step - loss: 1.8270 - categorical_accuracy: 0.3836\n",
      "Epoch 77/3000\n",
      "81/81 [==============================] - 12s 147ms/step - loss: 1.8855 - categorical_accuracy: 0.3750\n",
      "Epoch 78/3000\n",
      "81/81 [==============================] - 10s 126ms/step - loss: 1.8298 - categorical_accuracy: 0.3922\n",
      "Epoch 79/3000\n",
      "81/81 [==============================] - 9s 112ms/step - loss: 1.9554 - categorical_accuracy: 0.3520\n",
      "Epoch 80/3000\n",
      "81/81 [==============================] - 9s 115ms/step - loss: 1.8116 - categorical_accuracy: 0.3988\n",
      "Epoch 81/3000\n",
      "81/81 [==============================] - 9s 114ms/step - loss: 1.9450 - categorical_accuracy: 0.3485\n",
      "Epoch 82/3000\n",
      "81/81 [==============================] - 9s 111ms/step - loss: 1.8102 - categorical_accuracy: 0.3930\n",
      "Epoch 83/3000\n",
      "81/81 [==============================] - 9s 110ms/step - loss: 1.7944 - categorical_accuracy: 0.4027\n",
      "Epoch 84/3000\n",
      "81/81 [==============================] - 9s 110ms/step - loss: 1.7927 - categorical_accuracy: 0.3992\n",
      "Epoch 85/3000\n",
      "81/81 [==============================] - 9s 109ms/step - loss: 1.8293 - categorical_accuracy: 0.4101\n",
      "Epoch 86/3000\n",
      "81/81 [==============================] - 9s 112ms/step - loss: 1.7842 - categorical_accuracy: 0.4039\n",
      "Epoch 87/3000\n",
      "81/81 [==============================] - 9s 108ms/step - loss: 1.7432 - categorical_accuracy: 0.4187\n",
      "Epoch 88/3000\n",
      "81/81 [==============================] - 9s 109ms/step - loss: 1.7404 - categorical_accuracy: 0.4203\n",
      "Epoch 89/3000\n",
      "81/81 [==============================] - 9s 110ms/step - loss: 1.7829 - categorical_accuracy: 0.4113\n",
      "Epoch 90/3000\n",
      "81/81 [==============================] - 9s 109ms/step - loss: 1.7558 - categorical_accuracy: 0.4140\n",
      "Epoch 91/3000\n",
      "81/81 [==============================] - 9s 110ms/step - loss: 1.7477 - categorical_accuracy: 0.4203\n",
      "Epoch 92/3000\n",
      "81/81 [==============================] - 9s 108ms/step - loss: 1.9096 - categorical_accuracy: 0.3852\n",
      "Epoch 93/3000\n",
      "81/81 [==============================] - 9s 108ms/step - loss: 1.6778 - categorical_accuracy: 0.4253\n",
      "Epoch 94/3000\n",
      "81/81 [==============================] - 10s 122ms/step - loss: 1.7246 - categorical_accuracy: 0.4218\n",
      "Epoch 95/3000\n",
      "81/81 [==============================] - 12s 145ms/step - loss: 1.7581 - categorical_accuracy: 0.4121\n",
      "Epoch 96/3000\n",
      "81/81 [==============================] - 10s 128ms/step - loss: 1.6861 - categorical_accuracy: 0.4433\n",
      "Epoch 97/3000\n",
      "81/81 [==============================] - 9s 116ms/step - loss: 1.7123 - categorical_accuracy: 0.4179\n",
      "Epoch 98/3000\n",
      "81/81 [==============================] - 9s 108ms/step - loss: 1.8062 - categorical_accuracy: 0.4082\n",
      "Epoch 99/3000\n",
      "81/81 [==============================] - 9s 107ms/step - loss: 1.7579 - categorical_accuracy: 0.4187\n",
      "Epoch 100/3000\n",
      "81/81 [==============================] - 9s 108ms/step - loss: 1.7522 - categorical_accuracy: 0.4304\n",
      "Epoch 101/3000\n",
      "81/81 [==============================] - 9s 112ms/step - loss: 1.6171 - categorical_accuracy: 0.4604\n",
      "Epoch 102/3000\n",
      "81/81 [==============================] - 18s 226ms/step - loss: 1.7150 - categorical_accuracy: 0.4242\n",
      "Epoch 103/3000\n",
      "81/81 [==============================] - 16s 195ms/step - loss: 1.7281 - categorical_accuracy: 0.4288\n",
      "Epoch 104/3000\n",
      "81/81 [==============================] - 16s 195ms/step - loss: 1.8442 - categorical_accuracy: 0.3871\n",
      "Epoch 105/3000\n",
      "81/81 [==============================] - 13s 161ms/step - loss: 1.7188 - categorical_accuracy: 0.4405\n",
      "Epoch 106/3000\n",
      "81/81 [==============================] - 12s 149ms/step - loss: 1.6489 - categorical_accuracy: 0.4476\n",
      "Epoch 107/3000\n",
      "81/81 [==============================] - 13s 161ms/step - loss: 1.7564 - categorical_accuracy: 0.4152\n",
      "Epoch 108/3000\n",
      "81/81 [==============================] - 12s 142ms/step - loss: 1.6361 - categorical_accuracy: 0.4437\n",
      "Epoch 109/3000\n",
      "81/81 [==============================] - 10s 119ms/step - loss: 1.5481 - categorical_accuracy: 0.4791\n",
      "Epoch 110/3000\n",
      "81/81 [==============================] - 12s 149ms/step - loss: 1.6621 - categorical_accuracy: 0.4444\n",
      "Epoch 111/3000\n",
      "81/81 [==============================] - 15s 187ms/step - loss: 1.6440 - categorical_accuracy: 0.4565\n",
      "Epoch 112/3000\n",
      "81/81 [==============================] - 11s 135ms/step - loss: 1.5613 - categorical_accuracy: 0.4725\n",
      "Epoch 113/3000\n",
      "81/81 [==============================] - 10s 124ms/step - loss: 1.6606 - categorical_accuracy: 0.4772\n",
      "Epoch 114/3000\n",
      "81/81 [==============================] - 14s 178ms/step - loss: 1.6445 - categorical_accuracy: 0.4698\n",
      "Epoch 115/3000\n",
      "81/81 [==============================] - 10s 127ms/step - loss: 1.6286 - categorical_accuracy: 0.4706\n",
      "Epoch 116/3000\n",
      "81/81 [==============================] - 10s 124ms/step - loss: 1.6814 - categorical_accuracy: 0.4515\n",
      "Epoch 117/3000\n",
      "81/81 [==============================] - 10s 124ms/step - loss: 1.5411 - categorical_accuracy: 0.4881\n",
      "Epoch 118/3000\n",
      "81/81 [==============================] - 12s 147ms/step - loss: 1.5635 - categorical_accuracy: 0.4827\n",
      "Epoch 119/3000\n",
      "81/81 [==============================] - 12s 146ms/step - loss: 1.6184 - categorical_accuracy: 0.4663\n",
      "Epoch 120/3000\n",
      "81/81 [==============================] - 11s 131ms/step - loss: 1.5385 - categorical_accuracy: 0.4932\n",
      "Epoch 121/3000\n",
      "81/81 [==============================] - 12s 147ms/step - loss: 1.5381 - categorical_accuracy: 0.4979\n",
      "Epoch 122/3000\n",
      "81/81 [==============================] - 13s 162ms/step - loss: 1.5686 - categorical_accuracy: 0.4885\n",
      "Epoch 123/3000\n",
      "81/81 [==============================] - 9s 113ms/step - loss: 1.6129 - categorical_accuracy: 0.4764\n",
      "Epoch 124/3000\n",
      "81/81 [==============================] - 10s 119ms/step - loss: 1.5506 - categorical_accuracy: 0.5010\n",
      "Epoch 125/3000\n",
      "81/81 [==============================] - 12s 153ms/step - loss: 1.5985 - categorical_accuracy: 0.4667\n",
      "Epoch 126/3000\n",
      "81/81 [==============================] - 15s 180ms/step - loss: 1.6318 - categorical_accuracy: 0.4620\n",
      "Epoch 127/3000\n",
      "81/81 [==============================] - 13s 163ms/step - loss: 1.5663 - categorical_accuracy: 0.4698\n",
      "Epoch 128/3000\n",
      "81/81 [==============================] - 11s 140ms/step - loss: 1.6349 - categorical_accuracy: 0.4749\n",
      "Epoch 129/3000\n",
      "81/81 [==============================] - 12s 150ms/step - loss: 1.5013 - categorical_accuracy: 0.5010\n",
      "Epoch 130/3000\n",
      "81/81 [==============================] - 12s 153ms/step - loss: 1.4620 - categorical_accuracy: 0.5349\n",
      "Epoch 131/3000\n",
      "81/81 [==============================] - 12s 144ms/step - loss: 1.4472 - categorical_accuracy: 0.5232\n",
      "Epoch 132/3000\n",
      "81/81 [==============================] - 12s 144ms/step - loss: 1.5199 - categorical_accuracy: 0.5135\n",
      "Epoch 133/3000\n",
      "81/81 [==============================] - 16s 203ms/step - loss: 2.7925 - categorical_accuracy: 0.2129\n",
      "Epoch 134/3000\n",
      "81/81 [==============================] - 12s 147ms/step - loss: 2.0584 - categorical_accuracy: 0.3181\n",
      "Epoch 135/3000\n",
      "81/81 [==============================] - 10s 129ms/step - loss: 1.9462 - categorical_accuracy: 0.3427\n",
      "Epoch 136/3000\n",
      "81/81 [==============================] - 10s 124ms/step - loss: 1.7295 - categorical_accuracy: 0.4175\n",
      "Epoch 137/3000\n",
      "81/81 [==============================] - 9s 112ms/step - loss: 1.6347 - categorical_accuracy: 0.4671\n",
      "Epoch 138/3000\n",
      "81/81 [==============================] - 9s 113ms/step - loss: 1.5052 - categorical_accuracy: 0.5018\n",
      "Epoch 139/3000\n",
      "81/81 [==============================] - 13s 158ms/step - loss: 1.5115 - categorical_accuracy: 0.5080\n",
      "Epoch 140/3000\n",
      "81/81 [==============================] - 13s 158ms/step - loss: 1.4804 - categorical_accuracy: 0.5170\n",
      "Epoch 141/3000\n",
      "81/81 [==============================] - 13s 158ms/step - loss: 1.5166 - categorical_accuracy: 0.5088\n",
      "Epoch 142/3000\n",
      "81/81 [==============================] - 12s 145ms/step - loss: 1.4806 - categorical_accuracy: 0.5337\n",
      "Epoch 143/3000\n",
      "81/81 [==============================] - 10s 127ms/step - loss: 1.5409 - categorical_accuracy: 0.5131\n",
      "Epoch 144/3000\n",
      "81/81 [==============================] - 12s 146ms/step - loss: 1.4561 - categorical_accuracy: 0.5201\n",
      "Epoch 145/3000\n",
      "81/81 [==============================] - 9s 112ms/step - loss: 1.5567 - categorical_accuracy: 0.4940\n",
      "Epoch 146/3000\n",
      "81/81 [==============================] - 12s 147ms/step - loss: 1.4538 - categorical_accuracy: 0.5216\n",
      "Epoch 147/3000\n",
      "81/81 [==============================] - 14s 168ms/step - loss: 1.4627 - categorical_accuracy: 0.5244\n",
      "Epoch 148/3000\n",
      "81/81 [==============================] - 14s 171ms/step - loss: 1.4239 - categorical_accuracy: 0.5407\n",
      "Epoch 149/3000\n",
      "81/81 [==============================] - 13s 155ms/step - loss: 1.3586 - categorical_accuracy: 0.5536\n",
      "Epoch 150/3000\n",
      "81/81 [==============================] - 9s 115ms/step - loss: 1.4328 - categorical_accuracy: 0.5478\n",
      "Epoch 151/3000\n",
      "81/81 [==============================] - 10s 121ms/step - loss: 1.4267 - categorical_accuracy: 0.5431\n",
      "Epoch 152/3000\n",
      "81/81 [==============================] - 12s 143ms/step - loss: 1.4171 - categorical_accuracy: 0.5478\n",
      "Epoch 153/3000\n",
      "81/81 [==============================] - 12s 145ms/step - loss: 1.3441 - categorical_accuracy: 0.5676\n",
      "Epoch 154/3000\n",
      "81/81 [==============================] - 13s 166ms/step - loss: 1.3908 - categorical_accuracy: 0.5528\n",
      "Epoch 155/3000\n",
      "81/81 [==============================] - 11s 134ms/step - loss: 1.4106 - categorical_accuracy: 0.5532\n",
      "Epoch 156/3000\n",
      "81/81 [==============================] - 13s 157ms/step - loss: 1.4350 - categorical_accuracy: 0.5345\n",
      "Epoch 157/3000\n",
      "81/81 [==============================] - 10s 119ms/step - loss: 1.3848 - categorical_accuracy: 0.5637\n",
      "Epoch 158/3000\n",
      "81/81 [==============================] - 9s 112ms/step - loss: 1.3727 - categorical_accuracy: 0.5618\n",
      "Epoch 159/3000\n",
      "81/81 [==============================] - 13s 160ms/step - loss: 1.4808 - categorical_accuracy: 0.5341\n",
      "Epoch 160/3000\n",
      "81/81 [==============================] - 16s 198ms/step - loss: 1.3189 - categorical_accuracy: 0.5708\n",
      "Epoch 161/3000\n",
      "81/81 [==============================] - 13s 164ms/step - loss: 1.3448 - categorical_accuracy: 0.5813\n",
      "Epoch 162/3000\n",
      "81/81 [==============================] - 15s 186ms/step - loss: 1.3297 - categorical_accuracy: 0.5715\n",
      "Epoch 163/3000\n",
      "81/81 [==============================] - 15s 189ms/step - loss: 1.5946 - categorical_accuracy: 0.5018\n",
      "Epoch 164/3000\n",
      "81/81 [==============================] - 11s 138ms/step - loss: 1.3565 - categorical_accuracy: 0.5559\n",
      "Epoch 165/3000\n",
      "81/81 [==============================] - 10s 123ms/step - loss: 1.4833 - categorical_accuracy: 0.5411\n",
      "Epoch 166/3000\n",
      "81/81 [==============================] - 10s 126ms/step - loss: 1.3991 - categorical_accuracy: 0.5606\n",
      "Epoch 167/3000\n",
      "81/81 [==============================] - 11s 134ms/step - loss: 1.3505 - categorical_accuracy: 0.5700\n",
      "Epoch 168/3000\n",
      "81/81 [==============================] - 10s 123ms/step - loss: 1.3676 - categorical_accuracy: 0.5470\n",
      "Epoch 169/3000\n",
      "81/81 [==============================] - 11s 135ms/step - loss: 1.3021 - categorical_accuracy: 0.5860\n",
      "Epoch 170/3000\n",
      "81/81 [==============================] - 11s 131ms/step - loss: 1.2656 - categorical_accuracy: 0.5973\n",
      "Epoch 171/3000\n",
      "81/81 [==============================] - 10s 123ms/step - loss: 1.3606 - categorical_accuracy: 0.5774\n",
      "Epoch 172/3000\n",
      "81/81 [==============================] - 10s 122ms/step - loss: 1.2626 - categorical_accuracy: 0.5910\n",
      "Epoch 173/3000\n",
      "81/81 [==============================] - 9s 114ms/step - loss: 1.2937 - categorical_accuracy: 0.5965\n",
      "Epoch 174/3000\n",
      "81/81 [==============================] - 9s 116ms/step - loss: 1.3326 - categorical_accuracy: 0.5821\n",
      "Epoch 175/3000\n",
      "81/81 [==============================] - 9s 113ms/step - loss: 1.3330 - categorical_accuracy: 0.5914\n",
      "Epoch 176/3000\n",
      "81/81 [==============================] - 10s 118ms/step - loss: 1.4115 - categorical_accuracy: 0.5579\n",
      "Epoch 177/3000\n",
      "81/81 [==============================] - 11s 133ms/step - loss: 1.3306 - categorical_accuracy: 0.5750\n",
      "Epoch 178/3000\n",
      "81/81 [==============================] - 10s 124ms/step - loss: 1.2755 - categorical_accuracy: 0.5973\n",
      "Epoch 179/3000\n",
      "81/81 [==============================] - 10s 118ms/step - loss: 1.2740 - categorical_accuracy: 0.6058\n",
      "Epoch 180/3000\n",
      "81/81 [==============================] - 12s 145ms/step - loss: 1.2538 - categorical_accuracy: 0.6051\n",
      "Epoch 181/3000\n",
      "81/81 [==============================] - 11s 131ms/step - loss: 1.3586 - categorical_accuracy: 0.5793\n",
      "Epoch 182/3000\n",
      "81/81 [==============================] - 11s 132ms/step - loss: 1.2888 - categorical_accuracy: 0.5918\n",
      "Epoch 183/3000\n",
      "81/81 [==============================] - 12s 147ms/step - loss: 1.3401 - categorical_accuracy: 0.5953\n",
      "Epoch 184/3000\n",
      "81/81 [==============================] - 10s 120ms/step - loss: 1.4090 - categorical_accuracy: 0.5481\n",
      "Epoch 185/3000\n",
      "81/81 [==============================] - 12s 144ms/step - loss: 1.4208 - categorical_accuracy: 0.5536\n",
      "Epoch 186/3000\n",
      "81/81 [==============================] - 11s 141ms/step - loss: 1.3954 - categorical_accuracy: 0.5641\n",
      "Epoch 187/3000\n",
      "81/81 [==============================] - 11s 139ms/step - loss: 1.2188 - categorical_accuracy: 0.6285\n",
      "Epoch 188/3000\n",
      "81/81 [==============================] - 11s 135ms/step - loss: 1.3122 - categorical_accuracy: 0.5949\n",
      "Epoch 189/3000\n",
      "81/81 [==============================] - 11s 140ms/step - loss: 1.2575 - categorical_accuracy: 0.6101\n",
      "Epoch 190/3000\n",
      "81/81 [==============================] - 10s 121ms/step - loss: 1.1656 - categorical_accuracy: 0.6316\n",
      "Epoch 191/3000\n",
      "81/81 [==============================] - 9s 116ms/step - loss: 1.2778 - categorical_accuracy: 0.5977\n",
      "Epoch 192/3000\n",
      "81/81 [==============================] - 15s 181ms/step - loss: 1.1663 - categorical_accuracy: 0.6433\n",
      "Epoch 193/3000\n",
      "81/81 [==============================] - 13s 159ms/step - loss: 1.1627 - categorical_accuracy: 0.6304\n",
      "Epoch 194/3000\n",
      "81/81 [==============================] - 9s 113ms/step - loss: 1.2095 - categorical_accuracy: 0.6199\n",
      "Epoch 195/3000\n",
      "81/81 [==============================] - 9s 108ms/step - loss: 1.1757 - categorical_accuracy: 0.6347\n",
      "Epoch 196/3000\n",
      "81/81 [==============================] - 9s 107ms/step - loss: 1.2568 - categorical_accuracy: 0.6183\n",
      "Epoch 197/3000\n",
      "81/81 [==============================] - 9s 106ms/step - loss: 1.2505 - categorical_accuracy: 0.6164\n",
      "Epoch 198/3000\n",
      "81/81 [==============================] - 9s 107ms/step - loss: 1.2301 - categorical_accuracy: 0.6164\n",
      "Epoch 199/3000\n",
      "81/81 [==============================] - 9s 107ms/step - loss: 1.4690 - categorical_accuracy: 0.5579\n",
      "Epoch 200/3000\n",
      "81/81 [==============================] - 9s 107ms/step - loss: 1.1763 - categorical_accuracy: 0.6366\n",
      "Epoch 201/3000\n",
      "81/81 [==============================] - 9s 108ms/step - loss: 1.1876 - categorical_accuracy: 0.6187\n",
      "Epoch 202/3000\n",
      "81/81 [==============================] - 9s 107ms/step - loss: 1.2801 - categorical_accuracy: 0.6097\n",
      "Epoch 203/3000\n",
      "81/81 [==============================] - 9s 107ms/step - loss: 1.2545 - categorical_accuracy: 0.6218\n",
      "Epoch 204/3000\n",
      "81/81 [==============================] - 9s 108ms/step - loss: 1.0707 - categorical_accuracy: 0.6721\n",
      "Epoch 205/3000\n",
      "81/81 [==============================] - 9s 107ms/step - loss: 1.1843 - categorical_accuracy: 0.6343\n",
      "Epoch 206/3000\n",
      "81/81 [==============================] - 9s 111ms/step - loss: 1.2836 - categorical_accuracy: 0.6066\n",
      "Epoch 207/3000\n",
      "81/81 [==============================] - 9s 108ms/step - loss: 1.1842 - categorical_accuracy: 0.6253\n",
      "Epoch 208/3000\n",
      "81/81 [==============================] - 9s 108ms/step - loss: 1.2128 - categorical_accuracy: 0.6308\n",
      "Epoch 209/3000\n",
      "81/81 [==============================] - 9s 106ms/step - loss: 1.0888 - categorical_accuracy: 0.6659\n",
      "Epoch 210/3000\n",
      "81/81 [==============================] - 9s 108ms/step - loss: 1.4933 - categorical_accuracy: 0.5719\n",
      "Epoch 211/3000\n",
      "81/81 [==============================] - 9s 106ms/step - loss: 1.1809 - categorical_accuracy: 0.6257\n",
      "Epoch 212/3000\n",
      "81/81 [==============================] - 9s 105ms/step - loss: 1.0791 - categorical_accuracy: 0.6639\n",
      "Epoch 213/3000\n",
      "81/81 [==============================] - 9s 105ms/step - loss: 1.2715 - categorical_accuracy: 0.6191\n",
      "Epoch 214/3000\n",
      "81/81 [==============================] - 9s 106ms/step - loss: 1.2827 - categorical_accuracy: 0.6140\n",
      "Epoch 215/3000\n",
      "81/81 [==============================] - 9s 106ms/step - loss: 1.1695 - categorical_accuracy: 0.6448\n",
      "Epoch 216/3000\n",
      "81/81 [==============================] - 9s 107ms/step - loss: 1.4900 - categorical_accuracy: 0.5637\n",
      "Epoch 217/3000\n",
      "81/81 [==============================] - 9s 110ms/step - loss: 1.2281 - categorical_accuracy: 0.6218\n",
      "Epoch 218/3000\n",
      "81/81 [==============================] - 9s 106ms/step - loss: 1.2017 - categorical_accuracy: 0.6472\n",
      "Epoch 219/3000\n",
      "81/81 [==============================] - 9s 105ms/step - loss: 1.1598 - categorical_accuracy: 0.6429\n",
      "Epoch 220/3000\n",
      "81/81 [==============================] - 9s 108ms/step - loss: 1.1087 - categorical_accuracy: 0.6741\n",
      "Epoch 221/3000\n",
      "81/81 [==============================] - 9s 107ms/step - loss: 1.1573 - categorical_accuracy: 0.6495\n",
      "Epoch 222/3000\n",
      "81/81 [==============================] - 9s 109ms/step - loss: 1.0772 - categorical_accuracy: 0.6702\n",
      "Epoch 223/3000\n",
      "81/81 [==============================] - 9s 110ms/step - loss: 1.1463 - categorical_accuracy: 0.6538\n",
      "Epoch 224/3000\n",
      "81/81 [==============================] - 9s 107ms/step - loss: 1.1902 - categorical_accuracy: 0.6359\n",
      "Epoch 225/3000\n",
      "81/81 [==============================] - 9s 106ms/step - loss: 1.4755 - categorical_accuracy: 0.5400\n",
      "Epoch 226/3000\n",
      "81/81 [==============================] - 9s 106ms/step - loss: 1.1936 - categorical_accuracy: 0.6351\n",
      "Epoch 227/3000\n",
      "81/81 [==============================] - 9s 105ms/step - loss: 1.1201 - categorical_accuracy: 0.6596\n",
      "Epoch 228/3000\n",
      "81/81 [==============================] - 9s 106ms/step - loss: 1.1655 - categorical_accuracy: 0.6530\n",
      "Epoch 229/3000\n",
      "81/81 [==============================] - 9s 106ms/step - loss: 1.0139 - categorical_accuracy: 0.6830\n",
      "Epoch 230/3000\n",
      "81/81 [==============================] - 9s 106ms/step - loss: 1.2489 - categorical_accuracy: 0.6351\n",
      "Epoch 231/3000\n",
      "81/81 [==============================] - 8s 104ms/step - loss: 1.1827 - categorical_accuracy: 0.6343\n",
      "Epoch 232/3000\n",
      "81/81 [==============================] - 9s 107ms/step - loss: 0.9887 - categorical_accuracy: 0.7002\n",
      "Epoch 233/3000\n",
      "81/81 [==============================] - 8s 104ms/step - loss: 1.0916 - categorical_accuracy: 0.6756\n",
      "Epoch 234/3000\n",
      "81/81 [==============================] - 9s 106ms/step - loss: 1.1494 - categorical_accuracy: 0.6643\n",
      "Epoch 235/3000\n",
      "81/81 [==============================] - 8s 105ms/step - loss: 1.0753 - categorical_accuracy: 0.6815\n",
      "Epoch 236/3000\n",
      "81/81 [==============================] - 9s 107ms/step - loss: 1.1410 - categorical_accuracy: 0.6503\n",
      "Epoch 237/3000\n",
      "81/81 [==============================] - 9s 105ms/step - loss: 1.1328 - categorical_accuracy: 0.6639\n",
      "Epoch 238/3000\n",
      "81/81 [==============================] - 9s 106ms/step - loss: 1.0463 - categorical_accuracy: 0.6737\n",
      "Epoch 239/3000\n",
      "81/81 [==============================] - 8s 105ms/step - loss: 1.0100 - categorical_accuracy: 0.7010\n",
      "Epoch 240/3000\n",
      "81/81 [==============================] - 9s 106ms/step - loss: 1.1357 - categorical_accuracy: 0.6702\n",
      "Epoch 241/3000\n",
      "81/81 [==============================] - 8s 105ms/step - loss: 1.2191 - categorical_accuracy: 0.6312\n",
      "Epoch 242/3000\n",
      "81/81 [==============================] - 9s 106ms/step - loss: 1.1486 - categorical_accuracy: 0.6561\n",
      "Epoch 243/3000\n",
      "81/81 [==============================] - 9s 107ms/step - loss: 1.3564 - categorical_accuracy: 0.6082\n",
      "Epoch 244/3000\n",
      "81/81 [==============================] - 9s 106ms/step - loss: 1.0948 - categorical_accuracy: 0.6756\n",
      "Epoch 245/3000\n",
      "81/81 [==============================] - 9s 108ms/step - loss: 1.1279 - categorical_accuracy: 0.6655\n",
      "Epoch 246/3000\n",
      "81/81 [==============================] - 9s 107ms/step - loss: 1.1873 - categorical_accuracy: 0.6448\n",
      "Epoch 247/3000\n",
      "81/81 [==============================] - 9s 106ms/step - loss: 0.9686 - categorical_accuracy: 0.7173\n",
      "Epoch 248/3000\n",
      "81/81 [==============================] - 8s 104ms/step - loss: 1.0223 - categorical_accuracy: 0.7037\n",
      "Epoch 249/3000\n",
      "81/81 [==============================] - 9s 106ms/step - loss: 1.0335 - categorical_accuracy: 0.6979\n",
      "Epoch 250/3000\n",
      "81/81 [==============================] - 9s 106ms/step - loss: 1.0779 - categorical_accuracy: 0.6823\n",
      "Epoch 251/3000\n",
      "81/81 [==============================] - 8s 105ms/step - loss: 1.0149 - categorical_accuracy: 0.7002\n",
      "Epoch 252/3000\n",
      "81/81 [==============================] - 9s 111ms/step - loss: 1.2335 - categorical_accuracy: 0.6483\n",
      "Epoch 253/3000\n",
      "81/81 [==============================] - 13s 155ms/step - loss: 1.0877 - categorical_accuracy: 0.6764\n",
      "Epoch 254/3000\n",
      "81/81 [==============================] - 12s 152ms/step - loss: 1.1233 - categorical_accuracy: 0.6764\n",
      "Epoch 255/3000\n",
      "81/81 [==============================] - 13s 158ms/step - loss: 1.1126 - categorical_accuracy: 0.6667\n",
      "Epoch 256/3000\n",
      "81/81 [==============================] - 9s 116ms/step - loss: 0.9232 - categorical_accuracy: 0.7318\n",
      "Epoch 257/3000\n",
      "81/81 [==============================] - 9s 110ms/step - loss: 0.9604 - categorical_accuracy: 0.7088\n",
      "Epoch 258/3000\n",
      "81/81 [==============================] - 10s 117ms/step - loss: 0.9822 - categorical_accuracy: 0.7228\n",
      "Epoch 259/3000\n",
      "81/81 [==============================] - 9s 113ms/step - loss: 1.0215 - categorical_accuracy: 0.7072\n",
      "Epoch 260/3000\n",
      "81/81 [==============================] - 11s 131ms/step - loss: 1.0617 - categorical_accuracy: 0.6920\n",
      "Epoch 261/3000\n",
      "81/81 [==============================] - 9s 110ms/step - loss: 1.0717 - categorical_accuracy: 0.6986\n",
      "Epoch 262/3000\n",
      "81/81 [==============================] - 9s 114ms/step - loss: 1.1766 - categorical_accuracy: 0.6558\n",
      "Epoch 263/3000\n",
      "81/81 [==============================] - 9s 117ms/step - loss: 1.1907 - categorical_accuracy: 0.6394\n",
      "Epoch 264/3000\n",
      "81/81 [==============================] - 9s 114ms/step - loss: 1.0570 - categorical_accuracy: 0.6940\n",
      "Epoch 265/3000\n",
      "81/81 [==============================] - 10s 120ms/step - loss: 1.4405 - categorical_accuracy: 0.6062\n",
      "Epoch 266/3000\n",
      "81/81 [==============================] - 10s 121ms/step - loss: 1.0106 - categorical_accuracy: 0.6967\n",
      "Epoch 267/3000\n",
      "81/81 [==============================] - 17s 216ms/step - loss: 0.9252 - categorical_accuracy: 0.7314\n",
      "Epoch 268/3000\n",
      "81/81 [==============================] - 13s 165ms/step - loss: 0.8774 - categorical_accuracy: 0.7384\n",
      "Epoch 269/3000\n",
      "81/81 [==============================] - 14s 177ms/step - loss: 0.9109 - categorical_accuracy: 0.7314\n",
      "Epoch 270/3000\n",
      "81/81 [==============================] - 12s 150ms/step - loss: 0.8947 - categorical_accuracy: 0.7353\n",
      "Epoch 271/3000\n",
      "81/81 [==============================] - 11s 130ms/step - loss: 1.0066 - categorical_accuracy: 0.7224\n",
      "Epoch 272/3000\n",
      "81/81 [==============================] - 11s 131ms/step - loss: 0.9206 - categorical_accuracy: 0.7368\n",
      "Epoch 273/3000\n",
      "81/81 [==============================] - 11s 133ms/step - loss: 1.0742 - categorical_accuracy: 0.6971\n",
      "Epoch 274/3000\n",
      "81/81 [==============================] - 10s 124ms/step - loss: 1.4269 - categorical_accuracy: 0.6047\n",
      "Epoch 275/3000\n",
      "81/81 [==============================] - 11s 136ms/step - loss: 1.1048 - categorical_accuracy: 0.6768\n",
      "Epoch 276/3000\n",
      "81/81 [==============================] - 9s 115ms/step - loss: 0.9442 - categorical_accuracy: 0.7271\n",
      "Epoch 277/3000\n",
      "81/81 [==============================] - 10s 130ms/step - loss: 0.9522 - categorical_accuracy: 0.7380\n",
      "Epoch 278/3000\n",
      "81/81 [==============================] - 9s 112ms/step - loss: 0.9152 - categorical_accuracy: 0.7404\n",
      "Epoch 279/3000\n",
      "81/81 [==============================] - 14s 172ms/step - loss: 0.9814 - categorical_accuracy: 0.7329\n",
      "Epoch 280/3000\n",
      "81/81 [==============================] - 10s 120ms/step - loss: 1.3220 - categorical_accuracy: 0.6483\n",
      "Epoch 281/3000\n",
      "81/81 [==============================] - 9s 108ms/step - loss: 0.9015 - categorical_accuracy: 0.7442\n",
      "Epoch 282/3000\n",
      "81/81 [==============================] - 9s 116ms/step - loss: 0.8814 - categorical_accuracy: 0.7458\n",
      "Epoch 283/3000\n",
      "81/81 [==============================] - 9s 105ms/step - loss: 0.9817 - categorical_accuracy: 0.7244\n",
      "Epoch 284/3000\n",
      "81/81 [==============================] - 10s 118ms/step - loss: 1.0012 - categorical_accuracy: 0.7158\n",
      "Epoch 285/3000\n",
      "81/81 [==============================] - 10s 119ms/step - loss: 0.8737 - categorical_accuracy: 0.7559\n",
      "Epoch 286/3000\n",
      "81/81 [==============================] - 12s 146ms/step - loss: 0.8251 - categorical_accuracy: 0.7649\n",
      "Epoch 287/3000\n",
      "81/81 [==============================] - 11s 139ms/step - loss: 0.9464 - categorical_accuracy: 0.7372\n",
      "Epoch 288/3000\n",
      "81/81 [==============================] - 9s 107ms/step - loss: 0.9105 - categorical_accuracy: 0.7497\n",
      "Epoch 289/3000\n",
      "81/81 [==============================] - 9s 106ms/step - loss: 0.9598 - categorical_accuracy: 0.7392\n",
      "Epoch 290/3000\n",
      "81/81 [==============================] - 9s 112ms/step - loss: 0.9261 - categorical_accuracy: 0.7392\n",
      "Epoch 291/3000\n",
      "81/81 [==============================] - 12s 149ms/step - loss: 0.8508 - categorical_accuracy: 0.7688\n",
      "Epoch 292/3000\n",
      "81/81 [==============================] - 12s 143ms/step - loss: 1.1547 - categorical_accuracy: 0.7092\n",
      "Epoch 293/3000\n",
      "81/81 [==============================] - 10s 119ms/step - loss: 2.0924 - categorical_accuracy: 0.4417\n",
      "Epoch 294/3000\n",
      "81/81 [==============================] - 10s 121ms/step - loss: 1.0592 - categorical_accuracy: 0.6943\n",
      "Epoch 295/3000\n",
      "81/81 [==============================] - 10s 126ms/step - loss: 1.3252 - categorical_accuracy: 0.6304\n",
      "Epoch 296/3000\n",
      "81/81 [==============================] - 10s 124ms/step - loss: 1.0365 - categorical_accuracy: 0.7057\n",
      "Epoch 297/3000\n",
      "81/81 [==============================] - 9s 106ms/step - loss: 0.9121 - categorical_accuracy: 0.7392\n",
      "Epoch 298/3000\n",
      "81/81 [==============================] - 9s 106ms/step - loss: 1.0872 - categorical_accuracy: 0.6936\n",
      "Epoch 299/3000\n",
      "81/81 [==============================] - 8s 104ms/step - loss: 1.3185 - categorical_accuracy: 0.6378\n",
      "Epoch 300/3000\n",
      "81/81 [==============================] - 8s 103ms/step - loss: 0.9131 - categorical_accuracy: 0.7368\n",
      "Epoch 301/3000\n",
      "81/81 [==============================] - 8s 105ms/step - loss: 0.9373 - categorical_accuracy: 0.7380\n",
      "Epoch 302/3000\n",
      "81/81 [==============================] - 8s 104ms/step - loss: 0.8885 - categorical_accuracy: 0.7540\n",
      "Epoch 303/3000\n",
      "81/81 [==============================] - 9s 106ms/step - loss: 0.9105 - categorical_accuracy: 0.7481\n",
      "Epoch 304/3000\n",
      "81/81 [==============================] - 8s 103ms/step - loss: 1.1582 - categorical_accuracy: 0.6869\n",
      "Epoch 305/3000\n",
      "81/81 [==============================] - 9s 107ms/step - loss: 0.9946 - categorical_accuracy: 0.7298\n",
      "Epoch 306/3000\n",
      "81/81 [==============================] - 9s 110ms/step - loss: 0.9514 - categorical_accuracy: 0.7329\n",
      "Epoch 307/3000\n",
      "81/81 [==============================] - 9s 113ms/step - loss: 0.8688 - categorical_accuracy: 0.7645\n",
      "Epoch 308/3000\n",
      "81/81 [==============================] - 9s 105ms/step - loss: 0.9721 - categorical_accuracy: 0.7287\n",
      "Epoch 309/3000\n",
      "81/81 [==============================] - 9s 112ms/step - loss: 0.9516 - categorical_accuracy: 0.7232\n",
      "Epoch 310/3000\n",
      "81/81 [==============================] - 10s 124ms/step - loss: 0.8832 - categorical_accuracy: 0.7595\n",
      "Epoch 311/3000\n",
      "81/81 [==============================] - 10s 118ms/step - loss: 1.1792 - categorical_accuracy: 0.6780\n",
      "Epoch 312/3000\n",
      "81/81 [==============================] - 9s 106ms/step - loss: 0.8775 - categorical_accuracy: 0.7583\n",
      "Epoch 313/3000\n",
      "81/81 [==============================] - 8s 103ms/step - loss: 0.8955 - categorical_accuracy: 0.7559\n",
      "Epoch 314/3000\n",
      "81/81 [==============================] - 9s 105ms/step - loss: 2.9644 - categorical_accuracy: 0.2702\n",
      "Epoch 315/3000\n",
      "81/81 [==============================] - 8s 104ms/step - loss: 2.1833 - categorical_accuracy: 0.3485\n",
      "Epoch 316/3000\n",
      "81/81 [==============================] - 9s 109ms/step - loss: 1.8075 - categorical_accuracy: 0.4242\n",
      "Epoch 317/3000\n",
      "81/81 [==============================] - 8s 104ms/step - loss: 1.7195 - categorical_accuracy: 0.4620\n",
      "Epoch 318/3000\n",
      "81/81 [==============================] - 8s 104ms/step - loss: 1.4842 - categorical_accuracy: 0.5306\n",
      "Epoch 319/3000\n",
      "81/81 [==============================] - 8s 103ms/step - loss: 1.4563 - categorical_accuracy: 0.5349\n",
      "Epoch 320/3000\n",
      "81/81 [==============================] - 8s 105ms/step - loss: 1.3441 - categorical_accuracy: 0.5825\n",
      "Epoch 321/3000\n",
      "81/81 [==============================] - 8s 101ms/step - loss: 1.2442 - categorical_accuracy: 0.6343\n",
      "Epoch 322/3000\n",
      "81/81 [==============================] - 8s 103ms/step - loss: 1.1184 - categorical_accuracy: 0.6772\n",
      "Epoch 323/3000\n",
      "81/81 [==============================] - 8s 105ms/step - loss: 1.2439 - categorical_accuracy: 0.6569\n",
      "Epoch 324/3000\n",
      "81/81 [==============================] - 8s 102ms/step - loss: 1.0104 - categorical_accuracy: 0.7076\n",
      "Epoch 325/3000\n",
      "81/81 [==============================] - 8s 102ms/step - loss: 0.9787 - categorical_accuracy: 0.7259\n",
      "Epoch 326/3000\n",
      "81/81 [==============================] - 8s 102ms/step - loss: 0.9750 - categorical_accuracy: 0.7150\n",
      "Epoch 327/3000\n",
      "81/81 [==============================] - 8s 101ms/step - loss: 0.9740 - categorical_accuracy: 0.7298\n",
      "Epoch 328/3000\n",
      "81/81 [==============================] - 8s 104ms/step - loss: 1.0536 - categorical_accuracy: 0.7037\n",
      "Epoch 329/3000\n",
      "81/81 [==============================] - 8s 103ms/step - loss: 1.0007 - categorical_accuracy: 0.7142\n",
      "Epoch 330/3000\n",
      "81/81 [==============================] - 8s 103ms/step - loss: 0.9075 - categorical_accuracy: 0.7513\n",
      "Epoch 331/3000\n",
      "81/81 [==============================] - 8s 104ms/step - loss: 0.9839 - categorical_accuracy: 0.7220\n",
      "Epoch 332/3000\n",
      "81/81 [==============================] - 8s 103ms/step - loss: 0.9690 - categorical_accuracy: 0.7302\n",
      "Epoch 333/3000\n",
      "81/81 [==============================] - 8s 103ms/step - loss: 1.0032 - categorical_accuracy: 0.7131\n",
      "Epoch 334/3000\n",
      "81/81 [==============================] - 8s 101ms/step - loss: 1.1422 - categorical_accuracy: 0.6971\n",
      "Epoch 335/3000\n",
      "81/81 [==============================] - 8s 102ms/step - loss: 0.9533 - categorical_accuracy: 0.7380\n",
      "Epoch 336/3000\n",
      "81/81 [==============================] - 8s 102ms/step - loss: 1.1964 - categorical_accuracy: 0.6838\n",
      "Epoch 337/3000\n",
      "81/81 [==============================] - 9s 105ms/step - loss: 1.0815 - categorical_accuracy: 0.6943\n",
      "Epoch 338/3000\n",
      "81/81 [==============================] - 8s 104ms/step - loss: 1.0360 - categorical_accuracy: 0.7212\n",
      "Epoch 339/3000\n",
      "81/81 [==============================] - 8s 103ms/step - loss: 0.8779 - categorical_accuracy: 0.7528\n",
      "Epoch 340/3000\n",
      "81/81 [==============================] - 9s 111ms/step - loss: 1.2419 - categorical_accuracy: 0.6710\n",
      "Epoch 341/3000\n",
      "81/81 [==============================] - 9s 109ms/step - loss: 0.9920 - categorical_accuracy: 0.7216\n",
      "Epoch 342/3000\n",
      "81/81 [==============================] - 8s 104ms/step - loss: 1.0552 - categorical_accuracy: 0.7115\n",
      "Epoch 343/3000\n",
      "81/81 [==============================] - 8s 103ms/step - loss: 0.8657 - categorical_accuracy: 0.7595\n",
      "Epoch 344/3000\n",
      "81/81 [==============================] - 8s 104ms/step - loss: 0.8015 - categorical_accuracy: 0.7793\n",
      "Epoch 345/3000\n",
      "81/81 [==============================] - 9s 105ms/step - loss: 0.9696 - categorical_accuracy: 0.7263\n",
      "Epoch 346/3000\n",
      "81/81 [==============================] - 8s 104ms/step - loss: 1.1704 - categorical_accuracy: 0.6733\n",
      "Epoch 347/3000\n",
      "81/81 [==============================] - 8s 103ms/step - loss: 0.8844 - categorical_accuracy: 0.7462\n",
      "Epoch 348/3000\n",
      "81/81 [==============================] - 8s 104ms/step - loss: 0.8031 - categorical_accuracy: 0.7758\n",
      "Epoch 349/3000\n",
      "81/81 [==============================] - 8s 103ms/step - loss: 0.8037 - categorical_accuracy: 0.7903\n",
      "Epoch 350/3000\n",
      "81/81 [==============================] - 8s 103ms/step - loss: 0.8084 - categorical_accuracy: 0.7715\n",
      "Epoch 351/3000\n",
      "81/81 [==============================] - 9s 105ms/step - loss: 0.8181 - categorical_accuracy: 0.7879\n",
      "Epoch 352/3000\n",
      "81/81 [==============================] - 8s 105ms/step - loss: 0.7879 - categorical_accuracy: 0.7922\n",
      "Epoch 353/3000\n",
      "81/81 [==============================] - 8s 102ms/step - loss: 0.7982 - categorical_accuracy: 0.7922\n",
      "Epoch 354/3000\n",
      "81/81 [==============================] - 9s 109ms/step - loss: 0.8117 - categorical_accuracy: 0.7918\n",
      "Epoch 355/3000\n",
      "81/81 [==============================] - 8s 102ms/step - loss: 1.1453 - categorical_accuracy: 0.7107\n",
      "Epoch 356/3000\n",
      "81/81 [==============================] - 8s 104ms/step - loss: 0.7871 - categorical_accuracy: 0.7867\n",
      "Epoch 357/3000\n",
      "81/81 [==============================] - 8s 102ms/step - loss: 0.7829 - categorical_accuracy: 0.7930\n",
      "Epoch 358/3000\n",
      "81/81 [==============================] - 8s 103ms/step - loss: 0.7331 - categorical_accuracy: 0.8016\n",
      "Epoch 359/3000\n",
      "81/81 [==============================] - 8s 104ms/step - loss: 0.7635 - categorical_accuracy: 0.7992\n",
      "Epoch 360/3000\n",
      "81/81 [==============================] - 8s 101ms/step - loss: 0.8262 - categorical_accuracy: 0.7825\n",
      "Epoch 361/3000\n",
      "81/81 [==============================] - 8s 102ms/step - loss: 0.9770 - categorical_accuracy: 0.7446\n",
      "Epoch 362/3000\n",
      "81/81 [==============================] - 8s 103ms/step - loss: 1.1623 - categorical_accuracy: 0.7045\n",
      "Epoch 363/3000\n",
      "81/81 [==============================] - 9s 106ms/step - loss: 0.9156 - categorical_accuracy: 0.7446\n",
      "Epoch 364/3000\n",
      "81/81 [==============================] - 8s 103ms/step - loss: 0.8253 - categorical_accuracy: 0.7801\n",
      "Epoch 365/3000\n",
      "81/81 [==============================] - 8s 101ms/step - loss: 0.8751 - categorical_accuracy: 0.7591\n",
      "Epoch 366/3000\n",
      "81/81 [==============================] - 8s 103ms/step - loss: 0.8112 - categorical_accuracy: 0.7817\n",
      "Epoch 367/3000\n",
      "81/81 [==============================] - 8s 103ms/step - loss: 0.9257 - categorical_accuracy: 0.7556\n",
      "Epoch 368/3000\n",
      "81/81 [==============================] - 8s 102ms/step - loss: 0.9305 - categorical_accuracy: 0.7591\n",
      "Epoch 369/3000\n",
      "81/81 [==============================] - 8s 103ms/step - loss: 0.7642 - categorical_accuracy: 0.7922\n",
      "Epoch 370/3000\n",
      "81/81 [==============================] - 8s 101ms/step - loss: 0.7862 - categorical_accuracy: 0.7883\n",
      "Epoch 371/3000\n",
      "81/81 [==============================] - 8s 102ms/step - loss: 0.7592 - categorical_accuracy: 0.7992\n",
      "Epoch 372/3000\n",
      "81/81 [==============================] - 8s 102ms/step - loss: 1.7315 - categorical_accuracy: 0.5474\n",
      "Epoch 373/3000\n",
      "81/81 [==============================] - 8s 103ms/step - loss: 1.0278 - categorical_accuracy: 0.7111\n",
      "Epoch 374/3000\n",
      "81/81 [==============================] - 8s 103ms/step - loss: 0.8238 - categorical_accuracy: 0.7774\n",
      "Epoch 375/3000\n",
      "81/81 [==============================] - 8s 104ms/step - loss: 0.8797 - categorical_accuracy: 0.7559\n",
      "Epoch 376/3000\n",
      "81/81 [==============================] - 8s 105ms/step - loss: 0.8255 - categorical_accuracy: 0.7817\n",
      "Epoch 377/3000\n",
      "81/81 [==============================] - 9s 107ms/step - loss: 0.7519 - categorical_accuracy: 0.7992\n",
      "Epoch 378/3000\n",
      "81/81 [==============================] - 9s 109ms/step - loss: 0.8028 - categorical_accuracy: 0.7797\n",
      "Epoch 379/3000\n",
      "81/81 [==============================] - 8s 103ms/step - loss: 0.7163 - categorical_accuracy: 0.8238\n",
      "Epoch 380/3000\n",
      "81/81 [==============================] - 8s 103ms/step - loss: 0.7713 - categorical_accuracy: 0.8097\n",
      "Epoch 381/3000\n",
      "81/81 [==============================] - 8s 103ms/step - loss: 0.7370 - categorical_accuracy: 0.8016\n",
      "Epoch 382/3000\n",
      "81/81 [==============================] - 8s 103ms/step - loss: 1.0067 - categorical_accuracy: 0.7466\n",
      "Epoch 383/3000\n",
      "81/81 [==============================] - 8s 102ms/step - loss: 0.7500 - categorical_accuracy: 0.7984\n",
      "Epoch 384/3000\n",
      "81/81 [==============================] - 8s 103ms/step - loss: 0.9663 - categorical_accuracy: 0.7528\n",
      "Epoch 385/3000\n",
      "81/81 [==============================] - 8s 102ms/step - loss: 0.8608 - categorical_accuracy: 0.7778\n",
      "Epoch 386/3000\n",
      "81/81 [==============================] - 8s 102ms/step - loss: 0.7245 - categorical_accuracy: 0.8062\n",
      "Epoch 387/3000\n",
      "81/81 [==============================] - 8s 103ms/step - loss: 0.8159 - categorical_accuracy: 0.7914\n",
      "Epoch 388/3000\n",
      "81/81 [==============================] - 8s 104ms/step - loss: 0.8536 - categorical_accuracy: 0.7844\n",
      "Epoch 389/3000\n",
      "81/81 [==============================] - 8s 104ms/step - loss: 1.0303 - categorical_accuracy: 0.7392\n",
      "Epoch 390/3000\n",
      "81/81 [==============================] - 8s 103ms/step - loss: 0.7439 - categorical_accuracy: 0.8043\n",
      "Epoch 391/3000\n",
      "81/81 [==============================] - 8s 103ms/step - loss: 0.7357 - categorical_accuracy: 0.8086\n",
      "Epoch 392/3000\n",
      "81/81 [==============================] - 8s 101ms/step - loss: 0.7888 - categorical_accuracy: 0.8062\n",
      "Epoch 393/3000\n",
      "81/81 [==============================] - 8s 102ms/step - loss: 0.6693 - categorical_accuracy: 0.8257\n",
      "Epoch 394/3000\n",
      "81/81 [==============================] - 8s 102ms/step - loss: 0.9329 - categorical_accuracy: 0.7712\n",
      "Epoch 395/3000\n",
      "81/81 [==============================] - 9s 105ms/step - loss: 1.3543 - categorical_accuracy: 0.6355\n",
      "Epoch 396/3000\n",
      "81/81 [==============================] - 8s 104ms/step - loss: 0.8925 - categorical_accuracy: 0.7505\n",
      "Epoch 397/3000\n",
      "81/81 [==============================] - 8s 101ms/step - loss: 0.7189 - categorical_accuracy: 0.8086\n",
      "Epoch 398/3000\n",
      "81/81 [==============================] - 8s 101ms/step - loss: 0.7137 - categorical_accuracy: 0.8172\n",
      "Epoch 399/3000\n",
      "81/81 [==============================] - 8s 103ms/step - loss: 0.6914 - categorical_accuracy: 0.8156\n",
      "Epoch 400/3000\n",
      "81/81 [==============================] - 8s 102ms/step - loss: 0.7749 - categorical_accuracy: 0.8016\n",
      "Epoch 401/3000\n",
      "81/81 [==============================] - 8s 102ms/step - loss: 0.8286 - categorical_accuracy: 0.7828\n",
      "Epoch 402/3000\n",
      "81/81 [==============================] - 8s 103ms/step - loss: 0.8449 - categorical_accuracy: 0.7758\n",
      "Epoch 403/3000\n",
      "81/81 [==============================] - 8s 103ms/step - loss: 0.9607 - categorical_accuracy: 0.7493\n",
      "Epoch 404/3000\n",
      "81/81 [==============================] - 8s 102ms/step - loss: 0.8070 - categorical_accuracy: 0.7832\n",
      "Epoch 405/3000\n",
      "81/81 [==============================] - 8s 102ms/step - loss: 0.7071 - categorical_accuracy: 0.8078\n",
      "Epoch 406/3000\n",
      "81/81 [==============================] - 8s 102ms/step - loss: 0.7352 - categorical_accuracy: 0.8062\n",
      "Epoch 407/3000\n",
      "81/81 [==============================] - 8s 103ms/step - loss: 0.8136 - categorical_accuracy: 0.7867\n",
      "Epoch 408/3000\n",
      "81/81 [==============================] - 8s 101ms/step - loss: 0.8445 - categorical_accuracy: 0.7735\n",
      "Epoch 409/3000\n",
      "81/81 [==============================] - 8s 101ms/step - loss: 0.6751 - categorical_accuracy: 0.8211\n",
      "Epoch 410/3000\n",
      "81/81 [==============================] - 8s 103ms/step - loss: 1.1137 - categorical_accuracy: 0.7150\n",
      "Epoch 411/3000\n",
      "81/81 [==============================] - 9s 108ms/step - loss: 0.7463 - categorical_accuracy: 0.8129\n",
      "Epoch 412/3000\n",
      "81/81 [==============================] - 8s 102ms/step - loss: 0.7427 - categorical_accuracy: 0.7945\n",
      "Epoch 413/3000\n",
      "81/81 [==============================] - 8s 102ms/step - loss: 0.7061 - categorical_accuracy: 0.8226\n",
      "Epoch 414/3000\n",
      "81/81 [==============================] - 8s 101ms/step - loss: 0.6705 - categorical_accuracy: 0.8363\n",
      "Epoch 415/3000\n",
      "81/81 [==============================] - 8s 102ms/step - loss: 1.1773 - categorical_accuracy: 0.7014\n",
      "Epoch 416/3000\n",
      "81/81 [==============================] - 8s 103ms/step - loss: 0.7541 - categorical_accuracy: 0.8023\n",
      "Epoch 417/3000\n",
      "81/81 [==============================] - 8s 103ms/step - loss: 0.6146 - categorical_accuracy: 0.8437\n",
      "Epoch 418/3000\n",
      "81/81 [==============================] - 8s 102ms/step - loss: 0.7156 - categorical_accuracy: 0.8281\n",
      "Epoch 419/3000\n",
      "81/81 [==============================] - 8s 101ms/step - loss: 0.7771 - categorical_accuracy: 0.8043\n",
      "Epoch 420/3000\n",
      "81/81 [==============================] - 8s 103ms/step - loss: 0.8884 - categorical_accuracy: 0.7591\n",
      "Epoch 421/3000\n",
      "81/81 [==============================] - 8s 101ms/step - loss: 0.7938 - categorical_accuracy: 0.7945\n",
      "Epoch 422/3000\n",
      "81/81 [==============================] - 8s 102ms/step - loss: 0.7830 - categorical_accuracy: 0.7977\n",
      "Epoch 423/3000\n",
      "81/81 [==============================] - 8s 101ms/step - loss: 0.8310 - categorical_accuracy: 0.7992\n",
      "Epoch 424/3000\n",
      "81/81 [==============================] - 8s 102ms/step - loss: 0.7768 - categorical_accuracy: 0.7942\n",
      "Epoch 425/3000\n",
      "81/81 [==============================] - 8s 102ms/step - loss: 0.7846 - categorical_accuracy: 0.8012\n",
      "Epoch 426/3000\n",
      "81/81 [==============================] - 8s 102ms/step - loss: 1.1707 - categorical_accuracy: 0.6998\n",
      "Epoch 427/3000\n",
      "81/81 [==============================] - 8s 101ms/step - loss: 0.7280 - categorical_accuracy: 0.8234\n",
      "Epoch 428/3000\n",
      "81/81 [==============================] - 8s 102ms/step - loss: 0.7295 - categorical_accuracy: 0.8136\n",
      "Epoch 429/3000\n",
      "81/81 [==============================] - 8s 102ms/step - loss: 0.6058 - categorical_accuracy: 0.8487\n",
      "Epoch 430/3000\n",
      "81/81 [==============================] - 8s 102ms/step - loss: 0.7111 - categorical_accuracy: 0.8164\n",
      "Epoch 431/3000\n",
      "81/81 [==============================] - 8s 104ms/step - loss: 0.7196 - categorical_accuracy: 0.8203\n",
      "Epoch 432/3000\n",
      "81/81 [==============================] - 8s 102ms/step - loss: 0.6110 - categorical_accuracy: 0.8405\n",
      "Epoch 433/3000\n",
      "81/81 [==============================] - 8s 103ms/step - loss: 0.6752 - categorical_accuracy: 0.8347\n",
      "Epoch 434/3000\n",
      "81/81 [==============================] - 8s 102ms/step - loss: 1.0371 - categorical_accuracy: 0.7513\n",
      "Epoch 435/3000\n",
      "81/81 [==============================] - 8s 101ms/step - loss: 1.7400 - categorical_accuracy: 0.5641\n",
      "Epoch 436/3000\n",
      "81/81 [==============================] - 8s 101ms/step - loss: 0.9409 - categorical_accuracy: 0.7322\n",
      "Epoch 437/3000\n",
      "81/81 [==============================] - 8s 101ms/step - loss: 0.7516 - categorical_accuracy: 0.8070\n",
      "Epoch 438/3000\n",
      "81/81 [==============================] - 8s 102ms/step - loss: 0.6432 - categorical_accuracy: 0.8429\n",
      "Epoch 439/3000\n",
      "81/81 [==============================] - 8s 102ms/step - loss: 0.6886 - categorical_accuracy: 0.8230\n",
      "Epoch 440/3000\n",
      "81/81 [==============================] - 8s 102ms/step - loss: 0.7407 - categorical_accuracy: 0.8117\n",
      "Epoch 441/3000\n",
      "81/81 [==============================] - 8s 101ms/step - loss: 1.3269 - categorical_accuracy: 0.6928\n",
      "Epoch 442/3000\n",
      "81/81 [==============================] - 8s 101ms/step - loss: 1.4317 - categorical_accuracy: 0.5988\n",
      "Epoch 443/3000\n",
      "81/81 [==============================] - 8s 101ms/step - loss: 1.1033 - categorical_accuracy: 0.6791\n",
      "Epoch 444/3000\n",
      "81/81 [==============================] - 8s 101ms/step - loss: 1.2252 - categorical_accuracy: 0.6791\n",
      "Epoch 445/3000\n",
      "81/81 [==============================] - 8s 102ms/step - loss: 1.2167 - categorical_accuracy: 0.6405\n",
      "Epoch 446/3000\n",
      "81/81 [==============================] - 8s 101ms/step - loss: 0.8456 - categorical_accuracy: 0.7692\n",
      "Epoch 447/3000\n",
      "81/81 [==============================] - 8s 101ms/step - loss: 0.7865 - categorical_accuracy: 0.7805\n",
      "Epoch 448/3000\n",
      "81/81 [==============================] - 9s 105ms/step - loss: 0.7962 - categorical_accuracy: 0.7782\n",
      "Epoch 449/3000\n",
      "81/81 [==============================] - 8s 102ms/step - loss: 0.8533 - categorical_accuracy: 0.7727\n",
      "Epoch 450/3000\n",
      "81/81 [==============================] - 8s 101ms/step - loss: 0.7857 - categorical_accuracy: 0.7899\n",
      "Epoch 451/3000\n",
      "81/81 [==============================] - 8s 101ms/step - loss: 0.8847 - categorical_accuracy: 0.7673\n",
      "Epoch 452/3000\n",
      "81/81 [==============================] - 8s 102ms/step - loss: 0.6963 - categorical_accuracy: 0.8140\n",
      "Epoch 453/3000\n",
      "81/81 [==============================] - 8s 104ms/step - loss: 1.0041 - categorical_accuracy: 0.7439\n",
      "Epoch 454/3000\n",
      "81/81 [==============================] - 8s 102ms/step - loss: 1.0100 - categorical_accuracy: 0.7236\n",
      "Epoch 455/3000\n",
      "81/81 [==============================] - 8s 101ms/step - loss: 0.7947 - categorical_accuracy: 0.7871\n",
      "Epoch 456/3000\n",
      "81/81 [==============================] - 8s 102ms/step - loss: 0.7443 - categorical_accuracy: 0.8035\n",
      "Epoch 457/3000\n",
      "81/81 [==============================] - 8s 100ms/step - loss: 0.7419 - categorical_accuracy: 0.7938\n",
      "Epoch 458/3000\n",
      "81/81 [==============================] - 8s 101ms/step - loss: 0.9937 - categorical_accuracy: 0.7423\n",
      "Epoch 459/3000\n",
      "81/81 [==============================] - 8s 100ms/step - loss: 1.0399 - categorical_accuracy: 0.7439\n",
      "Epoch 460/3000\n",
      "81/81 [==============================] - 8s 102ms/step - loss: 0.7779 - categorical_accuracy: 0.7867\n",
      "Epoch 461/3000\n",
      "81/81 [==============================] - 8s 100ms/step - loss: 0.9024 - categorical_accuracy: 0.7817\n",
      "Epoch 462/3000\n",
      "81/81 [==============================] - 8s 101ms/step - loss: 0.8207 - categorical_accuracy: 0.7676\n",
      "Epoch 463/3000\n",
      "81/81 [==============================] - 8s 101ms/step - loss: 0.7884 - categorical_accuracy: 0.7883\n",
      "Epoch 464/3000\n",
      "81/81 [==============================] - 8s 105ms/step - loss: 0.7622 - categorical_accuracy: 0.7965\n",
      "Epoch 465/3000\n",
      "81/81 [==============================] - 8s 102ms/step - loss: 0.6458 - categorical_accuracy: 0.8292\n",
      "Epoch 466/3000\n",
      "81/81 [==============================] - 8s 102ms/step - loss: 0.6443 - categorical_accuracy: 0.8366\n",
      "Epoch 467/3000\n",
      "81/81 [==============================] - 8s 101ms/step - loss: 0.6834 - categorical_accuracy: 0.8296\n",
      "Epoch 468/3000\n",
      "81/81 [==============================] - 8s 102ms/step - loss: 0.7297 - categorical_accuracy: 0.8136\n",
      "Epoch 469/3000\n",
      "81/81 [==============================] - 8s 103ms/step - loss: 1.3486 - categorical_accuracy: 0.6585\n",
      "Epoch 470/3000\n",
      "81/81 [==============================] - 8s 101ms/step - loss: 0.7820 - categorical_accuracy: 0.7996\n",
      "Epoch 471/3000\n",
      "81/81 [==============================] - 8s 104ms/step - loss: 0.7686 - categorical_accuracy: 0.8008\n",
      "Epoch 472/3000\n",
      "81/81 [==============================] - 8s 101ms/step - loss: 0.7549 - categorical_accuracy: 0.8008\n",
      "Epoch 473/3000\n",
      "81/81 [==============================] - 8s 103ms/step - loss: 0.6950 - categorical_accuracy: 0.8203\n",
      "Epoch 474/3000\n",
      "81/81 [==============================] - 8s 101ms/step - loss: 0.8070 - categorical_accuracy: 0.7953\n",
      "Epoch 475/3000\n",
      "81/81 [==============================] - 8s 102ms/step - loss: 1.2038 - categorical_accuracy: 0.7010\n",
      "Epoch 476/3000\n",
      "81/81 [==============================] - 8s 99ms/step - loss: 0.7556 - categorical_accuracy: 0.7942\n",
      "Epoch 477/3000\n",
      "81/81 [==============================] - 8s 102ms/step - loss: 0.6086 - categorical_accuracy: 0.8363\n",
      "Epoch 478/3000\n",
      "81/81 [==============================] - 8s 101ms/step - loss: 0.6769 - categorical_accuracy: 0.8378\n",
      "Epoch 479/3000\n",
      "81/81 [==============================] - 8s 100ms/step - loss: 0.8126 - categorical_accuracy: 0.7957\n",
      "Epoch 480/3000\n",
      "81/81 [==============================] - 8s 101ms/step - loss: 0.6861 - categorical_accuracy: 0.8222\n",
      "Epoch 481/3000\n",
      "81/81 [==============================] - 8s 101ms/step - loss: 0.7927 - categorical_accuracy: 0.8019\n",
      "Epoch 482/3000\n",
      "81/81 [==============================] - 8s 101ms/step - loss: 0.7186 - categorical_accuracy: 0.8027\n",
      "Epoch 483/3000\n",
      "81/81 [==============================] - 8s 101ms/step - loss: 0.6290 - categorical_accuracy: 0.8491\n",
      "Epoch 484/3000\n",
      "81/81 [==============================] - 8s 103ms/step - loss: 0.6191 - categorical_accuracy: 0.8437\n",
      "Epoch 485/3000\n",
      "81/81 [==============================] - 8s 101ms/step - loss: 0.6347 - categorical_accuracy: 0.8339\n",
      "Epoch 486/3000\n",
      "81/81 [==============================] - 8s 99ms/step - loss: 0.6705 - categorical_accuracy: 0.8269\n",
      "Epoch 487/3000\n",
      "81/81 [==============================] - 8s 101ms/step - loss: 1.0505 - categorical_accuracy: 0.7583\n",
      "Epoch 488/3000\n",
      "81/81 [==============================] - 8s 101ms/step - loss: 0.8498 - categorical_accuracy: 0.7743\n",
      "Epoch 489/3000\n",
      "81/81 [==============================] - 8s 100ms/step - loss: 0.6935 - categorical_accuracy: 0.8257\n"
     ]
    }
   ],
   "source": [
    "history = model.fit(X_train, y_train, epochs=3000, callbacks=[early_stopping, checkpoint, csv_logger])    # , callbacks=[tb_callback]\n",
    "# save best model\n",
    "final_model_path = os.path.join(cs.MODELS_FOLDER, FOLDER_MODEL, 'final_model.h5') \n",
    "model.save(final_model_path)"
   ],
   "metadata": {
    "collapsed": false,
    "ExecuteTime": {
     "end_time": "2024-05-31T18:23:49.697851700Z",
     "start_time": "2024-05-31T17:06:41.596297Z"
    }
   },
   "id": "497f855d8fdb4379"
  },
  {
   "cell_type": "code",
   "execution_count": 38,
   "outputs": [
    {
     "name": "stdout",
     "output_type": "stream",
     "text": [
      "Model: \"sequential_1\"\n",
      "_________________________________________________________________\n",
      " Layer (type)                Output Shape              Param #   \n",
      "=================================================================\n",
      " lstm_3 (LSTM)               (None, 30, 64)            442112    \n",
      "                                                                 \n",
      " dropout_4 (Dropout)         (None, 30, 64)            0         \n",
      "                                                                 \n",
      " lstm_4 (LSTM)               (None, 30, 128)           98816     \n",
      "                                                                 \n",
      " dropout_5 (Dropout)         (None, 30, 128)           0         \n",
      "                                                                 \n",
      " lstm_5 (LSTM)               (None, 64)                49408     \n",
      "                                                                 \n",
      " batch_normalization_1 (Bat  (None, 64)                256       \n",
      " chNormalization)                                                \n",
      "                                                                 \n",
      " dense_3 (Dense)             (None, 64)                4160      \n",
      "                                                                 \n",
      " dropout_6 (Dropout)         (None, 64)                0         \n",
      "                                                                 \n",
      " dense_4 (Dense)             (None, 32)                2080      \n",
      "                                                                 \n",
      " dropout_7 (Dropout)         (None, 32)                0         \n",
      "                                                                 \n",
      " dense_5 (Dense)             (None, 27)                891       \n",
      "                                                                 \n",
      "=================================================================\n",
      "Total params: 597723 (2.28 MB)\n",
      "Trainable params: 597595 (2.28 MB)\n",
      "Non-trainable params: 128 (512.00 Byte)\n",
      "_________________________________________________________________\n"
     ]
    }
   ],
   "source": [
    "model.summary()"
   ],
   "metadata": {
    "collapsed": false,
    "ExecuteTime": {
     "end_time": "2024-05-31T19:23:11.868545500Z",
     "start_time": "2024-05-31T19:23:11.689672600Z"
    }
   },
   "id": "3387bbde19fe3fb5"
  },
  {
   "cell_type": "markdown",
   "source": [
    "### Make Predictions"
   ],
   "metadata": {
    "collapsed": false
   },
   "id": "cf1bb348d73b3e9"
  },
  {
   "cell_type": "code",
   "execution_count": 39,
   "outputs": [
    {
     "name": "stdout",
     "output_type": "stream",
     "text": [
      "5/5 [==============================] - 3s 23ms/step\n"
     ]
    }
   ],
   "source": [
    "res = model.predict(X_test)"
   ],
   "metadata": {
    "collapsed": false,
    "ExecuteTime": {
     "end_time": "2024-05-31T19:23:19.545267400Z",
     "start_time": "2024-05-31T19:23:16.167011200Z"
    }
   },
   "id": "5b62f11bb764f4e"
  },
  {
   "cell_type": "code",
   "execution_count": 40,
   "outputs": [
    {
     "data": {
      "text/plain": "'a'"
     },
     "execution_count": 40,
     "metadata": {},
     "output_type": "execute_result"
    }
   ],
   "source": [
    "np_actions[np.argmax(res[4])]"
   ],
   "metadata": {
    "collapsed": false,
    "ExecuteTime": {
     "end_time": "2024-05-31T19:23:19.545267400Z",
     "start_time": "2024-05-31T19:23:19.525938100Z"
    }
   },
   "id": "da07033415ab75dd"
  },
  {
   "cell_type": "code",
   "execution_count": 41,
   "outputs": [
    {
     "data": {
      "text/plain": "'a'"
     },
     "execution_count": 41,
     "metadata": {},
     "output_type": "execute_result"
    }
   ],
   "source": [
    "np_actions[np.argmax(y_test[4])]"
   ],
   "metadata": {
    "collapsed": false,
    "ExecuteTime": {
     "end_time": "2024-05-31T19:23:19.545267400Z",
     "start_time": "2024-05-31T19:23:19.536793200Z"
    }
   },
   "id": "911f0a43a6249d78"
  },
  {
   "cell_type": "code",
   "execution_count": 38,
   "outputs": [
    {
     "ename": "FileNotFoundError",
     "evalue": "[Errno 2] Unable to open file (unable to open file: name = 'action.h5', errno = 2, error message = 'No such file or directory', flags = 0, o_flags = 0)",
     "output_type": "error",
     "traceback": [
      "\u001B[1;31m---------------------------------------------------------------------------\u001B[0m",
      "\u001B[1;31mFileNotFoundError\u001B[0m                         Traceback (most recent call last)",
      "Cell \u001B[1;32mIn[38], line 1\u001B[0m\n\u001B[1;32m----> 1\u001B[0m model\u001B[38;5;241m.\u001B[39mload_weights(\u001B[38;5;124m'\u001B[39m\u001B[38;5;124maction.h5\u001B[39m\u001B[38;5;124m'\u001B[39m)\n",
      "File \u001B[1;32m~\\AppData\\Roaming\\Python\\Python311\\site-packages\\keras\\src\\utils\\traceback_utils.py:70\u001B[0m, in \u001B[0;36mfilter_traceback.<locals>.error_handler\u001B[1;34m(*args, **kwargs)\u001B[0m\n\u001B[0;32m     67\u001B[0m     filtered_tb \u001B[38;5;241m=\u001B[39m _process_traceback_frames(e\u001B[38;5;241m.\u001B[39m__traceback__)\n\u001B[0;32m     68\u001B[0m     \u001B[38;5;66;03m# To get the full stack trace, call:\u001B[39;00m\n\u001B[0;32m     69\u001B[0m     \u001B[38;5;66;03m# `tf.debugging.disable_traceback_filtering()`\u001B[39;00m\n\u001B[1;32m---> 70\u001B[0m     \u001B[38;5;28;01mraise\u001B[39;00m e\u001B[38;5;241m.\u001B[39mwith_traceback(filtered_tb) \u001B[38;5;28;01mfrom\u001B[39;00m \u001B[38;5;28;01mNone\u001B[39;00m\n\u001B[0;32m     71\u001B[0m \u001B[38;5;28;01mfinally\u001B[39;00m:\n\u001B[0;32m     72\u001B[0m     \u001B[38;5;28;01mdel\u001B[39;00m filtered_tb\n",
      "File \u001B[1;32m~\\AppData\\Roaming\\Python\\Python311\\site-packages\\h5py\\_hl\\files.py:567\u001B[0m, in \u001B[0;36mFile.__init__\u001B[1;34m(self, name, mode, driver, libver, userblock_size, swmr, rdcc_nslots, rdcc_nbytes, rdcc_w0, track_order, fs_strategy, fs_persist, fs_threshold, fs_page_size, page_buf_size, min_meta_keep, min_raw_keep, locking, alignment_threshold, alignment_interval, meta_block_size, **kwds)\u001B[0m\n\u001B[0;32m    558\u001B[0m     fapl \u001B[38;5;241m=\u001B[39m make_fapl(driver, libver, rdcc_nslots, rdcc_nbytes, rdcc_w0,\n\u001B[0;32m    559\u001B[0m                      locking, page_buf_size, min_meta_keep, min_raw_keep,\n\u001B[0;32m    560\u001B[0m                      alignment_threshold\u001B[38;5;241m=\u001B[39malignment_threshold,\n\u001B[0;32m    561\u001B[0m                      alignment_interval\u001B[38;5;241m=\u001B[39malignment_interval,\n\u001B[0;32m    562\u001B[0m                      meta_block_size\u001B[38;5;241m=\u001B[39mmeta_block_size,\n\u001B[0;32m    563\u001B[0m                      \u001B[38;5;241m*\u001B[39m\u001B[38;5;241m*\u001B[39mkwds)\n\u001B[0;32m    564\u001B[0m     fcpl \u001B[38;5;241m=\u001B[39m make_fcpl(track_order\u001B[38;5;241m=\u001B[39mtrack_order, fs_strategy\u001B[38;5;241m=\u001B[39mfs_strategy,\n\u001B[0;32m    565\u001B[0m                      fs_persist\u001B[38;5;241m=\u001B[39mfs_persist, fs_threshold\u001B[38;5;241m=\u001B[39mfs_threshold,\n\u001B[0;32m    566\u001B[0m                      fs_page_size\u001B[38;5;241m=\u001B[39mfs_page_size)\n\u001B[1;32m--> 567\u001B[0m     fid \u001B[38;5;241m=\u001B[39m make_fid(name, mode, userblock_size, fapl, fcpl, swmr\u001B[38;5;241m=\u001B[39mswmr)\n\u001B[0;32m    569\u001B[0m \u001B[38;5;28;01mif\u001B[39;00m \u001B[38;5;28misinstance\u001B[39m(libver, \u001B[38;5;28mtuple\u001B[39m):\n\u001B[0;32m    570\u001B[0m     \u001B[38;5;28mself\u001B[39m\u001B[38;5;241m.\u001B[39m_libver \u001B[38;5;241m=\u001B[39m libver\n",
      "File \u001B[1;32m~\\AppData\\Roaming\\Python\\Python311\\site-packages\\h5py\\_hl\\files.py:231\u001B[0m, in \u001B[0;36mmake_fid\u001B[1;34m(name, mode, userblock_size, fapl, fcpl, swmr)\u001B[0m\n\u001B[0;32m    229\u001B[0m     \u001B[38;5;28;01mif\u001B[39;00m swmr \u001B[38;5;129;01mand\u001B[39;00m swmr_support:\n\u001B[0;32m    230\u001B[0m         flags \u001B[38;5;241m|\u001B[39m\u001B[38;5;241m=\u001B[39m h5f\u001B[38;5;241m.\u001B[39mACC_SWMR_READ\n\u001B[1;32m--> 231\u001B[0m     fid \u001B[38;5;241m=\u001B[39m h5f\u001B[38;5;241m.\u001B[39mopen(name, flags, fapl\u001B[38;5;241m=\u001B[39mfapl)\n\u001B[0;32m    232\u001B[0m \u001B[38;5;28;01melif\u001B[39;00m mode \u001B[38;5;241m==\u001B[39m \u001B[38;5;124m'\u001B[39m\u001B[38;5;124mr+\u001B[39m\u001B[38;5;124m'\u001B[39m:\n\u001B[0;32m    233\u001B[0m     fid \u001B[38;5;241m=\u001B[39m h5f\u001B[38;5;241m.\u001B[39mopen(name, h5f\u001B[38;5;241m.\u001B[39mACC_RDWR, fapl\u001B[38;5;241m=\u001B[39mfapl)\n",
      "File \u001B[1;32mh5py\\_objects.pyx:54\u001B[0m, in \u001B[0;36mh5py._objects.with_phil.wrapper\u001B[1;34m()\u001B[0m\n",
      "File \u001B[1;32mh5py\\_objects.pyx:55\u001B[0m, in \u001B[0;36mh5py._objects.with_phil.wrapper\u001B[1;34m()\u001B[0m\n",
      "File \u001B[1;32mh5py\\h5f.pyx:106\u001B[0m, in \u001B[0;36mh5py.h5f.open\u001B[1;34m()\u001B[0m\n",
      "\u001B[1;31mFileNotFoundError\u001B[0m: [Errno 2] Unable to open file (unable to open file: name = 'action.h5', errno = 2, error message = 'No such file or directory', flags = 0, o_flags = 0)"
     ]
    }
   ],
   "source": [
    "# model.load_weights('action.h5')"
   ],
   "metadata": {
    "collapsed": false,
    "ExecuteTime": {
     "end_time": "2024-05-22T17:01:33.376275300Z",
     "start_time": "2024-05-22T17:01:32.920290800Z"
    }
   },
   "id": "1b1e5dc495ac7ecb"
  },
  {
   "cell_type": "markdown",
   "source": [
    "### Evaluation using Confusion Matrix and Accuracy"
   ],
   "metadata": {
    "collapsed": false
   },
   "id": "4b203153c613ace6"
  },
  {
   "cell_type": "code",
   "execution_count": 34,
   "outputs": [],
   "source": [
    "# Caricare il modello salvato\n",
    "# loaded_model = keras.models.load_model('models/best_model.h5')"
   ],
   "metadata": {
    "collapsed": false,
    "ExecuteTime": {
     "end_time": "2024-05-23T08:58:57.906075900Z",
     "start_time": "2024-05-23T08:58:57.900139500Z"
    }
   },
   "id": "42aee536a80d9155"
  },
  {
   "cell_type": "code",
   "execution_count": 42,
   "outputs": [
    {
     "name": "stdout",
     "output_type": "stream",
     "text": [
      "5/5 [==============================] - 0s 30ms/step\n"
     ]
    }
   ],
   "source": [
    "y_pred = model.predict(X_test)"
   ],
   "metadata": {
    "collapsed": false,
    "ExecuteTime": {
     "end_time": "2024-05-31T19:23:33.408217700Z",
     "start_time": "2024-05-31T19:23:33.076116300Z"
    }
   },
   "id": "ceedaeffbe070080"
  },
  {
   "cell_type": "code",
   "execution_count": 43,
   "outputs": [],
   "source": [
    "y_true = np.argmax(y_test, axis=1).tolist()\n",
    "y_pred = np.argmax(y_pred, axis=1).tolist()\n"
   ],
   "metadata": {
    "collapsed": false,
    "ExecuteTime": {
     "end_time": "2024-05-31T19:23:35.694034100Z",
     "start_time": "2024-05-31T19:23:35.689203800Z"
    }
   },
   "id": "803dc04ea0222ba3"
  },
  {
   "cell_type": "code",
   "execution_count": 44,
   "outputs": [
    {
     "data": {
      "text/plain": "135"
     },
     "execution_count": 44,
     "metadata": {},
     "output_type": "execute_result"
    }
   ],
   "source": [
    "len(y_true)"
   ],
   "metadata": {
    "collapsed": false,
    "ExecuteTime": {
     "end_time": "2024-05-31T19:23:36.612146200Z",
     "start_time": "2024-05-31T19:23:36.572792200Z"
    }
   },
   "id": "d540f574748ba877"
  },
  {
   "cell_type": "code",
   "execution_count": 61,
   "outputs": [
    {
     "data": {
      "text/plain": "<Figure size 640x480 with 2 Axes>",
      "image/png": "[encoded data removed]"
     },
     "metadata": {},
     "output_type": "display_data"
    }
   ],
   "source": [
    "# CONFUSION MATRIX \n",
    "\n",
    "cm = confusion_matrix(y_true, y_pred)\n",
    "\n",
    "disp = ConfusionMatrixDisplay(confusion_matrix=cm)\n",
    "# Personalizzare il plot con una scala di blu\n",
    "fig, ax = plt.subplots()\n",
    "disp.plot(ax=ax, cmap='Blues')\n",
    "plt.show()\n"
   ],
   "metadata": {
    "collapsed": false,
    "ExecuteTime": {
     "end_time": "2024-05-31T22:15:16.457737300Z",
     "start_time": "2024-05-31T22:15:15.175724200Z"
    }
   },
   "id": "5ff6097e60661fa3"
  },
  {
   "cell_type": "code",
   "execution_count": 62,
   "outputs": [
    {
     "data": {
      "text/plain": "0.8148148148148148"
     },
     "execution_count": 62,
     "metadata": {},
     "output_type": "execute_result"
    }
   ],
   "source": [
    "accuracy_score(y_true, y_pred)"
   ],
   "metadata": {
    "collapsed": false,
    "ExecuteTime": {
     "end_time": "2024-05-31T22:15:18.904258600Z",
     "start_time": "2024-05-31T22:15:18.897721800Z"
    }
   },
   "id": "ed22dd7d1f1030b4"
  },
  {
   "cell_type": "code",
   "execution_count": null,
   "outputs": [],
   "source": [],
   "metadata": {
    "collapsed": false
   },
   "id": "6886f452890e0703"
  },
  {
   "cell_type": "code",
   "execution_count": null,
   "outputs": [],
   "source": [],
   "metadata": {
    "collapsed": false
   },
   "id": "9d2579b3e8cc8c4e"
  },
  {
   "cell_type": "code",
   "execution_count": null,
   "outputs": [],
   "source": [],
   "metadata": {
    "collapsed": false
   },
   "id": "71f89647f39c2003"
  },
  {
   "cell_type": "code",
   "execution_count": null,
   "outputs": [],
   "source": [],
   "metadata": {
    "collapsed": false
   },
   "id": "440828e442feb5b3"
  }
 ],
 "metadata": {
  "kernelspec": {
   "display_name": "Python 3",
   "language": "python",
   "name": "python3"
  },
  "language_info": {
   "codemirror_mode": {
    "name": "ipython",
    "version": 2
   },
   "file_extension": ".py",
   "mimetype": "text/x-python",
   "name": "python",
   "nbconvert_exporter": "python",
   "pygments_lexer": "ipython2",
   "version": "2.7.6"
  }
 },
 "nbformat": 4,
 "nbformat_minor": 5
}
