{
 "cells": [
  {
   "cell_type": "code",
   "execution_count": null,
   "outputs": [],
   "source": [
    "!pip install sklearn tensorflow"
   ],
   "metadata": {
    "collapsed": false
   },
   "id": "ce6ea809c3b3d5cd"
  },
  {
   "cell_type": "code",
   "execution_count": 1,
   "outputs": [],
   "source": [
    "import numpy as np\n",
    "import os\n",
    "import constants as cs\n",
    "import yaml\n",
    "import globali as gg\n"
   ],
   "metadata": {
    "collapsed": false,
    "ExecuteTime": {
     "end_time": "2024-05-27T21:54:14.513281400Z",
     "start_time": "2024-05-27T21:54:14.461224Z"
    }
   },
   "id": "initial_id"
  },
  {
   "cell_type": "code",
   "execution_count": 2,
   "outputs": [],
   "source": [
    "from sklearn.model_selection import train_test_split\n",
    "from tensorflow.keras.utils import to_categorical\n",
    "from sklearn.metrics import accuracy_score\n",
    "from sklearn.metrics import confusion_matrix, ConfusionMatrixDisplay\n",
    "from tqdm import tqdm"
   ],
   "metadata": {
    "collapsed": false,
    "ExecuteTime": {
     "end_time": "2024-05-27T21:54:22.475332500Z",
     "start_time": "2024-05-27T21:54:14.516021400Z"
    }
   },
   "id": "321e257ce2920253"
  },
  {
   "cell_type": "code",
   "execution_count": 3,
   "outputs": [],
   "source": [
    "def read_yaml_fields():\n",
    "    with open(cs.YAMLFILE, 'r') as ff:\n",
    "        content = yaml.safe_load(ff)\n",
    "        a = set(content.get('actions', []))\n",
    "        c = content.get('counter', {})\n",
    "        return a, c\n"
   ],
   "metadata": {
    "collapsed": false,
    "ExecuteTime": {
     "end_time": "2024-05-27T21:54:22.497228300Z",
     "start_time": "2024-05-27T21:54:22.480620600Z"
    }
   },
   "id": "ecc142c7d3fb24eb"
  },
  {
   "cell_type": "code",
   "execution_count": 4,
   "outputs": [],
   "source": [
    "gg.actions, gg.counters = read_yaml_fields()"
   ],
   "metadata": {
    "collapsed": false,
    "ExecuteTime": {
     "end_time": "2024-05-27T21:54:22.537630700Z",
     "start_time": "2024-05-27T21:54:22.495252500Z"
    }
   },
   "id": "8e3f5d6a45fd4e69"
  },
  {
   "cell_type": "code",
   "execution_count": 5,
   "outputs": [
    {
     "data": {
      "text/plain": "{'a',\n 'b',\n 'c',\n 'cinque',\n 'd',\n 'due',\n 'e',\n 'f',\n 'g',\n 'h',\n 'i',\n 'j',\n 'k',\n 'l',\n 'm',\n 'nove',\n 'otto',\n 'quattro',\n 'sei',\n 'sette',\n 'tre',\n 'uno',\n 'zero'}"
     },
     "execution_count": 5,
     "metadata": {},
     "output_type": "execute_result"
    }
   ],
   "source": [
    "gg.actions"
   ],
   "metadata": {
    "collapsed": false,
    "ExecuteTime": {
     "end_time": "2024-05-27T21:54:22.538632100Z",
     "start_time": "2024-05-27T21:54:22.518189800Z"
    }
   },
   "id": "8718105678c545c9"
  },
  {
   "cell_type": "code",
   "execution_count": 6,
   "outputs": [
    {
     "data": {
      "text/plain": "{'a': 100,\n 'b': 100,\n 'c': 100,\n 'cinque': 100,\n 'd': 100,\n 'due': 100,\n 'e': 100,\n 'f': 100,\n 'g': 100,\n 'h': 100,\n 'i': 100,\n 'j': 100,\n 'k': 100,\n 'l': 100,\n 'm': 100,\n 'nove': 100,\n 'otto': 100,\n 'quattro': 100,\n 'sei': 100,\n 'sette': 100,\n 'tre': 100,\n 'uno': 100,\n 'zero': 100}"
     },
     "execution_count": 6,
     "metadata": {},
     "output_type": "execute_result"
    }
   ],
   "source": [
    "gg.counters"
   ],
   "metadata": {
    "collapsed": false,
    "ExecuteTime": {
     "end_time": "2024-05-27T21:54:26.932286200Z",
     "start_time": "2024-05-27T21:54:26.847181200Z"
    }
   },
   "id": "d65f8fcbebed14c1"
  },
  {
   "cell_type": "code",
   "execution_count": 7,
   "outputs": [],
   "source": [
    "label_map = {label:num for num, label in enumerate(gg.actions)}"
   ],
   "metadata": {
    "collapsed": false,
    "ExecuteTime": {
     "end_time": "2024-05-27T21:54:30.433691200Z",
     "start_time": "2024-05-27T21:54:30.398135Z"
    }
   },
   "id": "4154bb68582700fd"
  },
  {
   "cell_type": "code",
   "execution_count": 8,
   "outputs": [
    {
     "data": {
      "text/plain": "{'b': 0,\n 'e': 1,\n 'quattro': 2,\n 'i': 3,\n 'tre': 4,\n 'zero': 5,\n 'g': 6,\n 'm': 7,\n 'uno': 8,\n 'sette': 9,\n 'c': 10,\n 'h': 11,\n 'otto': 12,\n 'nove': 13,\n 'd': 14,\n 'a': 15,\n 'due': 16,\n 'k': 17,\n 'sei': 18,\n 'l': 19,\n 'j': 20,\n 'f': 21,\n 'cinque': 22}"
     },
     "execution_count": 8,
     "metadata": {},
     "output_type": "execute_result"
    }
   ],
   "source": [
    "label_map"
   ],
   "metadata": {
    "collapsed": false,
    "ExecuteTime": {
     "end_time": "2024-05-27T21:54:31.208086900Z",
     "start_time": "2024-05-27T21:54:31.160288700Z"
    }
   },
   "id": "95f6482004098d29"
  },
  {
   "cell_type": "code",
   "execution_count": 9,
   "outputs": [
    {
     "name": "stderr",
     "output_type": "stream",
     "text": [
      "Processing Actions: 100%|██████████| 23/23 [01:24<00:00,  3.66s/it]\n"
     ]
    }
   ],
   "source": [
    "sequences, labels = [], []\n",
    "\n",
    "for action in tqdm(gg.actions, desc=\"Processing Actions\"):\n",
    "    for sequence in range(gg.counters[action]):\n",
    "        window = []\n",
    "        for frame_num in range(cs.NUM_FRAME):\n",
    "            res = np.load(os.path.join(cs.KEYPOINTS_FOLDER, action, str(sequence), \"{}.npy\".format(frame_num)))\n",
    "            window.append(res)\n",
    "        sequences.append(window)\n",
    "        labels.append(label_map[action])\n"
   ],
   "metadata": {
    "collapsed": false,
    "ExecuteTime": {
     "end_time": "2024-05-27T21:56:22.235185Z",
     "start_time": "2024-05-27T21:54:58.137733500Z"
    }
   },
   "id": "ab4605957098bac"
  },
  {
   "cell_type": "code",
   "execution_count": 10,
   "outputs": [
    {
     "data": {
      "text/plain": "(2300, 30, 1662)"
     },
     "execution_count": 10,
     "metadata": {},
     "output_type": "execute_result"
    }
   ],
   "source": [
    "np.array(sequences).shape       # 15 videos, 30 frames, 1662 features"
   ],
   "metadata": {
    "collapsed": false,
    "ExecuteTime": {
     "end_time": "2024-05-27T21:56:22.826991Z",
     "start_time": "2024-05-27T21:56:22.237186900Z"
    }
   },
   "id": "f7e09637e9a16f14"
  },
  {
   "cell_type": "code",
   "execution_count": 11,
   "outputs": [
    {
     "data": {
      "text/plain": "(2300,)"
     },
     "execution_count": 11,
     "metadata": {},
     "output_type": "execute_result"
    }
   ],
   "source": [
    "np.array(labels).shape"
   ],
   "metadata": {
    "collapsed": false,
    "ExecuteTime": {
     "end_time": "2024-05-27T21:56:22.910513100Z",
     "start_time": "2024-05-27T21:56:22.828992300Z"
    }
   },
   "id": "4f74748f89db4bde"
  },
  {
   "cell_type": "code",
   "execution_count": 12,
   "outputs": [
    {
     "data": {
      "text/plain": "[0,\n 0,\n 0,\n 0,\n 0,\n 0,\n 0,\n 0,\n 0,\n 0,\n 0,\n 0,\n 0,\n 0,\n 0,\n 0,\n 0,\n 0,\n 0,\n 0,\n 0,\n 0,\n 0,\n 0,\n 0,\n 0,\n 0,\n 0,\n 0,\n 0,\n 0,\n 0,\n 0,\n 0,\n 0,\n 0,\n 0,\n 0,\n 0,\n 0,\n 0,\n 0,\n 0,\n 0,\n 0,\n 0,\n 0,\n 0,\n 0,\n 0,\n 0,\n 0,\n 0,\n 0,\n 0,\n 0,\n 0,\n 0,\n 0,\n 0,\n 0,\n 0,\n 0,\n 0,\n 0,\n 0,\n 0,\n 0,\n 0,\n 0,\n 0,\n 0,\n 0,\n 0,\n 0,\n 0,\n 0,\n 0,\n 0,\n 0,\n 0,\n 0,\n 0,\n 0,\n 0,\n 0,\n 0,\n 0,\n 0,\n 0,\n 0,\n 0,\n 0,\n 0,\n 0,\n 0,\n 0,\n 0,\n 0,\n 0,\n 1,\n 1,\n 1,\n 1,\n 1,\n 1,\n 1,\n 1,\n 1,\n 1,\n 1,\n 1,\n 1,\n 1,\n 1,\n 1,\n 1,\n 1,\n 1,\n 1,\n 1,\n 1,\n 1,\n 1,\n 1,\n 1,\n 1,\n 1,\n 1,\n 1,\n 1,\n 1,\n 1,\n 1,\n 1,\n 1,\n 1,\n 1,\n 1,\n 1,\n 1,\n 1,\n 1,\n 1,\n 1,\n 1,\n 1,\n 1,\n 1,\n 1,\n 1,\n 1,\n 1,\n 1,\n 1,\n 1,\n 1,\n 1,\n 1,\n 1,\n 1,\n 1,\n 1,\n 1,\n 1,\n 1,\n 1,\n 1,\n 1,\n 1,\n 1,\n 1,\n 1,\n 1,\n 1,\n 1,\n 1,\n 1,\n 1,\n 1,\n 1,\n 1,\n 1,\n 1,\n 1,\n 1,\n 1,\n 1,\n 1,\n 1,\n 1,\n 1,\n 1,\n 1,\n 1,\n 1,\n 1,\n 1,\n 1,\n 1,\n 2,\n 2,\n 2,\n 2,\n 2,\n 2,\n 2,\n 2,\n 2,\n 2,\n 2,\n 2,\n 2,\n 2,\n 2,\n 2,\n 2,\n 2,\n 2,\n 2,\n 2,\n 2,\n 2,\n 2,\n 2,\n 2,\n 2,\n 2,\n 2,\n 2,\n 2,\n 2,\n 2,\n 2,\n 2,\n 2,\n 2,\n 2,\n 2,\n 2,\n 2,\n 2,\n 2,\n 2,\n 2,\n 2,\n 2,\n 2,\n 2,\n 2,\n 2,\n 2,\n 2,\n 2,\n 2,\n 2,\n 2,\n 2,\n 2,\n 2,\n 2,\n 2,\n 2,\n 2,\n 2,\n 2,\n 2,\n 2,\n 2,\n 2,\n 2,\n 2,\n 2,\n 2,\n 2,\n 2,\n 2,\n 2,\n 2,\n 2,\n 2,\n 2,\n 2,\n 2,\n 2,\n 2,\n 2,\n 2,\n 2,\n 2,\n 2,\n 2,\n 2,\n 2,\n 2,\n 2,\n 2,\n 2,\n 2,\n 2,\n 3,\n 3,\n 3,\n 3,\n 3,\n 3,\n 3,\n 3,\n 3,\n 3,\n 3,\n 3,\n 3,\n 3,\n 3,\n 3,\n 3,\n 3,\n 3,\n 3,\n 3,\n 3,\n 3,\n 3,\n 3,\n 3,\n 3,\n 3,\n 3,\n 3,\n 3,\n 3,\n 3,\n 3,\n 3,\n 3,\n 3,\n 3,\n 3,\n 3,\n 3,\n 3,\n 3,\n 3,\n 3,\n 3,\n 3,\n 3,\n 3,\n 3,\n 3,\n 3,\n 3,\n 3,\n 3,\n 3,\n 3,\n 3,\n 3,\n 3,\n 3,\n 3,\n 3,\n 3,\n 3,\n 3,\n 3,\n 3,\n 3,\n 3,\n 3,\n 3,\n 3,\n 3,\n 3,\n 3,\n 3,\n 3,\n 3,\n 3,\n 3,\n 3,\n 3,\n 3,\n 3,\n 3,\n 3,\n 3,\n 3,\n 3,\n 3,\n 3,\n 3,\n 3,\n 3,\n 3,\n 3,\n 3,\n 3,\n 3,\n 4,\n 4,\n 4,\n 4,\n 4,\n 4,\n 4,\n 4,\n 4,\n 4,\n 4,\n 4,\n 4,\n 4,\n 4,\n 4,\n 4,\n 4,\n 4,\n 4,\n 4,\n 4,\n 4,\n 4,\n 4,\n 4,\n 4,\n 4,\n 4,\n 4,\n 4,\n 4,\n 4,\n 4,\n 4,\n 4,\n 4,\n 4,\n 4,\n 4,\n 4,\n 4,\n 4,\n 4,\n 4,\n 4,\n 4,\n 4,\n 4,\n 4,\n 4,\n 4,\n 4,\n 4,\n 4,\n 4,\n 4,\n 4,\n 4,\n 4,\n 4,\n 4,\n 4,\n 4,\n 4,\n 4,\n 4,\n 4,\n 4,\n 4,\n 4,\n 4,\n 4,\n 4,\n 4,\n 4,\n 4,\n 4,\n 4,\n 4,\n 4,\n 4,\n 4,\n 4,\n 4,\n 4,\n 4,\n 4,\n 4,\n 4,\n 4,\n 4,\n 4,\n 4,\n 4,\n 4,\n 4,\n 4,\n 4,\n 4,\n 5,\n 5,\n 5,\n 5,\n 5,\n 5,\n 5,\n 5,\n 5,\n 5,\n 5,\n 5,\n 5,\n 5,\n 5,\n 5,\n 5,\n 5,\n 5,\n 5,\n 5,\n 5,\n 5,\n 5,\n 5,\n 5,\n 5,\n 5,\n 5,\n 5,\n 5,\n 5,\n 5,\n 5,\n 5,\n 5,\n 5,\n 5,\n 5,\n 5,\n 5,\n 5,\n 5,\n 5,\n 5,\n 5,\n 5,\n 5,\n 5,\n 5,\n 5,\n 5,\n 5,\n 5,\n 5,\n 5,\n 5,\n 5,\n 5,\n 5,\n 5,\n 5,\n 5,\n 5,\n 5,\n 5,\n 5,\n 5,\n 5,\n 5,\n 5,\n 5,\n 5,\n 5,\n 5,\n 5,\n 5,\n 5,\n 5,\n 5,\n 5,\n 5,\n 5,\n 5,\n 5,\n 5,\n 5,\n 5,\n 5,\n 5,\n 5,\n 5,\n 5,\n 5,\n 5,\n 5,\n 5,\n 5,\n 5,\n 5,\n 6,\n 6,\n 6,\n 6,\n 6,\n 6,\n 6,\n 6,\n 6,\n 6,\n 6,\n 6,\n 6,\n 6,\n 6,\n 6,\n 6,\n 6,\n 6,\n 6,\n 6,\n 6,\n 6,\n 6,\n 6,\n 6,\n 6,\n 6,\n 6,\n 6,\n 6,\n 6,\n 6,\n 6,\n 6,\n 6,\n 6,\n 6,\n 6,\n 6,\n 6,\n 6,\n 6,\n 6,\n 6,\n 6,\n 6,\n 6,\n 6,\n 6,\n 6,\n 6,\n 6,\n 6,\n 6,\n 6,\n 6,\n 6,\n 6,\n 6,\n 6,\n 6,\n 6,\n 6,\n 6,\n 6,\n 6,\n 6,\n 6,\n 6,\n 6,\n 6,\n 6,\n 6,\n 6,\n 6,\n 6,\n 6,\n 6,\n 6,\n 6,\n 6,\n 6,\n 6,\n 6,\n 6,\n 6,\n 6,\n 6,\n 6,\n 6,\n 6,\n 6,\n 6,\n 6,\n 6,\n 6,\n 6,\n 6,\n 6,\n 7,\n 7,\n 7,\n 7,\n 7,\n 7,\n 7,\n 7,\n 7,\n 7,\n 7,\n 7,\n 7,\n 7,\n 7,\n 7,\n 7,\n 7,\n 7,\n 7,\n 7,\n 7,\n 7,\n 7,\n 7,\n 7,\n 7,\n 7,\n 7,\n 7,\n 7,\n 7,\n 7,\n 7,\n 7,\n 7,\n 7,\n 7,\n 7,\n 7,\n 7,\n 7,\n 7,\n 7,\n 7,\n 7,\n 7,\n 7,\n 7,\n 7,\n 7,\n 7,\n 7,\n 7,\n 7,\n 7,\n 7,\n 7,\n 7,\n 7,\n 7,\n 7,\n 7,\n 7,\n 7,\n 7,\n 7,\n 7,\n 7,\n 7,\n 7,\n 7,\n 7,\n 7,\n 7,\n 7,\n 7,\n 7,\n 7,\n 7,\n 7,\n 7,\n 7,\n 7,\n 7,\n 7,\n 7,\n 7,\n 7,\n 7,\n 7,\n 7,\n 7,\n 7,\n 7,\n 7,\n 7,\n 7,\n 7,\n 7,\n 8,\n 8,\n 8,\n 8,\n 8,\n 8,\n 8,\n 8,\n 8,\n 8,\n 8,\n 8,\n 8,\n 8,\n 8,\n 8,\n 8,\n 8,\n 8,\n 8,\n 8,\n 8,\n 8,\n 8,\n 8,\n 8,\n 8,\n 8,\n 8,\n 8,\n 8,\n 8,\n 8,\n 8,\n 8,\n 8,\n 8,\n 8,\n 8,\n 8,\n 8,\n 8,\n 8,\n 8,\n 8,\n 8,\n 8,\n 8,\n 8,\n 8,\n 8,\n 8,\n 8,\n 8,\n 8,\n 8,\n 8,\n 8,\n 8,\n 8,\n 8,\n 8,\n 8,\n 8,\n 8,\n 8,\n 8,\n 8,\n 8,\n 8,\n 8,\n 8,\n 8,\n 8,\n 8,\n 8,\n 8,\n 8,\n 8,\n 8,\n 8,\n 8,\n 8,\n 8,\n 8,\n 8,\n 8,\n 8,\n 8,\n 8,\n 8,\n 8,\n 8,\n 8,\n 8,\n 8,\n 8,\n 8,\n 8,\n 8,\n 9,\n 9,\n 9,\n 9,\n 9,\n 9,\n 9,\n 9,\n 9,\n 9,\n 9,\n 9,\n 9,\n 9,\n 9,\n 9,\n 9,\n 9,\n 9,\n 9,\n 9,\n 9,\n 9,\n 9,\n 9,\n 9,\n 9,\n 9,\n 9,\n 9,\n 9,\n 9,\n 9,\n 9,\n 9,\n 9,\n 9,\n 9,\n 9,\n 9,\n 9,\n 9,\n 9,\n 9,\n 9,\n 9,\n 9,\n 9,\n 9,\n 9,\n 9,\n 9,\n 9,\n 9,\n 9,\n 9,\n 9,\n 9,\n 9,\n 9,\n 9,\n 9,\n 9,\n 9,\n 9,\n 9,\n 9,\n 9,\n 9,\n 9,\n 9,\n 9,\n 9,\n 9,\n 9,\n 9,\n 9,\n 9,\n 9,\n 9,\n 9,\n 9,\n 9,\n 9,\n 9,\n 9,\n 9,\n 9,\n 9,\n 9,\n 9,\n 9,\n 9,\n 9,\n 9,\n 9,\n 9,\n 9,\n 9,\n 9,\n ...]"
     },
     "execution_count": 12,
     "metadata": {},
     "output_type": "execute_result"
    }
   ],
   "source": [
    "labels"
   ],
   "metadata": {
    "collapsed": false,
    "ExecuteTime": {
     "end_time": "2024-05-27T21:56:22.952309700Z",
     "start_time": "2024-05-27T21:56:22.849034300Z"
    }
   },
   "id": "1702792245d1bdd"
  },
  {
   "cell_type": "code",
   "execution_count": 13,
   "outputs": [],
   "source": [
    "X = np.array(sequences)"
   ],
   "metadata": {
    "collapsed": false,
    "ExecuteTime": {
     "end_time": "2024-05-27T21:56:23.443508Z",
     "start_time": "2024-05-27T21:56:22.895686Z"
    }
   },
   "id": "9ffadaf6d87150fd"
  },
  {
   "cell_type": "code",
   "execution_count": 14,
   "outputs": [
    {
     "data": {
      "text/plain": "(2300, 30, 1662)"
     },
     "execution_count": 14,
     "metadata": {},
     "output_type": "execute_result"
    }
   ],
   "source": [
    "X.shape"
   ],
   "metadata": {
    "collapsed": false,
    "ExecuteTime": {
     "end_time": "2024-05-27T21:56:23.469127600Z",
     "start_time": "2024-05-27T21:56:23.444510700Z"
    }
   },
   "id": "99fcac35002f88fc"
  },
  {
   "cell_type": "code",
   "execution_count": 15,
   "outputs": [],
   "source": [
    "y = to_categorical(labels).astype(int)"
   ],
   "metadata": {
    "collapsed": false,
    "ExecuteTime": {
     "end_time": "2024-05-27T21:56:23.557364200Z",
     "start_time": "2024-05-27T21:56:23.464319Z"
    }
   },
   "id": "6e8c937049e38080"
  },
  {
   "cell_type": "code",
   "execution_count": 16,
   "outputs": [
    {
     "data": {
      "text/plain": "array([[1, 0, 0, ..., 0, 0, 0],\n       [1, 0, 0, ..., 0, 0, 0],\n       [1, 0, 0, ..., 0, 0, 0],\n       ...,\n       [0, 0, 0, ..., 0, 0, 1],\n       [0, 0, 0, ..., 0, 0, 1],\n       [0, 0, 0, ..., 0, 0, 1]])"
     },
     "execution_count": 16,
     "metadata": {},
     "output_type": "execute_result"
    }
   ],
   "source": [
    "y"
   ],
   "metadata": {
    "collapsed": false,
    "ExecuteTime": {
     "end_time": "2024-05-27T21:56:23.586539900Z",
     "start_time": "2024-05-27T21:56:23.490216100Z"
    }
   },
   "id": "f02a1aa39995e859"
  },
  {
   "cell_type": "code",
   "execution_count": 17,
   "outputs": [],
   "source": [
    "X_train, X_test, y_train, y_test = train_test_split(X, y, test_size=0.05)"
   ],
   "metadata": {
    "collapsed": false,
    "ExecuteTime": {
     "end_time": "2024-05-27T21:56:24.094196400Z",
     "start_time": "2024-05-27T21:56:23.506674Z"
    }
   },
   "id": "1d8011c3059222b5"
  },
  {
   "cell_type": "code",
   "execution_count": 18,
   "outputs": [
    {
     "data": {
      "text/plain": "(115, 23)"
     },
     "execution_count": 18,
     "metadata": {},
     "output_type": "execute_result"
    }
   ],
   "source": [
    "y_test.shape"
   ],
   "metadata": {
    "collapsed": false,
    "ExecuteTime": {
     "end_time": "2024-05-27T21:56:24.119835400Z",
     "start_time": "2024-05-27T21:56:24.100201500Z"
    }
   },
   "id": "1b2a47ec97f89485"
  },
  {
   "cell_type": "markdown",
   "source": [
    "### Build and Train LSTM Natural Network"
   ],
   "metadata": {
    "collapsed": false
   },
   "id": "205e0a7e3b67012d"
  },
  {
   "cell_type": "code",
   "execution_count": 19,
   "outputs": [],
   "source": [
    "from tensorflow.keras.models import Sequential\n",
    "from tensorflow.keras.layers import LSTM, Dense\n",
    "from tensorflow.keras.callbacks import TensorBoard\n",
    "from tensorflow.keras.callbacks import EarlyStopping\n",
    "from tensorflow.keras.callbacks import ModelCheckpoint\n",
    "from tensorflow.keras.layers import LSTM, Dense, Dropout, BatchNormalization\n",
    "from tensorflow.keras.regularizers import l2"
   ],
   "metadata": {
    "collapsed": false,
    "ExecuteTime": {
     "end_time": "2024-05-27T21:56:24.200306500Z",
     "start_time": "2024-05-27T21:56:24.118838200Z"
    }
   },
   "id": "4474996a74b1bf70"
  },
  {
   "cell_type": "code",
   "execution_count": 20,
   "outputs": [],
   "source": [
    "log_dir = os.path.join('Logs')\n",
    "tb_callback = TensorBoard(log_dir=log_dir)"
   ],
   "metadata": {
    "collapsed": false,
    "ExecuteTime": {
     "end_time": "2024-05-27T21:56:24.218610800Z",
     "start_time": "2024-05-27T21:56:24.173287100Z"
    }
   },
   "id": "da59f90b489813bd"
  },
  {
   "cell_type": "code",
   "execution_count": 21,
   "outputs": [
    {
     "name": "stdout",
     "output_type": "stream",
     "text": [
      "23\n"
     ]
    }
   ],
   "source": [
    "np_actions = np.array(list(gg.actions))\n",
    "print(np_actions.shape[0])\n",
    "model = Sequential()\n",
    "model.add(LSTM(64, return_sequences=True, activation='tanh', input_shape=(30, 1662)))\n",
    "model.add(Dropout(0.2))\n",
    "model.add(LSTM(128, return_sequences=True, activation='tanh'))\n",
    "model.add(Dropout(0.2))\n",
    "model.add(LSTM(64, return_sequences=False, activation='tanh'))\n",
    "model.add(BatchNormalization())\n",
    "model.add(Dense(64, activation='relu', kernel_regularizer=l2(0.01)))\n",
    "model.add(Dropout(0.5))\n",
    "model.add(Dense(32, activation='relu', kernel_regularizer=l2(0.01)))\n",
    "model.add(Dropout(0.5))\n",
    "model.add(Dense(np_actions.shape[0], activation='softmax'))"
   ],
   "metadata": {
    "collapsed": false,
    "ExecuteTime": {
     "end_time": "2024-05-27T21:56:25.944674100Z",
     "start_time": "2024-05-27T21:56:24.204572700Z"
    }
   },
   "id": "5f4554201e7ac0cc"
  },
  {
   "cell_type": "code",
   "execution_count": 22,
   "outputs": [
    {
     "name": "stdout",
     "output_type": "stream",
     "text": [
      "5\n"
     ]
    }
   ],
   "source": [
    "np_actions = np.array(list(gg.actions))\n",
    "print(np_actions.shape[0])\n",
    "model = Sequential()\n",
    "model.add(LSTM(64, return_sequences=True, activation='relu', input_shape=(30,1662)))\n",
    "model.add(LSTM(128, return_sequences=True, activation='relu'))\n",
    "model.add(LSTM(64, return_sequences=False, activation='relu'))\n",
    "model.add(Dense(64, activation='relu'))\n",
    "model.add(Dense(32, activation='relu'))\n",
    "model.add(Dense(np_actions.shape[0], activation='softmax'))"
   ],
   "metadata": {
    "collapsed": false,
    "ExecuteTime": {
     "end_time": "2024-05-22T21:22:00.291143500Z",
     "start_time": "2024-05-22T21:21:59.699492900Z"
    }
   },
   "id": "442c822b87caafee"
  },
  {
   "cell_type": "code",
   "execution_count": 22,
   "outputs": [],
   "source": [
    "res = [.7, 0.2, 0.1]"
   ],
   "metadata": {
    "collapsed": false,
    "ExecuteTime": {
     "end_time": "2024-05-27T21:56:25.968976400Z",
     "start_time": "2024-05-27T21:56:25.952682900Z"
    }
   },
   "id": "c18286f3128e5281"
  },
  {
   "cell_type": "code",
   "execution_count": 23,
   "outputs": [
    {
     "data": {
      "text/plain": "'b'"
     },
     "execution_count": 23,
     "metadata": {},
     "output_type": "execute_result"
    }
   ],
   "source": [
    "np_actions[np.argmax(res)]"
   ],
   "metadata": {
    "collapsed": false,
    "ExecuteTime": {
     "end_time": "2024-05-27T21:56:26.061752200Z",
     "start_time": "2024-05-27T21:56:25.964864600Z"
    }
   },
   "id": "379931df55d27429"
  },
  {
   "cell_type": "code",
   "execution_count": 24,
   "outputs": [],
   "source": [
    "model.compile(optimizer='Adam', loss='categorical_crossentropy', metrics=['categorical_accuracy'])"
   ],
   "metadata": {
    "collapsed": false,
    "ExecuteTime": {
     "end_time": "2024-05-27T21:56:26.063343Z",
     "start_time": "2024-05-27T21:56:25.988416700Z"
    }
   },
   "id": "a95bc5d05d55f9bf"
  },
  {
   "cell_type": "code",
   "execution_count": 25,
   "outputs": [],
   "source": [
    "early_stopping = EarlyStopping(monitor='loss', patience=100, restore_best_weights=True)"
   ],
   "metadata": {
    "collapsed": false,
    "ExecuteTime": {
     "end_time": "2024-05-27T21:56:26.065309600Z",
     "start_time": "2024-05-27T21:56:26.022927700Z"
    }
   },
   "id": "bb5e778679726a95"
  },
  {
   "cell_type": "code",
   "execution_count": 26,
   "outputs": [],
   "source": [
    "best_model_path = os.path.join(cs.MODELS_FOLDER, 'best_model.h5') \n",
    "checkpoint = ModelCheckpoint(best_model_path, monitor='loss', save_best_only=True)"
   ],
   "metadata": {
    "collapsed": false,
    "ExecuteTime": {
     "end_time": "2024-05-27T21:56:26.065816600Z",
     "start_time": "2024-05-27T21:56:26.033488400Z"
    }
   },
   "id": "49fe1e7958dd6fe0"
  },
  {
   "cell_type": "code",
   "execution_count": 27,
   "outputs": [
    {
     "name": "stdout",
     "output_type": "stream",
     "text": [
      "Epoch 1/3000\n",
      "69/69 [==============================] - 28s 181ms/step - loss: 4.2419 - categorical_accuracy: 0.0426\n"
     ]
    },
    {
     "name": "stderr",
     "output_type": "stream",
     "text": [
      "C:\\Users\\Paolo\\AppData\\Roaming\\Python\\Python311\\site-packages\\keras\\src\\engine\\training.py:3000: UserWarning: You are saving your model as an HDF5 file via `model.save()`. This file format is considered legacy. We recommend using instead the native Keras format, e.g. `model.save('my_model.keras')`.\n",
      "  saving_api.save_model(\n"
     ]
    },
    {
     "name": "stdout",
     "output_type": "stream",
     "text": [
      "Epoch 2/3000\n",
      "69/69 [==============================] - 13s 185ms/step - loss: 3.9317 - categorical_accuracy: 0.0572\n",
      "Epoch 3/3000\n",
      "69/69 [==============================] - 12s 175ms/step - loss: 3.7065 - categorical_accuracy: 0.0723\n",
      "Epoch 4/3000\n",
      "69/69 [==============================] - 12s 168ms/step - loss: 3.5248 - categorical_accuracy: 0.0874\n",
      "Epoch 5/3000\n",
      "69/69 [==============================] - 12s 170ms/step - loss: 3.3696 - categorical_accuracy: 0.0906\n",
      "Epoch 6/3000\n",
      "69/69 [==============================] - 12s 176ms/step - loss: 3.2224 - categorical_accuracy: 0.1043\n",
      "Epoch 7/3000\n",
      "69/69 [==============================] - 13s 192ms/step - loss: 3.0962 - categorical_accuracy: 0.1162\n",
      "Epoch 8/3000\n",
      "69/69 [==============================] - 13s 187ms/step - loss: 2.9945 - categorical_accuracy: 0.1236\n",
      "Epoch 9/3000\n",
      "69/69 [==============================] - 13s 187ms/step - loss: 2.8920 - categorical_accuracy: 0.1263\n",
      "Epoch 10/3000\n",
      "69/69 [==============================] - 13s 186ms/step - loss: 2.8300 - categorical_accuracy: 0.1387\n",
      "Epoch 11/3000\n",
      "69/69 [==============================] - 12s 181ms/step - loss: 2.7266 - categorical_accuracy: 0.1414\n",
      "Epoch 12/3000\n",
      "69/69 [==============================] - 13s 188ms/step - loss: 2.7097 - categorical_accuracy: 0.1332\n",
      "Epoch 13/3000\n",
      "69/69 [==============================] - 12s 180ms/step - loss: 2.6270 - categorical_accuracy: 0.1551\n",
      "Epoch 14/3000\n",
      "69/69 [==============================] - 12s 180ms/step - loss: 2.5913 - categorical_accuracy: 0.1547\n",
      "Epoch 15/3000\n",
      "69/69 [==============================] - 13s 188ms/step - loss: 2.5540 - categorical_accuracy: 0.1597\n",
      "Epoch 16/3000\n",
      "69/69 [==============================] - 14s 195ms/step - loss: 2.5588 - categorical_accuracy: 0.1721\n",
      "Epoch 17/3000\n",
      "69/69 [==============================] - 13s 186ms/step - loss: 2.5171 - categorical_accuracy: 0.1757\n",
      "Epoch 18/3000\n",
      "69/69 [==============================] - 13s 195ms/step - loss: 2.4311 - categorical_accuracy: 0.1817\n",
      "Epoch 19/3000\n",
      "69/69 [==============================] - 13s 196ms/step - loss: 2.4259 - categorical_accuracy: 0.1822\n",
      "Epoch 20/3000\n",
      "69/69 [==============================] - 14s 204ms/step - loss: 2.4071 - categorical_accuracy: 0.1991\n",
      "Epoch 21/3000\n",
      "69/69 [==============================] - 15s 218ms/step - loss: 2.3443 - categorical_accuracy: 0.2096\n",
      "Epoch 22/3000\n",
      "69/69 [==============================] - 14s 197ms/step - loss: 2.3511 - categorical_accuracy: 0.2046\n",
      "Epoch 23/3000\n",
      "69/69 [==============================] - 13s 191ms/step - loss: 2.2766 - categorical_accuracy: 0.2156\n",
      "Epoch 24/3000\n",
      "69/69 [==============================] - 14s 203ms/step - loss: 2.2828 - categorical_accuracy: 0.2270\n",
      "Epoch 25/3000\n",
      "69/69 [==============================] - 14s 196ms/step - loss: 2.2445 - categorical_accuracy: 0.2302\n",
      "Epoch 26/3000\n",
      "69/69 [==============================] - 14s 196ms/step - loss: 2.2601 - categorical_accuracy: 0.2288\n",
      "Epoch 27/3000\n",
      "69/69 [==============================] - 13s 192ms/step - loss: 2.2105 - categorical_accuracy: 0.2398\n",
      "Epoch 28/3000\n",
      "69/69 [==============================] - 13s 192ms/step - loss: 2.2299 - categorical_accuracy: 0.2325\n",
      "Epoch 29/3000\n",
      "69/69 [==============================] - 14s 200ms/step - loss: 2.1770 - categorical_accuracy: 0.2416\n",
      "Epoch 30/3000\n",
      "69/69 [==============================] - 14s 199ms/step - loss: 2.1727 - categorical_accuracy: 0.2348\n",
      "Epoch 31/3000\n",
      "69/69 [==============================] - 13s 191ms/step - loss: 2.1787 - categorical_accuracy: 0.2549\n",
      "Epoch 32/3000\n",
      "69/69 [==============================] - 14s 199ms/step - loss: 2.1478 - categorical_accuracy: 0.2558\n",
      "Epoch 33/3000\n",
      "69/69 [==============================] - 14s 202ms/step - loss: 2.1426 - categorical_accuracy: 0.2632\n",
      "Epoch 34/3000\n",
      "69/69 [==============================] - 13s 195ms/step - loss: 2.1190 - categorical_accuracy: 0.2590\n",
      "Epoch 35/3000\n",
      "69/69 [==============================] - 13s 192ms/step - loss: 2.1756 - categorical_accuracy: 0.2535\n",
      "Epoch 36/3000\n",
      "69/69 [==============================] - 13s 195ms/step - loss: 2.0827 - categorical_accuracy: 0.2796\n",
      "Epoch 37/3000\n",
      "69/69 [==============================] - 14s 199ms/step - loss: 2.0826 - categorical_accuracy: 0.2755\n",
      "Epoch 38/3000\n",
      "69/69 [==============================] - 14s 201ms/step - loss: 2.0784 - categorical_accuracy: 0.2783\n",
      "Epoch 39/3000\n",
      "69/69 [==============================] - 13s 185ms/step - loss: 2.0578 - categorical_accuracy: 0.2819\n",
      "Epoch 40/3000\n",
      "69/69 [==============================] - 13s 194ms/step - loss: 2.1374 - categorical_accuracy: 0.2810\n",
      "Epoch 41/3000\n",
      "69/69 [==============================] - 14s 199ms/step - loss: 2.0172 - categorical_accuracy: 0.2947\n",
      "Epoch 42/3000\n",
      "69/69 [==============================] - 14s 198ms/step - loss: 2.0233 - categorical_accuracy: 0.3021\n",
      "Epoch 43/3000\n",
      "69/69 [==============================] - 13s 190ms/step - loss: 2.0119 - categorical_accuracy: 0.3076\n",
      "Epoch 44/3000\n",
      "69/69 [==============================] - 14s 200ms/step - loss: 1.9327 - categorical_accuracy: 0.3245\n",
      "Epoch 45/3000\n",
      "69/69 [==============================] - 13s 187ms/step - loss: 1.9321 - categorical_accuracy: 0.3217\n",
      "Epoch 46/3000\n",
      "69/69 [==============================] - 14s 195ms/step - loss: 1.9425 - categorical_accuracy: 0.3336\n",
      "Epoch 47/3000\n",
      "69/69 [==============================] - 14s 199ms/step - loss: 2.0491 - categorical_accuracy: 0.3085\n",
      "Epoch 48/3000\n",
      "69/69 [==============================] - 13s 188ms/step - loss: 1.9854 - categorical_accuracy: 0.3208\n",
      "Epoch 49/3000\n",
      "69/69 [==============================] - 14s 198ms/step - loss: 1.8749 - categorical_accuracy: 0.3474\n",
      "Epoch 50/3000\n",
      "69/69 [==============================] - 13s 192ms/step - loss: 1.9592 - categorical_accuracy: 0.3208\n",
      "Epoch 51/3000\n",
      "69/69 [==============================] - 13s 195ms/step - loss: 1.9214 - categorical_accuracy: 0.3240\n",
      "Epoch 52/3000\n",
      "69/69 [==============================] - 14s 205ms/step - loss: 1.8597 - categorical_accuracy: 0.3556\n",
      "Epoch 53/3000\n",
      "69/69 [==============================] - 13s 194ms/step - loss: 1.9212 - categorical_accuracy: 0.3268\n",
      "Epoch 54/3000\n",
      "69/69 [==============================] - 13s 193ms/step - loss: 1.8751 - categorical_accuracy: 0.3432\n",
      "Epoch 55/3000\n",
      "69/69 [==============================] - 14s 196ms/step - loss: 1.8280 - categorical_accuracy: 0.3588\n",
      "Epoch 56/3000\n",
      "69/69 [==============================] - 14s 201ms/step - loss: 1.9443 - categorical_accuracy: 0.3172\n",
      "Epoch 57/3000\n",
      "69/69 [==============================] - 13s 194ms/step - loss: 1.8599 - categorical_accuracy: 0.3556\n",
      "Epoch 58/3000\n",
      "69/69 [==============================] - 13s 186ms/step - loss: 1.8104 - categorical_accuracy: 0.3817\n",
      "Epoch 59/3000\n",
      "69/69 [==============================] - 14s 200ms/step - loss: 1.7848 - categorical_accuracy: 0.3789\n",
      "Epoch 60/3000\n",
      "69/69 [==============================] - 13s 195ms/step - loss: 1.7928 - categorical_accuracy: 0.3757\n",
      "Epoch 61/3000\n",
      "69/69 [==============================] - 14s 201ms/step - loss: 1.8511 - categorical_accuracy: 0.3657\n",
      "Epoch 62/3000\n",
      "69/69 [==============================] - 14s 202ms/step - loss: 1.7472 - categorical_accuracy: 0.4005\n",
      "Epoch 63/3000\n",
      "69/69 [==============================] - 13s 189ms/step - loss: 1.8347 - categorical_accuracy: 0.3666\n",
      "Epoch 64/3000\n",
      "69/69 [==============================] - 14s 202ms/step - loss: 1.7497 - categorical_accuracy: 0.3959\n",
      "Epoch 65/3000\n",
      "69/69 [==============================] - 14s 199ms/step - loss: 1.7075 - categorical_accuracy: 0.3963\n",
      "Epoch 66/3000\n",
      "69/69 [==============================] - 13s 193ms/step - loss: 1.8229 - categorical_accuracy: 0.3881\n",
      "Epoch 67/3000\n",
      "69/69 [==============================] - 14s 198ms/step - loss: 1.7340 - categorical_accuracy: 0.3995\n",
      "Epoch 68/3000\n",
      "69/69 [==============================] - 13s 190ms/step - loss: 1.6900 - categorical_accuracy: 0.4261\n",
      "Epoch 69/3000\n",
      "69/69 [==============================] - 13s 191ms/step - loss: 1.7701 - categorical_accuracy: 0.3968\n",
      "Epoch 70/3000\n",
      "69/69 [==============================] - 13s 189ms/step - loss: 1.7587 - categorical_accuracy: 0.3918\n",
      "Epoch 71/3000\n",
      "69/69 [==============================] - 13s 184ms/step - loss: 1.7618 - categorical_accuracy: 0.3945\n",
      "Epoch 72/3000\n",
      "69/69 [==============================] - 13s 195ms/step - loss: 1.7698 - categorical_accuracy: 0.4009\n",
      "Epoch 73/3000\n",
      "69/69 [==============================] - 14s 199ms/step - loss: 1.7097 - categorical_accuracy: 0.4146\n",
      "Epoch 74/3000\n",
      "69/69 [==============================] - 14s 204ms/step - loss: 1.6909 - categorical_accuracy: 0.4128\n",
      "Epoch 75/3000\n",
      "69/69 [==============================] - 14s 200ms/step - loss: 1.6814 - categorical_accuracy: 0.4229\n",
      "Epoch 76/3000\n",
      "69/69 [==============================] - 13s 185ms/step - loss: 1.6910 - categorical_accuracy: 0.4188\n",
      "Epoch 77/3000\n",
      "69/69 [==============================] - 14s 198ms/step - loss: 1.6492 - categorical_accuracy: 0.4224\n",
      "Epoch 78/3000\n",
      "69/69 [==============================] - 14s 197ms/step - loss: 1.6985 - categorical_accuracy: 0.4380\n",
      "Epoch 79/3000\n",
      "69/69 [==============================] - 13s 193ms/step - loss: 1.6206 - categorical_accuracy: 0.4407\n",
      "Epoch 80/3000\n",
      "69/69 [==============================] - 14s 198ms/step - loss: 1.6004 - categorical_accuracy: 0.4426\n",
      "Epoch 81/3000\n",
      "69/69 [==============================] - 13s 188ms/step - loss: 1.7138 - categorical_accuracy: 0.4037\n",
      "Epoch 82/3000\n",
      "69/69 [==============================] - 14s 197ms/step - loss: 1.8635 - categorical_accuracy: 0.3693\n",
      "Epoch 83/3000\n",
      "69/69 [==============================] - 13s 193ms/step - loss: 1.6571 - categorical_accuracy: 0.4220\n",
      "Epoch 84/3000\n",
      "69/69 [==============================] - 13s 193ms/step - loss: 1.6193 - categorical_accuracy: 0.4531\n",
      "Epoch 85/3000\n",
      "69/69 [==============================] - 14s 199ms/step - loss: 1.6264 - categorical_accuracy: 0.4481\n",
      "Epoch 86/3000\n",
      "69/69 [==============================] - 13s 195ms/step - loss: 1.5751 - categorical_accuracy: 0.4558\n",
      "Epoch 87/3000\n",
      "69/69 [==============================] - 14s 196ms/step - loss: 1.5216 - categorical_accuracy: 0.4805\n",
      "Epoch 88/3000\n",
      "69/69 [==============================] - 13s 188ms/step - loss: 1.6253 - categorical_accuracy: 0.4490\n",
      "Epoch 89/3000\n",
      "69/69 [==============================] - 13s 193ms/step - loss: 1.6634 - categorical_accuracy: 0.4609\n",
      "Epoch 90/3000\n",
      "69/69 [==============================] - 13s 187ms/step - loss: 1.4777 - categorical_accuracy: 0.4856\n",
      "Epoch 91/3000\n",
      "69/69 [==============================] - 13s 190ms/step - loss: 1.5351 - categorical_accuracy: 0.4737\n",
      "Epoch 92/3000\n",
      "69/69 [==============================] - 13s 193ms/step - loss: 1.5565 - categorical_accuracy: 0.4705\n",
      "Epoch 93/3000\n",
      "69/69 [==============================] - 13s 193ms/step - loss: 1.5216 - categorical_accuracy: 0.4796\n",
      "Epoch 94/3000\n",
      "69/69 [==============================] - 13s 194ms/step - loss: 1.4685 - categorical_accuracy: 0.5011\n",
      "Epoch 95/3000\n",
      "69/69 [==============================] - 13s 185ms/step - loss: 1.5221 - categorical_accuracy: 0.4824\n",
      "Epoch 96/3000\n",
      "69/69 [==============================] - 14s 198ms/step - loss: 1.4729 - categorical_accuracy: 0.5002\n",
      "Epoch 97/3000\n",
      "69/69 [==============================] - 13s 188ms/step - loss: 1.5726 - categorical_accuracy: 0.4815\n",
      "Epoch 98/3000\n",
      "69/69 [==============================] - 13s 189ms/step - loss: 1.4727 - categorical_accuracy: 0.5140\n",
      "Epoch 99/3000\n",
      "69/69 [==============================] - 13s 189ms/step - loss: 1.6090 - categorical_accuracy: 0.4540\n",
      "Epoch 100/3000\n",
      "69/69 [==============================] - 13s 191ms/step - loss: 1.5845 - categorical_accuracy: 0.4741\n",
      "Epoch 101/3000\n",
      "69/69 [==============================] - 13s 191ms/step - loss: 1.5044 - categorical_accuracy: 0.4810\n",
      "Epoch 102/3000\n",
      "69/69 [==============================] - 13s 193ms/step - loss: 1.4170 - categorical_accuracy: 0.5135\n",
      "Epoch 103/3000\n",
      "69/69 [==============================] - 14s 197ms/step - loss: 1.5272 - categorical_accuracy: 0.4879\n",
      "Epoch 104/3000\n",
      "69/69 [==============================] - 13s 185ms/step - loss: 1.5651 - categorical_accuracy: 0.4755\n",
      "Epoch 105/3000\n",
      "69/69 [==============================] - 13s 191ms/step - loss: 1.4538 - categorical_accuracy: 0.5066\n",
      "Epoch 106/3000\n",
      "69/69 [==============================] - 13s 186ms/step - loss: 1.4035 - categorical_accuracy: 0.5446\n",
      "Epoch 107/3000\n",
      "69/69 [==============================] - 13s 192ms/step - loss: 1.3383 - categorical_accuracy: 0.5387\n",
      "Epoch 108/3000\n",
      "69/69 [==============================] - 13s 192ms/step - loss: 1.4048 - categorical_accuracy: 0.5336\n",
      "Epoch 109/3000\n",
      "69/69 [==============================] - 13s 190ms/step - loss: 1.8111 - categorical_accuracy: 0.4302\n",
      "Epoch 110/3000\n",
      "69/69 [==============================] - 13s 182ms/step - loss: 1.5575 - categorical_accuracy: 0.4865\n",
      "Epoch 111/3000\n",
      "69/69 [==============================] - 13s 193ms/step - loss: 1.3751 - categorical_accuracy: 0.5364\n",
      "Epoch 112/3000\n",
      "69/69 [==============================] - 13s 194ms/step - loss: 1.4486 - categorical_accuracy: 0.5245\n",
      "Epoch 113/3000\n",
      "69/69 [==============================] - 14s 197ms/step - loss: 1.4754 - categorical_accuracy: 0.5126\n",
      "Epoch 114/3000\n",
      "69/69 [==============================] - 13s 186ms/step - loss: 1.4229 - categorical_accuracy: 0.5281\n",
      "Epoch 115/3000\n",
      "69/69 [==============================] - 13s 184ms/step - loss: 1.3744 - categorical_accuracy: 0.5350\n",
      "Epoch 116/3000\n",
      "69/69 [==============================] - 13s 187ms/step - loss: 1.4347 - categorical_accuracy: 0.5176\n",
      "Epoch 117/3000\n",
      "69/69 [==============================] - 12s 180ms/step - loss: 1.3610 - categorical_accuracy: 0.5368\n",
      "Epoch 118/3000\n",
      "69/69 [==============================] - 13s 183ms/step - loss: 1.3777 - categorical_accuracy: 0.5391\n",
      "Epoch 119/3000\n",
      "69/69 [==============================] - 13s 192ms/step - loss: 1.4057 - categorical_accuracy: 0.5208\n",
      "Epoch 120/3000\n",
      "69/69 [==============================] - 14s 201ms/step - loss: 1.6149 - categorical_accuracy: 0.4943\n",
      "Epoch 121/3000\n",
      "69/69 [==============================] - 13s 194ms/step - loss: 1.4759 - categorical_accuracy: 0.5103\n",
      "Epoch 122/3000\n",
      "69/69 [==============================] - 14s 206ms/step - loss: 1.3636 - categorical_accuracy: 0.5597\n",
      "Epoch 123/3000\n",
      "69/69 [==============================] - 14s 201ms/step - loss: 1.3487 - categorical_accuracy: 0.5460\n",
      "Epoch 124/3000\n",
      "69/69 [==============================] - 13s 189ms/step - loss: 1.3755 - categorical_accuracy: 0.5625\n",
      "Epoch 125/3000\n",
      "69/69 [==============================] - 13s 191ms/step - loss: 1.4435 - categorical_accuracy: 0.5300\n",
      "Epoch 126/3000\n",
      "69/69 [==============================] - 13s 192ms/step - loss: 1.3187 - categorical_accuracy: 0.5712\n",
      "Epoch 127/3000\n",
      "69/69 [==============================] - 13s 188ms/step - loss: 1.3100 - categorical_accuracy: 0.5748\n",
      "Epoch 128/3000\n",
      "69/69 [==============================] - 15s 225ms/step - loss: 1.5494 - categorical_accuracy: 0.4952\n",
      "Epoch 129/3000\n",
      "69/69 [==============================] - 13s 193ms/step - loss: 1.3392 - categorical_accuracy: 0.5497\n",
      "Epoch 130/3000\n",
      "69/69 [==============================] - 14s 204ms/step - loss: 1.4119 - categorical_accuracy: 0.5391\n",
      "Epoch 131/3000\n",
      "69/69 [==============================] - 14s 203ms/step - loss: 1.2464 - categorical_accuracy: 0.6014\n",
      "Epoch 132/3000\n",
      "69/69 [==============================] - 14s 204ms/step - loss: 1.4323 - categorical_accuracy: 0.5625\n",
      "Epoch 133/3000\n",
      "69/69 [==============================] - 14s 206ms/step - loss: 1.2711 - categorical_accuracy: 0.5886\n",
      "Epoch 134/3000\n",
      "69/69 [==============================] - 14s 200ms/step - loss: 1.5366 - categorical_accuracy: 0.5213\n",
      "Epoch 135/3000\n",
      "69/69 [==============================] - 14s 196ms/step - loss: 1.4435 - categorical_accuracy: 0.5332\n",
      "Epoch 136/3000\n",
      "69/69 [==============================] - 13s 193ms/step - loss: 1.2997 - categorical_accuracy: 0.5735\n",
      "Epoch 137/3000\n",
      "69/69 [==============================] - 14s 201ms/step - loss: 1.3097 - categorical_accuracy: 0.5670\n",
      "Epoch 138/3000\n",
      "69/69 [==============================] - 14s 196ms/step - loss: 1.3472 - categorical_accuracy: 0.5515\n",
      "Epoch 139/3000\n",
      "69/69 [==============================] - 13s 189ms/step - loss: 1.3222 - categorical_accuracy: 0.5693\n",
      "Epoch 140/3000\n",
      "69/69 [==============================] - 14s 196ms/step - loss: 1.3367 - categorical_accuracy: 0.5689\n",
      "Epoch 141/3000\n",
      "69/69 [==============================] - 13s 192ms/step - loss: 1.3372 - categorical_accuracy: 0.5602\n",
      "Epoch 142/3000\n",
      "69/69 [==============================] - 13s 193ms/step - loss: 1.2867 - categorical_accuracy: 0.5995\n",
      "Epoch 143/3000\n",
      "69/69 [==============================] - 13s 184ms/step - loss: 1.3292 - categorical_accuracy: 0.5588\n",
      "Epoch 144/3000\n",
      "69/69 [==============================] - 13s 192ms/step - loss: 1.3131 - categorical_accuracy: 0.5854\n",
      "Epoch 145/3000\n",
      "69/69 [==============================] - 13s 192ms/step - loss: 1.2268 - categorical_accuracy: 0.6142\n",
      "Epoch 146/3000\n",
      "69/69 [==============================] - 13s 185ms/step - loss: 1.2733 - categorical_accuracy: 0.5927\n",
      "Epoch 147/3000\n",
      "69/69 [==============================] - 13s 186ms/step - loss: 1.4947 - categorical_accuracy: 0.5323\n",
      "Epoch 148/3000\n",
      "69/69 [==============================] - 13s 190ms/step - loss: 1.2852 - categorical_accuracy: 0.5931\n",
      "Epoch 149/3000\n",
      "69/69 [==============================] - 13s 183ms/step - loss: 1.2138 - categorical_accuracy: 0.6224\n",
      "Epoch 150/3000\n",
      "69/69 [==============================] - 13s 191ms/step - loss: 1.2651 - categorical_accuracy: 0.5913\n",
      "Epoch 151/3000\n",
      "69/69 [==============================] - 13s 187ms/step - loss: 1.3138 - categorical_accuracy: 0.5881\n",
      "Epoch 152/3000\n",
      "69/69 [==============================] - 13s 183ms/step - loss: 1.2211 - categorical_accuracy: 0.6142\n",
      "Epoch 153/3000\n",
      "69/69 [==============================] - 13s 189ms/step - loss: 1.2293 - categorical_accuracy: 0.6018\n",
      "Epoch 154/3000\n",
      "69/69 [==============================] - 13s 184ms/step - loss: 1.3103 - categorical_accuracy: 0.5991\n",
      "Epoch 155/3000\n",
      "69/69 [==============================] - 13s 184ms/step - loss: 1.2993 - categorical_accuracy: 0.5803\n",
      "Epoch 156/3000\n",
      "69/69 [==============================] - 12s 181ms/step - loss: 1.2370 - categorical_accuracy: 0.6078\n",
      "Epoch 157/3000\n",
      "69/69 [==============================] - 13s 187ms/step - loss: 1.1368 - categorical_accuracy: 0.6384\n",
      "Epoch 158/3000\n",
      "69/69 [==============================] - 13s 187ms/step - loss: 1.2846 - categorical_accuracy: 0.5698\n",
      "Epoch 159/3000\n",
      "69/69 [==============================] - 13s 192ms/step - loss: 1.1467 - categorical_accuracy: 0.6201\n",
      "Epoch 160/3000\n",
      "69/69 [==============================] - 13s 187ms/step - loss: 1.1977 - categorical_accuracy: 0.6270\n",
      "Epoch 161/3000\n",
      "69/69 [==============================] - 13s 182ms/step - loss: 1.2571 - categorical_accuracy: 0.6027\n",
      "Epoch 162/3000\n",
      "69/69 [==============================] - 13s 188ms/step - loss: 1.2702 - categorical_accuracy: 0.5904\n",
      "Epoch 163/3000\n",
      "69/69 [==============================] - 13s 185ms/step - loss: 1.4206 - categorical_accuracy: 0.5588\n",
      "Epoch 164/3000\n",
      "69/69 [==============================] - 13s 189ms/step - loss: 1.1457 - categorical_accuracy: 0.6371\n",
      "Epoch 165/3000\n",
      "69/69 [==============================] - 14s 200ms/step - loss: 1.1228 - categorical_accuracy: 0.6389\n",
      "Epoch 166/3000\n",
      "69/69 [==============================] - 13s 189ms/step - loss: 1.0951 - categorical_accuracy: 0.6403\n",
      "Epoch 167/3000\n",
      "69/69 [==============================] - 13s 190ms/step - loss: 1.2704 - categorical_accuracy: 0.5918\n",
      "Epoch 168/3000\n",
      "69/69 [==============================] - 13s 187ms/step - loss: 1.1701 - categorical_accuracy: 0.6270\n",
      "Epoch 169/3000\n",
      "69/69 [==============================] - 13s 194ms/step - loss: 1.2115 - categorical_accuracy: 0.6197\n",
      "Epoch 170/3000\n",
      "69/69 [==============================] - 13s 187ms/step - loss: 1.1581 - categorical_accuracy: 0.6517\n",
      "Epoch 171/3000\n",
      "69/69 [==============================] - 13s 183ms/step - loss: 1.3427 - categorical_accuracy: 0.5922\n",
      "Epoch 172/3000\n",
      "69/69 [==============================] - 13s 190ms/step - loss: 1.1195 - categorical_accuracy: 0.6449\n",
      "Epoch 173/3000\n",
      "69/69 [==============================] - 13s 190ms/step - loss: 1.1412 - categorical_accuracy: 0.6366\n",
      "Epoch 174/3000\n",
      "69/69 [==============================] - 13s 187ms/step - loss: 1.1840 - categorical_accuracy: 0.6366\n",
      "Epoch 175/3000\n",
      "69/69 [==============================] - 13s 188ms/step - loss: 1.1673 - categorical_accuracy: 0.6348\n",
      "Epoch 176/3000\n",
      "69/69 [==============================] - 13s 195ms/step - loss: 1.1435 - categorical_accuracy: 0.6407\n",
      "Epoch 177/3000\n",
      "69/69 [==============================] - 13s 191ms/step - loss: 1.1345 - categorical_accuracy: 0.6435\n",
      "Epoch 178/3000\n",
      "69/69 [==============================] - 13s 186ms/step - loss: 1.2089 - categorical_accuracy: 0.6352\n",
      "Epoch 179/3000\n",
      "69/69 [==============================] - 13s 195ms/step - loss: 1.2173 - categorical_accuracy: 0.6252\n",
      "Epoch 180/3000\n",
      "69/69 [==============================] - 13s 183ms/step - loss: 1.1716 - categorical_accuracy: 0.6261\n",
      "Epoch 181/3000\n",
      "69/69 [==============================] - 13s 184ms/step - loss: 1.1875 - categorical_accuracy: 0.6233\n",
      "Epoch 182/3000\n",
      "69/69 [==============================] - 13s 186ms/step - loss: 1.1140 - categorical_accuracy: 0.6577\n",
      "Epoch 183/3000\n",
      "69/69 [==============================] - 13s 184ms/step - loss: 1.0966 - categorical_accuracy: 0.6531\n",
      "Epoch 184/3000\n",
      "69/69 [==============================] - 13s 182ms/step - loss: 1.1077 - categorical_accuracy: 0.6568\n",
      "Epoch 185/3000\n",
      "69/69 [==============================] - 13s 184ms/step - loss: 0.9971 - categorical_accuracy: 0.6902\n",
      "Epoch 186/3000\n",
      "69/69 [==============================] - 13s 191ms/step - loss: 1.1216 - categorical_accuracy: 0.6554\n",
      "Epoch 187/3000\n",
      "69/69 [==============================] - 13s 187ms/step - loss: 1.0571 - categorical_accuracy: 0.6741\n",
      "Epoch 188/3000\n",
      "69/69 [==============================] - 13s 188ms/step - loss: 1.0242 - categorical_accuracy: 0.6746\n",
      "Epoch 189/3000\n",
      "69/69 [==============================] - 14s 198ms/step - loss: 1.0178 - categorical_accuracy: 0.6938\n",
      "Epoch 190/3000\n",
      "69/69 [==============================] - 13s 195ms/step - loss: 1.1273 - categorical_accuracy: 0.6513\n",
      "Epoch 191/3000\n",
      "69/69 [==============================] - 14s 198ms/step - loss: 1.1505 - categorical_accuracy: 0.6540\n",
      "Epoch 192/3000\n",
      "69/69 [==============================] - 14s 200ms/step - loss: 1.1877 - categorical_accuracy: 0.6430\n",
      "Epoch 193/3000\n",
      "69/69 [==============================] - 14s 196ms/step - loss: 1.1715 - categorical_accuracy: 0.6458\n",
      "Epoch 194/3000\n",
      "69/69 [==============================] - 14s 197ms/step - loss: 1.0238 - categorical_accuracy: 0.6751\n",
      "Epoch 195/3000\n",
      "69/69 [==============================] - 13s 195ms/step - loss: 1.0603 - categorical_accuracy: 0.6805\n",
      "Epoch 196/3000\n",
      "69/69 [==============================] - 13s 188ms/step - loss: 1.1274 - categorical_accuracy: 0.6659\n",
      "Epoch 197/3000\n",
      "69/69 [==============================] - 13s 193ms/step - loss: 1.0069 - categorical_accuracy: 0.6792\n",
      "Epoch 198/3000\n",
      "69/69 [==============================] - 13s 191ms/step - loss: 0.9899 - categorical_accuracy: 0.7053\n",
      "Epoch 199/3000\n",
      "69/69 [==============================] - 13s 195ms/step - loss: 1.1860 - categorical_accuracy: 0.6481\n",
      "Epoch 200/3000\n",
      "69/69 [==============================] - 13s 186ms/step - loss: 1.1323 - categorical_accuracy: 0.6540\n",
      "Epoch 201/3000\n",
      "69/69 [==============================] - 14s 198ms/step - loss: 1.1701 - categorical_accuracy: 0.6462\n",
      "Epoch 202/3000\n",
      "69/69 [==============================] - 13s 188ms/step - loss: 1.1710 - categorical_accuracy: 0.6325\n",
      "Epoch 203/3000\n",
      "69/69 [==============================] - 13s 190ms/step - loss: 1.2191 - categorical_accuracy: 0.6371\n",
      "Epoch 204/3000\n",
      "69/69 [==============================] - 13s 186ms/step - loss: 1.0958 - categorical_accuracy: 0.6682\n",
      "Epoch 205/3000\n",
      "69/69 [==============================] - 13s 190ms/step - loss: 1.0052 - categorical_accuracy: 0.6993\n",
      "Epoch 206/3000\n",
      "69/69 [==============================] - 13s 193ms/step - loss: 0.9887 - categorical_accuracy: 0.7089\n",
      "Epoch 207/3000\n",
      "69/69 [==============================] - 13s 182ms/step - loss: 1.0930 - categorical_accuracy: 0.6824\n",
      "Epoch 208/3000\n",
      "69/69 [==============================] - 13s 191ms/step - loss: 1.0516 - categorical_accuracy: 0.6870\n",
      "Epoch 209/3000\n",
      "69/69 [==============================] - 13s 185ms/step - loss: 1.0918 - categorical_accuracy: 0.6609\n",
      "Epoch 210/3000\n",
      "69/69 [==============================] - 13s 192ms/step - loss: 1.0893 - categorical_accuracy: 0.6618\n",
      "Epoch 211/3000\n",
      "69/69 [==============================] - 13s 183ms/step - loss: 1.0905 - categorical_accuracy: 0.6622\n",
      "Epoch 212/3000\n",
      "69/69 [==============================] - 13s 191ms/step - loss: 1.1851 - categorical_accuracy: 0.6398\n",
      "Epoch 213/3000\n",
      "69/69 [==============================] - 13s 190ms/step - loss: 1.0463 - categorical_accuracy: 0.6746\n",
      "Epoch 214/3000\n",
      "69/69 [==============================] - 13s 182ms/step - loss: 1.0171 - categorical_accuracy: 0.7025\n",
      "Epoch 215/3000\n",
      "69/69 [==============================] - 13s 195ms/step - loss: 1.1175 - categorical_accuracy: 0.6641\n",
      "Epoch 216/3000\n",
      "69/69 [==============================] - 12s 179ms/step - loss: 1.0203 - categorical_accuracy: 0.6888\n",
      "Epoch 217/3000\n",
      "69/69 [==============================] - 14s 198ms/step - loss: 1.0179 - categorical_accuracy: 0.6952\n",
      "Epoch 218/3000\n",
      "69/69 [==============================] - 12s 181ms/step - loss: 1.1184 - categorical_accuracy: 0.6847\n",
      "Epoch 219/3000\n",
      "69/69 [==============================] - 13s 191ms/step - loss: 0.9830 - categorical_accuracy: 0.7002\n",
      "Epoch 220/3000\n",
      "69/69 [==============================] - 13s 187ms/step - loss: 0.9234 - categorical_accuracy: 0.7222\n",
      "Epoch 221/3000\n",
      "69/69 [==============================] - 13s 187ms/step - loss: 1.2141 - categorical_accuracy: 0.6458\n",
      "Epoch 222/3000\n",
      "69/69 [==============================] - 13s 183ms/step - loss: 1.0296 - categorical_accuracy: 0.6947\n",
      "Epoch 223/3000\n",
      "69/69 [==============================] - 13s 185ms/step - loss: 1.0224 - categorical_accuracy: 0.6796\n",
      "Epoch 224/3000\n",
      "69/69 [==============================] - 13s 182ms/step - loss: 0.9306 - categorical_accuracy: 0.7172\n",
      "Epoch 225/3000\n",
      "69/69 [==============================] - 13s 184ms/step - loss: 1.1987 - categorical_accuracy: 0.6659\n",
      "Epoch 226/3000\n",
      "69/69 [==============================] - 13s 185ms/step - loss: 1.3091 - categorical_accuracy: 0.6165\n",
      "Epoch 227/3000\n",
      "69/69 [==============================] - 13s 187ms/step - loss: 0.9574 - categorical_accuracy: 0.7172\n",
      "Epoch 228/3000\n",
      "69/69 [==============================] - 13s 188ms/step - loss: 1.1176 - categorical_accuracy: 0.6728\n",
      "Epoch 229/3000\n",
      "69/69 [==============================] - 13s 181ms/step - loss: 0.9763 - categorical_accuracy: 0.7094\n",
      "Epoch 230/3000\n",
      "69/69 [==============================] - 13s 186ms/step - loss: 0.9339 - categorical_accuracy: 0.7195\n",
      "Epoch 231/3000\n",
      "69/69 [==============================] - 13s 185ms/step - loss: 0.8722 - categorical_accuracy: 0.7437\n",
      "Epoch 232/3000\n",
      "69/69 [==============================] - 13s 186ms/step - loss: 1.0610 - categorical_accuracy: 0.6915\n",
      "Epoch 233/3000\n",
      "69/69 [==============================] - 12s 181ms/step - loss: 1.0173 - categorical_accuracy: 0.7016\n",
      "Epoch 234/3000\n",
      "69/69 [==============================] - 13s 191ms/step - loss: 0.9362 - categorical_accuracy: 0.7291\n",
      "Epoch 235/3000\n",
      "69/69 [==============================] - 13s 186ms/step - loss: 0.9511 - categorical_accuracy: 0.7176\n",
      "Epoch 236/3000\n",
      "69/69 [==============================] - 13s 184ms/step - loss: 1.1872 - categorical_accuracy: 0.6622\n",
      "Epoch 237/3000\n",
      "69/69 [==============================] - 13s 184ms/step - loss: 1.1868 - categorical_accuracy: 0.6476\n",
      "Epoch 238/3000\n",
      "69/69 [==============================] - 13s 194ms/step - loss: 0.9352 - categorical_accuracy: 0.7217\n",
      "Epoch 239/3000\n",
      "69/69 [==============================] - 13s 184ms/step - loss: 0.8834 - categorical_accuracy: 0.7487\n",
      "Epoch 240/3000\n",
      "69/69 [==============================] - 13s 186ms/step - loss: 0.9441 - categorical_accuracy: 0.7272\n",
      "Epoch 241/3000\n",
      "69/69 [==============================] - 13s 185ms/step - loss: 0.9815 - categorical_accuracy: 0.7158\n",
      "Epoch 242/3000\n",
      "69/69 [==============================] - 13s 192ms/step - loss: 0.9049 - categorical_accuracy: 0.7231\n",
      "Epoch 243/3000\n",
      "69/69 [==============================] - 13s 184ms/step - loss: 0.9946 - categorical_accuracy: 0.7080\n",
      "Epoch 244/3000\n",
      "69/69 [==============================] - 12s 180ms/step - loss: 1.1926 - categorical_accuracy: 0.6705\n",
      "Epoch 245/3000\n",
      "69/69 [==============================] - 12s 180ms/step - loss: 0.9255 - categorical_accuracy: 0.7346\n",
      "Epoch 246/3000\n",
      "69/69 [==============================] - 13s 188ms/step - loss: 0.9105 - categorical_accuracy: 0.7281\n",
      "Epoch 247/3000\n",
      "69/69 [==============================] - 13s 191ms/step - loss: 1.0275 - categorical_accuracy: 0.7076\n",
      "Epoch 248/3000\n",
      "69/69 [==============================] - 13s 190ms/step - loss: 0.9632 - categorical_accuracy: 0.7222\n",
      "Epoch 249/3000\n",
      "69/69 [==============================] - 13s 182ms/step - loss: 1.0878 - categorical_accuracy: 0.7089\n",
      "Epoch 250/3000\n",
      "69/69 [==============================] - 13s 190ms/step - loss: 0.9789 - categorical_accuracy: 0.7245\n",
      "Epoch 251/3000\n",
      "69/69 [==============================] - 13s 181ms/step - loss: 0.8755 - categorical_accuracy: 0.7451\n",
      "Epoch 252/3000\n",
      "69/69 [==============================] - 13s 186ms/step - loss: 0.9591 - categorical_accuracy: 0.7204\n",
      "Epoch 253/3000\n",
      "69/69 [==============================] - 13s 183ms/step - loss: 0.9934 - categorical_accuracy: 0.7089\n",
      "Epoch 254/3000\n",
      "69/69 [==============================] - 13s 185ms/step - loss: 0.8401 - categorical_accuracy: 0.7620\n",
      "Epoch 255/3000\n",
      "69/69 [==============================] - 12s 180ms/step - loss: 1.4084 - categorical_accuracy: 0.5927\n",
      "Epoch 256/3000\n",
      "69/69 [==============================] - 12s 181ms/step - loss: 1.0009 - categorical_accuracy: 0.7094\n",
      "Epoch 257/3000\n",
      "69/69 [==============================] - 13s 189ms/step - loss: 0.9345 - categorical_accuracy: 0.7259\n",
      "Epoch 258/3000\n",
      "69/69 [==============================] - 12s 173ms/step - loss: 0.9118 - categorical_accuracy: 0.7323\n",
      "Epoch 259/3000\n",
      "69/69 [==============================] - 12s 180ms/step - loss: 1.0209 - categorical_accuracy: 0.7089\n",
      "Epoch 260/3000\n",
      "69/69 [==============================] - 13s 181ms/step - loss: 0.8973 - categorical_accuracy: 0.7478\n",
      "Epoch 261/3000\n",
      "69/69 [==============================] - 13s 185ms/step - loss: 1.0960 - categorical_accuracy: 0.6842\n",
      "Epoch 262/3000\n",
      "69/69 [==============================] - 12s 178ms/step - loss: 0.8354 - categorical_accuracy: 0.7652\n",
      "Epoch 263/3000\n",
      "69/69 [==============================] - 13s 186ms/step - loss: 0.8851 - categorical_accuracy: 0.7551\n",
      "Epoch 264/3000\n",
      "69/69 [==============================] - 12s 181ms/step - loss: 0.9495 - categorical_accuracy: 0.7378\n",
      "Epoch 265/3000\n",
      "69/69 [==============================] - 14s 209ms/step - loss: 1.1150 - categorical_accuracy: 0.6833\n",
      "Epoch 266/3000\n",
      "69/69 [==============================] - 13s 194ms/step - loss: 0.9317 - categorical_accuracy: 0.7286\n",
      "Epoch 267/3000\n",
      "69/69 [==============================] - 13s 190ms/step - loss: 0.9502 - categorical_accuracy: 0.7263\n",
      "Epoch 268/3000\n",
      "69/69 [==============================] - 13s 190ms/step - loss: 0.9970 - categorical_accuracy: 0.7117\n",
      "Epoch 269/3000\n",
      "69/69 [==============================] - 13s 196ms/step - loss: 0.8558 - categorical_accuracy: 0.7606\n",
      "Epoch 270/3000\n",
      "69/69 [==============================] - 13s 189ms/step - loss: 0.8342 - categorical_accuracy: 0.7840\n",
      "Epoch 271/3000\n",
      "69/69 [==============================] - 13s 193ms/step - loss: 0.8222 - categorical_accuracy: 0.7620\n",
      "Epoch 272/3000\n",
      "69/69 [==============================] - 13s 182ms/step - loss: 0.9302 - categorical_accuracy: 0.7551\n",
      "Epoch 273/3000\n",
      "69/69 [==============================] - 13s 185ms/step - loss: 1.1929 - categorical_accuracy: 0.6636\n",
      "Epoch 274/3000\n",
      "69/69 [==============================] - 12s 181ms/step - loss: 0.8452 - categorical_accuracy: 0.7661\n",
      "Epoch 275/3000\n",
      "69/69 [==============================] - 13s 184ms/step - loss: 0.8643 - categorical_accuracy: 0.7561\n",
      "Epoch 276/3000\n",
      "69/69 [==============================] - 13s 187ms/step - loss: 0.8298 - categorical_accuracy: 0.7730\n",
      "Epoch 277/3000\n",
      "69/69 [==============================] - 13s 187ms/step - loss: 0.8044 - categorical_accuracy: 0.7826\n",
      "Epoch 278/3000\n",
      "69/69 [==============================] - 13s 187ms/step - loss: 1.0971 - categorical_accuracy: 0.7007\n",
      "Epoch 279/3000\n",
      "69/69 [==============================] - 12s 175ms/step - loss: 0.8846 - categorical_accuracy: 0.7574\n",
      "Epoch 280/3000\n",
      "69/69 [==============================] - 13s 184ms/step - loss: 0.8963 - categorical_accuracy: 0.7355\n",
      "Epoch 281/3000\n",
      "69/69 [==============================] - 13s 190ms/step - loss: 0.8442 - categorical_accuracy: 0.7625\n",
      "Epoch 282/3000\n",
      "69/69 [==============================] - 13s 184ms/step - loss: 0.8751 - categorical_accuracy: 0.7574\n",
      "Epoch 283/3000\n",
      "69/69 [==============================] - 13s 185ms/step - loss: 1.0205 - categorical_accuracy: 0.7272\n",
      "Epoch 284/3000\n",
      "69/69 [==============================] - 13s 196ms/step - loss: 0.8393 - categorical_accuracy: 0.7794\n",
      "Epoch 285/3000\n",
      "69/69 [==============================] - 13s 193ms/step - loss: 1.1184 - categorical_accuracy: 0.7039\n",
      "Epoch 286/3000\n",
      "69/69 [==============================] - 13s 193ms/step - loss: 0.8491 - categorical_accuracy: 0.7689\n",
      "Epoch 287/3000\n",
      "69/69 [==============================] - 13s 189ms/step - loss: 0.7926 - categorical_accuracy: 0.7799\n",
      "Epoch 288/3000\n",
      "69/69 [==============================] - 13s 191ms/step - loss: 0.9429 - categorical_accuracy: 0.7469\n",
      "Epoch 289/3000\n",
      "69/69 [==============================] - 13s 185ms/step - loss: 0.9296 - categorical_accuracy: 0.7387\n",
      "Epoch 290/3000\n",
      "69/69 [==============================] - 12s 172ms/step - loss: 1.0037 - categorical_accuracy: 0.7130\n",
      "Epoch 291/3000\n",
      "69/69 [==============================] - 13s 185ms/step - loss: 0.9778 - categorical_accuracy: 0.7346\n",
      "Epoch 292/3000\n",
      "69/69 [==============================] - 13s 184ms/step - loss: 0.8906 - categorical_accuracy: 0.7446\n",
      "Epoch 293/3000\n",
      "69/69 [==============================] - 12s 181ms/step - loss: 0.8394 - categorical_accuracy: 0.7666\n",
      "Epoch 294/3000\n",
      "69/69 [==============================] - 13s 185ms/step - loss: 0.8941 - categorical_accuracy: 0.7684\n",
      "Epoch 295/3000\n",
      "69/69 [==============================] - 13s 182ms/step - loss: 0.8347 - categorical_accuracy: 0.7689\n",
      "Epoch 296/3000\n",
      "69/69 [==============================] - 13s 183ms/step - loss: 0.8775 - categorical_accuracy: 0.7739\n",
      "Epoch 297/3000\n",
      "69/69 [==============================] - 12s 179ms/step - loss: 0.9081 - categorical_accuracy: 0.7643\n",
      "Epoch 298/3000\n",
      "69/69 [==============================] - 12s 176ms/step - loss: 0.8354 - categorical_accuracy: 0.7831\n",
      "Epoch 299/3000\n",
      "69/69 [==============================] - 12s 179ms/step - loss: 0.8812 - categorical_accuracy: 0.7570\n",
      "Epoch 300/3000\n",
      "69/69 [==============================] - 12s 176ms/step - loss: 0.8113 - categorical_accuracy: 0.7799\n",
      "Epoch 301/3000\n",
      "69/69 [==============================] - 12s 176ms/step - loss: 0.8111 - categorical_accuracy: 0.7776\n",
      "Epoch 302/3000\n",
      "69/69 [==============================] - 12s 176ms/step - loss: 1.0279 - categorical_accuracy: 0.7263\n",
      "Epoch 303/3000\n",
      "69/69 [==============================] - 12s 176ms/step - loss: 0.8405 - categorical_accuracy: 0.7629\n",
      "Epoch 304/3000\n",
      "69/69 [==============================] - 13s 186ms/step - loss: 0.8551 - categorical_accuracy: 0.7652\n",
      "Epoch 305/3000\n",
      "69/69 [==============================] - 13s 185ms/step - loss: 0.9002 - categorical_accuracy: 0.7556\n",
      "Epoch 306/3000\n",
      "69/69 [==============================] - 13s 182ms/step - loss: 0.8691 - categorical_accuracy: 0.7584\n",
      "Epoch 307/3000\n",
      "69/69 [==============================] - 13s 186ms/step - loss: 0.8444 - categorical_accuracy: 0.7703\n",
      "Epoch 308/3000\n",
      "69/69 [==============================] - 13s 186ms/step - loss: 1.1078 - categorical_accuracy: 0.6952\n",
      "Epoch 309/3000\n",
      "69/69 [==============================] - 12s 177ms/step - loss: 0.8101 - categorical_accuracy: 0.7767\n",
      "Epoch 310/3000\n",
      "69/69 [==============================] - 12s 174ms/step - loss: 0.8038 - categorical_accuracy: 0.7803\n",
      "Epoch 311/3000\n",
      "69/69 [==============================] - 12s 175ms/step - loss: 1.0066 - categorical_accuracy: 0.7332\n",
      "Epoch 312/3000\n",
      "69/69 [==============================] - 13s 187ms/step - loss: 0.7380 - categorical_accuracy: 0.8069\n",
      "Epoch 313/3000\n",
      "69/69 [==============================] - 13s 184ms/step - loss: 0.7345 - categorical_accuracy: 0.8009\n",
      "Epoch 314/3000\n",
      "69/69 [==============================] - 12s 181ms/step - loss: 0.7407 - categorical_accuracy: 0.8032\n",
      "Epoch 315/3000\n",
      "69/69 [==============================] - 13s 194ms/step - loss: 0.8084 - categorical_accuracy: 0.7835\n",
      "Epoch 316/3000\n",
      "69/69 [==============================] - 13s 187ms/step - loss: 0.8068 - categorical_accuracy: 0.7927\n",
      "Epoch 317/3000\n",
      "69/69 [==============================] - 9s 125ms/step - loss: 0.8237 - categorical_accuracy: 0.7757\n",
      "Epoch 318/3000\n",
      "69/69 [==============================] - 14s 199ms/step - loss: 0.9070 - categorical_accuracy: 0.7423\n",
      "Epoch 319/3000\n",
      "69/69 [==============================] - 11s 154ms/step - loss: 0.7683 - categorical_accuracy: 0.7872\n",
      "Epoch 320/3000\n",
      "69/69 [==============================] - 10s 149ms/step - loss: 0.8393 - categorical_accuracy: 0.7799\n",
      "Epoch 321/3000\n",
      "60/69 [=========================>....] - ETA: 1s - loss: 0.8080 - categorical_accuracy: 0.7849"
     ]
    },
    {
     "ename": "KeyboardInterrupt",
     "evalue": "",
     "output_type": "error",
     "traceback": [
      "\u001B[1;31m---------------------------------------------------------------------------\u001B[0m",
      "\u001B[1;31mKeyboardInterrupt\u001B[0m                         Traceback (most recent call last)",
      "Cell \u001B[1;32mIn[27], line 1\u001B[0m\n\u001B[1;32m----> 1\u001B[0m history \u001B[38;5;241m=\u001B[39m model\u001B[38;5;241m.\u001B[39mfit(X_train, y_train, epochs\u001B[38;5;241m=\u001B[39m\u001B[38;5;241m3000\u001B[39m, callbacks\u001B[38;5;241m=\u001B[39m[early_stopping, checkpoint])    \u001B[38;5;66;03m# , callbacks=[tb_callback]\u001B[39;00m\n\u001B[0;32m      2\u001B[0m \u001B[38;5;66;03m# save best model\u001B[39;00m\n\u001B[0;32m      3\u001B[0m final_model_path \u001B[38;5;241m=\u001B[39m os\u001B[38;5;241m.\u001B[39mpath\u001B[38;5;241m.\u001B[39mjoin(cs\u001B[38;5;241m.\u001B[39mMODELS_FOLDER, \u001B[38;5;124m'\u001B[39m\u001B[38;5;124mfinal_model.h5\u001B[39m\u001B[38;5;124m'\u001B[39m) \n",
      "File \u001B[1;32m~\\AppData\\Roaming\\Python\\Python311\\site-packages\\keras\\src\\utils\\traceback_utils.py:65\u001B[0m, in \u001B[0;36mfilter_traceback.<locals>.error_handler\u001B[1;34m(*args, **kwargs)\u001B[0m\n\u001B[0;32m     63\u001B[0m filtered_tb \u001B[38;5;241m=\u001B[39m \u001B[38;5;28;01mNone\u001B[39;00m\n\u001B[0;32m     64\u001B[0m \u001B[38;5;28;01mtry\u001B[39;00m:\n\u001B[1;32m---> 65\u001B[0m     \u001B[38;5;28;01mreturn\u001B[39;00m fn(\u001B[38;5;241m*\u001B[39margs, \u001B[38;5;241m*\u001B[39m\u001B[38;5;241m*\u001B[39mkwargs)\n\u001B[0;32m     66\u001B[0m \u001B[38;5;28;01mexcept\u001B[39;00m \u001B[38;5;167;01mException\u001B[39;00m \u001B[38;5;28;01mas\u001B[39;00m e:\n\u001B[0;32m     67\u001B[0m     filtered_tb \u001B[38;5;241m=\u001B[39m _process_traceback_frames(e\u001B[38;5;241m.\u001B[39m__traceback__)\n",
      "File \u001B[1;32m~\\AppData\\Roaming\\Python\\Python311\\site-packages\\keras\\src\\engine\\training.py:1742\u001B[0m, in \u001B[0;36mModel.fit\u001B[1;34m(self, x, y, batch_size, epochs, verbose, callbacks, validation_split, validation_data, shuffle, class_weight, sample_weight, initial_epoch, steps_per_epoch, validation_steps, validation_batch_size, validation_freq, max_queue_size, workers, use_multiprocessing)\u001B[0m\n\u001B[0;32m   1734\u001B[0m \u001B[38;5;28;01mwith\u001B[39;00m tf\u001B[38;5;241m.\u001B[39mprofiler\u001B[38;5;241m.\u001B[39mexperimental\u001B[38;5;241m.\u001B[39mTrace(\n\u001B[0;32m   1735\u001B[0m     \u001B[38;5;124m\"\u001B[39m\u001B[38;5;124mtrain\u001B[39m\u001B[38;5;124m\"\u001B[39m,\n\u001B[0;32m   1736\u001B[0m     epoch_num\u001B[38;5;241m=\u001B[39mepoch,\n\u001B[1;32m   (...)\u001B[0m\n\u001B[0;32m   1739\u001B[0m     _r\u001B[38;5;241m=\u001B[39m\u001B[38;5;241m1\u001B[39m,\n\u001B[0;32m   1740\u001B[0m ):\n\u001B[0;32m   1741\u001B[0m     callbacks\u001B[38;5;241m.\u001B[39mon_train_batch_begin(step)\n\u001B[1;32m-> 1742\u001B[0m     tmp_logs \u001B[38;5;241m=\u001B[39m \u001B[38;5;28mself\u001B[39m\u001B[38;5;241m.\u001B[39mtrain_function(iterator)\n\u001B[0;32m   1743\u001B[0m     \u001B[38;5;28;01mif\u001B[39;00m data_handler\u001B[38;5;241m.\u001B[39mshould_sync:\n\u001B[0;32m   1744\u001B[0m         context\u001B[38;5;241m.\u001B[39masync_wait()\n",
      "File \u001B[1;32m~\\AppData\\Roaming\\Python\\Python311\\site-packages\\tensorflow\\python\\util\\traceback_utils.py:150\u001B[0m, in \u001B[0;36mfilter_traceback.<locals>.error_handler\u001B[1;34m(*args, **kwargs)\u001B[0m\n\u001B[0;32m    148\u001B[0m filtered_tb \u001B[38;5;241m=\u001B[39m \u001B[38;5;28;01mNone\u001B[39;00m\n\u001B[0;32m    149\u001B[0m \u001B[38;5;28;01mtry\u001B[39;00m:\n\u001B[1;32m--> 150\u001B[0m   \u001B[38;5;28;01mreturn\u001B[39;00m fn(\u001B[38;5;241m*\u001B[39margs, \u001B[38;5;241m*\u001B[39m\u001B[38;5;241m*\u001B[39mkwargs)\n\u001B[0;32m    151\u001B[0m \u001B[38;5;28;01mexcept\u001B[39;00m \u001B[38;5;167;01mException\u001B[39;00m \u001B[38;5;28;01mas\u001B[39;00m e:\n\u001B[0;32m    152\u001B[0m   filtered_tb \u001B[38;5;241m=\u001B[39m _process_traceback_frames(e\u001B[38;5;241m.\u001B[39m__traceback__)\n",
      "File \u001B[1;32m~\\AppData\\Roaming\\Python\\Python311\\site-packages\\tensorflow\\python\\eager\\polymorphic_function\\polymorphic_function.py:825\u001B[0m, in \u001B[0;36mFunction.__call__\u001B[1;34m(self, *args, **kwds)\u001B[0m\n\u001B[0;32m    822\u001B[0m compiler \u001B[38;5;241m=\u001B[39m \u001B[38;5;124m\"\u001B[39m\u001B[38;5;124mxla\u001B[39m\u001B[38;5;124m\"\u001B[39m \u001B[38;5;28;01mif\u001B[39;00m \u001B[38;5;28mself\u001B[39m\u001B[38;5;241m.\u001B[39m_jit_compile \u001B[38;5;28;01melse\u001B[39;00m \u001B[38;5;124m\"\u001B[39m\u001B[38;5;124mnonXla\u001B[39m\u001B[38;5;124m\"\u001B[39m\n\u001B[0;32m    824\u001B[0m \u001B[38;5;28;01mwith\u001B[39;00m OptionalXlaContext(\u001B[38;5;28mself\u001B[39m\u001B[38;5;241m.\u001B[39m_jit_compile):\n\u001B[1;32m--> 825\u001B[0m   result \u001B[38;5;241m=\u001B[39m \u001B[38;5;28mself\u001B[39m\u001B[38;5;241m.\u001B[39m_call(\u001B[38;5;241m*\u001B[39margs, \u001B[38;5;241m*\u001B[39m\u001B[38;5;241m*\u001B[39mkwds)\n\u001B[0;32m    827\u001B[0m new_tracing_count \u001B[38;5;241m=\u001B[39m \u001B[38;5;28mself\u001B[39m\u001B[38;5;241m.\u001B[39mexperimental_get_tracing_count()\n\u001B[0;32m    828\u001B[0m without_tracing \u001B[38;5;241m=\u001B[39m (tracing_count \u001B[38;5;241m==\u001B[39m new_tracing_count)\n",
      "File \u001B[1;32m~\\AppData\\Roaming\\Python\\Python311\\site-packages\\tensorflow\\python\\eager\\polymorphic_function\\polymorphic_function.py:857\u001B[0m, in \u001B[0;36mFunction._call\u001B[1;34m(self, *args, **kwds)\u001B[0m\n\u001B[0;32m    854\u001B[0m   \u001B[38;5;28mself\u001B[39m\u001B[38;5;241m.\u001B[39m_lock\u001B[38;5;241m.\u001B[39mrelease()\n\u001B[0;32m    855\u001B[0m   \u001B[38;5;66;03m# In this case we have created variables on the first call, so we run the\u001B[39;00m\n\u001B[0;32m    856\u001B[0m   \u001B[38;5;66;03m# defunned version which is guaranteed to never create variables.\u001B[39;00m\n\u001B[1;32m--> 857\u001B[0m   \u001B[38;5;28;01mreturn\u001B[39;00m \u001B[38;5;28mself\u001B[39m\u001B[38;5;241m.\u001B[39m_no_variable_creation_fn(\u001B[38;5;241m*\u001B[39margs, \u001B[38;5;241m*\u001B[39m\u001B[38;5;241m*\u001B[39mkwds)  \u001B[38;5;66;03m# pylint: disable=not-callable\u001B[39;00m\n\u001B[0;32m    858\u001B[0m \u001B[38;5;28;01melif\u001B[39;00m \u001B[38;5;28mself\u001B[39m\u001B[38;5;241m.\u001B[39m_variable_creation_fn \u001B[38;5;129;01mis\u001B[39;00m \u001B[38;5;129;01mnot\u001B[39;00m \u001B[38;5;28;01mNone\u001B[39;00m:\n\u001B[0;32m    859\u001B[0m   \u001B[38;5;66;03m# Release the lock early so that multiple threads can perform the call\u001B[39;00m\n\u001B[0;32m    860\u001B[0m   \u001B[38;5;66;03m# in parallel.\u001B[39;00m\n\u001B[0;32m    861\u001B[0m   \u001B[38;5;28mself\u001B[39m\u001B[38;5;241m.\u001B[39m_lock\u001B[38;5;241m.\u001B[39mrelease()\n",
      "File \u001B[1;32m~\\AppData\\Roaming\\Python\\Python311\\site-packages\\tensorflow\\python\\eager\\polymorphic_function\\tracing_compiler.py:148\u001B[0m, in \u001B[0;36mTracingCompiler.__call__\u001B[1;34m(self, *args, **kwargs)\u001B[0m\n\u001B[0;32m    145\u001B[0m \u001B[38;5;28;01mwith\u001B[39;00m \u001B[38;5;28mself\u001B[39m\u001B[38;5;241m.\u001B[39m_lock:\n\u001B[0;32m    146\u001B[0m   (concrete_function,\n\u001B[0;32m    147\u001B[0m    filtered_flat_args) \u001B[38;5;241m=\u001B[39m \u001B[38;5;28mself\u001B[39m\u001B[38;5;241m.\u001B[39m_maybe_define_function(args, kwargs)\n\u001B[1;32m--> 148\u001B[0m \u001B[38;5;28;01mreturn\u001B[39;00m concrete_function\u001B[38;5;241m.\u001B[39m_call_flat(\n\u001B[0;32m    149\u001B[0m     filtered_flat_args, captured_inputs\u001B[38;5;241m=\u001B[39mconcrete_function\u001B[38;5;241m.\u001B[39mcaptured_inputs)\n",
      "File \u001B[1;32m~\\AppData\\Roaming\\Python\\Python311\\site-packages\\tensorflow\\python\\eager\\polymorphic_function\\monomorphic_function.py:1349\u001B[0m, in \u001B[0;36mConcreteFunction._call_flat\u001B[1;34m(self, args, captured_inputs)\u001B[0m\n\u001B[0;32m   1345\u001B[0m possible_gradient_type \u001B[38;5;241m=\u001B[39m gradients_util\u001B[38;5;241m.\u001B[39mPossibleTapeGradientTypes(args)\n\u001B[0;32m   1346\u001B[0m \u001B[38;5;28;01mif\u001B[39;00m (possible_gradient_type \u001B[38;5;241m==\u001B[39m gradients_util\u001B[38;5;241m.\u001B[39mPOSSIBLE_GRADIENT_TYPES_NONE\n\u001B[0;32m   1347\u001B[0m     \u001B[38;5;129;01mand\u001B[39;00m executing_eagerly):\n\u001B[0;32m   1348\u001B[0m   \u001B[38;5;66;03m# No tape is watching; skip to running the function.\u001B[39;00m\n\u001B[1;32m-> 1349\u001B[0m   \u001B[38;5;28;01mreturn\u001B[39;00m \u001B[38;5;28mself\u001B[39m\u001B[38;5;241m.\u001B[39m_build_call_outputs(\u001B[38;5;28mself\u001B[39m\u001B[38;5;241m.\u001B[39m_inference_function(\u001B[38;5;241m*\u001B[39margs))\n\u001B[0;32m   1350\u001B[0m forward_backward \u001B[38;5;241m=\u001B[39m \u001B[38;5;28mself\u001B[39m\u001B[38;5;241m.\u001B[39m_select_forward_and_backward_functions(\n\u001B[0;32m   1351\u001B[0m     args,\n\u001B[0;32m   1352\u001B[0m     possible_gradient_type,\n\u001B[0;32m   1353\u001B[0m     executing_eagerly)\n\u001B[0;32m   1354\u001B[0m forward_function, args_with_tangents \u001B[38;5;241m=\u001B[39m forward_backward\u001B[38;5;241m.\u001B[39mforward()\n",
      "File \u001B[1;32m~\\AppData\\Roaming\\Python\\Python311\\site-packages\\tensorflow\\python\\eager\\polymorphic_function\\atomic_function.py:196\u001B[0m, in \u001B[0;36mAtomicFunction.__call__\u001B[1;34m(self, *args)\u001B[0m\n\u001B[0;32m    194\u001B[0m \u001B[38;5;28;01mwith\u001B[39;00m record\u001B[38;5;241m.\u001B[39mstop_recording():\n\u001B[0;32m    195\u001B[0m   \u001B[38;5;28;01mif\u001B[39;00m \u001B[38;5;28mself\u001B[39m\u001B[38;5;241m.\u001B[39m_bound_context\u001B[38;5;241m.\u001B[39mexecuting_eagerly():\n\u001B[1;32m--> 196\u001B[0m     outputs \u001B[38;5;241m=\u001B[39m \u001B[38;5;28mself\u001B[39m\u001B[38;5;241m.\u001B[39m_bound_context\u001B[38;5;241m.\u001B[39mcall_function(\n\u001B[0;32m    197\u001B[0m         \u001B[38;5;28mself\u001B[39m\u001B[38;5;241m.\u001B[39mname,\n\u001B[0;32m    198\u001B[0m         \u001B[38;5;28mlist\u001B[39m(args),\n\u001B[0;32m    199\u001B[0m         \u001B[38;5;28mlen\u001B[39m(\u001B[38;5;28mself\u001B[39m\u001B[38;5;241m.\u001B[39mfunction_type\u001B[38;5;241m.\u001B[39mflat_outputs),\n\u001B[0;32m    200\u001B[0m     )\n\u001B[0;32m    201\u001B[0m   \u001B[38;5;28;01melse\u001B[39;00m:\n\u001B[0;32m    202\u001B[0m     outputs \u001B[38;5;241m=\u001B[39m make_call_op_in_graph(\u001B[38;5;28mself\u001B[39m, \u001B[38;5;28mlist\u001B[39m(args))\n",
      "File \u001B[1;32m~\\AppData\\Roaming\\Python\\Python311\\site-packages\\tensorflow\\python\\eager\\context.py:1457\u001B[0m, in \u001B[0;36mContext.call_function\u001B[1;34m(self, name, tensor_inputs, num_outputs)\u001B[0m\n\u001B[0;32m   1455\u001B[0m cancellation_context \u001B[38;5;241m=\u001B[39m cancellation\u001B[38;5;241m.\u001B[39mcontext()\n\u001B[0;32m   1456\u001B[0m \u001B[38;5;28;01mif\u001B[39;00m cancellation_context \u001B[38;5;129;01mis\u001B[39;00m \u001B[38;5;28;01mNone\u001B[39;00m:\n\u001B[1;32m-> 1457\u001B[0m   outputs \u001B[38;5;241m=\u001B[39m execute\u001B[38;5;241m.\u001B[39mexecute(\n\u001B[0;32m   1458\u001B[0m       name\u001B[38;5;241m.\u001B[39mdecode(\u001B[38;5;124m\"\u001B[39m\u001B[38;5;124mutf-8\u001B[39m\u001B[38;5;124m\"\u001B[39m),\n\u001B[0;32m   1459\u001B[0m       num_outputs\u001B[38;5;241m=\u001B[39mnum_outputs,\n\u001B[0;32m   1460\u001B[0m       inputs\u001B[38;5;241m=\u001B[39mtensor_inputs,\n\u001B[0;32m   1461\u001B[0m       attrs\u001B[38;5;241m=\u001B[39mattrs,\n\u001B[0;32m   1462\u001B[0m       ctx\u001B[38;5;241m=\u001B[39m\u001B[38;5;28mself\u001B[39m,\n\u001B[0;32m   1463\u001B[0m   )\n\u001B[0;32m   1464\u001B[0m \u001B[38;5;28;01melse\u001B[39;00m:\n\u001B[0;32m   1465\u001B[0m   outputs \u001B[38;5;241m=\u001B[39m execute\u001B[38;5;241m.\u001B[39mexecute_with_cancellation(\n\u001B[0;32m   1466\u001B[0m       name\u001B[38;5;241m.\u001B[39mdecode(\u001B[38;5;124m\"\u001B[39m\u001B[38;5;124mutf-8\u001B[39m\u001B[38;5;124m\"\u001B[39m),\n\u001B[0;32m   1467\u001B[0m       num_outputs\u001B[38;5;241m=\u001B[39mnum_outputs,\n\u001B[1;32m   (...)\u001B[0m\n\u001B[0;32m   1471\u001B[0m       cancellation_manager\u001B[38;5;241m=\u001B[39mcancellation_context,\n\u001B[0;32m   1472\u001B[0m   )\n",
      "File \u001B[1;32m~\\AppData\\Roaming\\Python\\Python311\\site-packages\\tensorflow\\python\\eager\\execute.py:53\u001B[0m, in \u001B[0;36mquick_execute\u001B[1;34m(op_name, num_outputs, inputs, attrs, ctx, name)\u001B[0m\n\u001B[0;32m     51\u001B[0m \u001B[38;5;28;01mtry\u001B[39;00m:\n\u001B[0;32m     52\u001B[0m   ctx\u001B[38;5;241m.\u001B[39mensure_initialized()\n\u001B[1;32m---> 53\u001B[0m   tensors \u001B[38;5;241m=\u001B[39m pywrap_tfe\u001B[38;5;241m.\u001B[39mTFE_Py_Execute(ctx\u001B[38;5;241m.\u001B[39m_handle, device_name, op_name,\n\u001B[0;32m     54\u001B[0m                                       inputs, attrs, num_outputs)\n\u001B[0;32m     55\u001B[0m \u001B[38;5;28;01mexcept\u001B[39;00m core\u001B[38;5;241m.\u001B[39m_NotOkStatusException \u001B[38;5;28;01mas\u001B[39;00m e:\n\u001B[0;32m     56\u001B[0m   \u001B[38;5;28;01mif\u001B[39;00m name \u001B[38;5;129;01mis\u001B[39;00m \u001B[38;5;129;01mnot\u001B[39;00m \u001B[38;5;28;01mNone\u001B[39;00m:\n",
      "\u001B[1;31mKeyboardInterrupt\u001B[0m: "
     ]
    }
   ],
   "source": [
    "history = model.fit(X_train, y_train, epochs=3000, callbacks=[early_stopping, checkpoint])    # , callbacks=[tb_callback]\n",
    "# save best model\n",
    "final_model_path = os.path.join(cs.MODELS_FOLDER, 'final_model.h5') \n",
    "model.save(final_model_path)"
   ],
   "metadata": {
    "collapsed": false,
    "ExecuteTime": {
     "end_time": "2024-05-27T23:06:38.193445100Z",
     "start_time": "2024-05-27T21:56:26.040600100Z"
    }
   },
   "id": "497f855d8fdb4379"
  },
  {
   "cell_type": "code",
   "execution_count": null,
   "outputs": [],
   "source": [
    "model.summary()"
   ],
   "metadata": {
    "collapsed": false
   },
   "id": "3387bbde19fe3fb5"
  },
  {
   "cell_type": "markdown",
   "source": [
    "### Make Predictions"
   ],
   "metadata": {
    "collapsed": false
   },
   "id": "cf1bb348d73b3e9"
  },
  {
   "cell_type": "code",
   "execution_count": 30,
   "outputs": [
    {
     "name": "stdout",
     "output_type": "stream",
     "text": [
      "3/3 [==============================] - 2s 24ms/step\n"
     ]
    }
   ],
   "source": [
    "res = model.predict(X_test)"
   ],
   "metadata": {
    "collapsed": false,
    "ExecuteTime": {
     "end_time": "2024-05-26T10:07:16.583630800Z",
     "start_time": "2024-05-26T10:07:14.122572100Z"
    }
   },
   "id": "5b62f11bb764f4e"
  },
  {
   "cell_type": "code",
   "execution_count": 31,
   "outputs": [
    {
     "data": {
      "text/plain": "'nove'"
     },
     "execution_count": 31,
     "metadata": {},
     "output_type": "execute_result"
    }
   ],
   "source": [
    "np_actions[np.argmax(res[4])]"
   ],
   "metadata": {
    "collapsed": false,
    "ExecuteTime": {
     "end_time": "2024-05-26T10:07:17.245829Z",
     "start_time": "2024-05-26T10:07:17.219784300Z"
    }
   },
   "id": "da07033415ab75dd"
  },
  {
   "cell_type": "code",
   "execution_count": 32,
   "outputs": [
    {
     "data": {
      "text/plain": "'nove'"
     },
     "execution_count": 32,
     "metadata": {},
     "output_type": "execute_result"
    }
   ],
   "source": [
    "np_actions[np.argmax(y_test[4])]"
   ],
   "metadata": {
    "collapsed": false,
    "ExecuteTime": {
     "end_time": "2024-05-26T10:07:18.490269500Z",
     "start_time": "2024-05-26T10:07:18.458608100Z"
    }
   },
   "id": "911f0a43a6249d78"
  },
  {
   "cell_type": "code",
   "execution_count": 38,
   "outputs": [
    {
     "ename": "FileNotFoundError",
     "evalue": "[Errno 2] Unable to open file (unable to open file: name = 'action.h5', errno = 2, error message = 'No such file or directory', flags = 0, o_flags = 0)",
     "output_type": "error",
     "traceback": [
      "\u001B[1;31m---------------------------------------------------------------------------\u001B[0m",
      "\u001B[1;31mFileNotFoundError\u001B[0m                         Traceback (most recent call last)",
      "Cell \u001B[1;32mIn[38], line 1\u001B[0m\n\u001B[1;32m----> 1\u001B[0m model\u001B[38;5;241m.\u001B[39mload_weights(\u001B[38;5;124m'\u001B[39m\u001B[38;5;124maction.h5\u001B[39m\u001B[38;5;124m'\u001B[39m)\n",
      "File \u001B[1;32m~\\AppData\\Roaming\\Python\\Python311\\site-packages\\keras\\src\\utils\\traceback_utils.py:70\u001B[0m, in \u001B[0;36mfilter_traceback.<locals>.error_handler\u001B[1;34m(*args, **kwargs)\u001B[0m\n\u001B[0;32m     67\u001B[0m     filtered_tb \u001B[38;5;241m=\u001B[39m _process_traceback_frames(e\u001B[38;5;241m.\u001B[39m__traceback__)\n\u001B[0;32m     68\u001B[0m     \u001B[38;5;66;03m# To get the full stack trace, call:\u001B[39;00m\n\u001B[0;32m     69\u001B[0m     \u001B[38;5;66;03m# `tf.debugging.disable_traceback_filtering()`\u001B[39;00m\n\u001B[1;32m---> 70\u001B[0m     \u001B[38;5;28;01mraise\u001B[39;00m e\u001B[38;5;241m.\u001B[39mwith_traceback(filtered_tb) \u001B[38;5;28;01mfrom\u001B[39;00m \u001B[38;5;28;01mNone\u001B[39;00m\n\u001B[0;32m     71\u001B[0m \u001B[38;5;28;01mfinally\u001B[39;00m:\n\u001B[0;32m     72\u001B[0m     \u001B[38;5;28;01mdel\u001B[39;00m filtered_tb\n",
      "File \u001B[1;32m~\\AppData\\Roaming\\Python\\Python311\\site-packages\\h5py\\_hl\\files.py:567\u001B[0m, in \u001B[0;36mFile.__init__\u001B[1;34m(self, name, mode, driver, libver, userblock_size, swmr, rdcc_nslots, rdcc_nbytes, rdcc_w0, track_order, fs_strategy, fs_persist, fs_threshold, fs_page_size, page_buf_size, min_meta_keep, min_raw_keep, locking, alignment_threshold, alignment_interval, meta_block_size, **kwds)\u001B[0m\n\u001B[0;32m    558\u001B[0m     fapl \u001B[38;5;241m=\u001B[39m make_fapl(driver, libver, rdcc_nslots, rdcc_nbytes, rdcc_w0,\n\u001B[0;32m    559\u001B[0m                      locking, page_buf_size, min_meta_keep, min_raw_keep,\n\u001B[0;32m    560\u001B[0m                      alignment_threshold\u001B[38;5;241m=\u001B[39malignment_threshold,\n\u001B[0;32m    561\u001B[0m                      alignment_interval\u001B[38;5;241m=\u001B[39malignment_interval,\n\u001B[0;32m    562\u001B[0m                      meta_block_size\u001B[38;5;241m=\u001B[39mmeta_block_size,\n\u001B[0;32m    563\u001B[0m                      \u001B[38;5;241m*\u001B[39m\u001B[38;5;241m*\u001B[39mkwds)\n\u001B[0;32m    564\u001B[0m     fcpl \u001B[38;5;241m=\u001B[39m make_fcpl(track_order\u001B[38;5;241m=\u001B[39mtrack_order, fs_strategy\u001B[38;5;241m=\u001B[39mfs_strategy,\n\u001B[0;32m    565\u001B[0m                      fs_persist\u001B[38;5;241m=\u001B[39mfs_persist, fs_threshold\u001B[38;5;241m=\u001B[39mfs_threshold,\n\u001B[0;32m    566\u001B[0m                      fs_page_size\u001B[38;5;241m=\u001B[39mfs_page_size)\n\u001B[1;32m--> 567\u001B[0m     fid \u001B[38;5;241m=\u001B[39m make_fid(name, mode, userblock_size, fapl, fcpl, swmr\u001B[38;5;241m=\u001B[39mswmr)\n\u001B[0;32m    569\u001B[0m \u001B[38;5;28;01mif\u001B[39;00m \u001B[38;5;28misinstance\u001B[39m(libver, \u001B[38;5;28mtuple\u001B[39m):\n\u001B[0;32m    570\u001B[0m     \u001B[38;5;28mself\u001B[39m\u001B[38;5;241m.\u001B[39m_libver \u001B[38;5;241m=\u001B[39m libver\n",
      "File \u001B[1;32m~\\AppData\\Roaming\\Python\\Python311\\site-packages\\h5py\\_hl\\files.py:231\u001B[0m, in \u001B[0;36mmake_fid\u001B[1;34m(name, mode, userblock_size, fapl, fcpl, swmr)\u001B[0m\n\u001B[0;32m    229\u001B[0m     \u001B[38;5;28;01mif\u001B[39;00m swmr \u001B[38;5;129;01mand\u001B[39;00m swmr_support:\n\u001B[0;32m    230\u001B[0m         flags \u001B[38;5;241m|\u001B[39m\u001B[38;5;241m=\u001B[39m h5f\u001B[38;5;241m.\u001B[39mACC_SWMR_READ\n\u001B[1;32m--> 231\u001B[0m     fid \u001B[38;5;241m=\u001B[39m h5f\u001B[38;5;241m.\u001B[39mopen(name, flags, fapl\u001B[38;5;241m=\u001B[39mfapl)\n\u001B[0;32m    232\u001B[0m \u001B[38;5;28;01melif\u001B[39;00m mode \u001B[38;5;241m==\u001B[39m \u001B[38;5;124m'\u001B[39m\u001B[38;5;124mr+\u001B[39m\u001B[38;5;124m'\u001B[39m:\n\u001B[0;32m    233\u001B[0m     fid \u001B[38;5;241m=\u001B[39m h5f\u001B[38;5;241m.\u001B[39mopen(name, h5f\u001B[38;5;241m.\u001B[39mACC_RDWR, fapl\u001B[38;5;241m=\u001B[39mfapl)\n",
      "File \u001B[1;32mh5py\\_objects.pyx:54\u001B[0m, in \u001B[0;36mh5py._objects.with_phil.wrapper\u001B[1;34m()\u001B[0m\n",
      "File \u001B[1;32mh5py\\_objects.pyx:55\u001B[0m, in \u001B[0;36mh5py._objects.with_phil.wrapper\u001B[1;34m()\u001B[0m\n",
      "File \u001B[1;32mh5py\\h5f.pyx:106\u001B[0m, in \u001B[0;36mh5py.h5f.open\u001B[1;34m()\u001B[0m\n",
      "\u001B[1;31mFileNotFoundError\u001B[0m: [Errno 2] Unable to open file (unable to open file: name = 'action.h5', errno = 2, error message = 'No such file or directory', flags = 0, o_flags = 0)"
     ]
    }
   ],
   "source": [
    "# model.load_weights('action.h5')"
   ],
   "metadata": {
    "collapsed": false,
    "ExecuteTime": {
     "end_time": "2024-05-22T17:01:33.376275300Z",
     "start_time": "2024-05-22T17:01:32.920290800Z"
    }
   },
   "id": "1b1e5dc495ac7ecb"
  },
  {
   "cell_type": "markdown",
   "source": [
    "### Evaluation using Confusion Matrix and Accuracy"
   ],
   "metadata": {
    "collapsed": false
   },
   "id": "4b203153c613ace6"
  },
  {
   "cell_type": "code",
   "execution_count": 34,
   "outputs": [],
   "source": [],
   "metadata": {
    "collapsed": false,
    "ExecuteTime": {
     "end_time": "2024-05-23T08:58:57.906075900Z",
     "start_time": "2024-05-23T08:58:57.900139500Z"
    }
   },
   "id": "42aee536a80d9155"
  },
  {
   "cell_type": "code",
   "execution_count": 33,
   "outputs": [
    {
     "name": "stdout",
     "output_type": "stream",
     "text": [
      "3/3 [==============================] - 0s 35ms/step\n"
     ]
    }
   ],
   "source": [
    "y_pred = model.predict(X_test)"
   ],
   "metadata": {
    "collapsed": false,
    "ExecuteTime": {
     "end_time": "2024-05-26T10:07:40.076637100Z",
     "start_time": "2024-05-26T10:07:39.820695500Z"
    }
   },
   "id": "ceedaeffbe070080"
  },
  {
   "cell_type": "code",
   "execution_count": 34,
   "outputs": [],
   "source": [
    "y_true = np.argmax(y_test, axis=1).tolist()\n",
    "y_pred = np.argmax(y_pred, axis=1).tolist()\n"
   ],
   "metadata": {
    "collapsed": false,
    "ExecuteTime": {
     "end_time": "2024-05-26T10:07:42.542356100Z",
     "start_time": "2024-05-26T10:07:42.523452300Z"
    }
   },
   "id": "803dc04ea0222ba3"
  },
  {
   "cell_type": "code",
   "execution_count": 35,
   "outputs": [
    {
     "data": {
      "text/plain": "75"
     },
     "execution_count": 35,
     "metadata": {},
     "output_type": "execute_result"
    }
   ],
   "source": [
    "len(y_true)"
   ],
   "metadata": {
    "collapsed": false,
    "ExecuteTime": {
     "end_time": "2024-05-26T10:07:43.449864100Z",
     "start_time": "2024-05-26T10:07:43.427122600Z"
    }
   },
   "id": "d540f574748ba877"
  },
  {
   "cell_type": "code",
   "execution_count": 36,
   "outputs": [
    {
     "data": {
      "text/plain": "<Figure size 500x500 with 1 Axes>",
      "image/png": "[encoded data removed]"
     },
     "metadata": {},
     "output_type": "display_data"
    }
   ],
   "source": [
    "from matplotlib import pyplot as plt\n",
    "from sklearn.metrics import ConfusionMatrixDisplay\n",
    "import seaborn as sns\n",
    "from sklearn.metrics import confusion_matrix\n",
    "\n",
    "cm = confusion_matrix(y_true, y_pred)\n",
    "\n",
    "# disp = ConfusionMatrixDisplay(confusion_matrix=cm)\n",
    "# disp.plot()\n",
    "\n",
    "# Plotting confusion matrix\n",
    "plt.figure(figsize=(5, 5))\n",
    "sns.heatmap(cm, annot=True, fmt='d', cmap='Blues', cbar=False, annot_kws={\"size\": 8})\n",
    "plt.title('Confusion Matrix - Blues Scale', fontsize=12)\n",
    "plt.show()"
   ],
   "metadata": {
    "collapsed": false,
    "ExecuteTime": {
     "end_time": "2024-05-26T10:07:45.743652300Z",
     "start_time": "2024-05-26T10:07:45.015410100Z"
    }
   },
   "id": "5ff6097e60661fa3"
  },
  {
   "cell_type": "code",
   "execution_count": 38,
   "outputs": [
    {
     "data": {
      "text/plain": "0.96"
     },
     "execution_count": 38,
     "metadata": {},
     "output_type": "execute_result"
    }
   ],
   "source": [
    "accuracy_score(y_true, y_pred)"
   ],
   "metadata": {
    "collapsed": false,
    "ExecuteTime": {
     "end_time": "2024-05-26T10:07:51.912758100Z",
     "start_time": "2024-05-26T10:07:51.861440200Z"
    }
   },
   "id": "ed22dd7d1f1030b4"
  },
  {
   "cell_type": "code",
   "execution_count": null,
   "outputs": [],
   "source": [],
   "metadata": {
    "collapsed": false
   },
   "id": "6886f452890e0703"
  },
  {
   "cell_type": "code",
   "execution_count": null,
   "outputs": [],
   "source": [],
   "metadata": {
    "collapsed": false
   },
   "id": "9d2579b3e8cc8c4e"
  },
  {
   "cell_type": "code",
   "execution_count": null,
   "outputs": [],
   "source": [],
   "metadata": {
    "collapsed": false
   },
   "id": "71f89647f39c2003"
  },
  {
   "cell_type": "code",
   "execution_count": null,
   "outputs": [],
   "source": [],
   "metadata": {
    "collapsed": false
   },
   "id": "440828e442feb5b3"
  }
 ],
 "metadata": {
  "kernelspec": {
   "display_name": "Python 3",
   "language": "python",
   "name": "python3"
  },
  "language_info": {
   "codemirror_mode": {
    "name": "ipython",
    "version": 2
   },
   "file_extension": ".py",
   "mimetype": "text/x-python",
   "name": "python",
   "nbconvert_exporter": "python",
   "pygments_lexer": "ipython2",
   "version": "2.7.6"
  }
 },
 "nbformat": 4,
 "nbformat_minor": 5
}
