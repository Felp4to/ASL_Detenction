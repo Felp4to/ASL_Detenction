{
 "cells": [
  {
   "cell_type": "markdown",
   "source": [
    "### Training and Testing"
   ],
   "metadata": {
    "collapsed": false
   },
   "id": "4852c2fcb4693246"
  },
  {
   "cell_type": "code",
   "execution_count": 1,
   "outputs": [],
   "source": [
    "import numpy as np\n",
    "import os\n",
    "import constants as cs\n",
    "import yaml\n",
    "import globali as gg\n",
    "import settings\n",
    "from sklearn.model_selection import train_test_split\n",
    "from tensorflow.keras.utils import to_categorical\n",
    "from sklearn.metrics import accuracy_score\n",
    "from tqdm import tqdm\n",
    "from tensorflow.keras.models import Sequential\n",
    "from tensorflow.keras.callbacks import TensorBoard, EarlyStopping, ModelCheckpoint, CSVLogger\n",
    "from tensorflow.keras.layers import LSTM, GRU, Dense, Dropout, BatchNormalization\n",
    "from tensorflow.keras.regularizers import l2\n",
    "import matplotlib.pyplot as plt\n",
    "from sklearn.metrics import confusion_matrix\n",
    "import seaborn as sns\n",
    "import custom_data_generator as cdg "
   ],
   "metadata": {
    "collapsed": false,
    "ExecuteTime": {
     "end_time": "2024-06-29T12:46:18.920611600Z",
     "start_time": "2024-06-29T12:46:10.416110600Z"
    }
   },
   "id": "initial_id"
  },
  {
   "cell_type": "markdown",
   "source": [
    "### Load configuration data"
   ],
   "metadata": {
    "collapsed": false
   },
   "id": "618ba84e4b3ffe8c"
  },
  {
   "cell_type": "code",
   "execution_count": 3,
   "outputs": [],
   "source": [
    "# Load actions and counters\n",
    "gg.actions, gg.counters = settings.read_yaml_fields()\n",
    "label_map = {label:num for num, label in enumerate(gg.actions)}\n",
    "display(gg.actions)\n",
    "display(gg.counters)"
   ],
   "metadata": {
    "collapsed": false,
    "ExecuteTime": {
     "end_time": "2024-06-29T11:39:00.311137Z",
     "start_time": "2024-06-29T11:39:00.265461900Z"
    }
   },
   "id": "8e3f5d6a45fd4e69"
  },
  {
   "cell_type": "markdown",
   "source": [
    "### Read keypoints and split train and test set"
   ],
   "metadata": {
    "collapsed": false
   },
   "id": "43e411d407d27675"
  },
  {
   "cell_type": "code",
   "execution_count": 5,
   "outputs": [
    {
     "name": "stderr",
     "output_type": "stream",
     "text": [
      "Processing Actions: 100%|██████████| 58/58 [01:31<00:00,  1.57s/it]\n"
     ]
    }
   ],
   "source": [
    "sequences, labels = [], []\n",
    "\n",
    "# get all the keypoints\n",
    "for action in tqdm(gg.actions, desc=\"Processing Actions\"):\n",
    "    for sequence in range(gg.counters[action]):\n",
    "        window = []\n",
    "        for frame_num in range(cs.NUM_FRAME):\n",
    "            res = np.load(os.path.join(cs.KEYPOINTS_FOLDER, action, str(sequence), \"{}.npy\".format(frame_num)))\n",
    "            window.append(res)\n",
    "        sequences.append(window)\n",
    "        labels.append(label_map[action])\n",
    "\n",
    "display(np.array(sequences).shape)   \n",
    "display(np.array(labels).shape)"
   ],
   "metadata": {
    "collapsed": false,
    "ExecuteTime": {
     "end_time": "2024-06-29T11:40:33.370912300Z",
     "start_time": "2024-06-29T11:39:02.183138700Z"
    }
   },
   "id": "ab4605957098bac"
  },
  {
   "cell_type": "code",
   "execution_count": 7,
   "outputs": [
    {
     "data": {
      "text/plain": "(4921, 30, 1662)"
     },
     "metadata": {},
     "output_type": "display_data"
    },
    {
     "data": {
      "text/plain": "array([[1, 0, 0, ..., 0, 0, 0],\n       [1, 0, 0, ..., 0, 0, 0],\n       [1, 0, 0, ..., 0, 0, 0],\n       ...,\n       [0, 0, 0, ..., 0, 0, 1],\n       [0, 0, 0, ..., 0, 0, 1],\n       [0, 0, 0, ..., 0, 0, 1]])"
     },
     "metadata": {},
     "output_type": "display_data"
    }
   ],
   "source": [
    "# generate X and y\n",
    "X = np.array(sequences)\n",
    "y = to_categorical(labels).astype(int)\n",
    "\n",
    "display(X.shape)\n",
    "display(y.shape)"
   ],
   "metadata": {
    "collapsed": false,
    "ExecuteTime": {
     "end_time": "2024-06-29T11:41:33.138997900Z",
     "start_time": "2024-06-29T11:41:24.171400700Z"
    }
   },
   "id": "9ffadaf6d87150fd"
  },
  {
   "cell_type": "code",
   "execution_count": 8,
   "outputs": [
    {
     "name": "stdout",
     "output_type": "stream",
     "text": [
      "(4674, 58)\n",
      "(247, 58)\n"
     ]
    }
   ],
   "source": [
    "# split training and test set\n",
    "X_train, X_test, y_train, y_test = train_test_split(X, y, test_size=0.05, stratify=y)\n",
    "\n",
    "print(X_train.shape)\n",
    "print(X_test.shape)\n",
    "print(y_train.shape)\n",
    "print(y_test.shape)"
   ],
   "metadata": {
    "collapsed": false,
    "ExecuteTime": {
     "end_time": "2024-06-29T11:42:15.465436800Z",
     "start_time": "2024-06-29T11:42:09.065600100Z"
    }
   },
   "id": "1d8011c3059222b5"
  },
  {
   "cell_type": "markdown",
   "source": [
    "### Folders"
   ],
   "metadata": {
    "collapsed": false
   },
   "id": "205e0a7e3b67012d"
  },
  {
   "cell_type": "code",
   "execution_count": 9,
   "outputs": [],
   "source": [
    "def create_folder_for_training(number):\n",
    "    # create folders\n",
    "    log_f = os.path.join(cs.LOGS_FOLDER, 'log_' + str(number), '')\n",
    "    model_f = os.path.join(cs.MODELS_FOLDER, 'model_' + str(number))\n",
    "    os.makedirs(log_f, exist_ok=True)\n",
    "    os.makedirs(model_f, exist_ok=True)\n",
    "    log_f = \"D:\\logs\"\n",
    "    return log_f, model_f"
   ],
   "metadata": {
    "collapsed": false,
    "ExecuteTime": {
     "end_time": "2024-06-29T11:42:29.997190700Z",
     "start_time": "2024-06-29T11:42:29.981422200Z"
    }
   },
   "id": "6cb0bcd2b19391c5"
  },
  {
   "cell_type": "code",
   "execution_count": 10,
   "outputs": [
    {
     "data": {
      "text/plain": "'D:\\\\Università\\\\Magistrale_Roma_Tre\\\\Deep_Learning\\\\Progetto\\\\PROGETTO\\\\AslDetenction'"
     },
     "execution_count": 10,
     "metadata": {},
     "output_type": "execute_result"
    }
   ],
   "source": [
    "os.getcwd()"
   ],
   "metadata": {
    "collapsed": false,
    "ExecuteTime": {
     "end_time": "2024-06-29T11:42:30.487653700Z",
     "start_time": "2024-06-29T11:42:30.441267900Z"
    }
   },
   "id": "7b85507287a1a30c"
  },
  {
   "cell_type": "code",
   "execution_count": 11,
   "outputs": [],
   "source": [
    "log_f, model_f = create_folder_for_training(22)"
   ],
   "metadata": {
    "collapsed": false,
    "ExecuteTime": {
     "end_time": "2024-06-29T11:42:36.959778300Z",
     "start_time": "2024-06-29T11:42:36.915843Z"
    }
   },
   "id": "97e2b33fad53052e"
  },
  {
   "cell_type": "markdown",
   "source": [
    "### Logs"
   ],
   "metadata": {
    "collapsed": false
   },
   "id": "a4084661caabaef6"
  },
  {
   "cell_type": "code",
   "execution_count": 12,
   "outputs": [],
   "source": [
    "# log\n",
    "tensorboard_callback = TensorBoard(log_dir=log_f, histogram_freq=1)\n",
    "training_log = os.path.join(log_f, 'train_log.csv')\n",
    "csv_logger = CSVLogger(training_log, append=True)"
   ],
   "metadata": {
    "collapsed": false,
    "ExecuteTime": {
     "end_time": "2024-06-29T11:42:38.129370700Z",
     "start_time": "2024-06-29T11:42:37.984549800Z"
    }
   },
   "id": "858434da88fb9b50"
  },
  {
   "cell_type": "markdown",
   "source": [
    "### Models"
   ],
   "metadata": {
    "collapsed": false
   },
   "id": "7554e4a153c0d55e"
  },
  {
   "cell_type": "code",
   "execution_count": 12,
   "outputs": [
    {
     "name": "stdout",
     "output_type": "stream",
     "text": [
      "58\n"
     ]
    }
   ],
   "source": [
    "# LSTM (model_1)\n",
    "\n",
    "np_actions = np.array(list(gg.actions))\n",
    "print(np_actions.shape[0])\n",
    "model = Sequential()\n",
    "model.add(LSTM(64, return_sequences=True, activation='tanh', input_shape=(30, 1662)))\n",
    "model.add(Dropout(0.2))\n",
    "model.add(LSTM(128, return_sequences=True, activation='tanh'))\n",
    "model.add(Dropout(0.2))\n",
    "model.add(LSTM(64, return_sequences=False, activation='tanh'))\n",
    "model.add(BatchNormalization())\n",
    "model.add(Dense(64, activation='relu', kernel_regularizer=l2(0.01)))\n",
    "model.add(Dropout(0.5))\n",
    "model.add(Dense(32, activation='relu', kernel_regularizer=l2(0.01)))\n",
    "model.add(Dropout(0.5))\n",
    "model.add(Dense(np_actions.shape[0], activation='softmax'))\n"
   ],
   "metadata": {
    "collapsed": false,
    "ExecuteTime": {
     "end_time": "2024-06-09T18:57:26.965679100Z",
     "start_time": "2024-06-09T18:56:58.621003Z"
    }
   },
   "id": "5f4554201e7ac0cc"
  },
  {
   "cell_type": "code",
   "execution_count": 13,
   "outputs": [
    {
     "name": "stdout",
     "output_type": "stream",
     "text": [
      "58\n"
     ]
    }
   ],
   "source": [
    "# LSTM (model_21_22)\n",
    "np_actions = np.array(list(gg.actions))\n",
    "print(np_actions.shape[0])\n",
    "model = Sequential()\n",
    "model.add(LSTM(64, return_sequences=True, activation='tanh', input_shape=(30, 1662)))\n",
    "model.add(LSTM(128, return_sequences=True, activation='tanh'))\n",
    "model.add(LSTM(64, return_sequences=False, activation='tanh'))\n",
    "model.add(Dense(64, activation='relu', kernel_regularizer=l2(0.01)))\n",
    "model.add(Dense(32, activation='relu', kernel_regularizer=l2(0.01)))\n",
    "model.add(Dense(np_actions.shape[0], activation='softmax'))"
   ],
   "metadata": {
    "collapsed": false,
    "ExecuteTime": {
     "end_time": "2024-06-29T11:43:00.542342500Z",
     "start_time": "2024-06-29T11:42:56.477067200Z"
    }
   },
   "id": "21e3ca1f53adba4e"
  },
  {
   "cell_type": "code",
   "execution_count": 12,
   "outputs": [
    {
     "name": "stdout",
     "output_type": "stream",
     "text": [
      "58\n"
     ]
    }
   ],
   "source": [
    "# GRU (model_2)\n",
    "\n",
    "np_actions = np.array(list(gg.actions))\n",
    "print(np_actions.shape[0])\n",
    "model = Sequential()\n",
    "model.add(GRU(64, return_sequences=True, activation='tanh', input_shape=(30, 1662)))\n",
    "model.add(Dropout(0.2))\n",
    "model.add(GRU(128, return_sequences=True, activation='tanh'))\n",
    "model.add(Dropout(0.2))\n",
    "model.add(GRU(64, return_sequences=False, activation='tanh'))\n",
    "model.add(BatchNormalization())\n",
    "model.add(Dense(64, activation='relu', kernel_regularizer=l2(0.01)))\n",
    "model.add(Dropout(0.5))\n",
    "model.add(Dense(32, activation='relu', kernel_regularizer=l2(0.01)))\n",
    "model.add(Dropout(0.5))\n",
    "model.add(Dense(np_actions.shape[0], activation='softmax'))\n"
   ],
   "metadata": {
    "collapsed": false,
    "ExecuteTime": {
     "end_time": "2024-06-10T08:13:11.749059500Z",
     "start_time": "2024-06-10T08:13:05.104327900Z"
    }
   },
   "id": "cee9f362babf91a2"
  },
  {
   "cell_type": "code",
   "execution_count": 7,
   "outputs": [],
   "source": [
    "# GRU (model_3)\n",
    "\n",
    "np_actions = np.array(list(gg.actions))\n",
    "model = Sequential()\n",
    "model.add(GRU(64, return_sequences=True, activation='tanh', input_shape=(30, 1662)))\n",
    "model.add(GRU(128, return_sequences=True, activation='tanh'))\n",
    "model.add(GRU(64, return_sequences=False, activation='tanh'))\n",
    "model.add(Dense(64, activation='relu', kernel_regularizer=l2(0.01)))\n",
    "model.add(Dense(32, activation='relu', kernel_regularizer=l2(0.01)))\n",
    "model.add(Dense(np_actions.shape[0], activation='softmax'))"
   ],
   "metadata": {
    "collapsed": false,
    "ExecuteTime": {
     "end_time": "2024-06-13T07:25:25.881193100Z",
     "start_time": "2024-06-13T07:25:21.445832300Z"
    }
   },
   "id": "4299c3ce078c1157"
  },
  {
   "cell_type": "code",
   "execution_count": 14,
   "outputs": [
    {
     "name": "stdout",
     "output_type": "stream",
     "text": [
      "58\n"
     ]
    }
   ],
   "source": [
    "# Old LSTM\n",
    "\n",
    "np_actions = np.array(list(gg.actions))\n",
    "print(np_actions.shape[0])\n",
    "model = Sequential()\n",
    "model.add(LSTM(64, return_sequences=True, activation='relu', input_shape=(30,1662)))\n",
    "model.add(LSTM(128, return_sequences=True, activation='relu'))\n",
    "model.add(LSTM(64, return_sequences=False, activation='relu'))\n",
    "model.add(Dense(64, activation='relu'))\n",
    "model.add(Dense(32, activation='relu'))\n",
    "model.add(Dense(np_actions.shape[0], activation='softmax'))"
   ],
   "metadata": {
    "collapsed": false,
    "ExecuteTime": {
     "end_time": "2024-06-08T10:22:09.767423400Z",
     "start_time": "2024-06-08T10:22:07.618309Z"
    }
   },
   "id": "442c822b87caafee"
  },
  {
   "cell_type": "markdown",
   "source": [
    "### Training"
   ],
   "metadata": {
    "collapsed": false
   },
   "id": "a5311fdc4689fc72"
  },
  {
   "cell_type": "code",
   "execution_count": 14,
   "outputs": [],
   "source": [
    "# Creazione del generatore personalizzato\n",
    "batch_size = 32\n",
    "train_generator = cdg.CustomDataGenerator(X_train, y_train, batch_size=batch_size, augment_data=True)"
   ],
   "metadata": {
    "collapsed": false,
    "ExecuteTime": {
     "end_time": "2024-06-29T11:44:07.222833800Z",
     "start_time": "2024-06-29T11:44:07.188446Z"
    }
   },
   "id": "5889bcd665228c2f"
  },
  {
   "cell_type": "code",
   "execution_count": 15,
   "outputs": [
    {
     "name": "stdout",
     "output_type": "stream",
     "text": [
      "Epoch 1/400\n",
      "147/147 [==============================] - ETA: 0s - loss: 4.5293 - categorical_accuracy: 0.0212"
     ]
    },
    {
     "name": "stderr",
     "output_type": "stream",
     "text": [
      "C:\\Users\\Paolo\\AppData\\Roaming\\Python\\Python311\\site-packages\\keras\\src\\engine\\training.py:3000: UserWarning: You are saving your model as an HDF5 file via `model.save()`. This file format is considered legacy. We recommend using instead the native Keras format, e.g. `model.save('my_model.keras')`.\n",
      "  saving_api.save_model(\n"
     ]
    },
    {
     "name": "stdout",
     "output_type": "stream",
     "text": [
      "147/147 [==============================] - 31s 118ms/step - loss: 4.5293 - categorical_accuracy: 0.0212\n",
      "Epoch 2/400\n",
      "147/147 [==============================] - 16s 105ms/step - loss: 4.0598 - categorical_accuracy: 0.0182\n",
      "Epoch 3/400\n",
      "147/147 [==============================] - 14s 93ms/step - loss: 3.8424 - categorical_accuracy: 0.0374\n",
      "Epoch 4/400\n",
      "147/147 [==============================] - 15s 101ms/step - loss: 3.6840 - categorical_accuracy: 0.0383\n",
      "Epoch 5/400\n",
      "147/147 [==============================] - 17s 114ms/step - loss: 3.6197 - categorical_accuracy: 0.0580\n",
      "Epoch 6/400\n",
      "147/147 [==============================] - 16s 110ms/step - loss: 3.4806 - categorical_accuracy: 0.0719\n",
      "Epoch 7/400\n",
      "147/147 [==============================] - 16s 111ms/step - loss: 3.3817 - categorical_accuracy: 0.0858\n",
      "Epoch 8/400\n",
      "147/147 [==============================] - 16s 109ms/step - loss: 3.3311 - categorical_accuracy: 0.0899\n",
      "Epoch 9/400\n",
      "147/147 [==============================] - 16s 109ms/step - loss: 3.3513 - categorical_accuracy: 0.0860\n",
      "Epoch 10/400\n",
      "147/147 [==============================] - 16s 111ms/step - loss: 3.2755 - categorical_accuracy: 0.0907\n",
      "Epoch 11/400\n",
      "147/147 [==============================] - 17s 113ms/step - loss: 3.2264 - categorical_accuracy: 0.1115\n",
      "Epoch 12/400\n",
      "147/147 [==============================] - 17s 113ms/step - loss: 3.2072 - categorical_accuracy: 0.1106\n",
      "Epoch 13/400\n",
      "147/147 [==============================] - 16s 110ms/step - loss: 3.1760 - categorical_accuracy: 0.1145\n",
      "Epoch 14/400\n",
      "147/147 [==============================] - 16s 112ms/step - loss: 3.1586 - categorical_accuracy: 0.1194\n",
      "Epoch 15/400\n",
      "147/147 [==============================] - 16s 112ms/step - loss: 3.1167 - categorical_accuracy: 0.1318\n",
      "Epoch 16/400\n",
      "147/147 [==============================] - 16s 111ms/step - loss: 3.2875 - categorical_accuracy: 0.1046\n",
      "Epoch 17/400\n",
      "147/147 [==============================] - 16s 112ms/step - loss: 3.1033 - categorical_accuracy: 0.1277\n",
      "Epoch 18/400\n",
      "147/147 [==============================] - 17s 114ms/step - loss: 3.0760 - categorical_accuracy: 0.1320\n",
      "Epoch 19/400\n",
      "147/147 [==============================] - 16s 112ms/step - loss: 3.0751 - categorical_accuracy: 0.1361\n",
      "Epoch 20/400\n",
      "147/147 [==============================] - 17s 114ms/step - loss: 2.9986 - categorical_accuracy: 0.1418\n",
      "Epoch 21/400\n",
      "147/147 [==============================] - 17s 114ms/step - loss: 2.9894 - categorical_accuracy: 0.1521\n",
      "Epoch 22/400\n",
      "147/147 [==============================] - 17s 114ms/step - loss: 2.9855 - categorical_accuracy: 0.1489\n",
      "Epoch 23/400\n",
      "147/147 [==============================] - 17s 115ms/step - loss: 2.9469 - categorical_accuracy: 0.1528\n",
      "Epoch 24/400\n",
      "147/147 [==============================] - 17s 115ms/step - loss: 2.9423 - categorical_accuracy: 0.1575\n",
      "Epoch 25/400\n",
      "147/147 [==============================] - 17s 119ms/step - loss: 2.9306 - categorical_accuracy: 0.1594\n",
      "Epoch 26/400\n",
      "147/147 [==============================] - 17s 117ms/step - loss: 2.8990 - categorical_accuracy: 0.1607\n",
      "Epoch 27/400\n",
      "147/147 [==============================] - 18s 121ms/step - loss: 2.9382 - categorical_accuracy: 0.1528\n",
      "Epoch 28/400\n",
      "147/147 [==============================] - 18s 122ms/step - loss: 2.8771 - categorical_accuracy: 0.1637\n",
      "Epoch 29/400\n",
      "147/147 [==============================] - 17s 117ms/step - loss: 2.8540 - categorical_accuracy: 0.1752\n",
      "Epoch 30/400\n",
      "147/147 [==============================] - 17s 116ms/step - loss: 2.8639 - categorical_accuracy: 0.1716\n",
      "Epoch 31/400\n",
      "147/147 [==============================] - 17s 115ms/step - loss: 2.8549 - categorical_accuracy: 0.1746\n",
      "Epoch 32/400\n",
      "147/147 [==============================] - 17s 114ms/step - loss: 2.8031 - categorical_accuracy: 0.1806\n",
      "Epoch 33/400\n",
      "147/147 [==============================] - 17s 113ms/step - loss: 2.8544 - categorical_accuracy: 0.1718\n",
      "Epoch 34/400\n",
      "147/147 [==============================] - 17s 115ms/step - loss: 2.8463 - categorical_accuracy: 0.1641\n",
      "Epoch 35/400\n",
      "147/147 [==============================] - 17s 116ms/step - loss: 2.7692 - categorical_accuracy: 0.1938\n",
      "Epoch 36/400\n",
      "147/147 [==============================] - 17s 113ms/step - loss: 2.7924 - categorical_accuracy: 0.1958\n",
      "Epoch 37/400\n",
      "147/147 [==============================] - 17s 114ms/step - loss: 2.7057 - categorical_accuracy: 0.2067\n",
      "Epoch 38/400\n",
      "147/147 [==============================] - 17s 115ms/step - loss: 2.6760 - categorical_accuracy: 0.2180\n",
      "Epoch 39/400\n",
      "147/147 [==============================] - 17s 118ms/step - loss: 2.6706 - categorical_accuracy: 0.2249\n",
      "Epoch 40/400\n",
      "147/147 [==============================] - 17s 115ms/step - loss: 2.6660 - categorical_accuracy: 0.2377\n",
      "Epoch 41/400\n",
      "147/147 [==============================] - 17s 116ms/step - loss: 2.6522 - categorical_accuracy: 0.2264\n",
      "Epoch 42/400\n",
      "147/147 [==============================] - 17s 116ms/step - loss: 2.6165 - categorical_accuracy: 0.2428\n",
      "Epoch 43/400\n",
      "147/147 [==============================] - 17s 115ms/step - loss: 2.6260 - categorical_accuracy: 0.2507\n",
      "Epoch 44/400\n",
      "147/147 [==============================] - 17s 115ms/step - loss: 2.5975 - categorical_accuracy: 0.2582\n",
      "Epoch 45/400\n",
      "147/147 [==============================] - 17s 114ms/step - loss: 2.4871 - categorical_accuracy: 0.2756\n",
      "Epoch 46/400\n",
      "147/147 [==============================] - 17s 114ms/step - loss: 2.5179 - categorical_accuracy: 0.2822\n",
      "Epoch 47/400\n",
      "147/147 [==============================] - 17s 115ms/step - loss: 2.4671 - categorical_accuracy: 0.2905\n",
      "Epoch 48/400\n",
      "147/147 [==============================] - 17s 118ms/step - loss: 2.4316 - categorical_accuracy: 0.2970\n",
      "Epoch 49/400\n",
      "147/147 [==============================] - 17s 116ms/step - loss: 2.4167 - categorical_accuracy: 0.3040\n",
      "Epoch 50/400\n",
      "147/147 [==============================] - 17s 115ms/step - loss: 2.4010 - categorical_accuracy: 0.3040\n",
      "Epoch 51/400\n",
      "147/147 [==============================] - 17s 116ms/step - loss: 2.3733 - categorical_accuracy: 0.3149\n",
      "Epoch 52/400\n",
      "147/147 [==============================] - 17s 116ms/step - loss: 2.3285 - categorical_accuracy: 0.3166\n",
      "Epoch 53/400\n",
      "147/147 [==============================] - 17s 115ms/step - loss: 2.4066 - categorical_accuracy: 0.3072\n",
      "Epoch 54/400\n",
      "147/147 [==============================] - 17s 114ms/step - loss: 2.3616 - categorical_accuracy: 0.3083\n",
      "Epoch 55/400\n",
      "147/147 [==============================] - 17s 116ms/step - loss: 2.3451 - categorical_accuracy: 0.3134\n",
      "Epoch 56/400\n",
      "147/147 [==============================] - 17s 115ms/step - loss: 2.2395 - categorical_accuracy: 0.3479\n",
      "Epoch 57/400\n",
      "147/147 [==============================] - 17s 115ms/step - loss: 2.2591 - categorical_accuracy: 0.3517\n",
      "Epoch 58/400\n",
      "147/147 [==============================] - 17s 115ms/step - loss: 2.2347 - categorical_accuracy: 0.3481\n",
      "Epoch 59/400\n",
      "147/147 [==============================] - 17s 118ms/step - loss: 2.3178 - categorical_accuracy: 0.3286\n",
      "Epoch 60/400\n",
      "147/147 [==============================] - 17s 117ms/step - loss: 2.1870 - categorical_accuracy: 0.3703\n",
      "Epoch 61/400\n",
      "147/147 [==============================] - 17s 118ms/step - loss: 2.1597 - categorical_accuracy: 0.3603\n",
      "Epoch 62/400\n",
      "147/147 [==============================] - 17s 117ms/step - loss: 2.1640 - categorical_accuracy: 0.3744\n",
      "Epoch 63/400\n",
      "147/147 [==============================] - 17s 116ms/step - loss: 2.1312 - categorical_accuracy: 0.3793\n",
      "Epoch 64/400\n",
      "147/147 [==============================] - 17s 115ms/step - loss: 2.0924 - categorical_accuracy: 0.3958\n",
      "Epoch 65/400\n",
      "147/147 [==============================] - 17s 114ms/step - loss: 2.0999 - categorical_accuracy: 0.3920\n",
      "Epoch 66/400\n",
      "147/147 [==============================] - 17s 118ms/step - loss: 2.1277 - categorical_accuracy: 0.3819\n",
      "Epoch 67/400\n",
      "147/147 [==============================] - 17s 116ms/step - loss: 2.0287 - categorical_accuracy: 0.4134\n",
      "Epoch 68/400\n",
      "147/147 [==============================] - 17s 114ms/step - loss: 2.0153 - categorical_accuracy: 0.4191\n",
      "Epoch 69/400\n",
      "147/147 [==============================] - 17s 114ms/step - loss: 2.2513 - categorical_accuracy: 0.3560\n",
      "Epoch 70/400\n",
      "147/147 [==============================] - 17s 116ms/step - loss: 2.0103 - categorical_accuracy: 0.4213\n",
      "Epoch 71/400\n",
      "147/147 [==============================] - 17s 115ms/step - loss: 2.0147 - categorical_accuracy: 0.4206\n",
      "Epoch 72/400\n",
      "147/147 [==============================] - 17s 117ms/step - loss: 1.9658 - categorical_accuracy: 0.4412\n",
      "Epoch 73/400\n",
      "147/147 [==============================] - 17s 114ms/step - loss: 2.0029 - categorical_accuracy: 0.4268\n",
      "Epoch 74/400\n",
      "147/147 [==============================] - 17s 116ms/step - loss: 1.9199 - categorical_accuracy: 0.4557\n",
      "Epoch 75/400\n",
      "147/147 [==============================] - 17s 115ms/step - loss: 1.9057 - categorical_accuracy: 0.4527\n",
      "Epoch 76/400\n",
      "147/147 [==============================] - 17s 115ms/step - loss: 1.8914 - categorical_accuracy: 0.4617\n",
      "Epoch 77/400\n",
      "147/147 [==============================] - 17s 115ms/step - loss: 1.8480 - categorical_accuracy: 0.4869\n",
      "Epoch 78/400\n",
      "147/147 [==============================] - 17s 119ms/step - loss: 1.8246 - categorical_accuracy: 0.4865\n",
      "Epoch 79/400\n",
      "147/147 [==============================] - 17s 116ms/step - loss: 1.8479 - categorical_accuracy: 0.4825\n",
      "Epoch 80/400\n",
      "147/147 [==============================] - 17s 117ms/step - loss: 1.8120 - categorical_accuracy: 0.4887\n",
      "Epoch 81/400\n",
      "147/147 [==============================] - 17s 116ms/step - loss: 1.7883 - categorical_accuracy: 0.4949\n",
      "Epoch 82/400\n",
      "147/147 [==============================] - 17s 115ms/step - loss: 1.7513 - categorical_accuracy: 0.5071\n",
      "Epoch 83/400\n",
      "147/147 [==============================] - 18s 120ms/step - loss: 2.1036 - categorical_accuracy: 0.4208\n",
      "Epoch 84/400\n",
      "147/147 [==============================] - 18s 124ms/step - loss: 1.7386 - categorical_accuracy: 0.5139\n",
      "Epoch 85/400\n",
      "147/147 [==============================] - 18s 119ms/step - loss: 1.6967 - categorical_accuracy: 0.5319\n",
      "Epoch 86/400\n",
      "147/147 [==============================] - 21s 146ms/step - loss: 1.6726 - categorical_accuracy: 0.5428\n",
      "Epoch 87/400\n",
      "147/147 [==============================] - 22s 147ms/step - loss: 1.6909 - categorical_accuracy: 0.5242\n",
      "Epoch 88/400\n",
      "147/147 [==============================] - 20s 136ms/step - loss: 1.6921 - categorical_accuracy: 0.5323\n",
      "Epoch 89/400\n",
      "147/147 [==============================] - 17s 118ms/step - loss: 1.7127 - categorical_accuracy: 0.5334\n",
      "Epoch 90/400\n",
      "147/147 [==============================] - 17s 114ms/step - loss: 1.5911 - categorical_accuracy: 0.5695\n",
      "Epoch 91/400\n",
      "147/147 [==============================] - 17s 115ms/step - loss: 1.7735 - categorical_accuracy: 0.5073\n",
      "Epoch 92/400\n",
      "147/147 [==============================] - 17s 114ms/step - loss: 1.6997 - categorical_accuracy: 0.5302\n",
      "Epoch 93/400\n",
      "147/147 [==============================] - 17s 115ms/step - loss: 1.6826 - categorical_accuracy: 0.5469\n",
      "Epoch 94/400\n",
      "147/147 [==============================] - 17s 114ms/step - loss: 1.6024 - categorical_accuracy: 0.5680\n",
      "Epoch 95/400\n",
      "147/147 [==============================] - 17s 118ms/step - loss: 1.5078 - categorical_accuracy: 0.5886\n",
      "Epoch 96/400\n",
      "147/147 [==============================] - 18s 122ms/step - loss: 1.5934 - categorical_accuracy: 0.5599\n",
      "Epoch 97/400\n",
      "147/147 [==============================] - 21s 146ms/step - loss: 1.6199 - categorical_accuracy: 0.5614\n",
      "Epoch 98/400\n",
      "147/147 [==============================] - 22s 146ms/step - loss: 1.5167 - categorical_accuracy: 0.5984\n",
      "Epoch 99/400\n",
      "147/147 [==============================] - 17s 118ms/step - loss: 1.4726 - categorical_accuracy: 0.6095\n",
      "Epoch 100/400\n",
      "147/147 [==============================] - 18s 119ms/step - loss: 1.5171 - categorical_accuracy: 0.6068\n",
      "Epoch 101/400\n",
      "147/147 [==============================] - 17s 117ms/step - loss: 1.6457 - categorical_accuracy: 0.5539\n",
      "Epoch 102/400\n",
      "147/147 [==============================] - 18s 121ms/step - loss: 1.4143 - categorical_accuracy: 0.6222\n",
      "Epoch 103/400\n",
      "147/147 [==============================] - 17s 114ms/step - loss: 1.4653 - categorical_accuracy: 0.6055\n",
      "Epoch 104/400\n",
      "147/147 [==============================] - 19s 130ms/step - loss: 1.4327 - categorical_accuracy: 0.6196\n",
      "Epoch 105/400\n",
      "147/147 [==============================] - 23s 158ms/step - loss: 1.3916 - categorical_accuracy: 0.6318\n",
      "Epoch 106/400\n",
      "147/147 [==============================] - 20s 132ms/step - loss: 1.4253 - categorical_accuracy: 0.6284\n",
      "Epoch 107/400\n",
      "147/147 [==============================] - 19s 130ms/step - loss: 1.3679 - categorical_accuracy: 0.6421\n",
      "Epoch 108/400\n",
      "147/147 [==============================] - 20s 133ms/step - loss: 1.3969 - categorical_accuracy: 0.6324\n",
      "Epoch 109/400\n",
      "147/147 [==============================] - 17s 116ms/step - loss: 1.3326 - categorical_accuracy: 0.6510\n",
      "Epoch 110/400\n",
      "147/147 [==============================] - 20s 138ms/step - loss: 1.6029 - categorical_accuracy: 0.5903\n",
      "Epoch 111/400\n",
      "147/147 [==============================] - 23s 159ms/step - loss: 1.8422 - categorical_accuracy: 0.4880\n",
      "Epoch 112/400\n",
      "147/147 [==============================] - 21s 141ms/step - loss: 1.3861 - categorical_accuracy: 0.6326\n",
      "Epoch 113/400\n",
      "147/147 [==============================] - 21s 140ms/step - loss: 1.3011 - categorical_accuracy: 0.6654\n",
      "Epoch 114/400\n",
      "147/147 [==============================] - 18s 124ms/step - loss: 1.3926 - categorical_accuracy: 0.6461\n",
      "Epoch 115/400\n",
      "147/147 [==============================] - 15s 103ms/step - loss: 1.3327 - categorical_accuracy: 0.6637\n",
      "Epoch 116/400\n",
      "147/147 [==============================] - 13s 90ms/step - loss: 1.2971 - categorical_accuracy: 0.6761\n",
      "Epoch 117/400\n",
      "147/147 [==============================] - 13s 87ms/step - loss: 1.4155 - categorical_accuracy: 0.6406\n",
      "Epoch 118/400\n",
      "147/147 [==============================] - 13s 87ms/step - loss: 1.1877 - categorical_accuracy: 0.6964\n",
      "Epoch 119/400\n",
      "147/147 [==============================] - 13s 87ms/step - loss: 1.2070 - categorical_accuracy: 0.6953\n",
      "Epoch 120/400\n",
      "147/147 [==============================] - 13s 90ms/step - loss: 1.1676 - categorical_accuracy: 0.7041\n",
      "Epoch 121/400\n",
      "147/147 [==============================] - 13s 89ms/step - loss: 1.2712 - categorical_accuracy: 0.6748\n",
      "Epoch 122/400\n",
      "147/147 [==============================] - 13s 90ms/step - loss: 1.2676 - categorical_accuracy: 0.6716\n",
      "Epoch 123/400\n",
      "147/147 [==============================] - 13s 90ms/step - loss: 1.2167 - categorical_accuracy: 0.6881\n",
      "Epoch 124/400\n",
      "147/147 [==============================] - 13s 91ms/step - loss: 1.2264 - categorical_accuracy: 0.6872\n",
      "Epoch 125/400\n",
      "147/147 [==============================] - 14s 95ms/step - loss: 1.1484 - categorical_accuracy: 0.7165\n",
      "Epoch 126/400\n",
      "147/147 [==============================] - 14s 93ms/step - loss: 1.0789 - categorical_accuracy: 0.7386\n",
      "Epoch 127/400\n",
      "147/147 [==============================] - 14s 94ms/step - loss: 1.0962 - categorical_accuracy: 0.7287\n",
      "Epoch 128/400\n",
      "147/147 [==============================] - 14s 94ms/step - loss: 1.2497 - categorical_accuracy: 0.6936\n",
      "Epoch 129/400\n",
      "147/147 [==============================] - 14s 93ms/step - loss: 1.0937 - categorical_accuracy: 0.7411\n",
      "Epoch 130/400\n",
      "147/147 [==============================] - 14s 93ms/step - loss: 1.2799 - categorical_accuracy: 0.6776\n",
      "Epoch 131/400\n",
      "147/147 [==============================] - 14s 94ms/step - loss: 1.0407 - categorical_accuracy: 0.7473\n",
      "Epoch 132/400\n",
      "147/147 [==============================] - 17s 118ms/step - loss: 1.1356 - categorical_accuracy: 0.7176\n",
      "Epoch 133/400\n",
      "147/147 [==============================] - 15s 101ms/step - loss: 1.0450 - categorical_accuracy: 0.7505\n",
      "Epoch 134/400\n",
      "147/147 [==============================] - 15s 102ms/step - loss: 0.9964 - categorical_accuracy: 0.7704\n",
      "Epoch 135/400\n",
      "147/147 [==============================] - 15s 100ms/step - loss: 1.0305 - categorical_accuracy: 0.7617\n",
      "Epoch 136/400\n",
      "147/147 [==============================] - 15s 102ms/step - loss: 1.0557 - categorical_accuracy: 0.7482\n",
      "Epoch 137/400\n",
      "147/147 [==============================] - 16s 106ms/step - loss: 1.0284 - categorical_accuracy: 0.7552\n",
      "Epoch 138/400\n",
      "147/147 [==============================] - 17s 116ms/step - loss: 0.9026 - categorical_accuracy: 0.8008\n",
      "Epoch 139/400\n",
      "147/147 [==============================] - 15s 98ms/step - loss: 1.1579 - categorical_accuracy: 0.7172\n",
      "Epoch 140/400\n",
      "147/147 [==============================] - 15s 104ms/step - loss: 1.3256 - categorical_accuracy: 0.6804\n",
      "Epoch 141/400\n",
      "147/147 [==============================] - 27s 187ms/step - loss: 0.9862 - categorical_accuracy: 0.7691\n",
      "Epoch 142/400\n",
      "147/147 [==============================] - 26s 171ms/step - loss: 0.9013 - categorical_accuracy: 0.8030\n",
      "Epoch 143/400\n",
      "147/147 [==============================] - 34s 228ms/step - loss: 1.0259 - categorical_accuracy: 0.7629\n",
      "Epoch 144/400\n",
      " 56/147 [==========>...................] - ETA: 14s - loss: 0.9104 - categorical_accuracy: 0.8053"
     ]
    },
    {
     "ename": "KeyboardInterrupt",
     "evalue": "",
     "output_type": "error",
     "traceback": [
      "\u001B[1;31m---------------------------------------------------------------------------\u001B[0m",
      "\u001B[1;31mKeyboardInterrupt\u001B[0m                         Traceback (most recent call last)",
      "Cell \u001B[1;32mIn[15], line 5\u001B[0m\n\u001B[0;32m      3\u001B[0m best_model_path \u001B[38;5;241m=\u001B[39m os\u001B[38;5;241m.\u001B[39mpath\u001B[38;5;241m.\u001B[39mjoin(model_f, \u001B[38;5;124m'\u001B[39m\u001B[38;5;124mbest_model.h5\u001B[39m\u001B[38;5;124m'\u001B[39m) \n\u001B[0;32m      4\u001B[0m checkpoint \u001B[38;5;241m=\u001B[39m ModelCheckpoint(best_model_path, monitor\u001B[38;5;241m=\u001B[39m\u001B[38;5;124m'\u001B[39m\u001B[38;5;124mloss\u001B[39m\u001B[38;5;124m'\u001B[39m, save_best_only\u001B[38;5;241m=\u001B[39m\u001B[38;5;28;01mTrue\u001B[39;00m)\n\u001B[1;32m----> 5\u001B[0m history \u001B[38;5;241m=\u001B[39m model\u001B[38;5;241m.\u001B[39mfit(train_generator, epochs\u001B[38;5;241m=\u001B[39m\u001B[38;5;241m400\u001B[39m, callbacks\u001B[38;5;241m=\u001B[39m[early_stopping,\n\u001B[0;32m      6\u001B[0m                                                               checkpoint,\n\u001B[0;32m      7\u001B[0m                                                               csv_logger,\n\u001B[0;32m      8\u001B[0m                                                               tensorboard_callback])        \u001B[38;5;66;03m# X_train, y_train,\u001B[39;00m\n\u001B[0;32m      9\u001B[0m \u001B[38;5;66;03m# save best model\u001B[39;00m\n\u001B[0;32m     10\u001B[0m final_model_path \u001B[38;5;241m=\u001B[39m os\u001B[38;5;241m.\u001B[39mpath\u001B[38;5;241m.\u001B[39mjoin(model_f, \u001B[38;5;124m'\u001B[39m\u001B[38;5;124mfinal_model.h5\u001B[39m\u001B[38;5;124m'\u001B[39m)\n",
      "File \u001B[1;32m~\\AppData\\Roaming\\Python\\Python311\\site-packages\\keras\\src\\utils\\traceback_utils.py:65\u001B[0m, in \u001B[0;36mfilter_traceback.<locals>.error_handler\u001B[1;34m(*args, **kwargs)\u001B[0m\n\u001B[0;32m     63\u001B[0m filtered_tb \u001B[38;5;241m=\u001B[39m \u001B[38;5;28;01mNone\u001B[39;00m\n\u001B[0;32m     64\u001B[0m \u001B[38;5;28;01mtry\u001B[39;00m:\n\u001B[1;32m---> 65\u001B[0m     \u001B[38;5;28;01mreturn\u001B[39;00m fn(\u001B[38;5;241m*\u001B[39margs, \u001B[38;5;241m*\u001B[39m\u001B[38;5;241m*\u001B[39mkwargs)\n\u001B[0;32m     66\u001B[0m \u001B[38;5;28;01mexcept\u001B[39;00m \u001B[38;5;167;01mException\u001B[39;00m \u001B[38;5;28;01mas\u001B[39;00m e:\n\u001B[0;32m     67\u001B[0m     filtered_tb \u001B[38;5;241m=\u001B[39m _process_traceback_frames(e\u001B[38;5;241m.\u001B[39m__traceback__)\n",
      "File \u001B[1;32m~\\AppData\\Roaming\\Python\\Python311\\site-packages\\keras\\src\\engine\\training.py:1742\u001B[0m, in \u001B[0;36mModel.fit\u001B[1;34m(self, x, y, batch_size, epochs, verbose, callbacks, validation_split, validation_data, shuffle, class_weight, sample_weight, initial_epoch, steps_per_epoch, validation_steps, validation_batch_size, validation_freq, max_queue_size, workers, use_multiprocessing)\u001B[0m\n\u001B[0;32m   1734\u001B[0m \u001B[38;5;28;01mwith\u001B[39;00m tf\u001B[38;5;241m.\u001B[39mprofiler\u001B[38;5;241m.\u001B[39mexperimental\u001B[38;5;241m.\u001B[39mTrace(\n\u001B[0;32m   1735\u001B[0m     \u001B[38;5;124m\"\u001B[39m\u001B[38;5;124mtrain\u001B[39m\u001B[38;5;124m\"\u001B[39m,\n\u001B[0;32m   1736\u001B[0m     epoch_num\u001B[38;5;241m=\u001B[39mepoch,\n\u001B[1;32m   (...)\u001B[0m\n\u001B[0;32m   1739\u001B[0m     _r\u001B[38;5;241m=\u001B[39m\u001B[38;5;241m1\u001B[39m,\n\u001B[0;32m   1740\u001B[0m ):\n\u001B[0;32m   1741\u001B[0m     callbacks\u001B[38;5;241m.\u001B[39mon_train_batch_begin(step)\n\u001B[1;32m-> 1742\u001B[0m     tmp_logs \u001B[38;5;241m=\u001B[39m \u001B[38;5;28mself\u001B[39m\u001B[38;5;241m.\u001B[39mtrain_function(iterator)\n\u001B[0;32m   1743\u001B[0m     \u001B[38;5;28;01mif\u001B[39;00m data_handler\u001B[38;5;241m.\u001B[39mshould_sync:\n\u001B[0;32m   1744\u001B[0m         context\u001B[38;5;241m.\u001B[39masync_wait()\n",
      "File \u001B[1;32m~\\AppData\\Roaming\\Python\\Python311\\site-packages\\tensorflow\\python\\util\\traceback_utils.py:150\u001B[0m, in \u001B[0;36mfilter_traceback.<locals>.error_handler\u001B[1;34m(*args, **kwargs)\u001B[0m\n\u001B[0;32m    148\u001B[0m filtered_tb \u001B[38;5;241m=\u001B[39m \u001B[38;5;28;01mNone\u001B[39;00m\n\u001B[0;32m    149\u001B[0m \u001B[38;5;28;01mtry\u001B[39;00m:\n\u001B[1;32m--> 150\u001B[0m   \u001B[38;5;28;01mreturn\u001B[39;00m fn(\u001B[38;5;241m*\u001B[39margs, \u001B[38;5;241m*\u001B[39m\u001B[38;5;241m*\u001B[39mkwargs)\n\u001B[0;32m    151\u001B[0m \u001B[38;5;28;01mexcept\u001B[39;00m \u001B[38;5;167;01mException\u001B[39;00m \u001B[38;5;28;01mas\u001B[39;00m e:\n\u001B[0;32m    152\u001B[0m   filtered_tb \u001B[38;5;241m=\u001B[39m _process_traceback_frames(e\u001B[38;5;241m.\u001B[39m__traceback__)\n",
      "File \u001B[1;32m~\\AppData\\Roaming\\Python\\Python311\\site-packages\\tensorflow\\python\\eager\\polymorphic_function\\polymorphic_function.py:825\u001B[0m, in \u001B[0;36mFunction.__call__\u001B[1;34m(self, *args, **kwds)\u001B[0m\n\u001B[0;32m    822\u001B[0m compiler \u001B[38;5;241m=\u001B[39m \u001B[38;5;124m\"\u001B[39m\u001B[38;5;124mxla\u001B[39m\u001B[38;5;124m\"\u001B[39m \u001B[38;5;28;01mif\u001B[39;00m \u001B[38;5;28mself\u001B[39m\u001B[38;5;241m.\u001B[39m_jit_compile \u001B[38;5;28;01melse\u001B[39;00m \u001B[38;5;124m\"\u001B[39m\u001B[38;5;124mnonXla\u001B[39m\u001B[38;5;124m\"\u001B[39m\n\u001B[0;32m    824\u001B[0m \u001B[38;5;28;01mwith\u001B[39;00m OptionalXlaContext(\u001B[38;5;28mself\u001B[39m\u001B[38;5;241m.\u001B[39m_jit_compile):\n\u001B[1;32m--> 825\u001B[0m   result \u001B[38;5;241m=\u001B[39m \u001B[38;5;28mself\u001B[39m\u001B[38;5;241m.\u001B[39m_call(\u001B[38;5;241m*\u001B[39margs, \u001B[38;5;241m*\u001B[39m\u001B[38;5;241m*\u001B[39mkwds)\n\u001B[0;32m    827\u001B[0m new_tracing_count \u001B[38;5;241m=\u001B[39m \u001B[38;5;28mself\u001B[39m\u001B[38;5;241m.\u001B[39mexperimental_get_tracing_count()\n\u001B[0;32m    828\u001B[0m without_tracing \u001B[38;5;241m=\u001B[39m (tracing_count \u001B[38;5;241m==\u001B[39m new_tracing_count)\n",
      "File \u001B[1;32m~\\AppData\\Roaming\\Python\\Python311\\site-packages\\tensorflow\\python\\eager\\polymorphic_function\\polymorphic_function.py:857\u001B[0m, in \u001B[0;36mFunction._call\u001B[1;34m(self, *args, **kwds)\u001B[0m\n\u001B[0;32m    854\u001B[0m   \u001B[38;5;28mself\u001B[39m\u001B[38;5;241m.\u001B[39m_lock\u001B[38;5;241m.\u001B[39mrelease()\n\u001B[0;32m    855\u001B[0m   \u001B[38;5;66;03m# In this case we have created variables on the first call, so we run the\u001B[39;00m\n\u001B[0;32m    856\u001B[0m   \u001B[38;5;66;03m# defunned version which is guaranteed to never create variables.\u001B[39;00m\n\u001B[1;32m--> 857\u001B[0m   \u001B[38;5;28;01mreturn\u001B[39;00m \u001B[38;5;28mself\u001B[39m\u001B[38;5;241m.\u001B[39m_no_variable_creation_fn(\u001B[38;5;241m*\u001B[39margs, \u001B[38;5;241m*\u001B[39m\u001B[38;5;241m*\u001B[39mkwds)  \u001B[38;5;66;03m# pylint: disable=not-callable\u001B[39;00m\n\u001B[0;32m    858\u001B[0m \u001B[38;5;28;01melif\u001B[39;00m \u001B[38;5;28mself\u001B[39m\u001B[38;5;241m.\u001B[39m_variable_creation_fn \u001B[38;5;129;01mis\u001B[39;00m \u001B[38;5;129;01mnot\u001B[39;00m \u001B[38;5;28;01mNone\u001B[39;00m:\n\u001B[0;32m    859\u001B[0m   \u001B[38;5;66;03m# Release the lock early so that multiple threads can perform the call\u001B[39;00m\n\u001B[0;32m    860\u001B[0m   \u001B[38;5;66;03m# in parallel.\u001B[39;00m\n\u001B[0;32m    861\u001B[0m   \u001B[38;5;28mself\u001B[39m\u001B[38;5;241m.\u001B[39m_lock\u001B[38;5;241m.\u001B[39mrelease()\n",
      "File \u001B[1;32m~\\AppData\\Roaming\\Python\\Python311\\site-packages\\tensorflow\\python\\eager\\polymorphic_function\\tracing_compiler.py:148\u001B[0m, in \u001B[0;36mTracingCompiler.__call__\u001B[1;34m(self, *args, **kwargs)\u001B[0m\n\u001B[0;32m    145\u001B[0m \u001B[38;5;28;01mwith\u001B[39;00m \u001B[38;5;28mself\u001B[39m\u001B[38;5;241m.\u001B[39m_lock:\n\u001B[0;32m    146\u001B[0m   (concrete_function,\n\u001B[0;32m    147\u001B[0m    filtered_flat_args) \u001B[38;5;241m=\u001B[39m \u001B[38;5;28mself\u001B[39m\u001B[38;5;241m.\u001B[39m_maybe_define_function(args, kwargs)\n\u001B[1;32m--> 148\u001B[0m \u001B[38;5;28;01mreturn\u001B[39;00m concrete_function\u001B[38;5;241m.\u001B[39m_call_flat(\n\u001B[0;32m    149\u001B[0m     filtered_flat_args, captured_inputs\u001B[38;5;241m=\u001B[39mconcrete_function\u001B[38;5;241m.\u001B[39mcaptured_inputs)\n",
      "File \u001B[1;32m~\\AppData\\Roaming\\Python\\Python311\\site-packages\\tensorflow\\python\\eager\\polymorphic_function\\monomorphic_function.py:1349\u001B[0m, in \u001B[0;36mConcreteFunction._call_flat\u001B[1;34m(self, args, captured_inputs)\u001B[0m\n\u001B[0;32m   1345\u001B[0m possible_gradient_type \u001B[38;5;241m=\u001B[39m gradients_util\u001B[38;5;241m.\u001B[39mPossibleTapeGradientTypes(args)\n\u001B[0;32m   1346\u001B[0m \u001B[38;5;28;01mif\u001B[39;00m (possible_gradient_type \u001B[38;5;241m==\u001B[39m gradients_util\u001B[38;5;241m.\u001B[39mPOSSIBLE_GRADIENT_TYPES_NONE\n\u001B[0;32m   1347\u001B[0m     \u001B[38;5;129;01mand\u001B[39;00m executing_eagerly):\n\u001B[0;32m   1348\u001B[0m   \u001B[38;5;66;03m# No tape is watching; skip to running the function.\u001B[39;00m\n\u001B[1;32m-> 1349\u001B[0m   \u001B[38;5;28;01mreturn\u001B[39;00m \u001B[38;5;28mself\u001B[39m\u001B[38;5;241m.\u001B[39m_build_call_outputs(\u001B[38;5;28mself\u001B[39m\u001B[38;5;241m.\u001B[39m_inference_function(\u001B[38;5;241m*\u001B[39margs))\n\u001B[0;32m   1350\u001B[0m forward_backward \u001B[38;5;241m=\u001B[39m \u001B[38;5;28mself\u001B[39m\u001B[38;5;241m.\u001B[39m_select_forward_and_backward_functions(\n\u001B[0;32m   1351\u001B[0m     args,\n\u001B[0;32m   1352\u001B[0m     possible_gradient_type,\n\u001B[0;32m   1353\u001B[0m     executing_eagerly)\n\u001B[0;32m   1354\u001B[0m forward_function, args_with_tangents \u001B[38;5;241m=\u001B[39m forward_backward\u001B[38;5;241m.\u001B[39mforward()\n",
      "File \u001B[1;32m~\\AppData\\Roaming\\Python\\Python311\\site-packages\\tensorflow\\python\\eager\\polymorphic_function\\atomic_function.py:196\u001B[0m, in \u001B[0;36mAtomicFunction.__call__\u001B[1;34m(self, *args)\u001B[0m\n\u001B[0;32m    194\u001B[0m \u001B[38;5;28;01mwith\u001B[39;00m record\u001B[38;5;241m.\u001B[39mstop_recording():\n\u001B[0;32m    195\u001B[0m   \u001B[38;5;28;01mif\u001B[39;00m \u001B[38;5;28mself\u001B[39m\u001B[38;5;241m.\u001B[39m_bound_context\u001B[38;5;241m.\u001B[39mexecuting_eagerly():\n\u001B[1;32m--> 196\u001B[0m     outputs \u001B[38;5;241m=\u001B[39m \u001B[38;5;28mself\u001B[39m\u001B[38;5;241m.\u001B[39m_bound_context\u001B[38;5;241m.\u001B[39mcall_function(\n\u001B[0;32m    197\u001B[0m         \u001B[38;5;28mself\u001B[39m\u001B[38;5;241m.\u001B[39mname,\n\u001B[0;32m    198\u001B[0m         \u001B[38;5;28mlist\u001B[39m(args),\n\u001B[0;32m    199\u001B[0m         \u001B[38;5;28mlen\u001B[39m(\u001B[38;5;28mself\u001B[39m\u001B[38;5;241m.\u001B[39mfunction_type\u001B[38;5;241m.\u001B[39mflat_outputs),\n\u001B[0;32m    200\u001B[0m     )\n\u001B[0;32m    201\u001B[0m   \u001B[38;5;28;01melse\u001B[39;00m:\n\u001B[0;32m    202\u001B[0m     outputs \u001B[38;5;241m=\u001B[39m make_call_op_in_graph(\u001B[38;5;28mself\u001B[39m, \u001B[38;5;28mlist\u001B[39m(args))\n",
      "File \u001B[1;32m~\\AppData\\Roaming\\Python\\Python311\\site-packages\\tensorflow\\python\\eager\\context.py:1457\u001B[0m, in \u001B[0;36mContext.call_function\u001B[1;34m(self, name, tensor_inputs, num_outputs)\u001B[0m\n\u001B[0;32m   1455\u001B[0m cancellation_context \u001B[38;5;241m=\u001B[39m cancellation\u001B[38;5;241m.\u001B[39mcontext()\n\u001B[0;32m   1456\u001B[0m \u001B[38;5;28;01mif\u001B[39;00m cancellation_context \u001B[38;5;129;01mis\u001B[39;00m \u001B[38;5;28;01mNone\u001B[39;00m:\n\u001B[1;32m-> 1457\u001B[0m   outputs \u001B[38;5;241m=\u001B[39m execute\u001B[38;5;241m.\u001B[39mexecute(\n\u001B[0;32m   1458\u001B[0m       name\u001B[38;5;241m.\u001B[39mdecode(\u001B[38;5;124m\"\u001B[39m\u001B[38;5;124mutf-8\u001B[39m\u001B[38;5;124m\"\u001B[39m),\n\u001B[0;32m   1459\u001B[0m       num_outputs\u001B[38;5;241m=\u001B[39mnum_outputs,\n\u001B[0;32m   1460\u001B[0m       inputs\u001B[38;5;241m=\u001B[39mtensor_inputs,\n\u001B[0;32m   1461\u001B[0m       attrs\u001B[38;5;241m=\u001B[39mattrs,\n\u001B[0;32m   1462\u001B[0m       ctx\u001B[38;5;241m=\u001B[39m\u001B[38;5;28mself\u001B[39m,\n\u001B[0;32m   1463\u001B[0m   )\n\u001B[0;32m   1464\u001B[0m \u001B[38;5;28;01melse\u001B[39;00m:\n\u001B[0;32m   1465\u001B[0m   outputs \u001B[38;5;241m=\u001B[39m execute\u001B[38;5;241m.\u001B[39mexecute_with_cancellation(\n\u001B[0;32m   1466\u001B[0m       name\u001B[38;5;241m.\u001B[39mdecode(\u001B[38;5;124m\"\u001B[39m\u001B[38;5;124mutf-8\u001B[39m\u001B[38;5;124m\"\u001B[39m),\n\u001B[0;32m   1467\u001B[0m       num_outputs\u001B[38;5;241m=\u001B[39mnum_outputs,\n\u001B[1;32m   (...)\u001B[0m\n\u001B[0;32m   1471\u001B[0m       cancellation_manager\u001B[38;5;241m=\u001B[39mcancellation_context,\n\u001B[0;32m   1472\u001B[0m   )\n",
      "File \u001B[1;32m~\\AppData\\Roaming\\Python\\Python311\\site-packages\\tensorflow\\python\\eager\\execute.py:53\u001B[0m, in \u001B[0;36mquick_execute\u001B[1;34m(op_name, num_outputs, inputs, attrs, ctx, name)\u001B[0m\n\u001B[0;32m     51\u001B[0m \u001B[38;5;28;01mtry\u001B[39;00m:\n\u001B[0;32m     52\u001B[0m   ctx\u001B[38;5;241m.\u001B[39mensure_initialized()\n\u001B[1;32m---> 53\u001B[0m   tensors \u001B[38;5;241m=\u001B[39m pywrap_tfe\u001B[38;5;241m.\u001B[39mTFE_Py_Execute(ctx\u001B[38;5;241m.\u001B[39m_handle, device_name, op_name,\n\u001B[0;32m     54\u001B[0m                                       inputs, attrs, num_outputs)\n\u001B[0;32m     55\u001B[0m \u001B[38;5;28;01mexcept\u001B[39;00m core\u001B[38;5;241m.\u001B[39m_NotOkStatusException \u001B[38;5;28;01mas\u001B[39;00m e:\n\u001B[0;32m     56\u001B[0m   \u001B[38;5;28;01mif\u001B[39;00m name \u001B[38;5;129;01mis\u001B[39;00m \u001B[38;5;129;01mnot\u001B[39;00m \u001B[38;5;28;01mNone\u001B[39;00m:\n",
      "\u001B[1;31mKeyboardInterrupt\u001B[0m: "
     ]
    }
   ],
   "source": [
    "model.compile(optimizer='Adam', loss='categorical_crossentropy', metrics=['categorical_accuracy'])\n",
    "early_stopping = EarlyStopping(monitor='loss', patience=20, restore_best_weights=True)\n",
    "best_model_path = os.path.join(model_f, 'best_model.h5') \n",
    "checkpoint = ModelCheckpoint(best_model_path, monitor='loss', save_best_only=True)\n",
    "history = model.fit(train_generator, epochs=400, callbacks=[early_stopping,\n",
    "                                                              checkpoint,\n",
    "                                                              csv_logger,\n",
    "                                                              tensorboard_callback])        # X_train, y_train,\n",
    "# save best model\n",
    "final_model_path = os.path.join(model_f, 'final_model.h5')\n",
    "model.save(final_model_path)\n"
   ],
   "metadata": {
    "collapsed": false,
    "ExecuteTime": {
     "end_time": "2024-06-29T12:26:06.193514100Z",
     "start_time": "2024-06-29T11:44:36.633042600Z"
    }
   },
   "id": "a95bc5d05d55f9bf"
  },
  {
   "cell_type": "code",
   "execution_count": 22,
   "outputs": [
    {
     "name": "stdout",
     "output_type": "stream",
     "text": [
      "Model: \"sequential\"\n",
      "_________________________________________________________________\n",
      " Layer (type)                Output Shape              Param #   \n",
      "=================================================================\n",
      " lstm (LSTM)                 (None, 30, 64)            442112    \n",
      "                                                                 \n",
      " lstm_1 (LSTM)               (None, 30, 128)           98816     \n",
      "                                                                 \n",
      " lstm_2 (LSTM)               (None, 64)                49408     \n",
      "                                                                 \n",
      " dense (Dense)               (None, 64)                4160      \n",
      "                                                                 \n",
      " dense_1 (Dense)             (None, 32)                2080      \n",
      "                                                                 \n",
      " dense_2 (Dense)             (None, 58)                1914      \n",
      "                                                                 \n",
      "=================================================================\n",
      "Total params: 598490 (2.28 MB)\n",
      "Trainable params: 598490 (2.28 MB)\n",
      "Non-trainable params: 0 (0.00 Byte)\n",
      "_________________________________________________________________\n"
     ]
    }
   ],
   "source": [
    "model.summary()"
   ],
   "metadata": {
    "collapsed": false,
    "ExecuteTime": {
     "end_time": "2024-06-29T10:45:10.706956100Z",
     "start_time": "2024-06-29T10:45:10.523489400Z"
    }
   },
   "id": "3387bbde19fe3fb5"
  },
  {
   "cell_type": "code",
   "execution_count": 31,
   "outputs": [],
   "source": [
    "# Load the weights pf trained model\n",
    "model.load_weights('models/model_21/best_model.h5')"
   ],
   "metadata": {
    "collapsed": false,
    "ExecuteTime": {
     "end_time": "2024-06-29T10:46:36.992589300Z",
     "start_time": "2024-06-29T10:46:36.923853900Z"
    }
   },
   "id": "42aee536a80d9155"
  },
  {
   "cell_type": "markdown",
   "source": [
    "### Make Predictions"
   ],
   "metadata": {
    "collapsed": false
   },
   "id": "cf1bb348d73b3e9"
  },
  {
   "cell_type": "code",
   "execution_count": 32,
   "outputs": [
    {
     "name": "stdout",
     "output_type": "stream",
     "text": [
      "8/8 [==============================] - 0s 35ms/step\n"
     ]
    }
   ],
   "source": [
    "res = model.predict(X_test)"
   ],
   "metadata": {
    "collapsed": false,
    "ExecuteTime": {
     "end_time": "2024-06-29T10:46:40.479682400Z",
     "start_time": "2024-06-29T10:46:39.970661300Z"
    }
   },
   "id": "5b62f11bb764f4e"
  },
  {
   "cell_type": "code",
   "execution_count": 33,
   "outputs": [
    {
     "data": {
      "text/plain": "'deaf'"
     },
     "execution_count": 33,
     "metadata": {},
     "output_type": "execute_result"
    }
   ],
   "source": [
    "np_actions[np.argmax(res[7])]"
   ],
   "metadata": {
    "collapsed": false,
    "ExecuteTime": {
     "end_time": "2024-06-29T10:46:41.064926Z",
     "start_time": "2024-06-29T10:46:41.040232700Z"
    }
   },
   "id": "da07033415ab75dd"
  },
  {
   "cell_type": "code",
   "execution_count": 34,
   "outputs": [
    {
     "data": {
      "text/plain": "'deaf'"
     },
     "execution_count": 34,
     "metadata": {},
     "output_type": "execute_result"
    }
   ],
   "source": [
    "np_actions[np.argmax(y_test[7])]"
   ],
   "metadata": {
    "collapsed": false,
    "ExecuteTime": {
     "end_time": "2024-06-29T10:46:41.887874600Z",
     "start_time": "2024-06-29T10:46:41.881685200Z"
    }
   },
   "id": "911f0a43a6249d78"
  },
  {
   "cell_type": "code",
   "execution_count": 35,
   "outputs": [],
   "source": [
    "# model.load_weights('action.h5')"
   ],
   "metadata": {
    "collapsed": false,
    "ExecuteTime": {
     "end_time": "2024-06-29T10:46:42.934844400Z",
     "start_time": "2024-06-29T10:46:42.915997300Z"
    }
   },
   "id": "1b1e5dc495ac7ecb"
  },
  {
   "cell_type": "markdown",
   "source": [
    "### Evaluation using Confusion Matrix and Accuracy"
   ],
   "metadata": {
    "collapsed": false
   },
   "id": "4b203153c613ace6"
  },
  {
   "cell_type": "code",
   "execution_count": 36,
   "outputs": [
    {
     "name": "stdout",
     "output_type": "stream",
     "text": [
      "8/8 [==============================] - 0s 47ms/step\n"
     ]
    }
   ],
   "source": [
    "y_pred = model.predict(X_test)"
   ],
   "metadata": {
    "collapsed": false,
    "ExecuteTime": {
     "end_time": "2024-06-29T10:46:44.952731200Z",
     "start_time": "2024-06-29T10:46:44.183161100Z"
    }
   },
   "id": "ceedaeffbe070080"
  },
  {
   "cell_type": "code",
   "execution_count": 37,
   "outputs": [],
   "source": [
    "y_true = np.argmax(y_test, axis=1).tolist()\n",
    "y_pred = np.argmax(y_pred, axis=1).tolist()"
   ],
   "metadata": {
    "collapsed": false,
    "ExecuteTime": {
     "end_time": "2024-06-29T10:46:44.952731200Z",
     "start_time": "2024-06-29T10:46:44.916255900Z"
    }
   },
   "id": "803dc04ea0222ba3"
  },
  {
   "cell_type": "code",
   "execution_count": 38,
   "outputs": [
    {
     "data": {
      "text/plain": "<Figure size 1200x1200 with 1 Axes>",
      "image/png": "[encoded data removed]"
     },
     "metadata": {},
     "output_type": "display_data"
    }
   ],
   "source": [
    "# calculate confusion matrix\n",
    "cm = confusion_matrix(y_true, y_pred)\n",
    "\n",
    "# show confusion matrix\n",
    "plt.figure(figsize=(12, 12))\n",
    "sns.heatmap(cm, annot=True, fmt='d', cmap='Blues', cbar=False)\n",
    "plt.xlabel('Predicted')\n",
    "plt.ylabel('True')\n",
    "plt.title('Confusion Matrix')\n",
    "\n",
    "# save confusion matrix into file JPG\n",
    "plt.savefig(model_f + '/confusion_matrix.jpg', format='jpg')\n",
    "plt.show()\n",
    "plt.close()"
   ],
   "metadata": {
    "collapsed": false,
    "ExecuteTime": {
     "end_time": "2024-06-29T10:46:54.168670200Z",
     "start_time": "2024-06-29T10:46:45.566153300Z"
    }
   },
   "id": "7c9f85f999081696"
  },
  {
   "cell_type": "code",
   "execution_count": 39,
   "outputs": [
    {
     "data": {
      "text/plain": "0.7813765182186235"
     },
     "execution_count": 39,
     "metadata": {},
     "output_type": "execute_result"
    }
   ],
   "source": [
    "accuracy_score(y_true, y_pred)"
   ],
   "metadata": {
    "collapsed": false,
    "ExecuteTime": {
     "end_time": "2024-06-29T10:46:54.181580100Z",
     "start_time": "2024-06-29T10:46:54.168670200Z"
    }
   },
   "id": "ed22dd7d1f1030b4"
  },
  {
   "cell_type": "code",
   "execution_count": null,
   "outputs": [],
   "source": [],
   "metadata": {
    "collapsed": false
   },
   "id": "c2e32bffc78e8ae8"
  }
 ],
 "metadata": {
  "kernelspec": {
   "display_name": "Python 3",
   "language": "python",
   "name": "python3"
  },
  "language_info": {
   "codemirror_mode": {
    "name": "ipython",
    "version": 2
   },
   "file_extension": ".py",
   "mimetype": "text/x-python",
   "name": "python",
   "nbconvert_exporter": "python",
   "pygments_lexer": "ipython2",
   "version": "2.7.6"
  }
 },
 "nbformat": 4,
 "nbformat_minor": 5
}
