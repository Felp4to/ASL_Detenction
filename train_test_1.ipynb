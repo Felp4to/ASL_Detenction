{
 "cells": [
  {
   "cell_type": "markdown",
   "source": [
    "# Training and Testing"
   ],
   "metadata": {
    "collapsed": false
   },
   "id": "4852c2fcb4693246"
  },
  {
   "cell_type": "code",
   "execution_count": 1,
   "outputs": [],
   "source": [
    "import numpy as np\n",
    "import os\n",
    "import constants as cs\n",
    "import globali as gg\n",
    "import settings\n",
    "from sklearn.model_selection import train_test_split\n",
    "from tensorflow.keras.utils import to_categorical\n",
    "from sklearn.metrics import accuracy_score\n",
    "from tqdm import tqdm\n",
    "from tensorflow.keras.models import Sequential\n",
    "from tensorflow.keras.callbacks import TensorBoard, EarlyStopping, ModelCheckpoint, CSVLogger\n",
    "from tensorflow.keras.layers import LSTM, GRU, Dense, Dropout, BatchNormalization\n",
    "from tensorflow.keras.regularizers import l2\n",
    "import matplotlib.pyplot as plt\n",
    "from sklearn.metrics import confusion_matrix\n",
    "import seaborn as sns\n",
    "import custom_data_generator as cdg "
   ],
   "metadata": {
    "collapsed": false,
    "ExecuteTime": {
     "end_time": "2024-07-15T13:43:55.597679200Z",
     "start_time": "2024-07-15T13:43:46.524301600Z"
    }
   },
   "id": "initial_id"
  },
  {
   "cell_type": "markdown",
   "source": [
    "### Load configuration data"
   ],
   "metadata": {
    "collapsed": false
   },
   "id": "618ba84e4b3ffe8c"
  },
  {
   "cell_type": "code",
   "execution_count": 2,
   "outputs": [],
   "source": [
    "# Load actions and counters\n",
    "gg.actions, gg.counters = settings.read_yaml_fields()\n",
    "label_map = {label:num for num, label in enumerate(gg.actions)}"
   ],
   "metadata": {
    "collapsed": false,
    "ExecuteTime": {
     "end_time": "2024-07-15T13:43:55.620813300Z",
     "start_time": "2024-07-15T13:43:55.597679200Z"
    }
   },
   "id": "8e3f5d6a45fd4e69"
  },
  {
   "cell_type": "code",
   "execution_count": 3,
   "outputs": [
    {
     "data": {
      "text/plain": "dict_values([0, 1, 2, 3, 4, 5, 6, 7, 8, 9, 10, 11, 12, 13, 14, 15, 16, 17, 18, 19, 20, 21, 22, 23, 24, 25, 26, 27, 28, 29, 30, 31, 32, 33, 34, 35, 36, 37, 38, 39, 40, 41, 42, 43, 44, 45, 46, 47, 48, 49, 50, 51, 52, 53, 54, 55, 56, 57])"
     },
     "execution_count": 3,
     "metadata": {},
     "output_type": "execute_result"
    }
   ],
   "source": [
    "label_map.values()"
   ],
   "metadata": {
    "collapsed": false,
    "ExecuteTime": {
     "end_time": "2024-07-15T13:43:55.695442100Z",
     "start_time": "2024-07-15T13:43:55.620813300Z"
    }
   },
   "id": "d076d9c23b12989d"
  },
  {
   "cell_type": "code",
   "execution_count": 4,
   "outputs": [],
   "source": [
    "classes = list(label_map.values())\n",
    "values = list(gg.counters.values())\n",
    "plt.figure(figsize=(10, 6))\n",
    "plt.bar(classes, values, color='skyblue')\n",
    "plt.title('Distribution')\n",
    "plt.xlabel('Classes')\n",
    "plt.ylabel('Instances')\n",
    "plt.savefig(\"./temp/instogram\")\n",
    "plt.close()"
   ],
   "metadata": {
    "collapsed": false,
    "ExecuteTime": {
     "end_time": "2024-07-15T13:43:55.965900200Z",
     "start_time": "2024-07-15T13:43:55.634812500Z"
    }
   },
   "id": "e98d7f6b6a70d8c"
  },
  {
   "cell_type": "markdown",
   "source": [
    "### Read keypoints and split train and test set"
   ],
   "metadata": {
    "collapsed": false
   },
   "id": "43e411d407d27675"
  },
  {
   "cell_type": "code",
   "execution_count": 5,
   "outputs": [
    {
     "name": "stderr",
     "output_type": "stream",
     "text": [
      "Processing Actions: 100%|██████████| 58/58 [01:16<00:00,  1.32s/it]\n"
     ]
    },
    {
     "data": {
      "text/plain": "(4921, 30, 1662)"
     },
     "metadata": {},
     "output_type": "display_data"
    },
    {
     "data": {
      "text/plain": "(4921,)"
     },
     "metadata": {},
     "output_type": "display_data"
    }
   ],
   "source": [
    "sequences, labels = [], []\n",
    "\n",
    "# get all the keypoints\n",
    "for action in tqdm(gg.actions, desc=\"Processing Actions\"):\n",
    "    for sequence in range(gg.counters[action]):\n",
    "        window = []\n",
    "        for frame_num in range(cs.NUM_FRAME):\n",
    "            res = np.load(os.path.join(cs.KEYPOINTS_FOLDER, action, str(sequence), \"{}.npy\".format(frame_num)))\n",
    "            window.append(res)\n",
    "        sequences.append(window)\n",
    "        labels.append(label_map[action])\n",
    "\n",
    "display(np.array(sequences).shape)   \n",
    "display(np.array(labels).shape)"
   ],
   "metadata": {
    "collapsed": false,
    "ExecuteTime": {
     "end_time": "2024-07-15T13:45:16.026363Z",
     "start_time": "2024-07-15T13:43:55.965900200Z"
    }
   },
   "id": "ab4605957098bac"
  },
  {
   "cell_type": "code",
   "execution_count": 6,
   "outputs": [
    {
     "data": {
      "text/plain": "(4921, 30, 1662)"
     },
     "metadata": {},
     "output_type": "display_data"
    },
    {
     "data": {
      "text/plain": "(4921, 58)"
     },
     "metadata": {},
     "output_type": "display_data"
    }
   ],
   "source": [
    "# generate X and y\n",
    "X = np.array(sequences)\n",
    "y = to_categorical(labels).astype(int)\n",
    "\n",
    "display(X.shape)\n",
    "display(y.shape)"
   ],
   "metadata": {
    "collapsed": false,
    "ExecuteTime": {
     "end_time": "2024-07-15T13:45:19.252714500Z",
     "start_time": "2024-07-15T13:45:16.038493700Z"
    }
   },
   "id": "9ffadaf6d87150fd"
  },
  {
   "cell_type": "code",
   "execution_count": 7,
   "outputs": [
    {
     "data": {
      "text/plain": "(3936, 30, 1662)"
     },
     "metadata": {},
     "output_type": "display_data"
    },
    {
     "data": {
      "text/plain": "(493, 30, 1662)"
     },
     "metadata": {},
     "output_type": "display_data"
    },
    {
     "data": {
      "text/plain": "(492, 30, 1662)"
     },
     "metadata": {},
     "output_type": "display_data"
    },
    {
     "data": {
      "text/plain": "(3936, 58)"
     },
     "metadata": {},
     "output_type": "display_data"
    },
    {
     "data": {
      "text/plain": "(493, 58)"
     },
     "metadata": {},
     "output_type": "display_data"
    },
    {
     "data": {
      "text/plain": "(492, 58)"
     },
     "metadata": {},
     "output_type": "display_data"
    }
   ],
   "source": [
    "# split dataset into train, test and validation set (80-10-10)\n",
    "X_train, X_temp, y_train, y_temp = train_test_split(X, y, test_size=0.20, stratify=y, random_state=42)\n",
    "X_val, X_test, y_val, y_test = train_test_split(X_temp, y_temp, test_size=0.50, stratify=y_temp, random_state=42)\n",
    "\n",
    "display(X_train.shape)\n",
    "display(X_test.shape)\n",
    "display(X_val.shape)\n",
    "display(y_train.shape)\n",
    "display(y_test.shape)\n",
    "display(y_val.shape)"
   ],
   "metadata": {
    "collapsed": false,
    "ExecuteTime": {
     "end_time": "2024-07-15T13:45:30.330453500Z",
     "start_time": "2024-07-15T13:45:19.252714500Z"
    }
   },
   "id": "482c6f70bcc7f6d1"
  },
  {
   "cell_type": "code",
   "execution_count": 5,
   "outputs": [
    {
     "data": {
      "text/plain": "(4428, 30, 1662)"
     },
     "metadata": {},
     "output_type": "display_data"
    },
    {
     "data": {
      "text/plain": "(493, 30, 1662)"
     },
     "metadata": {},
     "output_type": "display_data"
    },
    {
     "data": {
      "text/plain": "(4428, 58)"
     },
     "metadata": {},
     "output_type": "display_data"
    },
    {
     "data": {
      "text/plain": "(493, 58)"
     },
     "metadata": {},
     "output_type": "display_data"
    }
   ],
   "source": [
    "# split training and test set\n",
    "X_train, X_test, y_train, y_test = train_test_split(X, y, test_size=0.10, stratify=y)\n",
    "\n",
    "display(X_train.shape)\n",
    "display(X_test.shape)\n",
    "display(y_train.shape)\n",
    "display(y_test.shape)"
   ],
   "metadata": {
    "collapsed": false,
    "ExecuteTime": {
     "end_time": "2024-06-30T11:16:44.166838100Z",
     "start_time": "2024-06-30T11:16:41.041010300Z"
    }
   },
   "id": "1d8011c3059222b5"
  },
  {
   "cell_type": "markdown",
   "source": [
    "### Folders"
   ],
   "metadata": {
    "collapsed": false
   },
   "id": "205e0a7e3b67012d"
  },
  {
   "cell_type": "code",
   "execution_count": 8,
   "outputs": [],
   "source": [
    "def create_folder_for_training(number):\n",
    "    # create folders\n",
    "    log_f = os.path.join(cs.LOGS_FOLDER, 'log_' + str(number), '')\n",
    "    model_f = os.path.join(cs.MODELS_FOLDER, 'model_' + str(number))\n",
    "    os.makedirs(log_f, exist_ok=True)\n",
    "    os.makedirs(model_f, exist_ok=True)\n",
    "    log_f = \"D:\\logs\"\n",
    "    return log_f, model_f"
   ],
   "metadata": {
    "collapsed": false,
    "ExecuteTime": {
     "end_time": "2024-07-15T13:45:30.460392200Z",
     "start_time": "2024-07-15T13:45:30.437679200Z"
    }
   },
   "id": "6cb0bcd2b19391c5"
  },
  {
   "cell_type": "code",
   "execution_count": 9,
   "outputs": [],
   "source": [
    "log_f, model_f = create_folder_for_training(333333)"
   ],
   "metadata": {
    "collapsed": false,
    "ExecuteTime": {
     "end_time": "2024-07-15T13:45:30.483628100Z",
     "start_time": "2024-07-15T13:45:30.464485400Z"
    }
   },
   "id": "97e2b33fad53052e"
  },
  {
   "cell_type": "markdown",
   "source": [
    "### Logs"
   ],
   "metadata": {
    "collapsed": false
   },
   "id": "a4084661caabaef6"
  },
  {
   "cell_type": "code",
   "execution_count": 10,
   "outputs": [],
   "source": [
    "# log\n",
    "tensorboard_callback = TensorBoard(log_dir=log_f, histogram_freq=1)\n",
    "training_log = os.path.join(log_f, 'train_log.csv')\n",
    "csv_logger = CSVLogger(training_log, append=True)"
   ],
   "metadata": {
    "collapsed": false,
    "ExecuteTime": {
     "end_time": "2024-07-15T13:45:30.641592400Z",
     "start_time": "2024-07-15T13:45:30.540492500Z"
    }
   },
   "id": "858434da88fb9b50"
  },
  {
   "cell_type": "markdown",
   "source": [
    "### Models"
   ],
   "metadata": {
    "collapsed": false
   },
   "id": "7554e4a153c0d55e"
  },
  {
   "cell_type": "code",
   "execution_count": 11,
   "outputs": [
    {
     "name": "stdout",
     "output_type": "stream",
     "text": [
      "58\n"
     ]
    }
   ],
   "source": [
    "# TEST LSTM\n",
    "\n",
    "np_actions = np.array(list(gg.actions))\n",
    "print(np_actions.shape[0])\n",
    "model = Sequential()\n",
    "model.add(LSTM(128, return_sequences=True, activation='tanh', input_shape=(30, 1662)))\n",
    "model.add(Dropout(0.2))\n",
    "model.add(Dense(64, activation='relu'))\n",
    "model.add(LSTM(64, return_sequences=True, activation='tanh'))\n",
    "model.add(Dropout(0.2))\n",
    "model.add(Dense(64, activation='relu'))\n",
    "model.add(LSTM(32, return_sequences=False, activation='tanh'))\n",
    "model.add(BatchNormalization())\n",
    "model.add(Dense(32, activation='relu'))\n",
    "model.add(Dense(np_actions.shape[0], activation='softmax'))"
   ],
   "metadata": {
    "collapsed": false,
    "ExecuteTime": {
     "end_time": "2024-07-15T13:45:32.726700600Z",
     "start_time": "2024-07-15T13:45:30.657766Z"
    }
   },
   "id": "21e3ca1f53adba4e"
  },
  {
   "cell_type": "code",
   "execution_count": 12,
   "outputs": [
    {
     "name": "stdout",
     "output_type": "stream",
     "text": [
      "58\n"
     ]
    }
   ],
   "source": [
    "# TEST GRU\n",
    "\n",
    "np_actions = np.array(list(gg.actions))\n",
    "print(np_actions.shape[0])\n",
    "model = Sequential()\n",
    "model.add(GRU(128, return_sequences=True, activation='tanh', input_shape=(30, 1662)))\n",
    "model.add(Dropout(0.2))\n",
    "model.add(Dense(64, activation='relu'))\n",
    "model.add(GRU(64, return_sequences=True, activation='tanh'))\n",
    "model.add(Dropout(0.2))\n",
    "model.add(Dense(64, activation='relu'))\n",
    "model.add(GRU(32, return_sequences=False, activation='tanh'))\n",
    "model.add(BatchNormalization())\n",
    "model.add(Dense(32, activation='relu'))\n",
    "model.add(Dense(np_actions.shape[0], activation='softmax'))\n"
   ],
   "metadata": {
    "collapsed": false,
    "ExecuteTime": {
     "end_time": "2024-07-14T08:37:38.830943300Z",
     "start_time": "2024-07-14T08:37:36.410923800Z"
    }
   },
   "id": "eb02393ac042f16f"
  },
  {
   "cell_type": "markdown",
   "source": [
    "### Training"
   ],
   "metadata": {
    "collapsed": false
   },
   "id": "a5311fdc4689fc72"
  },
  {
   "cell_type": "code",
   "execution_count": 12,
   "outputs": [
    {
     "name": "stdout",
     "output_type": "stream",
     "text": [
      "Epoch 1/2000\n",
      "123/123 [==============================] - ETA: 0s - loss: 4.0151 - categorical_accuracy: 0.0302"
     ]
    },
    {
     "name": "stderr",
     "output_type": "stream",
     "text": [
      "C:\\Users\\Paolo\\AppData\\Roaming\\Python\\Python311\\site-packages\\keras\\src\\engine\\training.py:3000: UserWarning: You are saving your model as an HDF5 file via `model.save()`. This file format is considered legacy. We recommend using instead the native Keras format, e.g. `model.save('my_model.keras')`.\n",
      "  saving_api.save_model(\n"
     ]
    },
    {
     "name": "stdout",
     "output_type": "stream",
     "text": [
      "123/123 [==============================] - 27s 151ms/step - loss: 4.0151 - categorical_accuracy: 0.0302 - val_loss: 3.9658 - val_categorical_accuracy: 0.0488\n",
      "Epoch 2/2000\n",
      "123/123 [==============================] - 17s 139ms/step - loss: 3.6926 - categorical_accuracy: 0.0495 - val_loss: 3.7681 - val_categorical_accuracy: 0.0305\n",
      "Epoch 3/2000\n",
      "123/123 [==============================] - 17s 138ms/step - loss: 3.4483 - categorical_accuracy: 0.0841 - val_loss: 3.5567 - val_categorical_accuracy: 0.0691\n",
      "Epoch 4/2000\n",
      "123/123 [==============================] - 17s 136ms/step - loss: 3.2130 - categorical_accuracy: 0.1057 - val_loss: 3.2673 - val_categorical_accuracy: 0.1016\n",
      "Epoch 5/2000\n",
      "123/123 [==============================] - 17s 138ms/step - loss: 2.9929 - categorical_accuracy: 0.1504 - val_loss: 2.8799 - val_categorical_accuracy: 0.1484\n",
      "Epoch 6/2000\n",
      "123/123 [==============================] - 17s 138ms/step - loss: 2.8031 - categorical_accuracy: 0.1743 - val_loss: 2.7267 - val_categorical_accuracy: 0.1606\n",
      "Epoch 7/2000\n",
      "123/123 [==============================] - 17s 137ms/step - loss: 2.6089 - categorical_accuracy: 0.2175 - val_loss: 2.5880 - val_categorical_accuracy: 0.2276\n",
      "Epoch 8/2000\n",
      "123/123 [==============================] - 17s 137ms/step - loss: 2.4894 - categorical_accuracy: 0.2353 - val_loss: 2.5996 - val_categorical_accuracy: 0.2317\n",
      "Epoch 9/2000\n",
      "123/123 [==============================] - 17s 138ms/step - loss: 2.4038 - categorical_accuracy: 0.2571 - val_loss: 2.8282 - val_categorical_accuracy: 0.1545\n",
      "Epoch 10/2000\n",
      "123/123 [==============================] - 17s 137ms/step - loss: 2.3185 - categorical_accuracy: 0.2688 - val_loss: 2.1437 - val_categorical_accuracy: 0.3394\n",
      "Epoch 11/2000\n",
      "123/123 [==============================] - 17s 137ms/step - loss: 2.1625 - categorical_accuracy: 0.3089 - val_loss: 2.0077 - val_categorical_accuracy: 0.3455\n",
      "Epoch 12/2000\n",
      "123/123 [==============================] - 17s 137ms/step - loss: 2.0593 - categorical_accuracy: 0.3435 - val_loss: 2.2475 - val_categorical_accuracy: 0.2846\n",
      "Epoch 13/2000\n",
      "123/123 [==============================] - 17s 136ms/step - loss: 2.0898 - categorical_accuracy: 0.3303 - val_loss: 1.8810 - val_categorical_accuracy: 0.3902\n",
      "Epoch 14/2000\n",
      "123/123 [==============================] - 17s 136ms/step - loss: 1.9576 - categorical_accuracy: 0.3755 - val_loss: 1.8526 - val_categorical_accuracy: 0.4065\n",
      "Epoch 15/2000\n",
      "123/123 [==============================] - 17s 136ms/step - loss: 1.8940 - categorical_accuracy: 0.3981 - val_loss: 2.0786 - val_categorical_accuracy: 0.3577\n",
      "Epoch 16/2000\n",
      "123/123 [==============================] - 17s 136ms/step - loss: 1.9558 - categorical_accuracy: 0.3628 - val_loss: 1.7440 - val_categorical_accuracy: 0.4390\n",
      "Epoch 17/2000\n",
      "123/123 [==============================] - 17s 141ms/step - loss: 1.7807 - categorical_accuracy: 0.4324 - val_loss: 1.7478 - val_categorical_accuracy: 0.4411\n",
      "Epoch 18/2000\n",
      "123/123 [==============================] - 17s 139ms/step - loss: 1.7167 - categorical_accuracy: 0.4421 - val_loss: 1.7030 - val_categorical_accuracy: 0.4512\n",
      "Epoch 19/2000\n",
      "123/123 [==============================] - 17s 139ms/step - loss: 1.6994 - categorical_accuracy: 0.4482 - val_loss: 1.6068 - val_categorical_accuracy: 0.4797\n",
      "Epoch 20/2000\n",
      "123/123 [==============================] - 17s 136ms/step - loss: 1.5579 - categorical_accuracy: 0.4909 - val_loss: 1.4692 - val_categorical_accuracy: 0.5122\n",
      "Epoch 21/2000\n",
      "123/123 [==============================] - 17s 136ms/step - loss: 1.5944 - categorical_accuracy: 0.4807 - val_loss: 1.5154 - val_categorical_accuracy: 0.4959\n",
      "Epoch 22/2000\n",
      "123/123 [==============================] - 17s 136ms/step - loss: 1.5454 - categorical_accuracy: 0.4949 - val_loss: 1.4148 - val_categorical_accuracy: 0.5285\n",
      "Epoch 23/2000\n",
      "123/123 [==============================] - 17s 137ms/step - loss: 1.4609 - categorical_accuracy: 0.5320 - val_loss: 1.3532 - val_categorical_accuracy: 0.5467\n",
      "Epoch 24/2000\n",
      "123/123 [==============================] - 17s 137ms/step - loss: 1.4538 - categorical_accuracy: 0.5297 - val_loss: 1.2815 - val_categorical_accuracy: 0.5793\n",
      "Epoch 25/2000\n",
      "123/123 [==============================] - 17s 138ms/step - loss: 1.4037 - categorical_accuracy: 0.5315 - val_loss: 1.2982 - val_categorical_accuracy: 0.5569\n",
      "Epoch 26/2000\n",
      "123/123 [==============================] - 17s 137ms/step - loss: 1.3327 - categorical_accuracy: 0.5564 - val_loss: 1.5162 - val_categorical_accuracy: 0.5346\n",
      "Epoch 27/2000\n",
      "123/123 [==============================] - 17s 137ms/step - loss: 1.3221 - categorical_accuracy: 0.5663 - val_loss: 1.6599 - val_categorical_accuracy: 0.4858\n",
      "Epoch 28/2000\n",
      "123/123 [==============================] - 17s 139ms/step - loss: 1.2393 - categorical_accuracy: 0.5874 - val_loss: 1.1280 - val_categorical_accuracy: 0.6341\n",
      "Epoch 29/2000\n",
      "123/123 [==============================] - 17s 136ms/step - loss: 1.2770 - categorical_accuracy: 0.5762 - val_loss: 1.3196 - val_categorical_accuracy: 0.5854\n",
      "Epoch 30/2000\n",
      "123/123 [==============================] - 17s 137ms/step - loss: 1.1809 - categorical_accuracy: 0.6212 - val_loss: 1.1418 - val_categorical_accuracy: 0.6321\n",
      "Epoch 31/2000\n",
      "123/123 [==============================] - 17s 137ms/step - loss: 1.2471 - categorical_accuracy: 0.5897 - val_loss: 1.2290 - val_categorical_accuracy: 0.6118\n",
      "Epoch 32/2000\n",
      "123/123 [==============================] - 17s 137ms/step - loss: 1.1625 - categorical_accuracy: 0.6148 - val_loss: 1.3015 - val_categorical_accuracy: 0.5935\n",
      "Epoch 33/2000\n",
      "123/123 [==============================] - 17s 136ms/step - loss: 1.0997 - categorical_accuracy: 0.6349 - val_loss: 1.4107 - val_categorical_accuracy: 0.5671\n",
      "Epoch 34/2000\n",
      "123/123 [==============================] - 17s 137ms/step - loss: 1.0652 - categorical_accuracy: 0.6474 - val_loss: 1.2619 - val_categorical_accuracy: 0.6057\n",
      "Epoch 35/2000\n",
      "123/123 [==============================] - 17s 138ms/step - loss: 1.0860 - categorical_accuracy: 0.6385 - val_loss: 1.1004 - val_categorical_accuracy: 0.6646\n",
      "Epoch 36/2000\n",
      "123/123 [==============================] - 17s 137ms/step - loss: 1.0472 - categorical_accuracy: 0.6451 - val_loss: 1.2922 - val_categorical_accuracy: 0.6220\n",
      "Epoch 37/2000\n",
      "123/123 [==============================] - 17s 136ms/step - loss: 0.9824 - categorical_accuracy: 0.6730 - val_loss: 0.9992 - val_categorical_accuracy: 0.6728\n",
      "Epoch 38/2000\n",
      "123/123 [==============================] - 17s 137ms/step - loss: 1.0177 - categorical_accuracy: 0.6662 - val_loss: 1.1332 - val_categorical_accuracy: 0.6463\n",
      "Epoch 39/2000\n",
      "123/123 [==============================] - 18s 143ms/step - loss: 0.9551 - categorical_accuracy: 0.6834 - val_loss: 1.0785 - val_categorical_accuracy: 0.6606\n",
      "Epoch 40/2000\n",
      "123/123 [==============================] - 17s 137ms/step - loss: 0.9796 - categorical_accuracy: 0.6883 - val_loss: 1.0932 - val_categorical_accuracy: 0.6382\n",
      "Epoch 41/2000\n",
      "123/123 [==============================] - 17s 138ms/step - loss: 0.9089 - categorical_accuracy: 0.6977 - val_loss: 1.2240 - val_categorical_accuracy: 0.6220\n",
      "Epoch 42/2000\n",
      "123/123 [==============================] - 17s 137ms/step - loss: 0.9123 - categorical_accuracy: 0.7010 - val_loss: 0.9623 - val_categorical_accuracy: 0.6850\n",
      "Epoch 43/2000\n",
      "123/123 [==============================] - 17s 137ms/step - loss: 0.9157 - categorical_accuracy: 0.6994 - val_loss: 1.2422 - val_categorical_accuracy: 0.6443\n",
      "Epoch 44/2000\n",
      "123/123 [==============================] - 17s 137ms/step - loss: 0.9200 - categorical_accuracy: 0.6946 - val_loss: 0.9642 - val_categorical_accuracy: 0.6789\n",
      "Epoch 45/2000\n",
      "123/123 [==============================] - 17s 139ms/step - loss: 0.8483 - categorical_accuracy: 0.7185 - val_loss: 1.3149 - val_categorical_accuracy: 0.6057\n",
      "Epoch 46/2000\n",
      "123/123 [==============================] - 17s 138ms/step - loss: 0.8388 - categorical_accuracy: 0.7226 - val_loss: 0.9418 - val_categorical_accuracy: 0.7175\n",
      "Epoch 47/2000\n",
      "123/123 [==============================] - 17s 138ms/step - loss: 0.8343 - categorical_accuracy: 0.7259 - val_loss: 1.0791 - val_categorical_accuracy: 0.6626\n",
      "Epoch 48/2000\n",
      "123/123 [==============================] - 17s 138ms/step - loss: 0.7933 - categorical_accuracy: 0.7302 - val_loss: 0.8331 - val_categorical_accuracy: 0.7256\n",
      "Epoch 49/2000\n",
      "123/123 [==============================] - 17s 139ms/step - loss: 0.7329 - categorical_accuracy: 0.7536 - val_loss: 0.8164 - val_categorical_accuracy: 0.7642\n",
      "Epoch 50/2000\n",
      "123/123 [==============================] - 17s 138ms/step - loss: 0.7271 - categorical_accuracy: 0.7546 - val_loss: 0.9720 - val_categorical_accuracy: 0.7033\n",
      "Epoch 51/2000\n",
      "123/123 [==============================] - 17s 138ms/step - loss: 0.8229 - categorical_accuracy: 0.7238 - val_loss: 1.3054 - val_categorical_accuracy: 0.6159\n",
      "Epoch 52/2000\n",
      "123/123 [==============================] - 17s 137ms/step - loss: 0.7700 - categorical_accuracy: 0.7401 - val_loss: 1.1234 - val_categorical_accuracy: 0.6321\n",
      "Epoch 53/2000\n",
      "123/123 [==============================] - 17s 139ms/step - loss: 0.7339 - categorical_accuracy: 0.7536 - val_loss: 0.7762 - val_categorical_accuracy: 0.7541\n",
      "Epoch 54/2000\n",
      "123/123 [==============================] - 17s 138ms/step - loss: 0.7055 - categorical_accuracy: 0.7597 - val_loss: 0.9505 - val_categorical_accuracy: 0.7053\n",
      "Epoch 55/2000\n",
      "123/123 [==============================] - 17s 140ms/step - loss: 0.6742 - categorical_accuracy: 0.7721 - val_loss: 1.1808 - val_categorical_accuracy: 0.6341\n",
      "Epoch 56/2000\n",
      "123/123 [==============================] - 17s 139ms/step - loss: 0.7459 - categorical_accuracy: 0.7472 - val_loss: 0.8372 - val_categorical_accuracy: 0.7337\n",
      "Epoch 57/2000\n",
      "123/123 [==============================] - 17s 139ms/step - loss: 0.6704 - categorical_accuracy: 0.7731 - val_loss: 0.9513 - val_categorical_accuracy: 0.7093\n",
      "Epoch 58/2000\n",
      "123/123 [==============================] - 17s 138ms/step - loss: 0.6826 - categorical_accuracy: 0.7678 - val_loss: 0.7995 - val_categorical_accuracy: 0.7439\n",
      "Epoch 59/2000\n",
      "123/123 [==============================] - 17s 137ms/step - loss: 0.6541 - categorical_accuracy: 0.7762 - val_loss: 0.8272 - val_categorical_accuracy: 0.7378\n",
      "Epoch 60/2000\n",
      "123/123 [==============================] - 17s 138ms/step - loss: 0.6388 - categorical_accuracy: 0.7853 - val_loss: 0.8441 - val_categorical_accuracy: 0.7805\n",
      "Epoch 61/2000\n",
      "123/123 [==============================] - 17s 138ms/step - loss: 0.6431 - categorical_accuracy: 0.7802 - val_loss: 0.9135 - val_categorical_accuracy: 0.7215\n",
      "Epoch 62/2000\n",
      "123/123 [==============================] - 17s 138ms/step - loss: 0.6727 - categorical_accuracy: 0.7785 - val_loss: 0.8158 - val_categorical_accuracy: 0.7398\n",
      "Epoch 63/2000\n",
      "123/123 [==============================] - 17s 138ms/step - loss: 0.5997 - categorical_accuracy: 0.7995 - val_loss: 0.6641 - val_categorical_accuracy: 0.7988\n",
      "Epoch 64/2000\n",
      "123/123 [==============================] - 17s 139ms/step - loss: 0.6031 - categorical_accuracy: 0.8001 - val_loss: 0.8564 - val_categorical_accuracy: 0.7276\n",
      "Epoch 65/2000\n",
      "123/123 [==============================] - 17s 138ms/step - loss: 0.6209 - categorical_accuracy: 0.7807 - val_loss: 1.0958 - val_categorical_accuracy: 0.6931\n",
      "Epoch 66/2000\n",
      "123/123 [==============================] - 17s 139ms/step - loss: 0.5932 - categorical_accuracy: 0.7945 - val_loss: 0.8072 - val_categorical_accuracy: 0.7358\n",
      "Epoch 67/2000\n",
      "123/123 [==============================] - 17s 139ms/step - loss: 0.5680 - categorical_accuracy: 0.8072 - val_loss: 1.0624 - val_categorical_accuracy: 0.6890\n",
      "Epoch 68/2000\n",
      "123/123 [==============================] - 17s 138ms/step - loss: 0.5467 - categorical_accuracy: 0.8087 - val_loss: 0.7537 - val_categorical_accuracy: 0.7663\n",
      "Epoch 69/2000\n",
      "123/123 [==============================] - 17s 138ms/step - loss: 0.5640 - categorical_accuracy: 0.8092 - val_loss: 0.8711 - val_categorical_accuracy: 0.7480\n",
      "Epoch 70/2000\n",
      "123/123 [==============================] - 17s 138ms/step - loss: 0.5836 - categorical_accuracy: 0.7924 - val_loss: 1.1977 - val_categorical_accuracy: 0.6850\n",
      "Epoch 71/2000\n",
      "123/123 [==============================] - 17s 139ms/step - loss: 0.5405 - categorical_accuracy: 0.8122 - val_loss: 0.7088 - val_categorical_accuracy: 0.7866\n",
      "Epoch 72/2000\n",
      "123/123 [==============================] - 17s 138ms/step - loss: 0.4994 - categorical_accuracy: 0.8288 - val_loss: 0.8036 - val_categorical_accuracy: 0.7480\n",
      "Epoch 73/2000\n",
      "123/123 [==============================] - 17s 138ms/step - loss: 0.5113 - categorical_accuracy: 0.8280 - val_loss: 1.1334 - val_categorical_accuracy: 0.6423\n",
      "Epoch 74/2000\n",
      "123/123 [==============================] - 17s 140ms/step - loss: 0.4596 - categorical_accuracy: 0.8417 - val_loss: 0.7653 - val_categorical_accuracy: 0.7927\n",
      "Epoch 75/2000\n",
      "123/123 [==============================] - 17s 137ms/step - loss: 0.4999 - categorical_accuracy: 0.8285 - val_loss: 0.7268 - val_categorical_accuracy: 0.7683\n",
      "Epoch 76/2000\n",
      "123/123 [==============================] - 17s 139ms/step - loss: 0.5112 - categorical_accuracy: 0.8252 - val_loss: 0.7829 - val_categorical_accuracy: 0.7724\n",
      "Epoch 77/2000\n",
      "123/123 [==============================] - 17s 138ms/step - loss: 0.5608 - categorical_accuracy: 0.8102 - val_loss: 1.2684 - val_categorical_accuracy: 0.6504\n",
      "Epoch 78/2000\n",
      "123/123 [==============================] - 17s 139ms/step - loss: 0.5335 - categorical_accuracy: 0.8140 - val_loss: 0.8694 - val_categorical_accuracy: 0.7480\n",
      "Epoch 79/2000\n",
      "123/123 [==============================] - 17s 138ms/step - loss: 0.5233 - categorical_accuracy: 0.8209 - val_loss: 0.8463 - val_categorical_accuracy: 0.7846\n",
      "Epoch 80/2000\n",
      "123/123 [==============================] - 17s 140ms/step - loss: 0.4655 - categorical_accuracy: 0.8412 - val_loss: 0.7682 - val_categorical_accuracy: 0.7866\n",
      "Epoch 81/2000\n",
      "123/123 [==============================] - 17s 139ms/step - loss: 0.4462 - categorical_accuracy: 0.8453 - val_loss: 0.7532 - val_categorical_accuracy: 0.7907\n",
      "Epoch 82/2000\n",
      "123/123 [==============================] - 17s 138ms/step - loss: 0.4411 - categorical_accuracy: 0.8432 - val_loss: 0.8004 - val_categorical_accuracy: 0.7663\n",
      "Epoch 83/2000\n",
      "123/123 [==============================] - 17s 139ms/step - loss: 0.4777 - categorical_accuracy: 0.8369 - val_loss: 0.7588 - val_categorical_accuracy: 0.7947\n",
      "Epoch 84/2000\n",
      "123/123 [==============================] - 17s 139ms/step - loss: 0.4605 - categorical_accuracy: 0.8458 - val_loss: 0.9679 - val_categorical_accuracy: 0.7337\n",
      "Epoch 85/2000\n",
      "123/123 [==============================] - 17s 139ms/step - loss: 0.4968 - categorical_accuracy: 0.8283 - val_loss: 0.8120 - val_categorical_accuracy: 0.7724\n",
      "Epoch 86/2000\n",
      "123/123 [==============================] - 17s 138ms/step - loss: 0.4599 - categorical_accuracy: 0.8430 - val_loss: 0.8673 - val_categorical_accuracy: 0.7866\n",
      "Epoch 87/2000\n",
      "123/123 [==============================] - 17s 139ms/step - loss: 0.4254 - categorical_accuracy: 0.8554 - val_loss: 0.7568 - val_categorical_accuracy: 0.7825\n",
      "Epoch 88/2000\n",
      "123/123 [==============================] - 17s 139ms/step - loss: 0.4146 - categorical_accuracy: 0.8552 - val_loss: 0.9909 - val_categorical_accuracy: 0.7439\n",
      "Epoch 89/2000\n",
      "123/123 [==============================] - 17s 138ms/step - loss: 0.5044 - categorical_accuracy: 0.8277 - val_loss: 0.7753 - val_categorical_accuracy: 0.7825\n",
      "Epoch 90/2000\n",
      "123/123 [==============================] - 17s 139ms/step - loss: 0.4386 - categorical_accuracy: 0.8498 - val_loss: 0.7660 - val_categorical_accuracy: 0.7846\n",
      "Epoch 91/2000\n",
      "123/123 [==============================] - 17s 139ms/step - loss: 0.4549 - categorical_accuracy: 0.8496 - val_loss: 0.7848 - val_categorical_accuracy: 0.7846\n",
      "Epoch 92/2000\n",
      "123/123 [==============================] - 17s 139ms/step - loss: 0.3740 - categorical_accuracy: 0.8730 - val_loss: 0.6373 - val_categorical_accuracy: 0.8008\n",
      "Epoch 93/2000\n",
      "123/123 [==============================] - 17s 138ms/step - loss: 0.3936 - categorical_accuracy: 0.8595 - val_loss: 0.8000 - val_categorical_accuracy: 0.7703\n",
      "Epoch 94/2000\n",
      "123/123 [==============================] - 17s 139ms/step - loss: 0.4045 - categorical_accuracy: 0.8623 - val_loss: 0.6495 - val_categorical_accuracy: 0.8293\n",
      "Epoch 95/2000\n",
      "123/123 [==============================] - 17s 139ms/step - loss: 0.3738 - categorical_accuracy: 0.8697 - val_loss: 0.9262 - val_categorical_accuracy: 0.7642\n",
      "Epoch 96/2000\n",
      "123/123 [==============================] - 17s 139ms/step - loss: 0.4477 - categorical_accuracy: 0.8440 - val_loss: 0.7677 - val_categorical_accuracy: 0.7744\n",
      "Epoch 97/2000\n",
      "123/123 [==============================] - 17s 138ms/step - loss: 0.4093 - categorical_accuracy: 0.8605 - val_loss: 0.7209 - val_categorical_accuracy: 0.8089\n",
      "Epoch 98/2000\n",
      "123/123 [==============================] - 17s 139ms/step - loss: 0.3754 - categorical_accuracy: 0.8740 - val_loss: 0.6181 - val_categorical_accuracy: 0.8333\n",
      "Epoch 99/2000\n",
      "123/123 [==============================] - 17s 141ms/step - loss: 0.3474 - categorical_accuracy: 0.8847 - val_loss: 0.7571 - val_categorical_accuracy: 0.7886\n",
      "Epoch 100/2000\n",
      "123/123 [==============================] - 17s 139ms/step - loss: 0.4573 - categorical_accuracy: 0.8420 - val_loss: 0.8040 - val_categorical_accuracy: 0.7846\n",
      "Epoch 101/2000\n",
      "123/123 [==============================] - 17s 140ms/step - loss: 0.3557 - categorical_accuracy: 0.8801 - val_loss: 0.7420 - val_categorical_accuracy: 0.8171\n",
      "Epoch 102/2000\n",
      "123/123 [==============================] - 17s 140ms/step - loss: 0.3115 - categorical_accuracy: 0.8966 - val_loss: 0.6009 - val_categorical_accuracy: 0.8577\n",
      "Epoch 103/2000\n",
      "123/123 [==============================] - 17s 139ms/step - loss: 0.3754 - categorical_accuracy: 0.8760 - val_loss: 0.9563 - val_categorical_accuracy: 0.7500\n",
      "Epoch 104/2000\n",
      "123/123 [==============================] - 17s 139ms/step - loss: 0.3729 - categorical_accuracy: 0.8712 - val_loss: 0.7854 - val_categorical_accuracy: 0.7907\n",
      "Epoch 105/2000\n",
      "123/123 [==============================] - 17s 139ms/step - loss: 0.3803 - categorical_accuracy: 0.8697 - val_loss: 0.8524 - val_categorical_accuracy: 0.7744\n",
      "Epoch 106/2000\n",
      "123/123 [==============================] - 17s 141ms/step - loss: 0.3704 - categorical_accuracy: 0.8676 - val_loss: 0.7575 - val_categorical_accuracy: 0.7744\n",
      "Epoch 107/2000\n",
      "123/123 [==============================] - 17s 139ms/step - loss: 0.4346 - categorical_accuracy: 0.8595 - val_loss: 0.7226 - val_categorical_accuracy: 0.8089\n",
      "Epoch 108/2000\n",
      "123/123 [==============================] - 17s 139ms/step - loss: 0.3568 - categorical_accuracy: 0.8758 - val_loss: 0.9790 - val_categorical_accuracy: 0.7520\n",
      "Epoch 109/2000\n",
      "123/123 [==============================] - 17s 140ms/step - loss: 0.3111 - categorical_accuracy: 0.8887 - val_loss: 0.8245 - val_categorical_accuracy: 0.8089\n",
      "Epoch 110/2000\n",
      "123/123 [==============================] - 17s 139ms/step - loss: 0.3251 - categorical_accuracy: 0.8808 - val_loss: 0.7053 - val_categorical_accuracy: 0.7988\n",
      "Epoch 111/2000\n",
      "123/123 [==============================] - 17s 139ms/step - loss: 0.3124 - categorical_accuracy: 0.8935 - val_loss: 0.6280 - val_categorical_accuracy: 0.8272\n",
      "Epoch 112/2000\n",
      "123/123 [==============================] - 17s 139ms/step - loss: 0.3051 - categorical_accuracy: 0.8905 - val_loss: 0.7727 - val_categorical_accuracy: 0.8049\n",
      "Epoch 113/2000\n",
      "123/123 [==============================] - 17s 139ms/step - loss: 0.3596 - categorical_accuracy: 0.8755 - val_loss: 0.7758 - val_categorical_accuracy: 0.7947\n",
      "Epoch 114/2000\n",
      "123/123 [==============================] - 17s 141ms/step - loss: 0.3416 - categorical_accuracy: 0.8811 - val_loss: 0.8021 - val_categorical_accuracy: 0.7927\n",
      "Epoch 115/2000\n",
      "123/123 [==============================] - 17s 141ms/step - loss: 0.3568 - categorical_accuracy: 0.8768 - val_loss: 0.7383 - val_categorical_accuracy: 0.8089\n",
      "Epoch 116/2000\n",
      "123/123 [==============================] - 17s 140ms/step - loss: 0.3139 - categorical_accuracy: 0.8902 - val_loss: 0.7565 - val_categorical_accuracy: 0.8028\n",
      "Epoch 117/2000\n",
      "123/123 [==============================] - 17s 140ms/step - loss: 0.2879 - categorical_accuracy: 0.8979 - val_loss: 0.6337 - val_categorical_accuracy: 0.8354\n",
      "Epoch 118/2000\n",
      "123/123 [==============================] - 17s 139ms/step - loss: 0.3781 - categorical_accuracy: 0.8750 - val_loss: 0.6271 - val_categorical_accuracy: 0.8333\n",
      "Epoch 119/2000\n",
      "123/123 [==============================] - 17s 142ms/step - loss: 0.3387 - categorical_accuracy: 0.8857 - val_loss: 0.7139 - val_categorical_accuracy: 0.8130\n",
      "Epoch 120/2000\n",
      "123/123 [==============================] - 17s 139ms/step - loss: 0.3325 - categorical_accuracy: 0.8849 - val_loss: 0.7117 - val_categorical_accuracy: 0.8272\n",
      "Epoch 121/2000\n",
      "123/123 [==============================] - 17s 139ms/step - loss: 0.3336 - categorical_accuracy: 0.8887 - val_loss: 1.0412 - val_categorical_accuracy: 0.7541\n",
      "Epoch 122/2000\n",
      "123/123 [==============================] - 17s 139ms/step - loss: 0.3816 - categorical_accuracy: 0.8694 - val_loss: 0.8241 - val_categorical_accuracy: 0.8110\n",
      "Epoch 123/2000\n",
      "123/123 [==============================] - 17s 140ms/step - loss: 0.3322 - categorical_accuracy: 0.8895 - val_loss: 0.5877 - val_categorical_accuracy: 0.8476\n",
      "Epoch 124/2000\n",
      "123/123 [==============================] - 17s 140ms/step - loss: 0.2845 - categorical_accuracy: 0.8968 - val_loss: 0.6656 - val_categorical_accuracy: 0.8333\n",
      "Epoch 125/2000\n",
      "123/123 [==============================] - 17s 140ms/step - loss: 0.2613 - categorical_accuracy: 0.9096 - val_loss: 0.6080 - val_categorical_accuracy: 0.8455\n",
      "Epoch 126/2000\n",
      "123/123 [==============================] - 17s 139ms/step - loss: 0.3254 - categorical_accuracy: 0.8867 - val_loss: 0.8628 - val_categorical_accuracy: 0.8049\n",
      "Epoch 127/2000\n",
      "123/123 [==============================] - 17s 140ms/step - loss: 0.3398 - categorical_accuracy: 0.8854 - val_loss: 0.7037 - val_categorical_accuracy: 0.8293\n",
      "Epoch 128/2000\n",
      "123/123 [==============================] - 17s 139ms/step - loss: 0.2806 - categorical_accuracy: 0.9019 - val_loss: 0.8325 - val_categorical_accuracy: 0.8028\n",
      "Epoch 129/2000\n",
      "123/123 [==============================] - 17s 139ms/step - loss: 0.3050 - categorical_accuracy: 0.8953 - val_loss: 0.7618 - val_categorical_accuracy: 0.8293\n",
      "Epoch 130/2000\n",
      "123/123 [==============================] - 17s 141ms/step - loss: 0.2383 - categorical_accuracy: 0.9121 - val_loss: 0.5665 - val_categorical_accuracy: 0.8598\n",
      "Epoch 131/2000\n",
      "123/123 [==============================] - 17s 141ms/step - loss: 0.2350 - categorical_accuracy: 0.9240 - val_loss: 0.6827 - val_categorical_accuracy: 0.8313\n",
      "Epoch 132/2000\n",
      "123/123 [==============================] - 17s 140ms/step - loss: 0.2948 - categorical_accuracy: 0.8976 - val_loss: 0.7175 - val_categorical_accuracy: 0.8110\n",
      "Epoch 133/2000\n",
      "123/123 [==============================] - 17s 141ms/step - loss: 0.2673 - categorical_accuracy: 0.9088 - val_loss: 0.6115 - val_categorical_accuracy: 0.8435\n",
      "Epoch 134/2000\n",
      "123/123 [==============================] - 18s 142ms/step - loss: 0.2874 - categorical_accuracy: 0.9037 - val_loss: 0.9143 - val_categorical_accuracy: 0.7825\n",
      "Epoch 135/2000\n",
      "123/123 [==============================] - 17s 140ms/step - loss: 0.3934 - categorical_accuracy: 0.8712 - val_loss: 0.6264 - val_categorical_accuracy: 0.8537\n",
      "Epoch 136/2000\n",
      "123/123 [==============================] - 17s 140ms/step - loss: 0.2762 - categorical_accuracy: 0.9029 - val_loss: 0.6194 - val_categorical_accuracy: 0.8435\n",
      "Epoch 137/2000\n",
      "123/123 [==============================] - 17s 140ms/step - loss: 0.2572 - categorical_accuracy: 0.9108 - val_loss: 0.6903 - val_categorical_accuracy: 0.8516\n",
      "Epoch 138/2000\n",
      "123/123 [==============================] - 17s 140ms/step - loss: 0.2313 - categorical_accuracy: 0.9169 - val_loss: 0.5645 - val_categorical_accuracy: 0.8516\n",
      "Epoch 139/2000\n",
      "123/123 [==============================] - 17s 140ms/step - loss: 0.3382 - categorical_accuracy: 0.8923 - val_loss: 0.8061 - val_categorical_accuracy: 0.7927\n",
      "Epoch 140/2000\n",
      "123/123 [==============================] - 17s 140ms/step - loss: 0.3067 - categorical_accuracy: 0.8948 - val_loss: 0.6192 - val_categorical_accuracy: 0.8537\n",
      "Epoch 141/2000\n",
      "123/123 [==============================] - 17s 140ms/step - loss: 0.2526 - categorical_accuracy: 0.9141 - val_loss: 0.6789 - val_categorical_accuracy: 0.8272\n",
      "Epoch 142/2000\n",
      "123/123 [==============================] - 17s 140ms/step - loss: 0.2512 - categorical_accuracy: 0.9090 - val_loss: 0.6275 - val_categorical_accuracy: 0.8374\n",
      "Epoch 143/2000\n",
      "123/123 [==============================] - 17s 140ms/step - loss: 0.2532 - categorical_accuracy: 0.9121 - val_loss: 0.5809 - val_categorical_accuracy: 0.8516\n",
      "Epoch 144/2000\n",
      "123/123 [==============================] - 17s 140ms/step - loss: 0.2356 - categorical_accuracy: 0.9144 - val_loss: 0.6864 - val_categorical_accuracy: 0.8333\n",
      "Epoch 145/2000\n",
      "123/123 [==============================] - 17s 140ms/step - loss: 0.2318 - categorical_accuracy: 0.9167 - val_loss: 0.5478 - val_categorical_accuracy: 0.8679\n",
      "Epoch 146/2000\n",
      "123/123 [==============================] - 17s 140ms/step - loss: 0.2807 - categorical_accuracy: 0.9060 - val_loss: 0.9036 - val_categorical_accuracy: 0.7805\n",
      "Epoch 147/2000\n",
      "123/123 [==============================] - 17s 140ms/step - loss: 0.2962 - categorical_accuracy: 0.8996 - val_loss: 0.9848 - val_categorical_accuracy: 0.7744\n",
      "Epoch 148/2000\n",
      "123/123 [==============================] - 17s 141ms/step - loss: 0.2398 - categorical_accuracy: 0.9159 - val_loss: 0.7352 - val_categorical_accuracy: 0.8293\n",
      "Epoch 149/2000\n",
      "123/123 [==============================] - 17s 141ms/step - loss: 0.2236 - categorical_accuracy: 0.9261 - val_loss: 0.7373 - val_categorical_accuracy: 0.8374\n",
      "Epoch 150/2000\n",
      "123/123 [==============================] - 17s 141ms/step - loss: 0.2315 - categorical_accuracy: 0.9157 - val_loss: 0.8131 - val_categorical_accuracy: 0.8150\n",
      "Epoch 151/2000\n",
      "123/123 [==============================] - 17s 141ms/step - loss: 0.2385 - categorical_accuracy: 0.9195 - val_loss: 1.3727 - val_categorical_accuracy: 0.7195\n",
      "Epoch 152/2000\n",
      "123/123 [==============================] - 17s 140ms/step - loss: 0.2931 - categorical_accuracy: 0.8996 - val_loss: 0.7530 - val_categorical_accuracy: 0.8232\n",
      "Epoch 153/2000\n",
      "123/123 [==============================] - 18s 146ms/step - loss: 0.2233 - categorical_accuracy: 0.9207 - val_loss: 0.7970 - val_categorical_accuracy: 0.8252\n",
      "Epoch 154/2000\n",
      "123/123 [==============================] - 17s 141ms/step - loss: 0.2447 - categorical_accuracy: 0.9190 - val_loss: 0.7259 - val_categorical_accuracy: 0.8211\n",
      "Epoch 155/2000\n",
      "123/123 [==============================] - 18s 147ms/step - loss: 0.2367 - categorical_accuracy: 0.9197 - val_loss: 0.8072 - val_categorical_accuracy: 0.7967\n",
      "Epoch 156/2000\n",
      "123/123 [==============================] - 17s 141ms/step - loss: 0.2706 - categorical_accuracy: 0.9057 - val_loss: 0.7858 - val_categorical_accuracy: 0.8252\n",
      "Epoch 157/2000\n",
      "123/123 [==============================] - 17s 140ms/step - loss: 0.2318 - categorical_accuracy: 0.9182 - val_loss: 0.7735 - val_categorical_accuracy: 0.8252\n",
      "Epoch 158/2000\n",
      "123/123 [==============================] - 17s 142ms/step - loss: 0.2281 - categorical_accuracy: 0.9192 - val_loss: 0.6755 - val_categorical_accuracy: 0.8496\n",
      "Epoch 159/2000\n",
      "123/123 [==============================] - 18s 146ms/step - loss: 0.2189 - categorical_accuracy: 0.9251 - val_loss: 0.7752 - val_categorical_accuracy: 0.8110\n",
      "Epoch 160/2000\n",
      "123/123 [==============================] - 17s 141ms/step - loss: 0.2268 - categorical_accuracy: 0.9195 - val_loss: 0.6366 - val_categorical_accuracy: 0.8760\n",
      "Epoch 161/2000\n",
      "123/123 [==============================] - 18s 143ms/step - loss: 0.1812 - categorical_accuracy: 0.9383 - val_loss: 0.7331 - val_categorical_accuracy: 0.8455\n",
      "Epoch 162/2000\n",
      "123/123 [==============================] - 17s 141ms/step - loss: 0.1927 - categorical_accuracy: 0.9329 - val_loss: 0.7213 - val_categorical_accuracy: 0.8455\n",
      "Epoch 163/2000\n",
      "123/123 [==============================] - 17s 142ms/step - loss: 0.2326 - categorical_accuracy: 0.9240 - val_loss: 1.0674 - val_categorical_accuracy: 0.7744\n",
      "Epoch 164/2000\n",
      "123/123 [==============================] - 17s 141ms/step - loss: 0.1944 - categorical_accuracy: 0.9306 - val_loss: 0.8306 - val_categorical_accuracy: 0.8252\n",
      "Epoch 165/2000\n",
      "123/123 [==============================] - 17s 142ms/step - loss: 0.2550 - categorical_accuracy: 0.9177 - val_loss: 0.8457 - val_categorical_accuracy: 0.8049\n",
      "Epoch 166/2000\n",
      "123/123 [==============================] - 17s 141ms/step - loss: 0.2242 - categorical_accuracy: 0.9243 - val_loss: 0.8665 - val_categorical_accuracy: 0.8049\n",
      "Epoch 167/2000\n",
      "123/123 [==============================] - 17s 142ms/step - loss: 0.2670 - categorical_accuracy: 0.9116 - val_loss: 0.7390 - val_categorical_accuracy: 0.8476\n",
      "Epoch 168/2000\n",
      "123/123 [==============================] - 18s 143ms/step - loss: 0.1975 - categorical_accuracy: 0.9329 - val_loss: 0.8697 - val_categorical_accuracy: 0.7947\n",
      "Epoch 169/2000\n",
      "123/123 [==============================] - 17s 141ms/step - loss: 0.2469 - categorical_accuracy: 0.9141 - val_loss: 0.7032 - val_categorical_accuracy: 0.8537\n",
      "Epoch 170/2000\n",
      "123/123 [==============================] - 17s 142ms/step - loss: 0.2198 - categorical_accuracy: 0.9284 - val_loss: 0.8410 - val_categorical_accuracy: 0.8191\n",
      "Epoch 171/2000\n",
      "123/123 [==============================] - 17s 142ms/step - loss: 0.2430 - categorical_accuracy: 0.9217 - val_loss: 0.6813 - val_categorical_accuracy: 0.8313\n",
      "Epoch 172/2000\n",
      "123/123 [==============================] - 18s 143ms/step - loss: 0.2120 - categorical_accuracy: 0.9268 - val_loss: 0.7273 - val_categorical_accuracy: 0.8293\n",
      "Epoch 173/2000\n",
      "123/123 [==============================] - 17s 141ms/step - loss: 0.1969 - categorical_accuracy: 0.9339 - val_loss: 0.9277 - val_categorical_accuracy: 0.8089\n",
      "Epoch 174/2000\n",
      "123/123 [==============================] - 17s 141ms/step - loss: 0.2248 - categorical_accuracy: 0.9220 - val_loss: 0.7938 - val_categorical_accuracy: 0.8374\n",
      "Epoch 175/2000\n",
      "123/123 [==============================] - 18s 143ms/step - loss: 0.1960 - categorical_accuracy: 0.9345 - val_loss: 0.6065 - val_categorical_accuracy: 0.8577\n",
      "Epoch 176/2000\n",
      "123/123 [==============================] - 17s 141ms/step - loss: 0.2423 - categorical_accuracy: 0.9190 - val_loss: 0.8849 - val_categorical_accuracy: 0.8110\n",
      "Epoch 177/2000\n",
      "123/123 [==============================] - 18s 147ms/step - loss: 0.1662 - categorical_accuracy: 0.9444 - val_loss: 0.7657 - val_categorical_accuracy: 0.8333\n",
      "Epoch 178/2000\n",
      "123/123 [==============================] - 18s 150ms/step - loss: 0.1892 - categorical_accuracy: 0.9342 - val_loss: 0.7814 - val_categorical_accuracy: 0.8211\n",
      "Epoch 179/2000\n",
      "123/123 [==============================] - 19s 151ms/step - loss: 0.2407 - categorical_accuracy: 0.9167 - val_loss: 0.6362 - val_categorical_accuracy: 0.8537\n",
      "Epoch 180/2000\n",
      "123/123 [==============================] - 18s 149ms/step - loss: 0.2870 - categorical_accuracy: 0.9050 - val_loss: 0.7103 - val_categorical_accuracy: 0.8374\n",
      "Epoch 181/2000\n",
      "123/123 [==============================] - 18s 148ms/step - loss: 0.1517 - categorical_accuracy: 0.9499 - val_loss: 0.6220 - val_categorical_accuracy: 0.8720\n",
      "Epoch 182/2000\n",
      "123/123 [==============================] - 18s 150ms/step - loss: 0.1612 - categorical_accuracy: 0.9436 - val_loss: 0.8150 - val_categorical_accuracy: 0.8354\n",
      "Epoch 183/2000\n",
      "123/123 [==============================] - 18s 150ms/step - loss: 0.2304 - categorical_accuracy: 0.9205 - val_loss: 0.6487 - val_categorical_accuracy: 0.8679\n",
      "Epoch 184/2000\n",
      "123/123 [==============================] - 19s 151ms/step - loss: 0.2109 - categorical_accuracy: 0.9276 - val_loss: 0.6168 - val_categorical_accuracy: 0.8476\n",
      "Epoch 185/2000\n",
      "123/123 [==============================] - 19s 151ms/step - loss: 0.1579 - categorical_accuracy: 0.9482 - val_loss: 0.7058 - val_categorical_accuracy: 0.8435\n",
      "Epoch 186/2000\n",
      "123/123 [==============================] - 17s 142ms/step - loss: 0.1816 - categorical_accuracy: 0.9339 - val_loss: 0.7887 - val_categorical_accuracy: 0.8171\n",
      "Epoch 187/2000\n",
      "123/123 [==============================] - 18s 143ms/step - loss: 0.1936 - categorical_accuracy: 0.9332 - val_loss: 0.7507 - val_categorical_accuracy: 0.8354\n",
      "Epoch 188/2000\n",
      "123/123 [==============================] - 17s 142ms/step - loss: 0.1860 - categorical_accuracy: 0.9385 - val_loss: 0.6806 - val_categorical_accuracy: 0.8476\n",
      "Epoch 189/2000\n",
      "123/123 [==============================] - 17s 142ms/step - loss: 0.1764 - categorical_accuracy: 0.9418 - val_loss: 0.6546 - val_categorical_accuracy: 0.8537\n",
      "Epoch 190/2000\n",
      "123/123 [==============================] - 17s 142ms/step - loss: 0.2596 - categorical_accuracy: 0.9217 - val_loss: 0.6671 - val_categorical_accuracy: 0.8557\n",
      "Epoch 191/2000\n",
      "123/123 [==============================] - 18s 147ms/step - loss: 0.2491 - categorical_accuracy: 0.9149 - val_loss: 0.6622 - val_categorical_accuracy: 0.8618\n",
      "Epoch 192/2000\n",
      "123/123 [==============================] - 18s 143ms/step - loss: 0.2023 - categorical_accuracy: 0.9319 - val_loss: 0.7845 - val_categorical_accuracy: 0.8333\n",
      "Epoch 193/2000\n",
      "123/123 [==============================] - 18s 145ms/step - loss: 0.3078 - categorical_accuracy: 0.8991 - val_loss: 0.5885 - val_categorical_accuracy: 0.8618\n",
      "Epoch 194/2000\n",
      "123/123 [==============================] - 17s 142ms/step - loss: 0.2465 - categorical_accuracy: 0.9174 - val_loss: 0.8068 - val_categorical_accuracy: 0.8415\n",
      "Epoch 195/2000\n",
      "123/123 [==============================] - 18s 143ms/step - loss: 0.1499 - categorical_accuracy: 0.9517 - val_loss: 0.7707 - val_categorical_accuracy: 0.8333\n",
      "Epoch 196/2000\n",
      "123/123 [==============================] - 17s 142ms/step - loss: 0.1452 - categorical_accuracy: 0.9566 - val_loss: 0.7879 - val_categorical_accuracy: 0.8354\n",
      "Epoch 197/2000\n",
      "123/123 [==============================] - 17s 142ms/step - loss: 0.2492 - categorical_accuracy: 0.9202 - val_loss: 0.7464 - val_categorical_accuracy: 0.8089\n",
      "Epoch 198/2000\n",
      "123/123 [==============================] - 17s 142ms/step - loss: 0.1893 - categorical_accuracy: 0.9439 - val_loss: 0.6715 - val_categorical_accuracy: 0.8598\n",
      "Epoch 199/2000\n",
      "123/123 [==============================] - 18s 144ms/step - loss: 0.2411 - categorical_accuracy: 0.9223 - val_loss: 0.7561 - val_categorical_accuracy: 0.8394\n",
      "Epoch 200/2000\n",
      "123/123 [==============================] - 18s 143ms/step - loss: 0.1688 - categorical_accuracy: 0.9436 - val_loss: 0.6727 - val_categorical_accuracy: 0.8598\n",
      "Epoch 201/2000\n",
      "123/123 [==============================] - 17s 141ms/step - loss: 0.1708 - categorical_accuracy: 0.9436 - val_loss: 0.7644 - val_categorical_accuracy: 0.8354\n",
      "Epoch 202/2000\n",
      "123/123 [==============================] - 18s 144ms/step - loss: 0.1654 - categorical_accuracy: 0.9469 - val_loss: 0.6388 - val_categorical_accuracy: 0.8699\n",
      "Epoch 203/2000\n",
      "123/123 [==============================] - 17s 142ms/step - loss: 0.2036 - categorical_accuracy: 0.9281 - val_loss: 0.9116 - val_categorical_accuracy: 0.8089\n",
      "Epoch 204/2000\n",
      "123/123 [==============================] - 17s 141ms/step - loss: 0.1427 - categorical_accuracy: 0.9522 - val_loss: 0.6865 - val_categorical_accuracy: 0.8394\n",
      "Epoch 205/2000\n",
      "123/123 [==============================] - 17s 142ms/step - loss: 0.1872 - categorical_accuracy: 0.9372 - val_loss: 0.8073 - val_categorical_accuracy: 0.8415\n",
      "Epoch 206/2000\n",
      "123/123 [==============================] - 18s 146ms/step - loss: 0.1535 - categorical_accuracy: 0.9472 - val_loss: 0.8224 - val_categorical_accuracy: 0.8130\n",
      "Epoch 207/2000\n",
      "123/123 [==============================] - 17s 141ms/step - loss: 0.2009 - categorical_accuracy: 0.9311 - val_loss: 0.6614 - val_categorical_accuracy: 0.8760\n",
      "Epoch 208/2000\n",
      "123/123 [==============================] - 17s 142ms/step - loss: 0.2401 - categorical_accuracy: 0.9212 - val_loss: 0.7143 - val_categorical_accuracy: 0.8374\n",
      "Epoch 209/2000\n",
      "123/123 [==============================] - 18s 142ms/step - loss: 0.1778 - categorical_accuracy: 0.9383 - val_loss: 0.5884 - val_categorical_accuracy: 0.8618\n",
      "Epoch 210/2000\n",
      "123/123 [==============================] - 18s 143ms/step - loss: 0.1555 - categorical_accuracy: 0.9451 - val_loss: 0.7047 - val_categorical_accuracy: 0.8557\n",
      "Epoch 211/2000\n",
      "123/123 [==============================] - 17s 142ms/step - loss: 0.2447 - categorical_accuracy: 0.9139 - val_loss: 0.6321 - val_categorical_accuracy: 0.8618\n",
      "Epoch 212/2000\n",
      "123/123 [==============================] - 18s 143ms/step - loss: 0.1194 - categorical_accuracy: 0.9606 - val_loss: 0.6345 - val_categorical_accuracy: 0.8618\n",
      "Epoch 213/2000\n",
      "123/123 [==============================] - 17s 142ms/step - loss: 0.0909 - categorical_accuracy: 0.9700 - val_loss: 0.5986 - val_categorical_accuracy: 0.8618\n",
      "Epoch 214/2000\n",
      "123/123 [==============================] - 17s 142ms/step - loss: 0.2282 - categorical_accuracy: 0.9256 - val_loss: 1.1095 - val_categorical_accuracy: 0.7744\n",
      "Epoch 215/2000\n",
      "123/123 [==============================] - 18s 144ms/step - loss: 0.2067 - categorical_accuracy: 0.9319 - val_loss: 0.8309 - val_categorical_accuracy: 0.8293\n",
      "Epoch 216/2000\n",
      "123/123 [==============================] - 18s 143ms/step - loss: 0.1775 - categorical_accuracy: 0.9357 - val_loss: 0.6205 - val_categorical_accuracy: 0.8496\n",
      "Epoch 217/2000\n",
      "123/123 [==============================] - 17s 141ms/step - loss: 0.1941 - categorical_accuracy: 0.9360 - val_loss: 0.8052 - val_categorical_accuracy: 0.8374\n",
      "Epoch 218/2000\n",
      "123/123 [==============================] - 18s 144ms/step - loss: 0.1481 - categorical_accuracy: 0.9502 - val_loss: 0.6899 - val_categorical_accuracy: 0.8557\n",
      "Epoch 219/2000\n",
      "123/123 [==============================] - 17s 142ms/step - loss: 0.1562 - categorical_accuracy: 0.9472 - val_loss: 0.6407 - val_categorical_accuracy: 0.8638\n",
      "Epoch 220/2000\n",
      "123/123 [==============================] - 18s 143ms/step - loss: 0.1547 - categorical_accuracy: 0.9464 - val_loss: 0.6425 - val_categorical_accuracy: 0.8638\n",
      "Epoch 221/2000\n",
      "123/123 [==============================] - 17s 142ms/step - loss: 0.2107 - categorical_accuracy: 0.9271 - val_loss: 0.8677 - val_categorical_accuracy: 0.8211\n",
      "Epoch 222/2000\n",
      "123/123 [==============================] - 17s 142ms/step - loss: 0.1212 - categorical_accuracy: 0.9566 - val_loss: 0.7320 - val_categorical_accuracy: 0.8415\n",
      "Epoch 223/2000\n",
      "123/123 [==============================] - 18s 145ms/step - loss: 0.1368 - categorical_accuracy: 0.9535 - val_loss: 0.6744 - val_categorical_accuracy: 0.8537\n",
      "Epoch 224/2000\n",
      "123/123 [==============================] - 18s 142ms/step - loss: 0.2465 - categorical_accuracy: 0.9162 - val_loss: 0.7368 - val_categorical_accuracy: 0.8354\n",
      "Epoch 225/2000\n",
      "123/123 [==============================] - 17s 141ms/step - loss: 0.1641 - categorical_accuracy: 0.9411 - val_loss: 0.8559 - val_categorical_accuracy: 0.8293\n",
      "Epoch 226/2000\n",
      "123/123 [==============================] - 17s 142ms/step - loss: 0.2078 - categorical_accuracy: 0.9319 - val_loss: 0.7225 - val_categorical_accuracy: 0.8557\n",
      "Epoch 227/2000\n",
      "123/123 [==============================] - 17s 141ms/step - loss: 0.1447 - categorical_accuracy: 0.9441 - val_loss: 0.7817 - val_categorical_accuracy: 0.8272\n",
      "Epoch 228/2000\n",
      "123/123 [==============================] - 17s 141ms/step - loss: 0.3298 - categorical_accuracy: 0.8963 - val_loss: 0.8754 - val_categorical_accuracy: 0.8089\n",
      "Epoch 229/2000\n",
      "123/123 [==============================] - 17s 142ms/step - loss: 0.1857 - categorical_accuracy: 0.9395 - val_loss: 0.5581 - val_categorical_accuracy: 0.8740\n",
      "Epoch 230/2000\n",
      "123/123 [==============================] - 17s 142ms/step - loss: 0.1137 - categorical_accuracy: 0.9616 - val_loss: 0.6259 - val_categorical_accuracy: 0.8618\n",
      "Epoch 231/2000\n",
      "123/123 [==============================] - 17s 142ms/step - loss: 0.1702 - categorical_accuracy: 0.9436 - val_loss: 0.8046 - val_categorical_accuracy: 0.8272\n",
      "Epoch 232/2000\n",
      "123/123 [==============================] - 17s 142ms/step - loss: 0.1126 - categorical_accuracy: 0.9647 - val_loss: 0.6358 - val_categorical_accuracy: 0.8659\n",
      "Epoch 233/2000\n",
      "123/123 [==============================] - 18s 143ms/step - loss: 0.1081 - categorical_accuracy: 0.9624 - val_loss: 0.8499 - val_categorical_accuracy: 0.8211\n",
      "Epoch 234/2000\n",
      "123/123 [==============================] - 18s 142ms/step - loss: 0.1743 - categorical_accuracy: 0.9408 - val_loss: 0.7424 - val_categorical_accuracy: 0.8598\n",
      "Epoch 235/2000\n",
      "123/123 [==============================] - 17s 141ms/step - loss: 0.1584 - categorical_accuracy: 0.9494 - val_loss: 0.8231 - val_categorical_accuracy: 0.8313\n",
      "Epoch 236/2000\n",
      "123/123 [==============================] - 18s 144ms/step - loss: 0.1274 - categorical_accuracy: 0.9578 - val_loss: 0.8153 - val_categorical_accuracy: 0.8415\n",
      "Epoch 237/2000\n",
      "123/123 [==============================] - 18s 143ms/step - loss: 0.1127 - categorical_accuracy: 0.9642 - val_loss: 0.5683 - val_categorical_accuracy: 0.8780\n",
      "Epoch 238/2000\n",
      "123/123 [==============================] - 18s 147ms/step - loss: 0.1272 - categorical_accuracy: 0.9555 - val_loss: 0.9936 - val_categorical_accuracy: 0.8069\n",
      "Epoch 239/2000\n",
      "123/123 [==============================] - 18s 144ms/step - loss: 0.1368 - categorical_accuracy: 0.9533 - val_loss: 0.7247 - val_categorical_accuracy: 0.8516\n",
      "Epoch 240/2000\n",
      "123/123 [==============================] - 18s 143ms/step - loss: 0.1578 - categorical_accuracy: 0.9507 - val_loss: 0.6030 - val_categorical_accuracy: 0.8841\n",
      "Epoch 241/2000\n",
      "123/123 [==============================] - 18s 143ms/step - loss: 0.1474 - categorical_accuracy: 0.9492 - val_loss: 0.7782 - val_categorical_accuracy: 0.8455\n",
      "Epoch 242/2000\n",
      "123/123 [==============================] - 18s 143ms/step - loss: 0.1982 - categorical_accuracy: 0.9350 - val_loss: 0.8177 - val_categorical_accuracy: 0.8293\n",
      "Epoch 243/2000\n",
      "123/123 [==============================] - 18s 145ms/step - loss: 0.1944 - categorical_accuracy: 0.9385 - val_loss: 0.6839 - val_categorical_accuracy: 0.8598\n",
      "Epoch 244/2000\n",
      "123/123 [==============================] - 18s 143ms/step - loss: 0.2351 - categorical_accuracy: 0.9223 - val_loss: 0.8859 - val_categorical_accuracy: 0.8232\n",
      "Epoch 245/2000\n",
      "123/123 [==============================] - 18s 143ms/step - loss: 0.1708 - categorical_accuracy: 0.9426 - val_loss: 0.8838 - val_categorical_accuracy: 0.8211\n",
      "Epoch 246/2000\n",
      "123/123 [==============================] - 17s 142ms/step - loss: 0.1346 - categorical_accuracy: 0.9522 - val_loss: 0.6577 - val_categorical_accuracy: 0.8659\n",
      "Epoch 247/2000\n",
      "123/123 [==============================] - 18s 143ms/step - loss: 0.1809 - categorical_accuracy: 0.9431 - val_loss: 0.7471 - val_categorical_accuracy: 0.8496\n",
      "Epoch 248/2000\n",
      "123/123 [==============================] - 18s 142ms/step - loss: 0.1554 - categorical_accuracy: 0.9479 - val_loss: 0.7414 - val_categorical_accuracy: 0.8476\n",
      "Epoch 249/2000\n",
      "123/123 [==============================] - 18s 143ms/step - loss: 0.1140 - categorical_accuracy: 0.9632 - val_loss: 0.5853 - val_categorical_accuracy: 0.8760\n",
      "Epoch 250/2000\n",
      "123/123 [==============================] - 18s 144ms/step - loss: 0.1001 - categorical_accuracy: 0.9660 - val_loss: 0.6148 - val_categorical_accuracy: 0.8760\n",
      "Epoch 251/2000\n",
      "123/123 [==============================] - 18s 144ms/step - loss: 0.1190 - categorical_accuracy: 0.9591 - val_loss: 0.7747 - val_categorical_accuracy: 0.8394\n",
      "Epoch 252/2000\n",
      "123/123 [==============================] - 18s 144ms/step - loss: 0.1701 - categorical_accuracy: 0.9395 - val_loss: 0.6037 - val_categorical_accuracy: 0.8760\n",
      "Epoch 253/2000\n",
      "123/123 [==============================] - 18s 143ms/step - loss: 0.1637 - categorical_accuracy: 0.9428 - val_loss: 0.7394 - val_categorical_accuracy: 0.8720\n"
     ]
    }
   ],
   "source": [
    "# iperparameters\n",
    "batch_size = 32\n",
    "train_generator = cdg.CustomDataGenerator(X_train, y_train, batch_size=batch_size, augment_data=True)\n",
    "model.compile(optimizer='Adam', loss='categorical_crossentropy', metrics=['categorical_accuracy'])\n",
    "early_stopping = EarlyStopping(monitor='loss', patience=40, restore_best_weights=True)\n",
    "best_model_path = os.path.join(model_f, 'best_model.h5') \n",
    "checkpoint = ModelCheckpoint(best_model_path, monitor='loss', save_best_only=True)\n",
    "#history = model.fit(train_generator, epochs=2000, validation_data=(X_val, y_val), callbacks=[early_stopping,\n",
    "                                                                                              #   checkpoint,\n",
    "                                                                                              #   csv_logger,\n",
    "                                                                                              #   tensorboard_callback])\n",
    "\n",
    "history = model.fit(X_train, y_train, epochs=2000, validation_data=(X_val, y_val), callbacks=[early_stopping,\n",
    "                                                                                              checkpoint,\n",
    "                                                                                              csv_logger,\n",
    "                                                                                              tensorboard_callback])\n",
    "\n",
    "# save best model\n",
    "final_model_path = os.path.join(model_f, 'final_model.h5')\n",
    "model.save(final_model_path)\n"
   ],
   "metadata": {
    "collapsed": false,
    "ExecuteTime": {
     "end_time": "2024-07-15T14:58:37.491277400Z",
     "start_time": "2024-07-15T13:45:32.726700600Z"
    }
   },
   "id": "a95bc5d05d55f9bf"
  },
  {
   "cell_type": "code",
   "execution_count": 13,
   "outputs": [
    {
     "name": "stdout",
     "output_type": "stream",
     "text": [
      "Model: \"sequential\"\n",
      "_________________________________________________________________\n",
      " Layer (type)                Output Shape              Param #   \n",
      "=================================================================\n",
      " lstm (LSTM)                 (None, 30, 128)           916992    \n",
      "                                                                 \n",
      " dropout (Dropout)           (None, 30, 128)           0         \n",
      "                                                                 \n",
      " dense (Dense)               (None, 30, 64)            8256      \n",
      "                                                                 \n",
      " lstm_1 (LSTM)               (None, 30, 64)            33024     \n",
      "                                                                 \n",
      " dropout_1 (Dropout)         (None, 30, 64)            0         \n",
      "                                                                 \n",
      " dense_1 (Dense)             (None, 30, 64)            4160      \n",
      "                                                                 \n",
      " lstm_2 (LSTM)               (None, 32)                12416     \n",
      "                                                                 \n",
      " batch_normalization (Batch  (None, 32)                128       \n",
      " Normalization)                                                  \n",
      "                                                                 \n",
      " dense_2 (Dense)             (None, 32)                1056      \n",
      "                                                                 \n",
      " dense_3 (Dense)             (None, 58)                1914      \n",
      "                                                                 \n",
      "=================================================================\n",
      "Total params: 977946 (3.73 MB)\n",
      "Trainable params: 977882 (3.73 MB)\n",
      "Non-trainable params: 64 (256.00 Byte)\n",
      "_________________________________________________________________\n"
     ]
    }
   ],
   "source": [
    "model.summary()"
   ],
   "metadata": {
    "collapsed": false,
    "ExecuteTime": {
     "end_time": "2024-07-15T15:00:16.355932400Z",
     "start_time": "2024-07-15T15:00:16.297890Z"
    }
   },
   "id": "3387bbde19fe3fb5"
  },
  {
   "cell_type": "code",
   "execution_count": 14,
   "outputs": [
    {
     "ename": "FileNotFoundError",
     "evalue": "[Errno 2] Unable to open file (unable to open file: name = 'models/model_31/best_model.h5', errno = 2, error message = 'No such file or directory', flags = 0, o_flags = 0)",
     "output_type": "error",
     "traceback": [
      "\u001B[1;31m---------------------------------------------------------------------------\u001B[0m",
      "\u001B[1;31mFileNotFoundError\u001B[0m                         Traceback (most recent call last)",
      "Cell \u001B[1;32mIn[14], line 2\u001B[0m\n\u001B[0;32m      1\u001B[0m \u001B[38;5;66;03m# Load the weights pf trained model\u001B[39;00m\n\u001B[1;32m----> 2\u001B[0m model\u001B[38;5;241m.\u001B[39mload_weights(\u001B[38;5;124m'\u001B[39m\u001B[38;5;124mmodels/model_31/best_model.h5\u001B[39m\u001B[38;5;124m'\u001B[39m)\n",
      "File \u001B[1;32m~\\AppData\\Roaming\\Python\\Python311\\site-packages\\keras\\src\\utils\\traceback_utils.py:70\u001B[0m, in \u001B[0;36mfilter_traceback.<locals>.error_handler\u001B[1;34m(*args, **kwargs)\u001B[0m\n\u001B[0;32m     67\u001B[0m     filtered_tb \u001B[38;5;241m=\u001B[39m _process_traceback_frames(e\u001B[38;5;241m.\u001B[39m__traceback__)\n\u001B[0;32m     68\u001B[0m     \u001B[38;5;66;03m# To get the full stack trace, call:\u001B[39;00m\n\u001B[0;32m     69\u001B[0m     \u001B[38;5;66;03m# `tf.debugging.disable_traceback_filtering()`\u001B[39;00m\n\u001B[1;32m---> 70\u001B[0m     \u001B[38;5;28;01mraise\u001B[39;00m e\u001B[38;5;241m.\u001B[39mwith_traceback(filtered_tb) \u001B[38;5;28;01mfrom\u001B[39;00m \u001B[38;5;28;01mNone\u001B[39;00m\n\u001B[0;32m     71\u001B[0m \u001B[38;5;28;01mfinally\u001B[39;00m:\n\u001B[0;32m     72\u001B[0m     \u001B[38;5;28;01mdel\u001B[39;00m filtered_tb\n",
      "File \u001B[1;32m~\\AppData\\Roaming\\Python\\Python311\\site-packages\\h5py\\_hl\\files.py:567\u001B[0m, in \u001B[0;36mFile.__init__\u001B[1;34m(self, name, mode, driver, libver, userblock_size, swmr, rdcc_nslots, rdcc_nbytes, rdcc_w0, track_order, fs_strategy, fs_persist, fs_threshold, fs_page_size, page_buf_size, min_meta_keep, min_raw_keep, locking, alignment_threshold, alignment_interval, meta_block_size, **kwds)\u001B[0m\n\u001B[0;32m    558\u001B[0m     fapl \u001B[38;5;241m=\u001B[39m make_fapl(driver, libver, rdcc_nslots, rdcc_nbytes, rdcc_w0,\n\u001B[0;32m    559\u001B[0m                      locking, page_buf_size, min_meta_keep, min_raw_keep,\n\u001B[0;32m    560\u001B[0m                      alignment_threshold\u001B[38;5;241m=\u001B[39malignment_threshold,\n\u001B[0;32m    561\u001B[0m                      alignment_interval\u001B[38;5;241m=\u001B[39malignment_interval,\n\u001B[0;32m    562\u001B[0m                      meta_block_size\u001B[38;5;241m=\u001B[39mmeta_block_size,\n\u001B[0;32m    563\u001B[0m                      \u001B[38;5;241m*\u001B[39m\u001B[38;5;241m*\u001B[39mkwds)\n\u001B[0;32m    564\u001B[0m     fcpl \u001B[38;5;241m=\u001B[39m make_fcpl(track_order\u001B[38;5;241m=\u001B[39mtrack_order, fs_strategy\u001B[38;5;241m=\u001B[39mfs_strategy,\n\u001B[0;32m    565\u001B[0m                      fs_persist\u001B[38;5;241m=\u001B[39mfs_persist, fs_threshold\u001B[38;5;241m=\u001B[39mfs_threshold,\n\u001B[0;32m    566\u001B[0m                      fs_page_size\u001B[38;5;241m=\u001B[39mfs_page_size)\n\u001B[1;32m--> 567\u001B[0m     fid \u001B[38;5;241m=\u001B[39m make_fid(name, mode, userblock_size, fapl, fcpl, swmr\u001B[38;5;241m=\u001B[39mswmr)\n\u001B[0;32m    569\u001B[0m \u001B[38;5;28;01mif\u001B[39;00m \u001B[38;5;28misinstance\u001B[39m(libver, \u001B[38;5;28mtuple\u001B[39m):\n\u001B[0;32m    570\u001B[0m     \u001B[38;5;28mself\u001B[39m\u001B[38;5;241m.\u001B[39m_libver \u001B[38;5;241m=\u001B[39m libver\n",
      "File \u001B[1;32m~\\AppData\\Roaming\\Python\\Python311\\site-packages\\h5py\\_hl\\files.py:231\u001B[0m, in \u001B[0;36mmake_fid\u001B[1;34m(name, mode, userblock_size, fapl, fcpl, swmr)\u001B[0m\n\u001B[0;32m    229\u001B[0m     \u001B[38;5;28;01mif\u001B[39;00m swmr \u001B[38;5;129;01mand\u001B[39;00m swmr_support:\n\u001B[0;32m    230\u001B[0m         flags \u001B[38;5;241m|\u001B[39m\u001B[38;5;241m=\u001B[39m h5f\u001B[38;5;241m.\u001B[39mACC_SWMR_READ\n\u001B[1;32m--> 231\u001B[0m     fid \u001B[38;5;241m=\u001B[39m h5f\u001B[38;5;241m.\u001B[39mopen(name, flags, fapl\u001B[38;5;241m=\u001B[39mfapl)\n\u001B[0;32m    232\u001B[0m \u001B[38;5;28;01melif\u001B[39;00m mode \u001B[38;5;241m==\u001B[39m \u001B[38;5;124m'\u001B[39m\u001B[38;5;124mr+\u001B[39m\u001B[38;5;124m'\u001B[39m:\n\u001B[0;32m    233\u001B[0m     fid \u001B[38;5;241m=\u001B[39m h5f\u001B[38;5;241m.\u001B[39mopen(name, h5f\u001B[38;5;241m.\u001B[39mACC_RDWR, fapl\u001B[38;5;241m=\u001B[39mfapl)\n",
      "File \u001B[1;32mh5py\\_objects.pyx:54\u001B[0m, in \u001B[0;36mh5py._objects.with_phil.wrapper\u001B[1;34m()\u001B[0m\n",
      "File \u001B[1;32mh5py\\_objects.pyx:55\u001B[0m, in \u001B[0;36mh5py._objects.with_phil.wrapper\u001B[1;34m()\u001B[0m\n",
      "File \u001B[1;32mh5py\\h5f.pyx:106\u001B[0m, in \u001B[0;36mh5py.h5f.open\u001B[1;34m()\u001B[0m\n",
      "\u001B[1;31mFileNotFoundError\u001B[0m: [Errno 2] Unable to open file (unable to open file: name = 'models/model_31/best_model.h5', errno = 2, error message = 'No such file or directory', flags = 0, o_flags = 0)"
     ]
    }
   ],
   "source": [
    "# Load the weights pf trained model\n",
    "model.load_weights('models/model_31/best_model.h5')"
   ],
   "metadata": {
    "collapsed": false,
    "ExecuteTime": {
     "end_time": "2024-07-15T15:00:24.731233500Z",
     "start_time": "2024-07-15T15:00:20.583079300Z"
    }
   },
   "id": "42aee536a80d9155"
  },
  {
   "cell_type": "markdown",
   "source": [
    "### Evaluation using Confusion Matrix and Accuracy"
   ],
   "metadata": {
    "collapsed": false
   },
   "id": "4b203153c613ace6"
  },
  {
   "cell_type": "code",
   "execution_count": 15,
   "outputs": [
    {
     "name": "stdout",
     "output_type": "stream",
     "text": [
      "16/16 [==============================] - 3s 58ms/step\n"
     ]
    }
   ],
   "source": [
    "y_pred = model.predict(X_test)"
   ],
   "metadata": {
    "collapsed": false,
    "ExecuteTime": {
     "end_time": "2024-07-15T15:00:31.600911200Z",
     "start_time": "2024-07-15T15:00:28.055447Z"
    }
   },
   "id": "ceedaeffbe070080"
  },
  {
   "cell_type": "code",
   "execution_count": 16,
   "outputs": [
    {
     "data": {
      "text/plain": "'t'"
     },
     "execution_count": 16,
     "metadata": {},
     "output_type": "execute_result"
    }
   ],
   "source": [
    "np_actions[np.argmax(y_pred[10])]"
   ],
   "metadata": {
    "collapsed": false,
    "ExecuteTime": {
     "end_time": "2024-07-15T15:00:31.600911200Z",
     "start_time": "2024-07-15T15:00:31.587441900Z"
    }
   },
   "id": "da07033415ab75dd"
  },
  {
   "cell_type": "code",
   "execution_count": 17,
   "outputs": [
    {
     "data": {
      "text/plain": "'t'"
     },
     "execution_count": 17,
     "metadata": {},
     "output_type": "execute_result"
    }
   ],
   "source": [
    "np_actions[np.argmax(y_test[10])]"
   ],
   "metadata": {
    "collapsed": false,
    "ExecuteTime": {
     "end_time": "2024-07-15T15:00:31.624930500Z",
     "start_time": "2024-07-15T15:00:31.600911200Z"
    }
   },
   "id": "911f0a43a6249d78"
  },
  {
   "cell_type": "code",
   "execution_count": 18,
   "outputs": [],
   "source": [
    "y_true = np.argmax(y_test, axis=1).tolist()\n",
    "y_pred = np.argmax(y_pred, axis=1).tolist()"
   ],
   "metadata": {
    "collapsed": false,
    "ExecuteTime": {
     "end_time": "2024-07-15T15:00:32.886091Z",
     "start_time": "2024-07-15T15:00:32.848113Z"
    }
   },
   "id": "803dc04ea0222ba3"
  },
  {
   "cell_type": "code",
   "execution_count": 19,
   "outputs": [
    {
     "name": "stdout",
     "output_type": "stream",
     "text": [
      "[1, 27, 50, 52, 21, 1, 22, 23, 52, 22, 5, 27, 49, 12, 49, 4, 43, 41, 47, 32, 41, 52, 3, 4, 48, 14, 19, 34, 33, 28, 23, 8, 13, 11, 29, 45, 16, 4, 53, 57, 55, 16, 2, 1, 16, 17, 32, 47, 44, 9, 29, 1, 23, 21, 46, 31, 47, 8, 53, 31, 50, 56, 1, 52, 29, 0, 25, 49, 14, 28, 4, 47, 16, 45, 0, 20, 46, 23, 17, 29, 2, 15, 36, 38, 21, 41, 41, 20, 9, 31, 37, 22, 49, 15, 28, 52, 52, 37, 7, 8, 19, 49, 21, 21, 4, 27, 55, 24, 17, 37, 7, 57, 46, 33, 20, 3, 22, 8, 33, 47, 14, 48, 36, 39, 31, 42, 48, 37, 53, 33, 39, 46, 29, 23, 11, 32, 46, 43, 23, 38, 19, 12, 9, 21, 29, 35, 47, 32, 0, 11, 17, 10, 12, 26, 12, 24, 5, 4, 4, 42, 35, 15, 11, 25, 7, 30, 30, 57, 50, 46, 27, 26, 12, 32, 3, 56, 27, 55, 13, 49, 16, 36, 31, 36, 19, 26, 57, 2, 7, 21, 57, 32, 10, 46, 3, 55, 11, 34, 41, 7, 17, 55, 30, 23, 47, 14, 41, 53, 43, 48, 37, 30, 43, 3, 23, 5, 15, 31, 3, 26, 35, 55, 14, 50, 32, 34, 11, 48, 43, 40, 53, 39, 15, 22, 28, 41, 34, 13, 36, 32, 15, 35, 26, 1, 52, 4, 16, 0, 55, 9, 43, 39, 15, 37, 24, 25, 33, 30, 28, 33, 19, 30, 50, 24, 25, 48, 36, 22, 1, 56, 29, 43, 10, 52, 56, 20, 56, 48, 32, 26, 0, 6, 9, 16, 55, 54, 27, 22, 29, 41, 0, 2, 37, 33, 11, 34, 52, 16, 35, 0, 12, 47, 36, 38, 15, 14, 22, 29, 5, 19, 50, 34, 43, 30, 2, 18, 43, 48, 23, 9, 20, 53, 47, 0, 5, 53, 41, 17, 1, 55, 53, 15, 4, 17, 13, 33, 0, 7, 42, 19, 45, 25, 2, 49, 18, 47, 42, 5, 5, 36, 5, 31, 38, 11, 17, 35, 9, 14, 56, 46, 57, 8, 0, 52, 50, 26, 57, 26, 26, 28, 31, 20, 8, 45, 18, 14, 28, 13, 20, 49, 3, 38, 49, 50, 26, 51, 32, 8, 30, 17, 50, 56, 10, 7, 19, 22, 33, 13, 50, 9, 34, 39, 16, 7, 21, 11, 48, 33, 37, 2, 38, 19, 37, 3, 38, 57, 35, 49, 12, 17, 15, 3, 5, 25, 13, 28, 7, 25, 34, 29, 28, 20, 55, 21, 3, 13, 4, 46, 8, 25, 38, 25, 28, 27, 9, 53, 35, 30, 20, 12, 2, 7, 56, 36, 31, 11, 9, 16, 57, 13, 56, 53, 14, 34, 8, 35, 22, 41, 46, 21, 34, 45, 37, 36, 56, 25, 45, 5, 10, 8, 13, 1, 30, 48, 1, 31, 20, 19, 35, 14, 39, 57, 43]\n"
     ]
    }
   ],
   "source": [
    "print(y_true)"
   ],
   "metadata": {
    "collapsed": false,
    "ExecuteTime": {
     "end_time": "2024-07-15T15:00:33.364800400Z",
     "start_time": "2024-07-15T15:00:33.337645600Z"
    }
   },
   "id": "2ce0c1cec0ae5a84"
  },
  {
   "cell_type": "code",
   "execution_count": 20,
   "outputs": [
    {
     "name": "stdout",
     "output_type": "stream",
     "text": [
      "[1, 27, 50, 52, 21, 1, 22, 23, 52, 22, 5, 27, 49, 12, 49, 4, 43, 41, 47, 32, 41, 52, 3, 4, 48, 14, 19, 34, 33, 28, 39, 8, 13, 11, 9, 45, 16, 4, 8, 57, 55, 16, 2, 1, 16, 17, 32, 47, 42, 9, 29, 4, 23, 21, 46, 31, 47, 8, 53, 31, 20, 56, 1, 52, 29, 46, 25, 49, 14, 28, 4, 47, 1, 45, 0, 20, 46, 23, 19, 25, 2, 15, 36, 38, 21, 41, 41, 20, 9, 31, 37, 22, 49, 15, 28, 52, 52, 37, 7, 8, 19, 49, 21, 21, 4, 38, 55, 42, 17, 37, 7, 36, 46, 33, 20, 3, 22, 8, 33, 3, 7, 48, 36, 39, 31, 50, 48, 43, 53, 33, 45, 46, 29, 23, 11, 32, 46, 43, 23, 38, 19, 12, 9, 21, 29, 35, 47, 32, 0, 11, 17, 10, 12, 26, 12, 24, 5, 4, 4, 42, 35, 15, 11, 25, 7, 30, 30, 57, 50, 46, 27, 26, 12, 32, 3, 56, 38, 55, 36, 49, 16, 36, 31, 36, 19, 5, 57, 2, 7, 21, 57, 32, 18, 46, 3, 20, 11, 34, 41, 7, 17, 55, 30, 23, 53, 14, 41, 37, 17, 48, 37, 30, 43, 3, 23, 5, 15, 31, 3, 26, 35, 55, 14, 50, 32, 34, 11, 48, 43, 51, 53, 39, 15, 22, 28, 3, 34, 13, 36, 32, 15, 35, 26, 1, 52, 4, 36, 3, 55, 9, 43, 39, 15, 53, 24, 25, 33, 30, 28, 33, 19, 30, 56, 24, 25, 48, 36, 22, 1, 56, 29, 43, 10, 52, 56, 20, 56, 48, 32, 45, 3, 9, 9, 16, 55, 54, 27, 22, 29, 41, 0, 2, 37, 33, 11, 34, 15, 16, 35, 3, 12, 47, 36, 38, 15, 14, 22, 29, 5, 19, 50, 34, 36, 29, 2, 23, 43, 48, 23, 9, 20, 53, 33, 0, 5, 53, 41, 17, 1, 55, 53, 15, 4, 17, 13, 1, 0, 7, 42, 19, 45, 25, 2, 49, 10, 47, 42, 5, 5, 36, 5, 31, 38, 11, 19, 35, 9, 14, 56, 46, 57, 8, 0, 52, 50, 28, 57, 13, 26, 28, 31, 46, 8, 3, 51, 14, 28, 5, 20, 49, 3, 38, 49, 50, 14, 10, 32, 8, 30, 17, 50, 56, 55, 7, 19, 22, 33, 13, 50, 9, 34, 39, 1, 7, 46, 11, 48, 33, 37, 2, 38, 19, 37, 3, 38, 57, 35, 49, 12, 17, 15, 3, 5, 25, 13, 28, 7, 7, 34, 29, 28, 20, 55, 21, 41, 43, 4, 46, 8, 25, 38, 25, 28, 54, 9, 53, 35, 30, 20, 12, 45, 7, 56, 36, 31, 11, 9, 16, 57, 13, 56, 53, 14, 34, 8, 35, 22, 41, 46, 21, 34, 45, 37, 36, 56, 25, 45, 5, 10, 8, 13, 1, 30, 48, 36, 31, 20, 33, 35, 31, 23, 36, 43]\n"
     ]
    }
   ],
   "source": [
    "print(y_pred)"
   ],
   "metadata": {
    "collapsed": false,
    "ExecuteTime": {
     "end_time": "2024-07-15T15:00:33.703486600Z",
     "start_time": "2024-07-15T15:00:33.676441700Z"
    }
   },
   "id": "602582e4eedc3d53"
  },
  {
   "cell_type": "code",
   "execution_count": 21,
   "outputs": [
    {
     "data": {
      "text/plain": "<Figure size 1200x1200 with 1 Axes>",
      "image/png": "[encoded data removed]"
     },
     "metadata": {},
     "output_type": "display_data"
    }
   ],
   "source": [
    "# calculate confusion matrix\n",
    "cm = confusion_matrix(y_true, y_pred)\n",
    "\n",
    "# show confusion matrix\n",
    "plt.figure(figsize=(12, 12))\n",
    "sns.heatmap(cm, annot=True, fmt='d', cmap='Blues', cbar=False)\n",
    "plt.xlabel('Predicted')\n",
    "plt.ylabel('True')\n",
    "plt.title('Confusion Matrix')\n",
    "\n",
    "# save confusion matrix into file JPG\n",
    "plt.savefig(model_f + '/confusion_matrix.jpg', format='jpg')\n",
    "plt.show()\n",
    "plt.close()"
   ],
   "metadata": {
    "collapsed": false,
    "ExecuteTime": {
     "end_time": "2024-07-15T15:00:44.121661400Z",
     "start_time": "2024-07-15T15:00:34.481123Z"
    }
   },
   "id": "7c9f85f999081696"
  },
  {
   "cell_type": "code",
   "execution_count": 22,
   "outputs": [
    {
     "data": {
      "text/plain": "0.8681541582150102"
     },
     "execution_count": 22,
     "metadata": {},
     "output_type": "execute_result"
    }
   ],
   "source": [
    "accuracy_score(y_true, y_pred)"
   ],
   "metadata": {
    "collapsed": false,
    "ExecuteTime": {
     "end_time": "2024-07-15T15:00:44.133848700Z",
     "start_time": "2024-07-15T15:00:44.121661400Z"
    }
   },
   "id": "ed22dd7d1f1030b4"
  },
  {
   "cell_type": "code",
   "execution_count": 23,
   "outputs": [
    {
     "name": "stdout",
     "output_type": "stream",
     "text": [
      "Test loss: 0.8695118427276611 / Test accuracy: 0.8681541681289673\n"
     ]
    }
   ],
   "source": [
    "# Evaluate model\n",
    "score = model.evaluate(X_test, y_test, verbose=0)\n",
    "print(f'Test loss: {score[0]} / Test accuracy: {score[1]}')"
   ],
   "metadata": {
    "collapsed": false,
    "ExecuteTime": {
     "end_time": "2024-07-15T15:00:45.057431400Z",
     "start_time": "2024-07-15T15:00:44.133848700Z"
    }
   },
   "id": "f79e1d5a5de59c2d"
  },
  {
   "cell_type": "code",
   "execution_count": null,
   "outputs": [],
   "source": [],
   "metadata": {
    "collapsed": false
   },
   "id": "5f96104634958b08"
  }
 ],
 "metadata": {
  "kernelspec": {
   "display_name": "Python 3",
   "language": "python",
   "name": "python3"
  },
  "language_info": {
   "codemirror_mode": {
    "name": "ipython",
    "version": 2
   },
   "file_extension": ".py",
   "mimetype": "text/x-python",
   "name": "python",
   "nbconvert_exporter": "python",
   "pygments_lexer": "ipython2",
   "version": "2.7.6"
  }
 },
 "nbformat": 4,
 "nbformat_minor": 5
}
