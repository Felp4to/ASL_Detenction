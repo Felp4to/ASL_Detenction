{
 "cells": [
  {
   "cell_type": "markdown",
   "source": [
    "# Training and Testing"
   ],
   "metadata": {
    "collapsed": false
   },
   "id": "4852c2fcb4693246"
  },
  {
   "cell_type": "code",
   "execution_count": 1,
   "outputs": [],
   "source": [
    "import numpy as np\n",
    "import os\n",
    "import constants as cs\n",
    "import globali as gg\n",
    "import settings\n",
    "from sklearn.model_selection import train_test_split\n",
    "from tensorflow.keras.utils import to_categorical\n",
    "from sklearn.metrics import accuracy_score\n",
    "from tqdm import tqdm\n",
    "from tensorflow.keras.models import Sequential\n",
    "from tensorflow.keras.callbacks import TensorBoard, EarlyStopping, ModelCheckpoint, CSVLogger\n",
    "from tensorflow.keras.layers import LSTM, GRU, Dense, Dropout, BatchNormalization\n",
    "from tensorflow.keras.regularizers import l2\n",
    "import matplotlib.pyplot as plt\n",
    "from sklearn.metrics import confusion_matrix\n",
    "import seaborn as sns\n",
    "import custom_data_generator as cdg "
   ],
   "metadata": {
    "collapsed": false,
    "ExecuteTime": {
     "end_time": "2024-06-29T20:30:36.401264Z",
     "start_time": "2024-06-29T20:30:25.074103800Z"
    }
   },
   "id": "initial_id"
  },
  {
   "cell_type": "markdown",
   "source": [
    "### Load configuration data"
   ],
   "metadata": {
    "collapsed": false
   },
   "id": "618ba84e4b3ffe8c"
  },
  {
   "cell_type": "code",
   "execution_count": 2,
   "outputs": [],
   "source": [
    "# Load actions and counters\n",
    "gg.actions, gg.counters = settings.read_yaml_fields()\n",
    "label_map = {label:num for num, label in enumerate(gg.actions)}"
   ],
   "metadata": {
    "collapsed": false,
    "ExecuteTime": {
     "end_time": "2024-06-29T20:30:36.429416200Z",
     "start_time": "2024-06-29T20:30:36.401264Z"
    }
   },
   "id": "8e3f5d6a45fd4e69"
  },
  {
   "cell_type": "markdown",
   "source": [
    "### Read keypoints and split train and test set"
   ],
   "metadata": {
    "collapsed": false
   },
   "id": "43e411d407d27675"
  },
  {
   "cell_type": "code",
   "execution_count": 3,
   "outputs": [
    {
     "name": "stderr",
     "output_type": "stream",
     "text": [
      "Processing Actions: 100%|██████████| 58/58 [01:44<00:00,  1.81s/it]\n"
     ]
    },
    {
     "data": {
      "text/plain": "(4921, 30, 1662)"
     },
     "metadata": {},
     "output_type": "display_data"
    },
    {
     "data": {
      "text/plain": "(4921,)"
     },
     "metadata": {},
     "output_type": "display_data"
    }
   ],
   "source": [
    "sequences, labels = [], []\n",
    "\n",
    "# get all the keypoints\n",
    "for action in tqdm(gg.actions, desc=\"Processing Actions\"):\n",
    "    for sequence in range(gg.counters[action]):\n",
    "        window = []\n",
    "        for frame_num in range(cs.NUM_FRAME):\n",
    "            res = np.load(os.path.join(cs.KEYPOINTS_FOLDER, action, str(sequence), \"{}.npy\".format(frame_num)))\n",
    "            window.append(res)\n",
    "        sequences.append(window)\n",
    "        labels.append(label_map[action])\n",
    "\n",
    "display(np.array(sequences).shape)   \n",
    "display(np.array(labels).shape)"
   ],
   "metadata": {
    "collapsed": false,
    "ExecuteTime": {
     "end_time": "2024-06-29T20:32:25.174821700Z",
     "start_time": "2024-06-29T20:30:36.429416200Z"
    }
   },
   "id": "ab4605957098bac"
  },
  {
   "cell_type": "code",
   "execution_count": 4,
   "outputs": [
    {
     "data": {
      "text/plain": "(4921, 30, 1662)"
     },
     "metadata": {},
     "output_type": "display_data"
    },
    {
     "data": {
      "text/plain": "(4921, 58)"
     },
     "metadata": {},
     "output_type": "display_data"
    }
   ],
   "source": [
    "# generate X and y\n",
    "X = np.array(sequences)\n",
    "y = to_categorical(labels).astype(int)\n",
    "\n",
    "display(X.shape)\n",
    "display(y.shape)"
   ],
   "metadata": {
    "collapsed": false,
    "ExecuteTime": {
     "end_time": "2024-06-29T18:16:53.130659200Z",
     "start_time": "2024-06-29T18:16:47.400111600Z"
    }
   },
   "id": "9ffadaf6d87150fd"
  },
  {
   "cell_type": "code",
   "execution_count": 5,
   "outputs": [
    {
     "data": {
      "text/plain": "(4428, 30, 1662)"
     },
     "metadata": {},
     "output_type": "display_data"
    },
    {
     "data": {
      "text/plain": "(493, 30, 1662)"
     },
     "metadata": {},
     "output_type": "display_data"
    },
    {
     "data": {
      "text/plain": "(4428, 58)"
     },
     "metadata": {},
     "output_type": "display_data"
    },
    {
     "data": {
      "text/plain": "(493, 58)"
     },
     "metadata": {},
     "output_type": "display_data"
    }
   ],
   "source": [
    "# split training and test set\n",
    "X_train, X_test, y_train, y_test = train_test_split(X, y, test_size=0.10, stratify=y)\n",
    "\n",
    "display(X_train.shape)\n",
    "display(X_test.shape)\n",
    "display(y_train.shape)\n",
    "display(y_test.shape)"
   ],
   "metadata": {
    "collapsed": false,
    "ExecuteTime": {
     "end_time": "2024-06-29T18:17:00.349177900Z",
     "start_time": "2024-06-29T18:16:53.122654500Z"
    }
   },
   "id": "1d8011c3059222b5"
  },
  {
   "cell_type": "markdown",
   "source": [
    "### Folders"
   ],
   "metadata": {
    "collapsed": false
   },
   "id": "205e0a7e3b67012d"
  },
  {
   "cell_type": "code",
   "execution_count": 8,
   "outputs": [],
   "source": [
    "def create_folder_for_training(number):\n",
    "    # create folders\n",
    "    log_f = os.path.join(cs.LOGS_FOLDER, 'log_' + str(number), '')\n",
    "    model_f = os.path.join(cs.MODELS_FOLDER, 'model_' + str(number))\n",
    "    os.makedirs(log_f, exist_ok=True)\n",
    "    os.makedirs(model_f, exist_ok=True)\n",
    "    log_f = \"D:\\logs\"\n",
    "    return log_f, model_f"
   ],
   "metadata": {
    "collapsed": false,
    "ExecuteTime": {
     "end_time": "2024-06-29T18:17:06.138164400Z",
     "start_time": "2024-06-29T18:17:06.102855500Z"
    }
   },
   "id": "6cb0bcd2b19391c5"
  },
  {
   "cell_type": "code",
   "execution_count": 9,
   "outputs": [],
   "source": [
    "log_f, model_f = create_folder_for_training(31)"
   ],
   "metadata": {
    "collapsed": false,
    "ExecuteTime": {
     "end_time": "2024-06-29T18:17:06.665908200Z",
     "start_time": "2024-06-29T18:17:06.582917900Z"
    }
   },
   "id": "97e2b33fad53052e"
  },
  {
   "cell_type": "markdown",
   "source": [
    "### Logs"
   ],
   "metadata": {
    "collapsed": false
   },
   "id": "a4084661caabaef6"
  },
  {
   "cell_type": "code",
   "execution_count": 10,
   "outputs": [],
   "source": [
    "# log\n",
    "tensorboard_callback = TensorBoard(log_dir=log_f, histogram_freq=1)\n",
    "training_log = os.path.join(log_f, 'train_log.csv')\n",
    "csv_logger = CSVLogger(training_log, append=True)"
   ],
   "metadata": {
    "collapsed": false,
    "ExecuteTime": {
     "end_time": "2024-06-29T18:17:12.067340100Z",
     "start_time": "2024-06-29T18:17:11.920185300Z"
    }
   },
   "id": "858434da88fb9b50"
  },
  {
   "cell_type": "markdown",
   "source": [
    "### Models"
   ],
   "metadata": {
    "collapsed": false
   },
   "id": "7554e4a153c0d55e"
  },
  {
   "cell_type": "code",
   "execution_count": 12,
   "outputs": [
    {
     "name": "stdout",
     "output_type": "stream",
     "text": [
      "58\n"
     ]
    }
   ],
   "source": [
    "# LSTM (model_1)\n",
    "\n",
    "np_actions = np.array(list(gg.actions))\n",
    "print(np_actions.shape[0])\n",
    "model = Sequential()\n",
    "model.add(LSTM(64, return_sequences=True, activation='tanh', input_shape=(30, 1662)))\n",
    "model.add(Dropout(0.2))\n",
    "model.add(LSTM(128, return_sequences=True, activation='tanh'))\n",
    "model.add(Dropout(0.2))\n",
    "model.add(LSTM(64, return_sequences=False, activation='tanh'))\n",
    "model.add(BatchNormalization())\n",
    "model.add(Dense(64, activation='relu', kernel_regularizer=l2(0.01)))\n",
    "model.add(Dropout(0.5))\n",
    "model.add(Dense(32, activation='relu', kernel_regularizer=l2(0.01)))\n",
    "model.add(Dropout(0.5))\n",
    "model.add(Dense(np_actions.shape[0], activation='softmax'))\n"
   ],
   "metadata": {
    "collapsed": false,
    "ExecuteTime": {
     "end_time": "2024-06-09T18:57:26.965679100Z",
     "start_time": "2024-06-09T18:56:58.621003Z"
    }
   },
   "id": "5f4554201e7ac0cc"
  },
  {
   "cell_type": "code",
   "execution_count": 14,
   "outputs": [
    {
     "name": "stdout",
     "output_type": "stream",
     "text": [
      "58\n"
     ]
    }
   ],
   "source": [
    "# LSTM (model_31)\n",
    "np_actions = np.array(list(gg.actions))\n",
    "print(np_actions.shape[0])\n",
    "model = Sequential()\n",
    "model.add(LSTM(64, return_sequences=True, activation='tanh', input_shape=(30, 1662)))\n",
    "model.add(LSTM(128, return_sequences=True, activation='tanh'))\n",
    "model.add(LSTM(64, return_sequences=False, activation='tanh'))\n",
    "model.add(Dense(64, activation='relu', kernel_regularizer=l2(0.01)))\n",
    "model.add(Dense(32, activation='relu', kernel_regularizer=l2(0.01)))\n",
    "model.add(Dense(np_actions.shape[0], activation='softmax'))"
   ],
   "metadata": {
    "collapsed": false,
    "ExecuteTime": {
     "end_time": "2024-06-29T20:19:34.550492900Z",
     "start_time": "2024-06-29T20:19:31.420694300Z"
    }
   },
   "id": "21e3ca1f53adba4e"
  },
  {
   "cell_type": "code",
   "execution_count": 12,
   "outputs": [
    {
     "name": "stdout",
     "output_type": "stream",
     "text": [
      "58\n"
     ]
    }
   ],
   "source": [
    "# GRU (model_2)\n",
    "\n",
    "np_actions = np.array(list(gg.actions))\n",
    "print(np_actions.shape[0])\n",
    "model = Sequential()\n",
    "model.add(GRU(64, return_sequences=True, activation='tanh', input_shape=(30, 1662)))\n",
    "model.add(Dropout(0.2))\n",
    "model.add(GRU(128, return_sequences=True, activation='tanh'))\n",
    "model.add(Dropout(0.2))\n",
    "model.add(GRU(64, return_sequences=False, activation='tanh'))\n",
    "model.add(BatchNormalization())\n",
    "model.add(Dense(64, activation='relu', kernel_regularizer=l2(0.01)))\n",
    "model.add(Dropout(0.5))\n",
    "model.add(Dense(32, activation='relu', kernel_regularizer=l2(0.01)))\n",
    "model.add(Dropout(0.5))\n",
    "model.add(Dense(np_actions.shape[0], activation='softmax'))\n"
   ],
   "metadata": {
    "collapsed": false,
    "ExecuteTime": {
     "end_time": "2024-06-10T08:13:11.749059500Z",
     "start_time": "2024-06-10T08:13:05.104327900Z"
    }
   },
   "id": "cee9f362babf91a2"
  },
  {
   "cell_type": "code",
   "execution_count": 18,
   "outputs": [],
   "source": [
    "# GRU (model_31)\n",
    "\n",
    "np_actions = np.array(list(gg.actions))\n",
    "model = Sequential()\n",
    "model.add(GRU(64, return_sequences=True, activation='tanh', input_shape=(30, 1662)))\n",
    "model.add(GRU(128, return_sequences=True, activation='tanh'))\n",
    "model.add(GRU(64, return_sequences=False, activation='tanh'))\n",
    "model.add(Dense(64, activation='relu', kernel_regularizer=l2(0.01)))\n",
    "model.add(Dense(32, activation='relu', kernel_regularizer=l2(0.01)))\n",
    "model.add(Dense(np_actions.shape[0], activation='softmax'))"
   ],
   "metadata": {
    "collapsed": false,
    "ExecuteTime": {
     "end_time": "2024-06-29T17:58:14.987296400Z",
     "start_time": "2024-06-29T17:58:13.378022900Z"
    }
   },
   "id": "4299c3ce078c1157"
  },
  {
   "cell_type": "code",
   "execution_count": 14,
   "outputs": [
    {
     "name": "stdout",
     "output_type": "stream",
     "text": [
      "58\n"
     ]
    }
   ],
   "source": [
    "# Old LSTM\n",
    "\n",
    "np_actions = np.array(list(gg.actions))\n",
    "print(np_actions.shape[0])\n",
    "model = Sequential()\n",
    "model.add(LSTM(64, return_sequences=True, activation='relu', input_shape=(30,1662)))\n",
    "model.add(LSTM(128, return_sequences=True, activation='relu'))\n",
    "model.add(LSTM(64, return_sequences=False, activation='relu'))\n",
    "model.add(Dense(64, activation='relu'))\n",
    "model.add(Dense(32, activation='relu'))\n",
    "model.add(Dense(np_actions.shape[0], activation='softmax'))"
   ],
   "metadata": {
    "collapsed": false,
    "ExecuteTime": {
     "end_time": "2024-06-08T10:22:09.767423400Z",
     "start_time": "2024-06-08T10:22:07.618309Z"
    }
   },
   "id": "442c822b87caafee"
  },
  {
   "cell_type": "markdown",
   "source": [
    "### Training"
   ],
   "metadata": {
    "collapsed": false
   },
   "id": "a5311fdc4689fc72"
  },
  {
   "cell_type": "code",
   "execution_count": 12,
   "outputs": [],
   "source": [
    "# Creazione del generatore personalizzato\n",
    "batch_size = 32\n",
    "train_generator = cdg.CustomDataGenerator(X_train, y_train, batch_size=batch_size, augment_data=True)"
   ],
   "metadata": {
    "collapsed": false,
    "ExecuteTime": {
     "end_time": "2024-06-29T18:17:50.181642400Z",
     "start_time": "2024-06-29T18:17:50.154133900Z"
    }
   },
   "id": "5889bcd665228c2f"
  },
  {
   "cell_type": "code",
   "execution_count": 13,
   "outputs": [
    {
     "name": "stdout",
     "output_type": "stream",
     "text": [
      "Epoch 1/400\n",
      "139/139 [==============================] - ETA: 0s - loss: 4.5524 - categorical_accuracy: 0.0176"
     ]
    },
    {
     "name": "stderr",
     "output_type": "stream",
     "text": [
      "C:\\Users\\Paolo\\AppData\\Roaming\\Python\\Python311\\site-packages\\keras\\src\\engine\\training.py:3000: UserWarning: You are saving your model as an HDF5 file via `model.save()`. This file format is considered legacy. We recommend using instead the native Keras format, e.g. `model.save('my_model.keras')`.\n",
      "  saving_api.save_model(\n"
     ]
    },
    {
     "name": "stdout",
     "output_type": "stream",
     "text": [
      "139/139 [==============================] - 41s 154ms/step - loss: 4.5524 - categorical_accuracy: 0.0176\n",
      "Epoch 2/400\n",
      "139/139 [==============================] - 22s 156ms/step - loss: 4.0916 - categorical_accuracy: 0.0154\n",
      "Epoch 3/400\n",
      "139/139 [==============================] - 22s 154ms/step - loss: 3.9456 - categorical_accuracy: 0.0291\n",
      "Epoch 4/400\n",
      "139/139 [==============================] - 21s 151ms/step - loss: 3.8428 - categorical_accuracy: 0.0325\n",
      "Epoch 5/400\n",
      "139/139 [==============================] - 21s 154ms/step - loss: 3.8136 - categorical_accuracy: 0.0330\n",
      "Epoch 6/400\n",
      "139/139 [==============================] - 21s 148ms/step - loss: 3.6889 - categorical_accuracy: 0.0445\n",
      "Epoch 7/400\n",
      "139/139 [==============================] - 20s 146ms/step - loss: 3.6212 - categorical_accuracy: 0.0562\n",
      "Epoch 8/400\n",
      "139/139 [==============================] - 20s 141ms/step - loss: 3.5339 - categorical_accuracy: 0.0748\n",
      "Epoch 9/400\n",
      "139/139 [==============================] - 20s 142ms/step - loss: 3.4689 - categorical_accuracy: 0.0788\n",
      "Epoch 10/400\n",
      "139/139 [==============================] - 20s 147ms/step - loss: 3.3990 - categorical_accuracy: 0.0869\n",
      "Epoch 11/400\n",
      "139/139 [==============================] - 22s 156ms/step - loss: 3.3475 - categorical_accuracy: 0.0939\n",
      "Epoch 12/400\n",
      "139/139 [==============================] - 21s 149ms/step - loss: 3.3121 - categorical_accuracy: 0.0942\n",
      "Epoch 13/400\n",
      "139/139 [==============================] - 21s 154ms/step - loss: 3.2985 - categorical_accuracy: 0.0982\n",
      "Epoch 14/400\n",
      "139/139 [==============================] - 21s 149ms/step - loss: 3.2385 - categorical_accuracy: 0.1082\n",
      "Epoch 15/400\n",
      "139/139 [==============================] - 21s 149ms/step - loss: 3.1995 - categorical_accuracy: 0.1251\n",
      "Epoch 16/400\n",
      "139/139 [==============================] - 19s 134ms/step - loss: 3.1640 - categorical_accuracy: 0.1258\n",
      "Epoch 17/400\n",
      "139/139 [==============================] - 21s 153ms/step - loss: 3.1457 - categorical_accuracy: 0.1190\n",
      "Epoch 18/400\n",
      "139/139 [==============================] - 20s 143ms/step - loss: 3.1143 - categorical_accuracy: 0.1226\n",
      "Epoch 19/400\n",
      "139/139 [==============================] - 19s 136ms/step - loss: 3.1159 - categorical_accuracy: 0.1292\n",
      "Epoch 20/400\n",
      "139/139 [==============================] - 21s 149ms/step - loss: 3.0631 - categorical_accuracy: 0.1314\n",
      "Epoch 21/400\n",
      "139/139 [==============================] - 22s 155ms/step - loss: 3.0363 - categorical_accuracy: 0.1468\n",
      "Epoch 22/400\n",
      "139/139 [==============================] - 19s 137ms/step - loss: 3.0500 - categorical_accuracy: 0.1382\n",
      "Epoch 23/400\n",
      "139/139 [==============================] - 20s 147ms/step - loss: 2.9682 - categorical_accuracy: 0.1542\n",
      "Epoch 24/400\n",
      "139/139 [==============================] - 21s 153ms/step - loss: 2.9523 - categorical_accuracy: 0.1531\n",
      "Epoch 25/400\n",
      "139/139 [==============================] - 20s 146ms/step - loss: 2.8937 - categorical_accuracy: 0.1716\n",
      "Epoch 26/400\n",
      "139/139 [==============================] - 21s 153ms/step - loss: 2.8976 - categorical_accuracy: 0.1649\n",
      "Epoch 27/400\n",
      "139/139 [==============================] - 22s 158ms/step - loss: 2.8326 - categorical_accuracy: 0.1809\n",
      "Epoch 28/400\n",
      "139/139 [==============================] - 22s 155ms/step - loss: 2.8310 - categorical_accuracy: 0.1825\n",
      "Epoch 29/400\n",
      "139/139 [==============================] - 21s 150ms/step - loss: 2.7497 - categorical_accuracy: 0.2008\n",
      "Epoch 30/400\n",
      "139/139 [==============================] - 22s 155ms/step - loss: 2.7458 - categorical_accuracy: 0.2001\n",
      "Epoch 31/400\n",
      "139/139 [==============================] - 23s 162ms/step - loss: 2.7236 - categorical_accuracy: 0.1974\n",
      "Epoch 32/400\n",
      "139/139 [==============================] - 21s 149ms/step - loss: 2.7019 - categorical_accuracy: 0.2073\n",
      "Epoch 33/400\n",
      "139/139 [==============================] - 21s 152ms/step - loss: 2.6829 - categorical_accuracy: 0.2182\n",
      "Epoch 34/400\n",
      "139/139 [==============================] - 23s 166ms/step - loss: 2.6639 - categorical_accuracy: 0.2218\n",
      "Epoch 35/400\n",
      "139/139 [==============================] - 23s 163ms/step - loss: 2.6648 - categorical_accuracy: 0.2243\n",
      "Epoch 36/400\n",
      "139/139 [==============================] - 19s 137ms/step - loss: 2.6236 - categorical_accuracy: 0.2353\n",
      "Epoch 37/400\n",
      "139/139 [==============================] - 20s 143ms/step - loss: 2.5957 - categorical_accuracy: 0.2473\n",
      "Epoch 38/400\n",
      "139/139 [==============================] - 20s 142ms/step - loss: 2.5855 - categorical_accuracy: 0.2468\n",
      "Epoch 39/400\n",
      "139/139 [==============================] - 19s 137ms/step - loss: 2.5403 - categorical_accuracy: 0.2651\n",
      "Epoch 40/400\n",
      "139/139 [==============================] - 20s 142ms/step - loss: 2.4934 - categorical_accuracy: 0.2796\n",
      "Epoch 41/400\n",
      "139/139 [==============================] - 21s 153ms/step - loss: 2.4355 - categorical_accuracy: 0.2952\n",
      "Epoch 42/400\n",
      "139/139 [==============================] - 18s 127ms/step - loss: 2.4529 - categorical_accuracy: 0.3006\n",
      "Epoch 43/400\n",
      "139/139 [==============================] - 24s 171ms/step - loss: 2.5238 - categorical_accuracy: 0.2807\n",
      "Epoch 44/400\n",
      "139/139 [==============================] - 19s 139ms/step - loss: 2.4754 - categorical_accuracy: 0.2839\n",
      "Epoch 45/400\n",
      "139/139 [==============================] - 21s 153ms/step - loss: 2.3701 - categorical_accuracy: 0.3223\n",
      "Epoch 46/400\n",
      "139/139 [==============================] - 21s 149ms/step - loss: 2.3524 - categorical_accuracy: 0.3340\n",
      "Epoch 47/400\n",
      "139/139 [==============================] - 20s 143ms/step - loss: 2.2770 - categorical_accuracy: 0.3449\n",
      "Epoch 48/400\n",
      "139/139 [==============================] - 21s 154ms/step - loss: 2.2909 - categorical_accuracy: 0.3473\n",
      "Epoch 49/400\n",
      "139/139 [==============================] - 21s 150ms/step - loss: 2.2517 - categorical_accuracy: 0.3451\n",
      "Epoch 50/400\n",
      "139/139 [==============================] - 20s 146ms/step - loss: 2.2128 - categorical_accuracy: 0.3573\n",
      "Epoch 51/400\n",
      "139/139 [==============================] - 21s 153ms/step - loss: 2.1798 - categorical_accuracy: 0.3697\n",
      "Epoch 52/400\n",
      "139/139 [==============================] - 23s 169ms/step - loss: 2.1184 - categorical_accuracy: 0.3893\n",
      "Epoch 53/400\n",
      "139/139 [==============================] - 25s 177ms/step - loss: 2.0979 - categorical_accuracy: 0.3948\n",
      "Epoch 54/400\n",
      "139/139 [==============================] - 26s 188ms/step - loss: 2.1094 - categorical_accuracy: 0.3930\n",
      "Epoch 55/400\n",
      "139/139 [==============================] - 26s 187ms/step - loss: 2.0843 - categorical_accuracy: 0.3972\n",
      "Epoch 56/400\n",
      "139/139 [==============================] - 32s 230ms/step - loss: 2.0966 - categorical_accuracy: 0.4004\n",
      "Epoch 57/400\n",
      "139/139 [==============================] - 34s 245ms/step - loss: 2.0964 - categorical_accuracy: 0.4092\n",
      "Epoch 58/400\n",
      "139/139 [==============================] - 23s 166ms/step - loss: 2.0296 - categorical_accuracy: 0.4311\n",
      "Epoch 59/400\n",
      "139/139 [==============================] - 22s 161ms/step - loss: 2.0355 - categorical_accuracy: 0.4248\n",
      "Epoch 60/400\n",
      "139/139 [==============================] - 23s 162ms/step - loss: 2.0155 - categorical_accuracy: 0.4214\n",
      "Epoch 61/400\n",
      "139/139 [==============================] - 22s 158ms/step - loss: 1.9249 - categorical_accuracy: 0.4693\n",
      "Epoch 62/400\n",
      "139/139 [==============================] - 20s 143ms/step - loss: 1.8870 - categorical_accuracy: 0.4580\n",
      "Epoch 63/400\n",
      "139/139 [==============================] - 21s 150ms/step - loss: 1.8645 - categorical_accuracy: 0.4729\n",
      "Epoch 64/400\n",
      "139/139 [==============================] - 20s 147ms/step - loss: 1.9751 - categorical_accuracy: 0.4487\n",
      "Epoch 65/400\n",
      "139/139 [==============================] - 20s 141ms/step - loss: 1.9071 - categorical_accuracy: 0.4614\n",
      "Epoch 66/400\n",
      "139/139 [==============================] - 22s 159ms/step - loss: 1.8074 - categorical_accuracy: 0.5007\n",
      "Epoch 67/400\n",
      "139/139 [==============================] - 20s 147ms/step - loss: 1.7627 - categorical_accuracy: 0.5054\n",
      "Epoch 68/400\n",
      "139/139 [==============================] - 21s 148ms/step - loss: 1.8597 - categorical_accuracy: 0.4842\n",
      "Epoch 69/400\n",
      "139/139 [==============================] - 21s 148ms/step - loss: 1.7298 - categorical_accuracy: 0.5167\n",
      "Epoch 70/400\n",
      "139/139 [==============================] - 21s 150ms/step - loss: 1.7705 - categorical_accuracy: 0.5156\n",
      "Epoch 71/400\n",
      "139/139 [==============================] - 23s 164ms/step - loss: 1.7040 - categorical_accuracy: 0.5280\n",
      "Epoch 72/400\n",
      "139/139 [==============================] - 22s 158ms/step - loss: 1.6900 - categorical_accuracy: 0.5463\n",
      "Epoch 73/400\n",
      "139/139 [==============================] - 23s 168ms/step - loss: 1.7404 - categorical_accuracy: 0.5239\n",
      "Epoch 74/400\n",
      "139/139 [==============================] - 23s 163ms/step - loss: 1.6127 - categorical_accuracy: 0.5589\n",
      "Epoch 75/400\n",
      "139/139 [==============================] - 22s 157ms/step - loss: 1.6010 - categorical_accuracy: 0.5610\n",
      "Epoch 76/400\n",
      "139/139 [==============================] - 21s 151ms/step - loss: 1.7627 - categorical_accuracy: 0.5086\n",
      "Epoch 77/400\n",
      "139/139 [==============================] - 21s 154ms/step - loss: 1.6274 - categorical_accuracy: 0.5497\n",
      "Epoch 78/400\n",
      "139/139 [==============================] - 23s 165ms/step - loss: 1.5818 - categorical_accuracy: 0.5684\n",
      "Epoch 79/400\n",
      "139/139 [==============================] - 22s 158ms/step - loss: 1.4997 - categorical_accuracy: 0.6019\n",
      "Epoch 80/400\n",
      "139/139 [==============================] - 23s 168ms/step - loss: 1.4839 - categorical_accuracy: 0.5976\n",
      "Epoch 81/400\n",
      "139/139 [==============================] - 25s 177ms/step - loss: 1.5447 - categorical_accuracy: 0.5849\n",
      "Epoch 82/400\n",
      "139/139 [==============================] - 22s 157ms/step - loss: 1.5482 - categorical_accuracy: 0.5829\n",
      "Epoch 83/400\n",
      "139/139 [==============================] - 22s 158ms/step - loss: 1.4771 - categorical_accuracy: 0.6129\n",
      "Epoch 84/400\n",
      "139/139 [==============================] - 20s 145ms/step - loss: 1.6414 - categorical_accuracy: 0.5637\n",
      "Epoch 85/400\n",
      "139/139 [==============================] - 22s 161ms/step - loss: 1.5054 - categorical_accuracy: 0.5924\n",
      "Epoch 86/400\n",
      "139/139 [==============================] - 22s 156ms/step - loss: 1.4193 - categorical_accuracy: 0.6208\n",
      "Epoch 87/400\n",
      "139/139 [==============================] - 20s 145ms/step - loss: 1.3360 - categorical_accuracy: 0.6497\n",
      "Epoch 88/400\n",
      "139/139 [==============================] - 22s 156ms/step - loss: 1.3577 - categorical_accuracy: 0.6391\n",
      "Epoch 89/400\n",
      "139/139 [==============================] - 22s 158ms/step - loss: 1.3399 - categorical_accuracy: 0.6407\n",
      "Epoch 90/400\n",
      "139/139 [==============================] - 22s 158ms/step - loss: 1.3401 - categorical_accuracy: 0.6511\n",
      "Epoch 91/400\n",
      "139/139 [==============================] - 21s 149ms/step - loss: 1.5906 - categorical_accuracy: 0.5876\n",
      "Epoch 92/400\n",
      "139/139 [==============================] - 22s 156ms/step - loss: 1.4371 - categorical_accuracy: 0.6131\n",
      "Epoch 93/400\n",
      "139/139 [==============================] - 22s 156ms/step - loss: 1.3097 - categorical_accuracy: 0.6590\n",
      "Epoch 94/400\n",
      "139/139 [==============================] - 22s 158ms/step - loss: 1.3329 - categorical_accuracy: 0.6549\n",
      "Epoch 95/400\n",
      "139/139 [==============================] - 21s 154ms/step - loss: 1.2546 - categorical_accuracy: 0.6768\n",
      "Epoch 96/400\n",
      "139/139 [==============================] - 22s 156ms/step - loss: 1.3525 - categorical_accuracy: 0.6407\n",
      "Epoch 97/400\n",
      "139/139 [==============================] - 22s 158ms/step - loss: 1.3359 - categorical_accuracy: 0.6475\n",
      "Epoch 98/400\n",
      "139/139 [==============================] - 22s 156ms/step - loss: 1.2631 - categorical_accuracy: 0.6757\n",
      "Epoch 99/400\n",
      "139/139 [==============================] - 22s 161ms/step - loss: 1.1975 - categorical_accuracy: 0.6920\n",
      "Epoch 100/400\n",
      "139/139 [==============================] - 22s 160ms/step - loss: 1.2271 - categorical_accuracy: 0.6859\n",
      "Epoch 101/400\n",
      "139/139 [==============================] - 22s 155ms/step - loss: 1.2795 - categorical_accuracy: 0.6649\n",
      "Epoch 102/400\n",
      "139/139 [==============================] - 20s 146ms/step - loss: 1.2631 - categorical_accuracy: 0.6737\n",
      "Epoch 103/400\n",
      "139/139 [==============================] - 22s 156ms/step - loss: 1.1200 - categorical_accuracy: 0.7141\n",
      "Epoch 104/400\n",
      "139/139 [==============================] - 22s 157ms/step - loss: 1.1179 - categorical_accuracy: 0.7173\n",
      "Epoch 105/400\n",
      "139/139 [==============================] - 20s 147ms/step - loss: 1.2616 - categorical_accuracy: 0.6811\n",
      "Epoch 106/400\n",
      "139/139 [==============================] - 22s 158ms/step - loss: 1.1085 - categorical_accuracy: 0.7254\n",
      "Epoch 107/400\n",
      "139/139 [==============================] - 23s 165ms/step - loss: 1.0874 - categorical_accuracy: 0.7299\n",
      "Epoch 108/400\n",
      "139/139 [==============================] - 22s 156ms/step - loss: 1.0738 - categorical_accuracy: 0.7313\n",
      "Epoch 109/400\n",
      "139/139 [==============================] - 20s 147ms/step - loss: 1.2012 - categorical_accuracy: 0.6983\n",
      "Epoch 110/400\n",
      "139/139 [==============================] - 22s 158ms/step - loss: 1.1290 - categorical_accuracy: 0.7231\n",
      "Epoch 111/400\n",
      "139/139 [==============================] - 23s 165ms/step - loss: 1.1001 - categorical_accuracy: 0.7236\n",
      "Epoch 112/400\n",
      "139/139 [==============================] - 23s 164ms/step - loss: 1.0904 - categorical_accuracy: 0.7306\n",
      "Epoch 113/400\n",
      "139/139 [==============================] - 21s 153ms/step - loss: 1.0842 - categorical_accuracy: 0.7281\n",
      "Epoch 114/400\n",
      "139/139 [==============================] - 23s 162ms/step - loss: 0.9522 - categorical_accuracy: 0.7726\n",
      "Epoch 115/400\n",
      "139/139 [==============================] - 23s 166ms/step - loss: 0.9103 - categorical_accuracy: 0.7922\n",
      "Epoch 116/400\n",
      "139/139 [==============================] - 21s 148ms/step - loss: 0.9579 - categorical_accuracy: 0.7757\n",
      "Epoch 117/400\n",
      "139/139 [==============================] - 22s 157ms/step - loss: 1.0119 - categorical_accuracy: 0.7581\n",
      "Epoch 118/400\n",
      "139/139 [==============================] - 21s 148ms/step - loss: 1.0706 - categorical_accuracy: 0.7412\n",
      "Epoch 119/400\n",
      "139/139 [==============================] - 21s 154ms/step - loss: 1.1386 - categorical_accuracy: 0.7150\n",
      "Epoch 120/400\n",
      "139/139 [==============================] - 23s 165ms/step - loss: 0.9950 - categorical_accuracy: 0.7615\n",
      "Epoch 121/400\n",
      "139/139 [==============================] - 22s 161ms/step - loss: 0.9316 - categorical_accuracy: 0.7769\n",
      "Epoch 122/400\n",
      "139/139 [==============================] - 21s 149ms/step - loss: 0.8806 - categorical_accuracy: 0.7981\n",
      "Epoch 123/400\n",
      "139/139 [==============================] - 21s 152ms/step - loss: 1.0377 - categorical_accuracy: 0.7516\n",
      "Epoch 124/400\n",
      "139/139 [==============================] - 21s 154ms/step - loss: 1.0592 - categorical_accuracy: 0.7403\n",
      "Epoch 125/400\n",
      "139/139 [==============================] - 20s 142ms/step - loss: 0.9325 - categorical_accuracy: 0.7755\n",
      "Epoch 126/400\n",
      "139/139 [==============================] - 21s 148ms/step - loss: 0.9778 - categorical_accuracy: 0.7642\n",
      "Epoch 127/400\n",
      "139/139 [==============================] - 20s 142ms/step - loss: 1.1709 - categorical_accuracy: 0.7087\n",
      "Epoch 128/400\n",
      "139/139 [==============================] - 20s 146ms/step - loss: 0.9731 - categorical_accuracy: 0.7696\n",
      "Epoch 129/400\n",
      "139/139 [==============================] - 20s 145ms/step - loss: 0.8796 - categorical_accuracy: 0.7922\n",
      "Epoch 130/400\n",
      "139/139 [==============================] - 20s 147ms/step - loss: 0.7744 - categorical_accuracy: 0.8257\n",
      "Epoch 131/400\n",
      "139/139 [==============================] - 20s 147ms/step - loss: 0.9223 - categorical_accuracy: 0.7803\n",
      "Epoch 132/400\n",
      "139/139 [==============================] - 21s 147ms/step - loss: 0.8575 - categorical_accuracy: 0.8058\n",
      "Epoch 133/400\n",
      "139/139 [==============================] - 22s 158ms/step - loss: 0.8167 - categorical_accuracy: 0.8078\n",
      "Epoch 134/400\n",
      "139/139 [==============================] - 21s 150ms/step - loss: 0.8277 - categorical_accuracy: 0.8164\n",
      "Epoch 135/400\n",
      "139/139 [==============================] - 20s 146ms/step - loss: 0.7801 - categorical_accuracy: 0.8286\n",
      "Epoch 136/400\n",
      "139/139 [==============================] - 22s 156ms/step - loss: 0.8024 - categorical_accuracy: 0.8200\n",
      "Epoch 137/400\n",
      "139/139 [==============================] - 22s 155ms/step - loss: 1.3181 - categorical_accuracy: 0.6942\n",
      "Epoch 138/400\n",
      "139/139 [==============================] - 21s 152ms/step - loss: 0.8827 - categorical_accuracy: 0.7967\n",
      "Epoch 139/400\n",
      "139/139 [==============================] - 21s 152ms/step - loss: 0.7732 - categorical_accuracy: 0.8311\n",
      "Epoch 140/400\n",
      "139/139 [==============================] - 21s 153ms/step - loss: 1.3149 - categorical_accuracy: 0.6890\n",
      "Epoch 141/400\n",
      "139/139 [==============================] - 22s 156ms/step - loss: 1.0354 - categorical_accuracy: 0.7457\n",
      "Epoch 142/400\n",
      "139/139 [==============================] - 19s 140ms/step - loss: 0.7316 - categorical_accuracy: 0.8460\n",
      "Epoch 143/400\n",
      "139/139 [==============================] - 21s 154ms/step - loss: 0.6666 - categorical_accuracy: 0.8690\n",
      "Epoch 144/400\n",
      "139/139 [==============================] - 20s 146ms/step - loss: 0.6642 - categorical_accuracy: 0.8695\n",
      "Epoch 145/400\n",
      "139/139 [==============================] - 23s 164ms/step - loss: 0.8038 - categorical_accuracy: 0.8272\n",
      "Epoch 146/400\n",
      "139/139 [==============================] - 21s 154ms/step - loss: 0.8621 - categorical_accuracy: 0.7859\n",
      "Epoch 147/400\n",
      "139/139 [==============================] - 21s 150ms/step - loss: 0.6969 - categorical_accuracy: 0.8507\n",
      "Epoch 148/400\n",
      "139/139 [==============================] - 21s 147ms/step - loss: 0.7607 - categorical_accuracy: 0.8412\n",
      "Epoch 149/400\n",
      "139/139 [==============================] - 21s 150ms/step - loss: 0.7122 - categorical_accuracy: 0.8444\n",
      "Epoch 150/400\n",
      "139/139 [==============================] - 21s 151ms/step - loss: 0.7571 - categorical_accuracy: 0.8286\n",
      "Epoch 151/400\n",
      "139/139 [==============================] - 20s 144ms/step - loss: 0.7574 - categorical_accuracy: 0.8302\n",
      "Epoch 152/400\n",
      "139/139 [==============================] - 21s 149ms/step - loss: 0.7083 - categorical_accuracy: 0.8507\n",
      "Epoch 153/400\n",
      "139/139 [==============================] - 22s 158ms/step - loss: 0.8200 - categorical_accuracy: 0.8139\n",
      "Epoch 154/400\n",
      "139/139 [==============================] - 20s 145ms/step - loss: 0.6817 - categorical_accuracy: 0.8559\n",
      "Epoch 155/400\n",
      "139/139 [==============================] - 22s 159ms/step - loss: 0.7482 - categorical_accuracy: 0.8333\n",
      "Epoch 156/400\n",
      "139/139 [==============================] - 22s 156ms/step - loss: 0.6160 - categorical_accuracy: 0.8810\n",
      "Epoch 157/400\n",
      "139/139 [==============================] - 21s 148ms/step - loss: 0.7080 - categorical_accuracy: 0.8462\n",
      "Epoch 158/400\n",
      "139/139 [==============================] - 22s 154ms/step - loss: 0.6389 - categorical_accuracy: 0.8706\n",
      "Epoch 159/400\n",
      "139/139 [==============================] - 18s 128ms/step - loss: 0.7562 - categorical_accuracy: 0.8430\n",
      "Epoch 160/400\n",
      "139/139 [==============================] - 22s 157ms/step - loss: 1.2070 - categorical_accuracy: 0.7114\n",
      "Epoch 161/400\n",
      "139/139 [==============================] - 21s 153ms/step - loss: 0.6337 - categorical_accuracy: 0.8762\n",
      "Epoch 162/400\n",
      "139/139 [==============================] - 21s 152ms/step - loss: 0.6157 - categorical_accuracy: 0.8769\n",
      "Epoch 163/400\n",
      "139/139 [==============================] - 20s 146ms/step - loss: 0.6468 - categorical_accuracy: 0.8699\n",
      "Epoch 164/400\n",
      "139/139 [==============================] - 21s 153ms/step - loss: 0.6405 - categorical_accuracy: 0.8681\n",
      "Epoch 165/400\n",
      "139/139 [==============================] - 22s 159ms/step - loss: 0.5978 - categorical_accuracy: 0.8821\n",
      "Epoch 166/400\n",
      "139/139 [==============================] - 21s 150ms/step - loss: 0.6840 - categorical_accuracy: 0.8575\n",
      "Epoch 167/400\n",
      "139/139 [==============================] - 22s 157ms/step - loss: 0.7577 - categorical_accuracy: 0.8336\n",
      "Epoch 168/400\n",
      "139/139 [==============================] - 23s 162ms/step - loss: 0.6635 - categorical_accuracy: 0.8645\n",
      "Epoch 169/400\n",
      "139/139 [==============================] - 22s 156ms/step - loss: 0.7734 - categorical_accuracy: 0.8268\n",
      "Epoch 170/400\n",
      "139/139 [==============================] - 20s 145ms/step - loss: 0.6649 - categorical_accuracy: 0.8629\n",
      "Epoch 171/400\n",
      "139/139 [==============================] - 22s 161ms/step - loss: 0.6726 - categorical_accuracy: 0.8645\n",
      "Epoch 172/400\n",
      "139/139 [==============================] - 21s 152ms/step - loss: 0.6181 - categorical_accuracy: 0.8780\n",
      "Epoch 173/400\n",
      "139/139 [==============================] - 21s 150ms/step - loss: 0.5488 - categorical_accuracy: 0.8957\n",
      "Epoch 174/400\n",
      "139/139 [==============================] - 22s 158ms/step - loss: 0.5834 - categorical_accuracy: 0.8925\n",
      "Epoch 175/400\n",
      "139/139 [==============================] - 19s 133ms/step - loss: 0.6099 - categorical_accuracy: 0.8762\n",
      "Epoch 176/400\n",
      "139/139 [==============================] - 22s 158ms/step - loss: 0.5263 - categorical_accuracy: 0.9063\n",
      "Epoch 177/400\n",
      "139/139 [==============================] - 21s 150ms/step - loss: 0.6126 - categorical_accuracy: 0.8735\n",
      "Epoch 178/400\n",
      "139/139 [==============================] - 23s 163ms/step - loss: 0.7893 - categorical_accuracy: 0.8299\n",
      "Epoch 179/400\n",
      "139/139 [==============================] - 18s 130ms/step - loss: 0.5913 - categorical_accuracy: 0.8792\n",
      "Epoch 180/400\n",
      "139/139 [==============================] - 17s 123ms/step - loss: 0.8408 - categorical_accuracy: 0.8311\n",
      "Epoch 181/400\n",
      "139/139 [==============================] - 15s 105ms/step - loss: 0.8080 - categorical_accuracy: 0.8223\n",
      "Epoch 182/400\n",
      "139/139 [==============================] - 17s 119ms/step - loss: 0.5902 - categorical_accuracy: 0.8767\n",
      "Epoch 183/400\n",
      "139/139 [==============================] - 15s 107ms/step - loss: 0.6384 - categorical_accuracy: 0.8776\n",
      "Epoch 184/400\n",
      "139/139 [==============================] - 15s 106ms/step - loss: 0.5785 - categorical_accuracy: 0.8873\n",
      "Epoch 185/400\n",
      "139/139 [==============================] - 17s 123ms/step - loss: 0.5078 - categorical_accuracy: 0.9099\n",
      "Epoch 186/400\n",
      "139/139 [==============================] - 14s 98ms/step - loss: 0.5464 - categorical_accuracy: 0.8948\n",
      "Epoch 187/400\n",
      "139/139 [==============================] - 15s 111ms/step - loss: 0.5278 - categorical_accuracy: 0.8991\n",
      "Epoch 188/400\n",
      "139/139 [==============================] - 22s 159ms/step - loss: 0.4669 - categorical_accuracy: 0.9214\n",
      "Epoch 189/400\n",
      "139/139 [==============================] - 23s 162ms/step - loss: 0.6937 - categorical_accuracy: 0.8591\n",
      "Epoch 190/400\n",
      "139/139 [==============================] - 23s 168ms/step - loss: 0.5897 - categorical_accuracy: 0.8776\n",
      "Epoch 191/400\n",
      "139/139 [==============================] - 22s 155ms/step - loss: 0.4597 - categorical_accuracy: 0.9257\n",
      "Epoch 192/400\n",
      "139/139 [==============================] - 20s 145ms/step - loss: 0.4739 - categorical_accuracy: 0.9234\n",
      "Epoch 193/400\n",
      "139/139 [==============================] - 23s 165ms/step - loss: 0.6708 - categorical_accuracy: 0.8593\n",
      "Epoch 194/400\n",
      "139/139 [==============================] - 19s 135ms/step - loss: 0.6596 - categorical_accuracy: 0.8570\n",
      "Epoch 195/400\n",
      "139/139 [==============================] - 16s 113ms/step - loss: 0.9950 - categorical_accuracy: 0.7694\n",
      "Epoch 196/400\n",
      "139/139 [==============================] - 18s 129ms/step - loss: 0.6011 - categorical_accuracy: 0.8794\n",
      "Epoch 197/400\n",
      "139/139 [==============================] - 18s 130ms/step - loss: 0.4530 - categorical_accuracy: 0.9259\n",
      "Epoch 198/400\n",
      "139/139 [==============================] - 17s 120ms/step - loss: 0.4286 - categorical_accuracy: 0.9374\n",
      "Epoch 199/400\n",
      "139/139 [==============================] - 24s 172ms/step - loss: 0.5182 - categorical_accuracy: 0.9051\n",
      "Epoch 200/400\n",
      "139/139 [==============================] - 27s 194ms/step - loss: 0.6732 - categorical_accuracy: 0.8787\n",
      "Epoch 201/400\n",
      "139/139 [==============================] - 22s 155ms/step - loss: 0.6660 - categorical_accuracy: 0.8593\n",
      "Epoch 202/400\n",
      "139/139 [==============================] - 19s 140ms/step - loss: 0.4197 - categorical_accuracy: 0.9402\n",
      "Epoch 203/400\n",
      "139/139 [==============================] - 16s 115ms/step - loss: 0.4199 - categorical_accuracy: 0.9372\n",
      "Epoch 204/400\n",
      "139/139 [==============================] - 18s 129ms/step - loss: 0.4298 - categorical_accuracy: 0.9332\n",
      "Epoch 205/400\n",
      "139/139 [==============================] - 18s 131ms/step - loss: 0.4135 - categorical_accuracy: 0.9370\n",
      "Epoch 206/400\n",
      "139/139 [==============================] - 20s 141ms/step - loss: 0.6587 - categorical_accuracy: 0.8647\n",
      "Epoch 207/400\n",
      "139/139 [==============================] - 25s 180ms/step - loss: 0.7335 - categorical_accuracy: 0.8419\n",
      "Epoch 208/400\n",
      "139/139 [==============================] - 20s 143ms/step - loss: 0.8271 - categorical_accuracy: 0.8035\n",
      "Epoch 209/400\n",
      "139/139 [==============================] - 21s 153ms/step - loss: 0.5299 - categorical_accuracy: 0.8988\n",
      "Epoch 210/400\n",
      "139/139 [==============================] - 21s 148ms/step - loss: 0.3925 - categorical_accuracy: 0.9460\n",
      "Epoch 211/400\n",
      "139/139 [==============================] - 20s 143ms/step - loss: 0.3675 - categorical_accuracy: 0.9523\n",
      "Epoch 212/400\n",
      "139/139 [==============================] - 23s 166ms/step - loss: 0.4794 - categorical_accuracy: 0.9131\n",
      "Epoch 213/400\n",
      "139/139 [==============================] - 22s 157ms/step - loss: 0.4716 - categorical_accuracy: 0.9151\n",
      "Epoch 214/400\n",
      "139/139 [==============================] - 19s 140ms/step - loss: 0.3846 - categorical_accuracy: 0.9472\n",
      "Epoch 215/400\n",
      "139/139 [==============================] - 22s 157ms/step - loss: 0.3484 - categorical_accuracy: 0.9607\n",
      "Epoch 216/400\n",
      "139/139 [==============================] - 22s 160ms/step - loss: 0.4255 - categorical_accuracy: 0.9327\n",
      "Epoch 217/400\n",
      "139/139 [==============================] - 21s 153ms/step - loss: 0.5137 - categorical_accuracy: 0.9013\n",
      "Epoch 218/400\n",
      "139/139 [==============================] - 21s 152ms/step - loss: 0.4741 - categorical_accuracy: 0.9149\n",
      "Epoch 219/400\n",
      "139/139 [==============================] - 21s 154ms/step - loss: 0.6859 - categorical_accuracy: 0.8489\n",
      "Epoch 220/400\n",
      "139/139 [==============================] - 21s 154ms/step - loss: 0.6381 - categorical_accuracy: 0.8659\n",
      "Epoch 221/400\n",
      "139/139 [==============================] - 20s 145ms/step - loss: 0.3527 - categorical_accuracy: 0.9584\n",
      "Epoch 222/400\n",
      "139/139 [==============================] - 20s 142ms/step - loss: 0.4265 - categorical_accuracy: 0.9322\n",
      "Epoch 223/400\n",
      "139/139 [==============================] - 21s 151ms/step - loss: 0.6132 - categorical_accuracy: 0.8783\n",
      "Epoch 224/400\n",
      "139/139 [==============================] - 20s 142ms/step - loss: 0.6139 - categorical_accuracy: 0.8704\n",
      "Epoch 225/400\n",
      "139/139 [==============================] - 21s 152ms/step - loss: 0.4146 - categorical_accuracy: 0.9350\n",
      "Epoch 226/400\n",
      "139/139 [==============================] - 22s 158ms/step - loss: 0.6681 - categorical_accuracy: 0.8654\n",
      "Epoch 227/400\n",
      "139/139 [==============================] - 20s 145ms/step - loss: 0.4184 - categorical_accuracy: 0.9338\n",
      "Epoch 228/400\n",
      "139/139 [==============================] - 20s 145ms/step - loss: 0.3279 - categorical_accuracy: 0.9679\n",
      "Epoch 229/400\n",
      "139/139 [==============================] - 21s 152ms/step - loss: 0.3113 - categorical_accuracy: 0.9734\n",
      "Epoch 230/400\n",
      "139/139 [==============================] - 21s 150ms/step - loss: 0.3357 - categorical_accuracy: 0.9593\n",
      "Epoch 231/400\n",
      "139/139 [==============================] - 19s 139ms/step - loss: 0.3164 - categorical_accuracy: 0.9697\n",
      "Epoch 232/400\n",
      "139/139 [==============================] - 21s 150ms/step - loss: 1.6327 - categorical_accuracy: 0.6956\n",
      "Epoch 233/400\n",
      "139/139 [==============================] - 21s 151ms/step - loss: 1.0851 - categorical_accuracy: 0.7134\n",
      "Epoch 234/400\n",
      "139/139 [==============================] - 20s 145ms/step - loss: 0.6624 - categorical_accuracy: 0.8528\n",
      "Epoch 235/400\n",
      "139/139 [==============================] - 21s 154ms/step - loss: 0.4100 - categorical_accuracy: 0.9347\n",
      "Epoch 236/400\n",
      "139/139 [==============================] - 22s 159ms/step - loss: 0.3545 - categorical_accuracy: 0.9546\n",
      "Epoch 237/400\n",
      "139/139 [==============================] - 20s 146ms/step - loss: 0.4300 - categorical_accuracy: 0.9255\n",
      "Epoch 238/400\n",
      "139/139 [==============================] - 20s 147ms/step - loss: 0.4081 - categorical_accuracy: 0.9365\n",
      "Epoch 239/400\n",
      "139/139 [==============================] - 22s 157ms/step - loss: 0.5650 - categorical_accuracy: 0.8905\n",
      "Epoch 240/400\n",
      "139/139 [==============================] - 19s 137ms/step - loss: 0.3314 - categorical_accuracy: 0.9641\n",
      "Epoch 241/400\n",
      "139/139 [==============================] - 21s 153ms/step - loss: 0.2929 - categorical_accuracy: 0.9747\n",
      "Epoch 242/400\n",
      "139/139 [==============================] - 20s 146ms/step - loss: 0.5249 - categorical_accuracy: 0.8930\n",
      "Epoch 243/400\n",
      "139/139 [==============================] - 20s 145ms/step - loss: 0.3359 - categorical_accuracy: 0.9614\n",
      "Epoch 244/400\n",
      "139/139 [==============================] - 20s 142ms/step - loss: 0.3004 - categorical_accuracy: 0.9695\n",
      "Epoch 245/400\n",
      "139/139 [==============================] - 19s 137ms/step - loss: 0.3272 - categorical_accuracy: 0.9616\n",
      "Epoch 246/400\n",
      "139/139 [==============================] - 20s 142ms/step - loss: 0.6108 - categorical_accuracy: 0.8878\n",
      "Epoch 247/400\n",
      "139/139 [==============================] - 21s 153ms/step - loss: 0.8614 - categorical_accuracy: 0.8033\n",
      "Epoch 248/400\n",
      "139/139 [==============================] - 21s 148ms/step - loss: 0.4426 - categorical_accuracy: 0.9246\n",
      "Epoch 249/400\n",
      "139/139 [==============================] - 20s 143ms/step - loss: 0.3023 - categorical_accuracy: 0.9700\n",
      "Epoch 250/400\n",
      "139/139 [==============================] - 20s 146ms/step - loss: 0.3041 - categorical_accuracy: 0.9704\n",
      "Epoch 251/400\n",
      "139/139 [==============================] - 20s 143ms/step - loss: 0.2909 - categorical_accuracy: 0.9747\n",
      "Epoch 252/400\n",
      "139/139 [==============================] - 22s 155ms/step - loss: 0.5822 - categorical_accuracy: 0.8823\n",
      "Epoch 253/400\n",
      "139/139 [==============================] - 21s 154ms/step - loss: 0.6354 - categorical_accuracy: 0.8717\n",
      "Epoch 254/400\n",
      "139/139 [==============================] - 21s 149ms/step - loss: 0.7286 - categorical_accuracy: 0.8403\n",
      "Epoch 255/400\n",
      "139/139 [==============================] - 20s 143ms/step - loss: 0.3360 - categorical_accuracy: 0.9544\n",
      "Epoch 256/400\n",
      "139/139 [==============================] - 20s 147ms/step - loss: 0.2748 - categorical_accuracy: 0.9799\n",
      "Epoch 257/400\n",
      "139/139 [==============================] - 21s 149ms/step - loss: 0.2860 - categorical_accuracy: 0.9729\n",
      "Epoch 258/400\n",
      "139/139 [==============================] - 19s 139ms/step - loss: 0.2933 - categorical_accuracy: 0.9718\n",
      "Epoch 259/400\n",
      "139/139 [==============================] - 21s 149ms/step - loss: 0.6137 - categorical_accuracy: 0.8862\n",
      "Epoch 260/400\n",
      "139/139 [==============================] - 21s 148ms/step - loss: 0.3800 - categorical_accuracy: 0.9395\n",
      "Epoch 261/400\n",
      "139/139 [==============================] - 19s 139ms/step - loss: 0.7129 - categorical_accuracy: 0.8489\n",
      "Epoch 262/400\n",
      "139/139 [==============================] - 22s 157ms/step - loss: 0.3302 - categorical_accuracy: 0.9578\n",
      "Epoch 263/400\n",
      "139/139 [==============================] - 21s 147ms/step - loss: 0.2930 - categorical_accuracy: 0.9691\n",
      "Epoch 264/400\n",
      "139/139 [==============================] - 19s 137ms/step - loss: 0.2818 - categorical_accuracy: 0.9704\n",
      "Epoch 265/400\n",
      "139/139 [==============================] - 20s 147ms/step - loss: 0.3478 - categorical_accuracy: 0.9505\n",
      "Epoch 266/400\n",
      "139/139 [==============================] - 20s 147ms/step - loss: 0.5905 - categorical_accuracy: 0.8701\n",
      "Epoch 267/400\n",
      "139/139 [==============================] - 19s 135ms/step - loss: 0.3595 - categorical_accuracy: 0.9483\n",
      "Epoch 268/400\n",
      "139/139 [==============================] - 20s 147ms/step - loss: 0.5936 - categorical_accuracy: 0.8844\n",
      "Epoch 269/400\n",
      "139/139 [==============================] - 20s 147ms/step - loss: 0.3218 - categorical_accuracy: 0.9584\n",
      "Epoch 270/400\n",
      "139/139 [==============================] - 19s 137ms/step - loss: 0.2938 - categorical_accuracy: 0.9684\n",
      "Epoch 271/400\n",
      "139/139 [==============================] - 20s 145ms/step - loss: 0.5309 - categorical_accuracy: 0.9042\n",
      "Epoch 272/400\n",
      "139/139 [==============================] - 20s 143ms/step - loss: 0.3818 - categorical_accuracy: 0.9361\n",
      "Epoch 273/400\n",
      "139/139 [==============================] - 19s 136ms/step - loss: 0.4744 - categorical_accuracy: 0.9205\n",
      "Epoch 274/400\n",
      "139/139 [==============================] - 20s 145ms/step - loss: 0.4168 - categorical_accuracy: 0.9291\n",
      "Epoch 275/400\n",
      "139/139 [==============================] - 20s 146ms/step - loss: 0.2932 - categorical_accuracy: 0.9659\n",
      "Epoch 276/400\n",
      "139/139 [==============================] - 19s 137ms/step - loss: 0.2651 - categorical_accuracy: 0.9779\n",
      "Epoch 277/400\n",
      "139/139 [==============================] - 21s 150ms/step - loss: 0.2667 - categorical_accuracy: 0.9747\n",
      "Epoch 278/400\n",
      "139/139 [==============================] - 21s 148ms/step - loss: 0.4492 - categorical_accuracy: 0.9262\n",
      "Epoch 279/400\n",
      "139/139 [==============================] - 20s 142ms/step - loss: 0.6360 - categorical_accuracy: 0.8701\n",
      "Epoch 280/400\n",
      "139/139 [==============================] - 21s 153ms/step - loss: 0.3433 - categorical_accuracy: 0.9526\n",
      "Epoch 281/400\n",
      "139/139 [==============================] - 21s 149ms/step - loss: 0.4388 - categorical_accuracy: 0.9248\n",
      "Epoch 282/400\n",
      "139/139 [==============================] - 19s 137ms/step - loss: 0.3290 - categorical_accuracy: 0.9537\n",
      "Epoch 283/400\n",
      "139/139 [==============================] - 21s 149ms/step - loss: 0.2921 - categorical_accuracy: 0.9666\n",
      "Epoch 284/400\n",
      "139/139 [==============================] - 20s 143ms/step - loss: 0.2406 - categorical_accuracy: 0.9833\n",
      "Epoch 285/400\n",
      "139/139 [==============================] - 19s 139ms/step - loss: 0.2284 - categorical_accuracy: 0.9867\n",
      "Epoch 286/400\n",
      "139/139 [==============================] - 20s 143ms/step - loss: 0.7015 - categorical_accuracy: 0.8835\n",
      "Epoch 287/400\n",
      "139/139 [==============================] - 20s 143ms/step - loss: 0.5788 - categorical_accuracy: 0.8699\n",
      "Epoch 288/400\n",
      "139/139 [==============================] - 19s 134ms/step - loss: 0.2958 - categorical_accuracy: 0.9661\n",
      "Epoch 289/400\n",
      "139/139 [==============================] - 20s 147ms/step - loss: 0.2437 - categorical_accuracy: 0.9817\n",
      "Epoch 290/400\n",
      "139/139 [==============================] - 20s 147ms/step - loss: 0.2241 - categorical_accuracy: 0.9885\n",
      "Epoch 291/400\n",
      "139/139 [==============================] - 19s 136ms/step - loss: 0.2091 - categorical_accuracy: 0.9921\n",
      "Epoch 292/400\n",
      "139/139 [==============================] - 20s 146ms/step - loss: 0.2041 - categorical_accuracy: 0.9944\n",
      "Epoch 293/400\n",
      "139/139 [==============================] - 20s 144ms/step - loss: 0.5336 - categorical_accuracy: 0.8986\n",
      "Epoch 294/400\n",
      "139/139 [==============================] - 21s 149ms/step - loss: 0.8541 - categorical_accuracy: 0.8056\n",
      "Epoch 295/400\n",
      "139/139 [==============================] - 21s 148ms/step - loss: 0.4193 - categorical_accuracy: 0.9291\n",
      "Epoch 296/400\n",
      "139/139 [==============================] - 21s 151ms/step - loss: 0.4351 - categorical_accuracy: 0.9180\n",
      "Epoch 297/400\n",
      "139/139 [==============================] - 22s 160ms/step - loss: 0.2623 - categorical_accuracy: 0.9772\n",
      "Epoch 298/400\n",
      "139/139 [==============================] - 20s 142ms/step - loss: 0.2204 - categorical_accuracy: 0.9887\n",
      "Epoch 299/400\n",
      "139/139 [==============================] - 20s 147ms/step - loss: 0.2121 - categorical_accuracy: 0.9912\n",
      "Epoch 300/400\n",
      "139/139 [==============================] - 20s 143ms/step - loss: 0.2060 - categorical_accuracy: 0.9914\n",
      "Epoch 301/400\n",
      "139/139 [==============================] - 21s 149ms/step - loss: 0.2197 - categorical_accuracy: 0.9876\n",
      "Epoch 302/400\n",
      "139/139 [==============================] - 21s 149ms/step - loss: 0.6797 - categorical_accuracy: 0.8532\n",
      "Epoch 303/400\n",
      "139/139 [==============================] - 20s 142ms/step - loss: 0.6088 - categorical_accuracy: 0.8753\n",
      "Epoch 304/400\n",
      "139/139 [==============================] - 19s 138ms/step - loss: 0.5728 - categorical_accuracy: 0.8871\n",
      "Epoch 305/400\n",
      "139/139 [==============================] - 21s 154ms/step - loss: 0.2664 - categorical_accuracy: 0.9740\n",
      "Epoch 306/400\n",
      "139/139 [==============================] - 20s 145ms/step - loss: 0.2642 - categorical_accuracy: 0.9704\n",
      "Epoch 307/400\n",
      "139/139 [==============================] - 19s 140ms/step - loss: 0.2141 - categorical_accuracy: 0.9907\n",
      "Epoch 308/400\n",
      "139/139 [==============================] - 22s 159ms/step - loss: 0.1979 - categorical_accuracy: 0.9941\n",
      "Epoch 309/400\n",
      "139/139 [==============================] - 21s 148ms/step - loss: 0.1957 - categorical_accuracy: 0.9948\n",
      "Epoch 310/400\n",
      "139/139 [==============================] - 19s 140ms/step - loss: 0.1966 - categorical_accuracy: 0.9941\n",
      "Epoch 311/400\n",
      "139/139 [==============================] - 18s 131ms/step - loss: 0.2172 - categorical_accuracy: 0.9871\n",
      "Epoch 312/400\n",
      "139/139 [==============================] - 18s 133ms/step - loss: 0.6438 - categorical_accuracy: 0.8620\n",
      "Epoch 313/400\n",
      "139/139 [==============================] - 16s 116ms/step - loss: 0.4067 - categorical_accuracy: 0.9221\n",
      "Epoch 314/400\n",
      "139/139 [==============================] - 16s 118ms/step - loss: 0.2424 - categorical_accuracy: 0.9808\n",
      "Epoch 315/400\n",
      "139/139 [==============================] - 15s 110ms/step - loss: 0.3322 - categorical_accuracy: 0.9476\n",
      "Epoch 316/400\n",
      "139/139 [==============================] - 18s 132ms/step - loss: 0.2544 - categorical_accuracy: 0.9729\n",
      "Epoch 317/400\n",
      "139/139 [==============================] - 19s 139ms/step - loss: 0.2823 - categorical_accuracy: 0.9636\n",
      "Epoch 318/400\n",
      "139/139 [==============================] - 21s 150ms/step - loss: 0.3326 - categorical_accuracy: 0.9474\n",
      "Epoch 319/400\n",
      "139/139 [==============================] - 21s 148ms/step - loss: 0.6648 - categorical_accuracy: 0.8631\n",
      "Epoch 320/400\n",
      "139/139 [==============================] - 18s 126ms/step - loss: 0.2962 - categorical_accuracy: 0.9614\n",
      "Epoch 321/400\n",
      "139/139 [==============================] - 20s 146ms/step - loss: 0.3951 - categorical_accuracy: 0.9302\n",
      "Epoch 322/400\n",
      "139/139 [==============================] - 19s 139ms/step - loss: 0.2786 - categorical_accuracy: 0.9636\n",
      "Epoch 323/400\n",
      "139/139 [==============================] - 21s 147ms/step - loss: 0.2480 - categorical_accuracy: 0.9756\n",
      "Epoch 324/400\n",
      "139/139 [==============================] - 23s 169ms/step - loss: 0.2602 - categorical_accuracy: 0.9684\n",
      "Epoch 325/400\n",
      "139/139 [==============================] - 22s 157ms/step - loss: 0.2481 - categorical_accuracy: 0.9743\n",
      "Epoch 326/400\n",
      "139/139 [==============================] - 19s 139ms/step - loss: 0.1904 - categorical_accuracy: 0.9939\n",
      "Epoch 327/400\n",
      "139/139 [==============================] - 21s 152ms/step - loss: 0.1975 - categorical_accuracy: 0.9905\n",
      "Epoch 328/400\n",
      "139/139 [==============================] - 20s 147ms/step - loss: 0.2629 - categorical_accuracy: 0.9668\n",
      "Epoch 329/400\n",
      "139/139 [==============================] - 20s 141ms/step - loss: 0.5996 - categorical_accuracy: 0.8776\n",
      "Epoch 330/400\n",
      "139/139 [==============================] - 21s 153ms/step - loss: 0.6493 - categorical_accuracy: 0.8645\n",
      "Epoch 331/400\n",
      "139/139 [==============================] - 22s 155ms/step - loss: 0.2733 - categorical_accuracy: 0.9670\n",
      "Epoch 332/400\n",
      "139/139 [==============================] - 21s 153ms/step - loss: 0.2169 - categorical_accuracy: 0.9851\n",
      "Epoch 333/400\n",
      "139/139 [==============================] - 20s 144ms/step - loss: 0.2257 - categorical_accuracy: 0.9804\n",
      "Epoch 334/400\n",
      "139/139 [==============================] - 21s 150ms/step - loss: 0.2904 - categorical_accuracy: 0.9614\n",
      "Epoch 335/400\n",
      "139/139 [==============================] - 20s 147ms/step - loss: 0.5483 - categorical_accuracy: 0.8873\n",
      "Epoch 336/400\n",
      "139/139 [==============================] - 20s 143ms/step - loss: 0.4023 - categorical_accuracy: 0.9234\n",
      "Epoch 337/400\n",
      "139/139 [==============================] - 21s 151ms/step - loss: 0.2298 - categorical_accuracy: 0.9815\n",
      "Epoch 338/400\n",
      "139/139 [==============================] - 21s 151ms/step - loss: 0.1981 - categorical_accuracy: 0.9887\n",
      "Epoch 339/400\n",
      "139/139 [==============================] - 19s 140ms/step - loss: 0.2113 - categorical_accuracy: 0.9855\n",
      "Epoch 340/400\n",
      "139/139 [==============================] - 21s 149ms/step - loss: 0.1789 - categorical_accuracy: 0.9953\n",
      "Epoch 341/400\n",
      "139/139 [==============================] - 21s 154ms/step - loss: 0.1729 - categorical_accuracy: 0.9968\n",
      "Epoch 342/400\n",
      " 90/139 [==================>...........] - ETA: 6s - loss: 0.1651 - categorical_accuracy: 0.9986"
     ]
    },
    {
     "ename": "KeyboardInterrupt",
     "evalue": "",
     "output_type": "error",
     "traceback": [
      "\u001B[1;31m---------------------------------------------------------------------------\u001B[0m",
      "\u001B[1;31mKeyboardInterrupt\u001B[0m                         Traceback (most recent call last)",
      "Cell \u001B[1;32mIn[13], line 5\u001B[0m\n\u001B[0;32m      3\u001B[0m best_model_path \u001B[38;5;241m=\u001B[39m os\u001B[38;5;241m.\u001B[39mpath\u001B[38;5;241m.\u001B[39mjoin(model_f, \u001B[38;5;124m'\u001B[39m\u001B[38;5;124mbest_model.h5\u001B[39m\u001B[38;5;124m'\u001B[39m) \n\u001B[0;32m      4\u001B[0m checkpoint \u001B[38;5;241m=\u001B[39m ModelCheckpoint(best_model_path, monitor\u001B[38;5;241m=\u001B[39m\u001B[38;5;124m'\u001B[39m\u001B[38;5;124mloss\u001B[39m\u001B[38;5;124m'\u001B[39m, save_best_only\u001B[38;5;241m=\u001B[39m\u001B[38;5;28;01mTrue\u001B[39;00m)\n\u001B[1;32m----> 5\u001B[0m history \u001B[38;5;241m=\u001B[39m model\u001B[38;5;241m.\u001B[39mfit(train_generator, epochs\u001B[38;5;241m=\u001B[39m\u001B[38;5;241m400\u001B[39m, callbacks\u001B[38;5;241m=\u001B[39m[early_stopping,\n\u001B[0;32m      6\u001B[0m                                                               checkpoint,\n\u001B[0;32m      7\u001B[0m                                                               csv_logger,\n\u001B[0;32m      8\u001B[0m                                                               tensorboard_callback])\n\u001B[0;32m      9\u001B[0m \u001B[38;5;66;03m# save best model\u001B[39;00m\n\u001B[0;32m     10\u001B[0m final_model_path \u001B[38;5;241m=\u001B[39m os\u001B[38;5;241m.\u001B[39mpath\u001B[38;5;241m.\u001B[39mjoin(model_f, \u001B[38;5;124m'\u001B[39m\u001B[38;5;124mfinal_model.h5\u001B[39m\u001B[38;5;124m'\u001B[39m)\n",
      "File \u001B[1;32m~\\AppData\\Roaming\\Python\\Python311\\site-packages\\keras\\src\\utils\\traceback_utils.py:65\u001B[0m, in \u001B[0;36mfilter_traceback.<locals>.error_handler\u001B[1;34m(*args, **kwargs)\u001B[0m\n\u001B[0;32m     63\u001B[0m filtered_tb \u001B[38;5;241m=\u001B[39m \u001B[38;5;28;01mNone\u001B[39;00m\n\u001B[0;32m     64\u001B[0m \u001B[38;5;28;01mtry\u001B[39;00m:\n\u001B[1;32m---> 65\u001B[0m     \u001B[38;5;28;01mreturn\u001B[39;00m fn(\u001B[38;5;241m*\u001B[39margs, \u001B[38;5;241m*\u001B[39m\u001B[38;5;241m*\u001B[39mkwargs)\n\u001B[0;32m     66\u001B[0m \u001B[38;5;28;01mexcept\u001B[39;00m \u001B[38;5;167;01mException\u001B[39;00m \u001B[38;5;28;01mas\u001B[39;00m e:\n\u001B[0;32m     67\u001B[0m     filtered_tb \u001B[38;5;241m=\u001B[39m _process_traceback_frames(e\u001B[38;5;241m.\u001B[39m__traceback__)\n",
      "File \u001B[1;32m~\\AppData\\Roaming\\Python\\Python311\\site-packages\\keras\\src\\engine\\training.py:1742\u001B[0m, in \u001B[0;36mModel.fit\u001B[1;34m(self, x, y, batch_size, epochs, verbose, callbacks, validation_split, validation_data, shuffle, class_weight, sample_weight, initial_epoch, steps_per_epoch, validation_steps, validation_batch_size, validation_freq, max_queue_size, workers, use_multiprocessing)\u001B[0m\n\u001B[0;32m   1734\u001B[0m \u001B[38;5;28;01mwith\u001B[39;00m tf\u001B[38;5;241m.\u001B[39mprofiler\u001B[38;5;241m.\u001B[39mexperimental\u001B[38;5;241m.\u001B[39mTrace(\n\u001B[0;32m   1735\u001B[0m     \u001B[38;5;124m\"\u001B[39m\u001B[38;5;124mtrain\u001B[39m\u001B[38;5;124m\"\u001B[39m,\n\u001B[0;32m   1736\u001B[0m     epoch_num\u001B[38;5;241m=\u001B[39mepoch,\n\u001B[1;32m   (...)\u001B[0m\n\u001B[0;32m   1739\u001B[0m     _r\u001B[38;5;241m=\u001B[39m\u001B[38;5;241m1\u001B[39m,\n\u001B[0;32m   1740\u001B[0m ):\n\u001B[0;32m   1741\u001B[0m     callbacks\u001B[38;5;241m.\u001B[39mon_train_batch_begin(step)\n\u001B[1;32m-> 1742\u001B[0m     tmp_logs \u001B[38;5;241m=\u001B[39m \u001B[38;5;28mself\u001B[39m\u001B[38;5;241m.\u001B[39mtrain_function(iterator)\n\u001B[0;32m   1743\u001B[0m     \u001B[38;5;28;01mif\u001B[39;00m data_handler\u001B[38;5;241m.\u001B[39mshould_sync:\n\u001B[0;32m   1744\u001B[0m         context\u001B[38;5;241m.\u001B[39masync_wait()\n",
      "File \u001B[1;32m~\\AppData\\Roaming\\Python\\Python311\\site-packages\\tensorflow\\python\\util\\traceback_utils.py:150\u001B[0m, in \u001B[0;36mfilter_traceback.<locals>.error_handler\u001B[1;34m(*args, **kwargs)\u001B[0m\n\u001B[0;32m    148\u001B[0m filtered_tb \u001B[38;5;241m=\u001B[39m \u001B[38;5;28;01mNone\u001B[39;00m\n\u001B[0;32m    149\u001B[0m \u001B[38;5;28;01mtry\u001B[39;00m:\n\u001B[1;32m--> 150\u001B[0m   \u001B[38;5;28;01mreturn\u001B[39;00m fn(\u001B[38;5;241m*\u001B[39margs, \u001B[38;5;241m*\u001B[39m\u001B[38;5;241m*\u001B[39mkwargs)\n\u001B[0;32m    151\u001B[0m \u001B[38;5;28;01mexcept\u001B[39;00m \u001B[38;5;167;01mException\u001B[39;00m \u001B[38;5;28;01mas\u001B[39;00m e:\n\u001B[0;32m    152\u001B[0m   filtered_tb \u001B[38;5;241m=\u001B[39m _process_traceback_frames(e\u001B[38;5;241m.\u001B[39m__traceback__)\n",
      "File \u001B[1;32m~\\AppData\\Roaming\\Python\\Python311\\site-packages\\tensorflow\\python\\eager\\polymorphic_function\\polymorphic_function.py:825\u001B[0m, in \u001B[0;36mFunction.__call__\u001B[1;34m(self, *args, **kwds)\u001B[0m\n\u001B[0;32m    822\u001B[0m compiler \u001B[38;5;241m=\u001B[39m \u001B[38;5;124m\"\u001B[39m\u001B[38;5;124mxla\u001B[39m\u001B[38;5;124m\"\u001B[39m \u001B[38;5;28;01mif\u001B[39;00m \u001B[38;5;28mself\u001B[39m\u001B[38;5;241m.\u001B[39m_jit_compile \u001B[38;5;28;01melse\u001B[39;00m \u001B[38;5;124m\"\u001B[39m\u001B[38;5;124mnonXla\u001B[39m\u001B[38;5;124m\"\u001B[39m\n\u001B[0;32m    824\u001B[0m \u001B[38;5;28;01mwith\u001B[39;00m OptionalXlaContext(\u001B[38;5;28mself\u001B[39m\u001B[38;5;241m.\u001B[39m_jit_compile):\n\u001B[1;32m--> 825\u001B[0m   result \u001B[38;5;241m=\u001B[39m \u001B[38;5;28mself\u001B[39m\u001B[38;5;241m.\u001B[39m_call(\u001B[38;5;241m*\u001B[39margs, \u001B[38;5;241m*\u001B[39m\u001B[38;5;241m*\u001B[39mkwds)\n\u001B[0;32m    827\u001B[0m new_tracing_count \u001B[38;5;241m=\u001B[39m \u001B[38;5;28mself\u001B[39m\u001B[38;5;241m.\u001B[39mexperimental_get_tracing_count()\n\u001B[0;32m    828\u001B[0m without_tracing \u001B[38;5;241m=\u001B[39m (tracing_count \u001B[38;5;241m==\u001B[39m new_tracing_count)\n",
      "File \u001B[1;32m~\\AppData\\Roaming\\Python\\Python311\\site-packages\\tensorflow\\python\\eager\\polymorphic_function\\polymorphic_function.py:857\u001B[0m, in \u001B[0;36mFunction._call\u001B[1;34m(self, *args, **kwds)\u001B[0m\n\u001B[0;32m    854\u001B[0m   \u001B[38;5;28mself\u001B[39m\u001B[38;5;241m.\u001B[39m_lock\u001B[38;5;241m.\u001B[39mrelease()\n\u001B[0;32m    855\u001B[0m   \u001B[38;5;66;03m# In this case we have created variables on the first call, so we run the\u001B[39;00m\n\u001B[0;32m    856\u001B[0m   \u001B[38;5;66;03m# defunned version which is guaranteed to never create variables.\u001B[39;00m\n\u001B[1;32m--> 857\u001B[0m   \u001B[38;5;28;01mreturn\u001B[39;00m \u001B[38;5;28mself\u001B[39m\u001B[38;5;241m.\u001B[39m_no_variable_creation_fn(\u001B[38;5;241m*\u001B[39margs, \u001B[38;5;241m*\u001B[39m\u001B[38;5;241m*\u001B[39mkwds)  \u001B[38;5;66;03m# pylint: disable=not-callable\u001B[39;00m\n\u001B[0;32m    858\u001B[0m \u001B[38;5;28;01melif\u001B[39;00m \u001B[38;5;28mself\u001B[39m\u001B[38;5;241m.\u001B[39m_variable_creation_fn \u001B[38;5;129;01mis\u001B[39;00m \u001B[38;5;129;01mnot\u001B[39;00m \u001B[38;5;28;01mNone\u001B[39;00m:\n\u001B[0;32m    859\u001B[0m   \u001B[38;5;66;03m# Release the lock early so that multiple threads can perform the call\u001B[39;00m\n\u001B[0;32m    860\u001B[0m   \u001B[38;5;66;03m# in parallel.\u001B[39;00m\n\u001B[0;32m    861\u001B[0m   \u001B[38;5;28mself\u001B[39m\u001B[38;5;241m.\u001B[39m_lock\u001B[38;5;241m.\u001B[39mrelease()\n",
      "File \u001B[1;32m~\\AppData\\Roaming\\Python\\Python311\\site-packages\\tensorflow\\python\\eager\\polymorphic_function\\tracing_compiler.py:148\u001B[0m, in \u001B[0;36mTracingCompiler.__call__\u001B[1;34m(self, *args, **kwargs)\u001B[0m\n\u001B[0;32m    145\u001B[0m \u001B[38;5;28;01mwith\u001B[39;00m \u001B[38;5;28mself\u001B[39m\u001B[38;5;241m.\u001B[39m_lock:\n\u001B[0;32m    146\u001B[0m   (concrete_function,\n\u001B[0;32m    147\u001B[0m    filtered_flat_args) \u001B[38;5;241m=\u001B[39m \u001B[38;5;28mself\u001B[39m\u001B[38;5;241m.\u001B[39m_maybe_define_function(args, kwargs)\n\u001B[1;32m--> 148\u001B[0m \u001B[38;5;28;01mreturn\u001B[39;00m concrete_function\u001B[38;5;241m.\u001B[39m_call_flat(\n\u001B[0;32m    149\u001B[0m     filtered_flat_args, captured_inputs\u001B[38;5;241m=\u001B[39mconcrete_function\u001B[38;5;241m.\u001B[39mcaptured_inputs)\n",
      "File \u001B[1;32m~\\AppData\\Roaming\\Python\\Python311\\site-packages\\tensorflow\\python\\eager\\polymorphic_function\\monomorphic_function.py:1349\u001B[0m, in \u001B[0;36mConcreteFunction._call_flat\u001B[1;34m(self, args, captured_inputs)\u001B[0m\n\u001B[0;32m   1345\u001B[0m possible_gradient_type \u001B[38;5;241m=\u001B[39m gradients_util\u001B[38;5;241m.\u001B[39mPossibleTapeGradientTypes(args)\n\u001B[0;32m   1346\u001B[0m \u001B[38;5;28;01mif\u001B[39;00m (possible_gradient_type \u001B[38;5;241m==\u001B[39m gradients_util\u001B[38;5;241m.\u001B[39mPOSSIBLE_GRADIENT_TYPES_NONE\n\u001B[0;32m   1347\u001B[0m     \u001B[38;5;129;01mand\u001B[39;00m executing_eagerly):\n\u001B[0;32m   1348\u001B[0m   \u001B[38;5;66;03m# No tape is watching; skip to running the function.\u001B[39;00m\n\u001B[1;32m-> 1349\u001B[0m   \u001B[38;5;28;01mreturn\u001B[39;00m \u001B[38;5;28mself\u001B[39m\u001B[38;5;241m.\u001B[39m_build_call_outputs(\u001B[38;5;28mself\u001B[39m\u001B[38;5;241m.\u001B[39m_inference_function(\u001B[38;5;241m*\u001B[39margs))\n\u001B[0;32m   1350\u001B[0m forward_backward \u001B[38;5;241m=\u001B[39m \u001B[38;5;28mself\u001B[39m\u001B[38;5;241m.\u001B[39m_select_forward_and_backward_functions(\n\u001B[0;32m   1351\u001B[0m     args,\n\u001B[0;32m   1352\u001B[0m     possible_gradient_type,\n\u001B[0;32m   1353\u001B[0m     executing_eagerly)\n\u001B[0;32m   1354\u001B[0m forward_function, args_with_tangents \u001B[38;5;241m=\u001B[39m forward_backward\u001B[38;5;241m.\u001B[39mforward()\n",
      "File \u001B[1;32m~\\AppData\\Roaming\\Python\\Python311\\site-packages\\tensorflow\\python\\eager\\polymorphic_function\\atomic_function.py:196\u001B[0m, in \u001B[0;36mAtomicFunction.__call__\u001B[1;34m(self, *args)\u001B[0m\n\u001B[0;32m    194\u001B[0m \u001B[38;5;28;01mwith\u001B[39;00m record\u001B[38;5;241m.\u001B[39mstop_recording():\n\u001B[0;32m    195\u001B[0m   \u001B[38;5;28;01mif\u001B[39;00m \u001B[38;5;28mself\u001B[39m\u001B[38;5;241m.\u001B[39m_bound_context\u001B[38;5;241m.\u001B[39mexecuting_eagerly():\n\u001B[1;32m--> 196\u001B[0m     outputs \u001B[38;5;241m=\u001B[39m \u001B[38;5;28mself\u001B[39m\u001B[38;5;241m.\u001B[39m_bound_context\u001B[38;5;241m.\u001B[39mcall_function(\n\u001B[0;32m    197\u001B[0m         \u001B[38;5;28mself\u001B[39m\u001B[38;5;241m.\u001B[39mname,\n\u001B[0;32m    198\u001B[0m         \u001B[38;5;28mlist\u001B[39m(args),\n\u001B[0;32m    199\u001B[0m         \u001B[38;5;28mlen\u001B[39m(\u001B[38;5;28mself\u001B[39m\u001B[38;5;241m.\u001B[39mfunction_type\u001B[38;5;241m.\u001B[39mflat_outputs),\n\u001B[0;32m    200\u001B[0m     )\n\u001B[0;32m    201\u001B[0m   \u001B[38;5;28;01melse\u001B[39;00m:\n\u001B[0;32m    202\u001B[0m     outputs \u001B[38;5;241m=\u001B[39m make_call_op_in_graph(\u001B[38;5;28mself\u001B[39m, \u001B[38;5;28mlist\u001B[39m(args))\n",
      "File \u001B[1;32m~\\AppData\\Roaming\\Python\\Python311\\site-packages\\tensorflow\\python\\eager\\context.py:1457\u001B[0m, in \u001B[0;36mContext.call_function\u001B[1;34m(self, name, tensor_inputs, num_outputs)\u001B[0m\n\u001B[0;32m   1455\u001B[0m cancellation_context \u001B[38;5;241m=\u001B[39m cancellation\u001B[38;5;241m.\u001B[39mcontext()\n\u001B[0;32m   1456\u001B[0m \u001B[38;5;28;01mif\u001B[39;00m cancellation_context \u001B[38;5;129;01mis\u001B[39;00m \u001B[38;5;28;01mNone\u001B[39;00m:\n\u001B[1;32m-> 1457\u001B[0m   outputs \u001B[38;5;241m=\u001B[39m execute\u001B[38;5;241m.\u001B[39mexecute(\n\u001B[0;32m   1458\u001B[0m       name\u001B[38;5;241m.\u001B[39mdecode(\u001B[38;5;124m\"\u001B[39m\u001B[38;5;124mutf-8\u001B[39m\u001B[38;5;124m\"\u001B[39m),\n\u001B[0;32m   1459\u001B[0m       num_outputs\u001B[38;5;241m=\u001B[39mnum_outputs,\n\u001B[0;32m   1460\u001B[0m       inputs\u001B[38;5;241m=\u001B[39mtensor_inputs,\n\u001B[0;32m   1461\u001B[0m       attrs\u001B[38;5;241m=\u001B[39mattrs,\n\u001B[0;32m   1462\u001B[0m       ctx\u001B[38;5;241m=\u001B[39m\u001B[38;5;28mself\u001B[39m,\n\u001B[0;32m   1463\u001B[0m   )\n\u001B[0;32m   1464\u001B[0m \u001B[38;5;28;01melse\u001B[39;00m:\n\u001B[0;32m   1465\u001B[0m   outputs \u001B[38;5;241m=\u001B[39m execute\u001B[38;5;241m.\u001B[39mexecute_with_cancellation(\n\u001B[0;32m   1466\u001B[0m       name\u001B[38;5;241m.\u001B[39mdecode(\u001B[38;5;124m\"\u001B[39m\u001B[38;5;124mutf-8\u001B[39m\u001B[38;5;124m\"\u001B[39m),\n\u001B[0;32m   1467\u001B[0m       num_outputs\u001B[38;5;241m=\u001B[39mnum_outputs,\n\u001B[1;32m   (...)\u001B[0m\n\u001B[0;32m   1471\u001B[0m       cancellation_manager\u001B[38;5;241m=\u001B[39mcancellation_context,\n\u001B[0;32m   1472\u001B[0m   )\n",
      "File \u001B[1;32m~\\AppData\\Roaming\\Python\\Python311\\site-packages\\tensorflow\\python\\eager\\execute.py:53\u001B[0m, in \u001B[0;36mquick_execute\u001B[1;34m(op_name, num_outputs, inputs, attrs, ctx, name)\u001B[0m\n\u001B[0;32m     51\u001B[0m \u001B[38;5;28;01mtry\u001B[39;00m:\n\u001B[0;32m     52\u001B[0m   ctx\u001B[38;5;241m.\u001B[39mensure_initialized()\n\u001B[1;32m---> 53\u001B[0m   tensors \u001B[38;5;241m=\u001B[39m pywrap_tfe\u001B[38;5;241m.\u001B[39mTFE_Py_Execute(ctx\u001B[38;5;241m.\u001B[39m_handle, device_name, op_name,\n\u001B[0;32m     54\u001B[0m                                       inputs, attrs, num_outputs)\n\u001B[0;32m     55\u001B[0m \u001B[38;5;28;01mexcept\u001B[39;00m core\u001B[38;5;241m.\u001B[39m_NotOkStatusException \u001B[38;5;28;01mas\u001B[39;00m e:\n\u001B[0;32m     56\u001B[0m   \u001B[38;5;28;01mif\u001B[39;00m name \u001B[38;5;129;01mis\u001B[39;00m \u001B[38;5;129;01mnot\u001B[39;00m \u001B[38;5;28;01mNone\u001B[39;00m:\n",
      "\u001B[1;31mKeyboardInterrupt\u001B[0m: "
     ]
    }
   ],
   "source": [
    "model.compile(optimizer='Adam', loss='categorical_crossentropy', metrics=['categorical_accuracy'])\n",
    "early_stopping = EarlyStopping(monitor='loss', patience=20, restore_best_weights=True)\n",
    "best_model_path = os.path.join(model_f, 'best_model.h5') \n",
    "checkpoint = ModelCheckpoint(best_model_path, monitor='loss', save_best_only=True)\n",
    "history = model.fit(train_generator, epochs=400, callbacks=[early_stopping,\n",
    "                                                              checkpoint,\n",
    "                                                              csv_logger,\n",
    "                                                              tensorboard_callback])\n",
    "# save best model\n",
    "final_model_path = os.path.join(model_f, 'final_model.h5')\n",
    "model.save(final_model_path)\n"
   ],
   "metadata": {
    "collapsed": false,
    "ExecuteTime": {
     "end_time": "2024-06-29T20:19:18.128649700Z",
     "start_time": "2024-06-29T18:17:56.617526400Z"
    }
   },
   "id": "a95bc5d05d55f9bf"
  },
  {
   "cell_type": "code",
   "execution_count": 15,
   "outputs": [
    {
     "name": "stdout",
     "output_type": "stream",
     "text": [
      "Model: \"sequential_1\"\n",
      "_________________________________________________________________\n",
      " Layer (type)                Output Shape              Param #   \n",
      "=================================================================\n",
      " lstm_3 (LSTM)               (None, 30, 64)            442112    \n",
      "                                                                 \n",
      " lstm_4 (LSTM)               (None, 30, 128)           98816     \n",
      "                                                                 \n",
      " lstm_5 (LSTM)               (None, 64)                49408     \n",
      "                                                                 \n",
      " dense_3 (Dense)             (None, 64)                4160      \n",
      "                                                                 \n",
      " dense_4 (Dense)             (None, 32)                2080      \n",
      "                                                                 \n",
      " dense_5 (Dense)             (None, 58)                1914      \n",
      "                                                                 \n",
      "=================================================================\n",
      "Total params: 598490 (2.28 MB)\n",
      "Trainable params: 598490 (2.28 MB)\n",
      "Non-trainable params: 0 (0.00 Byte)\n",
      "_________________________________________________________________\n"
     ]
    }
   ],
   "source": [
    "model.summary()"
   ],
   "metadata": {
    "collapsed": false,
    "ExecuteTime": {
     "end_time": "2024-06-29T20:19:40.855948200Z",
     "start_time": "2024-06-29T20:19:40.748152100Z"
    }
   },
   "id": "3387bbde19fe3fb5"
  },
  {
   "cell_type": "code",
   "execution_count": 16,
   "outputs": [],
   "source": [
    "# Load the weights pf trained model\n",
    "model.load_weights('models/model_31/best_model.h5')"
   ],
   "metadata": {
    "collapsed": false,
    "ExecuteTime": {
     "end_time": "2024-06-29T20:19:49.362093300Z",
     "start_time": "2024-06-29T20:19:49.246341700Z"
    }
   },
   "id": "42aee536a80d9155"
  },
  {
   "cell_type": "markdown",
   "source": [
    "### Evaluation using Confusion Matrix and Accuracy"
   ],
   "metadata": {
    "collapsed": false
   },
   "id": "4b203153c613ace6"
  },
  {
   "cell_type": "code",
   "execution_count": 17,
   "outputs": [
    {
     "name": "stdout",
     "output_type": "stream",
     "text": [
      "16/16 [==============================] - 4s 57ms/step\n"
     ]
    }
   ],
   "source": [
    "y_pred = model.predict(X_test)"
   ],
   "metadata": {
    "collapsed": false,
    "ExecuteTime": {
     "end_time": "2024-06-29T20:19:58.512491300Z",
     "start_time": "2024-06-29T20:19:52.255008Z"
    }
   },
   "id": "ceedaeffbe070080"
  },
  {
   "cell_type": "code",
   "execution_count": 18,
   "outputs": [
    {
     "data": {
      "text/plain": "'m'"
     },
     "execution_count": 18,
     "metadata": {},
     "output_type": "execute_result"
    }
   ],
   "source": [
    "np_actions[np.argmax(y_pred[10])]"
   ],
   "metadata": {
    "collapsed": false,
    "ExecuteTime": {
     "end_time": "2024-06-29T20:19:59.061279100Z",
     "start_time": "2024-06-29T20:19:59.022589100Z"
    }
   },
   "id": "da07033415ab75dd"
  },
  {
   "cell_type": "code",
   "execution_count": 19,
   "outputs": [
    {
     "data": {
      "text/plain": "'nove'"
     },
     "execution_count": 19,
     "metadata": {},
     "output_type": "execute_result"
    }
   ],
   "source": [
    "np_actions[np.argmax(y_test[10])]"
   ],
   "metadata": {
    "collapsed": false,
    "ExecuteTime": {
     "end_time": "2024-06-29T20:19:59.503910900Z",
     "start_time": "2024-06-29T20:19:59.455510600Z"
    }
   },
   "id": "911f0a43a6249d78"
  },
  {
   "cell_type": "code",
   "execution_count": 20,
   "outputs": [],
   "source": [
    "y_true = np.argmax(y_test, axis=1).tolist()\n",
    "y_pred = np.argmax(y_pred, axis=1).tolist()"
   ],
   "metadata": {
    "collapsed": false,
    "ExecuteTime": {
     "end_time": "2024-06-29T20:20:02.076414800Z",
     "start_time": "2024-06-29T20:20:02.047729300Z"
    }
   },
   "id": "803dc04ea0222ba3"
  },
  {
   "cell_type": "code",
   "execution_count": 21,
   "outputs": [
    {
     "name": "stdout",
     "output_type": "stream",
     "text": [
      "[50, 57, 10, 47, 40, 41, 0, 43, 11, 30, 8, 54, 1, 8, 2, 25, 43, 38, 23, 47, 6, 30, 30, 6, 10, 57, 17, 57, 54, 52, 40, 2, 34, 2, 26, 10, 37, 14, 40, 26, 26, 54, 12, 14, 12, 56, 57, 34, 4, 46, 12, 11, 55, 51, 42, 2, 30, 31, 35, 53, 16, 1, 43, 40, 41, 16, 7, 54, 31, 13, 53, 21, 11, 25, 2, 16, 8, 31, 22, 17, 52, 16, 32, 1, 48, 21, 30, 38, 43, 37, 3, 15, 54, 45, 45, 16, 38, 5, 48, 24, 14, 50, 32, 29, 22, 19, 28, 34, 54, 1, 57, 50, 12, 42, 14, 20, 11, 46, 22, 56, 26, 20, 51, 33, 23, 25, 31, 33, 16, 7, 23, 36, 19, 4, 33, 34, 17, 25, 43, 19, 26, 3, 21, 55, 26, 56, 27, 50, 0, 28, 9, 56, 34, 18, 29, 6, 11, 33, 49, 13, 57, 33, 6, 34, 22, 17, 50, 13, 7, 14, 46, 48, 47, 51, 20, 28, 22, 25, 37, 3, 6, 52, 7, 7, 40, 0, 18, 33, 21, 53, 56, 37, 20, 36, 45, 17, 22, 4, 10, 27, 9, 45, 31, 41, 17, 11, 50, 13, 32, 52, 3, 16, 21, 41, 16, 10, 48, 3, 51, 56, 38, 31, 41, 47, 52, 6, 34, 17, 50, 24, 47, 49, 18, 24, 29, 8, 20, 22, 53, 4, 29, 27, 45, 28, 47, 2, 19, 3, 24, 49, 37, 43, 36, 34, 47, 14, 35, 1, 7, 40, 51, 9, 9, 18, 29, 49, 21, 56, 54, 48, 24, 24, 37, 22, 49, 53, 10, 19, 42, 20, 21, 8, 49, 21, 2, 28, 4, 30, 46, 27, 31, 21, 7, 14, 8, 31, 28, 52, 7, 40, 27, 12, 53, 4, 13, 9, 20, 45, 26, 41, 27, 50, 52, 45, 4, 36, 46, 10, 9, 4, 20, 36, 25, 50, 57, 41, 40, 11, 40, 39, 24, 47, 45, 46, 12, 56, 25, 48, 34, 49, 27, 42, 3, 36, 6, 29, 14, 18, 42, 56, 36, 1, 52, 37, 32, 54, 13, 32, 9, 28, 45, 57, 11, 33, 30, 9, 43, 14, 19, 45, 50, 29, 8, 6, 8, 48, 10, 25, 52, 29, 47, 56, 26, 48, 54, 25, 33, 24, 48, 43, 44, 54, 27, 6, 35, 7, 26, 22, 35, 13, 2, 36, 41, 11, 10, 20, 16, 37, 1, 51, 42, 9, 37, 12, 48, 29, 19, 49, 21, 33, 32, 2, 9, 40, 10, 12, 12, 51, 7, 43, 17, 30, 13, 20, 17, 11, 24, 53, 3, 1, 29, 6, 4, 31, 22, 13, 38, 19, 52, 41, 51, 51, 4, 28, 31, 18, 30, 43, 8, 14, 17, 27, 19, 30, 26, 16, 1, 19, 36, 12, 3, 33, 49, 2, 37, 32, 3, 24, 13, 32, 34, 15, 27, 25, 36, 23, 1, 8, 46, 51, 41, 49, 47]\n"
     ]
    }
   ],
   "source": [
    "print(y_true)"
   ],
   "metadata": {
    "collapsed": false,
    "ExecuteTime": {
     "end_time": "2024-06-29T20:20:02.860912700Z",
     "start_time": "2024-06-29T20:20:02.814486100Z"
    }
   },
   "id": "2ce0c1cec0ae5a84"
  },
  {
   "cell_type": "code",
   "execution_count": 22,
   "outputs": [
    {
     "name": "stdout",
     "output_type": "stream",
     "text": [
      "[4, 50, 2, 47, 51, 41, 55, 43, 11, 30, 47, 54, 1, 8, 2, 25, 14, 46, 23, 10, 6, 30, 24, 6, 10, 57, 17, 57, 54, 52, 40, 2, 34, 2, 26, 10, 37, 14, 40, 26, 26, 54, 12, 14, 12, 56, 57, 34, 4, 28, 12, 4, 28, 51, 42, 2, 30, 31, 35, 53, 16, 1, 43, 40, 17, 16, 7, 54, 31, 13, 1, 21, 11, 25, 2, 16, 21, 31, 14, 17, 52, 16, 32, 2, 48, 21, 34, 38, 43, 48, 3, 15, 36, 45, 45, 16, 38, 0, 48, 2, 14, 50, 32, 29, 22, 43, 28, 34, 50, 2, 57, 36, 12, 1, 22, 20, 11, 46, 22, 56, 7, 22, 51, 33, 52, 25, 31, 33, 16, 7, 23, 13, 19, 4, 33, 19, 17, 34, 25, 30, 26, 3, 21, 12, 26, 56, 27, 50, 0, 28, 9, 54, 34, 18, 29, 6, 11, 33, 49, 13, 57, 33, 6, 34, 22, 17, 50, 56, 7, 14, 46, 48, 10, 51, 20, 28, 22, 43, 37, 3, 6, 52, 7, 7, 21, 0, 35, 33, 21, 53, 56, 37, 20, 13, 25, 17, 20, 4, 47, 27, 9, 45, 31, 41, 17, 11, 50, 13, 32, 52, 3, 16, 4, 41, 16, 10, 48, 3, 51, 22, 28, 31, 41, 47, 52, 6, 34, 17, 50, 24, 51, 49, 18, 24, 29, 8, 20, 22, 53, 4, 29, 27, 45, 57, 47, 2, 19, 3, 11, 49, 19, 43, 13, 34, 16, 14, 18, 27, 7, 40, 3, 9, 34, 18, 29, 49, 21, 56, 50, 48, 24, 24, 37, 22, 56, 53, 10, 19, 42, 41, 21, 8, 49, 21, 2, 28, 4, 37, 46, 27, 31, 21, 7, 14, 8, 51, 28, 52, 7, 40, 8, 12, 23, 4, 13, 17, 20, 25, 26, 41, 27, 50, 52, 10, 4, 13, 46, 10, 9, 4, 20, 54, 25, 56, 57, 41, 3, 11, 40, 39, 21, 47, 45, 38, 46, 56, 33, 48, 34, 49, 27, 42, 51, 36, 6, 29, 14, 18, 42, 56, 34, 1, 52, 34, 32, 54, 13, 32, 47, 28, 45, 54, 4, 34, 34, 9, 43, 14, 19, 8, 50, 29, 8, 6, 8, 48, 10, 25, 52, 29, 16, 56, 26, 48, 54, 25, 33, 21, 48, 25, 55, 54, 36, 6, 35, 7, 26, 22, 50, 13, 24, 56, 20, 24, 10, 20, 20, 37, 1, 51, 42, 9, 37, 12, 48, 29, 19, 49, 21, 33, 32, 2, 9, 40, 10, 12, 12, 51, 7, 17, 9, 30, 13, 9, 27, 50, 25, 53, 3, 14, 29, 6, 4, 31, 22, 13, 28, 19, 52, 41, 3, 51, 47, 28, 31, 27, 30, 43, 8, 14, 17, 45, 19, 30, 26, 16, 1, 14, 36, 12, 51, 33, 49, 2, 37, 32, 3, 24, 13, 32, 34, 39, 39, 25, 36, 23, 25, 8, 31, 11, 41, 49, 47]\n"
     ]
    }
   ],
   "source": [
    "print(y_pred)"
   ],
   "metadata": {
    "collapsed": false,
    "ExecuteTime": {
     "end_time": "2024-06-29T20:20:03.461899900Z",
     "start_time": "2024-06-29T20:20:03.440989700Z"
    }
   },
   "id": "602582e4eedc3d53"
  },
  {
   "cell_type": "code",
   "execution_count": 23,
   "outputs": [
    {
     "data": {
      "text/plain": "<Figure size 1200x1200 with 1 Axes>",
      "image/png": "[encoded data removed]"
     },
     "metadata": {},
     "output_type": "display_data"
    }
   ],
   "source": [
    "# calculate confusion matrix\n",
    "cm = confusion_matrix(y_true, y_pred)\n",
    "\n",
    "# show confusion matrix\n",
    "plt.figure(figsize=(12, 12))\n",
    "sns.heatmap(cm, annot=True, fmt='d', cmap='Blues', cbar=False)\n",
    "plt.xlabel('Predicted')\n",
    "plt.ylabel('True')\n",
    "plt.title('Confusion Matrix')\n",
    "\n",
    "# save confusion matrix into file JPG\n",
    "plt.savefig(model_f + '/confusion_matrix.jpg', format='jpg')\n",
    "plt.show()\n",
    "plt.close()"
   ],
   "metadata": {
    "collapsed": false,
    "ExecuteTime": {
     "end_time": "2024-06-29T20:20:18.580795Z",
     "start_time": "2024-06-29T20:20:04.356718100Z"
    }
   },
   "id": "7c9f85f999081696"
  },
  {
   "cell_type": "code",
   "execution_count": 24,
   "outputs": [
    {
     "data": {
      "text/plain": "0.7606490872210954"
     },
     "execution_count": 24,
     "metadata": {},
     "output_type": "execute_result"
    }
   ],
   "source": [
    "accuracy_score(y_true, y_pred)"
   ],
   "metadata": {
    "collapsed": false,
    "ExecuteTime": {
     "end_time": "2024-06-29T20:20:18.606782200Z",
     "start_time": "2024-06-29T20:20:18.589851700Z"
    }
   },
   "id": "ed22dd7d1f1030b4"
  },
  {
   "cell_type": "code",
   "execution_count": null,
   "outputs": [],
   "source": [],
   "metadata": {
    "collapsed": false
   },
   "id": "f79e1d5a5de59c2d"
  }
 ],
 "metadata": {
  "kernelspec": {
   "display_name": "Python 3",
   "language": "python",
   "name": "python3"
  },
  "language_info": {
   "codemirror_mode": {
    "name": "ipython",
    "version": 2
   },
   "file_extension": ".py",
   "mimetype": "text/x-python",
   "name": "python",
   "nbconvert_exporter": "python",
   "pygments_lexer": "ipython2",
   "version": "2.7.6"
  }
 },
 "nbformat": 4,
 "nbformat_minor": 5
}
