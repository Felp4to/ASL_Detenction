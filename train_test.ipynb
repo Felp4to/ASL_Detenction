{
 "cells": [
  {
   "cell_type": "code",
   "execution_count": null,
   "outputs": [],
   "source": [
    "import keras.models\n",
    "!pip install sklearn tensorflow"
   ],
   "metadata": {
    "collapsed": false
   },
   "id": "ce6ea809c3b3d5cd"
  },
  {
   "cell_type": "code",
   "execution_count": 1,
   "outputs": [],
   "source": [
    "import numpy as np\n",
    "import os\n",
    "import constants as cs\n",
    "import yaml\n",
    "import globali as gg\n",
    "import datetime"
   ],
   "metadata": {
    "collapsed": false,
    "ExecuteTime": {
     "end_time": "2024-06-02T10:59:37.588664500Z",
     "start_time": "2024-06-02T10:59:37.332151600Z"
    }
   },
   "id": "initial_id"
  },
  {
   "cell_type": "code",
   "execution_count": 2,
   "outputs": [],
   "source": [
    "from sklearn.model_selection import train_test_split\n",
    "from tensorflow.keras.utils import to_categorical\n",
    "from sklearn.metrics import accuracy_score\n",
    "from tqdm import tqdm\n",
    "from matplotlib import pyplot as plt\n",
    "from sklearn.metrics import ConfusionMatrixDisplay\n",
    "from sklearn.metrics import confusion_matrix\n",
    "from tensorflow.keras.models import Sequential\n",
    "from tensorflow.keras.models import load_model\n",
    "from tensorflow.keras.callbacks import TensorBoard, EarlyStopping, ModelCheckpoint, CSVLogger\n",
    "from tensorflow.keras.layers import LSTM, GRU, Dense, Dropout, BatchNormalization\n",
    "from tensorflow.keras.regularizers import l2"
   ],
   "metadata": {
    "collapsed": false,
    "ExecuteTime": {
     "end_time": "2024-06-02T10:59:52.331347100Z",
     "start_time": "2024-06-02T10:59:37.724935900Z"
    }
   },
   "id": "321e257ce2920253"
  },
  {
   "cell_type": "markdown",
   "source": [
    "### Load configuration data"
   ],
   "metadata": {
    "collapsed": false
   },
   "id": "618ba84e4b3ffe8c"
  },
  {
   "cell_type": "code",
   "execution_count": 3,
   "outputs": [],
   "source": [
    "def read_yaml_fields():\n",
    "    with open(cs.YAMLFILE, 'r') as ff:\n",
    "        content = yaml.safe_load(ff)\n",
    "        a = set(content.get('actions', []))\n",
    "        c = content.get('counter', {})\n",
    "        return a, c\n",
    "\n",
    "# Load actions and counters\n",
    "gg.actions, gg.counters = read_yaml_fields()"
   ],
   "metadata": {
    "collapsed": false,
    "ExecuteTime": {
     "end_time": "2024-06-02T10:59:52.352421200Z",
     "start_time": "2024-06-02T10:59:52.331347100Z"
    }
   },
   "id": "8e3f5d6a45fd4e69"
  },
  {
   "cell_type": "code",
   "execution_count": 4,
   "outputs": [
    {
     "data": {
      "text/plain": "27"
     },
     "execution_count": 4,
     "metadata": {},
     "output_type": "execute_result"
    }
   ],
   "source": [
    "# display(len(gg.actions))\n",
    "# display(gg.actions)\n",
    "# display(gg.counters)\n",
    "label_map = {label:num for num, label in enumerate(gg.actions)}\n",
    "len(label_map)"
   ],
   "metadata": {
    "collapsed": false,
    "ExecuteTime": {
     "end_time": "2024-06-02T10:59:52.407852700Z",
     "start_time": "2024-06-02T10:59:52.358667200Z"
    }
   },
   "id": "8718105678c545c9"
  },
  {
   "cell_type": "markdown",
   "source": [
    "### Read keypoints and split train and test set"
   ],
   "metadata": {
    "collapsed": false
   },
   "id": "43e411d407d27675"
  },
  {
   "cell_type": "code",
   "execution_count": 5,
   "outputs": [
    {
     "name": "stderr",
     "output_type": "stream",
     "text": [
      "Processing Actions: 100%|██████████| 27/27 [00:50<00:00,  1.88s/it]\n"
     ]
    }
   ],
   "source": [
    "sequences, labels = [], []\n",
    "\n",
    "# get all the keypoints\n",
    "for action in tqdm(gg.actions, desc=\"Processing Actions\"):\n",
    "    for sequence in range(gg.counters[action]):\n",
    "        window = []\n",
    "        for frame_num in range(cs.NUM_FRAME):\n",
    "            res = np.load(os.path.join(cs.KEYPOINTS_FOLDER, action, str(sequence), \"{}.npy\".format(frame_num)))\n",
    "            window.append(res)\n",
    "        sequences.append(window)\n",
    "        labels.append(label_map[action])\n"
   ],
   "metadata": {
    "collapsed": false,
    "ExecuteTime": {
     "end_time": "2024-06-02T11:00:43.258287900Z",
     "start_time": "2024-06-02T10:59:52.375942500Z"
    }
   },
   "id": "ab4605957098bac"
  },
  {
   "cell_type": "code",
   "execution_count": 6,
   "outputs": [
    {
     "name": "stdout",
     "output_type": "stream",
     "text": [
      "(2700, 30, 1662)\n",
      "(2700,)\n",
      "[0, 0, 0, 0, 0, 0, 0, 0, 0, 0, 0, 0, 0, 0, 0, 0, 0, 0, 0, 0, 0, 0, 0, 0, 0, 0, 0, 0, 0, 0, 0, 0, 0, 0, 0, 0, 0, 0, 0, 0, 0, 0, 0, 0, 0, 0, 0, 0, 0, 0, 0, 0, 0, 0, 0, 0, 0, 0, 0, 0, 0, 0, 0, 0, 0, 0, 0, 0, 0, 0, 0, 0, 0, 0, 0, 0, 0, 0, 0, 0, 0, 0, 0, 0, 0, 0, 0, 0, 0, 0, 0, 0, 0, 0, 0, 0, 0, 0, 0, 0, 1, 1, 1, 1, 1, 1, 1, 1, 1, 1, 1, 1, 1, 1, 1, 1, 1, 1, 1, 1, 1, 1, 1, 1, 1, 1, 1, 1, 1, 1, 1, 1, 1, 1, 1, 1, 1, 1, 1, 1, 1, 1, 1, 1, 1, 1, 1, 1, 1, 1, 1, 1, 1, 1, 1, 1, 1, 1, 1, 1, 1, 1, 1, 1, 1, 1, 1, 1, 1, 1, 1, 1, 1, 1, 1, 1, 1, 1, 1, 1, 1, 1, 1, 1, 1, 1, 1, 1, 1, 1, 1, 1, 1, 1, 1, 1, 1, 1, 1, 1, 2, 2, 2, 2, 2, 2, 2, 2, 2, 2, 2, 2, 2, 2, 2, 2, 2, 2, 2, 2, 2, 2, 2, 2, 2, 2, 2, 2, 2, 2, 2, 2, 2, 2, 2, 2, 2, 2, 2, 2, 2, 2, 2, 2, 2, 2, 2, 2, 2, 2, 2, 2, 2, 2, 2, 2, 2, 2, 2, 2, 2, 2, 2, 2, 2, 2, 2, 2, 2, 2, 2, 2, 2, 2, 2, 2, 2, 2, 2, 2, 2, 2, 2, 2, 2, 2, 2, 2, 2, 2, 2, 2, 2, 2, 2, 2, 2, 2, 2, 2, 3, 3, 3, 3, 3, 3, 3, 3, 3, 3, 3, 3, 3, 3, 3, 3, 3, 3, 3, 3, 3, 3, 3, 3, 3, 3, 3, 3, 3, 3, 3, 3, 3, 3, 3, 3, 3, 3, 3, 3, 3, 3, 3, 3, 3, 3, 3, 3, 3, 3, 3, 3, 3, 3, 3, 3, 3, 3, 3, 3, 3, 3, 3, 3, 3, 3, 3, 3, 3, 3, 3, 3, 3, 3, 3, 3, 3, 3, 3, 3, 3, 3, 3, 3, 3, 3, 3, 3, 3, 3, 3, 3, 3, 3, 3, 3, 3, 3, 3, 3, 4, 4, 4, 4, 4, 4, 4, 4, 4, 4, 4, 4, 4, 4, 4, 4, 4, 4, 4, 4, 4, 4, 4, 4, 4, 4, 4, 4, 4, 4, 4, 4, 4, 4, 4, 4, 4, 4, 4, 4, 4, 4, 4, 4, 4, 4, 4, 4, 4, 4, 4, 4, 4, 4, 4, 4, 4, 4, 4, 4, 4, 4, 4, 4, 4, 4, 4, 4, 4, 4, 4, 4, 4, 4, 4, 4, 4, 4, 4, 4, 4, 4, 4, 4, 4, 4, 4, 4, 4, 4, 4, 4, 4, 4, 4, 4, 4, 4, 4, 4, 5, 5, 5, 5, 5, 5, 5, 5, 5, 5, 5, 5, 5, 5, 5, 5, 5, 5, 5, 5, 5, 5, 5, 5, 5, 5, 5, 5, 5, 5, 5, 5, 5, 5, 5, 5, 5, 5, 5, 5, 5, 5, 5, 5, 5, 5, 5, 5, 5, 5, 5, 5, 5, 5, 5, 5, 5, 5, 5, 5, 5, 5, 5, 5, 5, 5, 5, 5, 5, 5, 5, 5, 5, 5, 5, 5, 5, 5, 5, 5, 5, 5, 5, 5, 5, 5, 5, 5, 5, 5, 5, 5, 5, 5, 5, 5, 5, 5, 5, 5, 6, 6, 6, 6, 6, 6, 6, 6, 6, 6, 6, 6, 6, 6, 6, 6, 6, 6, 6, 6, 6, 6, 6, 6, 6, 6, 6, 6, 6, 6, 6, 6, 6, 6, 6, 6, 6, 6, 6, 6, 6, 6, 6, 6, 6, 6, 6, 6, 6, 6, 6, 6, 6, 6, 6, 6, 6, 6, 6, 6, 6, 6, 6, 6, 6, 6, 6, 6, 6, 6, 6, 6, 6, 6, 6, 6, 6, 6, 6, 6, 6, 6, 6, 6, 6, 6, 6, 6, 6, 6, 6, 6, 6, 6, 6, 6, 6, 6, 6, 6, 7, 7, 7, 7, 7, 7, 7, 7, 7, 7, 7, 7, 7, 7, 7, 7, 7, 7, 7, 7, 7, 7, 7, 7, 7, 7, 7, 7, 7, 7, 7, 7, 7, 7, 7, 7, 7, 7, 7, 7, 7, 7, 7, 7, 7, 7, 7, 7, 7, 7, 7, 7, 7, 7, 7, 7, 7, 7, 7, 7, 7, 7, 7, 7, 7, 7, 7, 7, 7, 7, 7, 7, 7, 7, 7, 7, 7, 7, 7, 7, 7, 7, 7, 7, 7, 7, 7, 7, 7, 7, 7, 7, 7, 7, 7, 7, 7, 7, 7, 7, 8, 8, 8, 8, 8, 8, 8, 8, 8, 8, 8, 8, 8, 8, 8, 8, 8, 8, 8, 8, 8, 8, 8, 8, 8, 8, 8, 8, 8, 8, 8, 8, 8, 8, 8, 8, 8, 8, 8, 8, 8, 8, 8, 8, 8, 8, 8, 8, 8, 8, 8, 8, 8, 8, 8, 8, 8, 8, 8, 8, 8, 8, 8, 8, 8, 8, 8, 8, 8, 8, 8, 8, 8, 8, 8, 8, 8, 8, 8, 8, 8, 8, 8, 8, 8, 8, 8, 8, 8, 8, 8, 8, 8, 8, 8, 8, 8, 8, 8, 8, 9, 9, 9, 9, 9, 9, 9, 9, 9, 9, 9, 9, 9, 9, 9, 9, 9, 9, 9, 9, 9, 9, 9, 9, 9, 9, 9, 9, 9, 9, 9, 9, 9, 9, 9, 9, 9, 9, 9, 9, 9, 9, 9, 9, 9, 9, 9, 9, 9, 9, 9, 9, 9, 9, 9, 9, 9, 9, 9, 9, 9, 9, 9, 9, 9, 9, 9, 9, 9, 9, 9, 9, 9, 9, 9, 9, 9, 9, 9, 9, 9, 9, 9, 9, 9, 9, 9, 9, 9, 9, 9, 9, 9, 9, 9, 9, 9, 9, 9, 9, 10, 10, 10, 10, 10, 10, 10, 10, 10, 10, 10, 10, 10, 10, 10, 10, 10, 10, 10, 10, 10, 10, 10, 10, 10, 10, 10, 10, 10, 10, 10, 10, 10, 10, 10, 10, 10, 10, 10, 10, 10, 10, 10, 10, 10, 10, 10, 10, 10, 10, 10, 10, 10, 10, 10, 10, 10, 10, 10, 10, 10, 10, 10, 10, 10, 10, 10, 10, 10, 10, 10, 10, 10, 10, 10, 10, 10, 10, 10, 10, 10, 10, 10, 10, 10, 10, 10, 10, 10, 10, 10, 10, 10, 10, 10, 10, 10, 10, 10, 10, 11, 11, 11, 11, 11, 11, 11, 11, 11, 11, 11, 11, 11, 11, 11, 11, 11, 11, 11, 11, 11, 11, 11, 11, 11, 11, 11, 11, 11, 11, 11, 11, 11, 11, 11, 11, 11, 11, 11, 11, 11, 11, 11, 11, 11, 11, 11, 11, 11, 11, 11, 11, 11, 11, 11, 11, 11, 11, 11, 11, 11, 11, 11, 11, 11, 11, 11, 11, 11, 11, 11, 11, 11, 11, 11, 11, 11, 11, 11, 11, 11, 11, 11, 11, 11, 11, 11, 11, 11, 11, 11, 11, 11, 11, 11, 11, 11, 11, 11, 11, 12, 12, 12, 12, 12, 12, 12, 12, 12, 12, 12, 12, 12, 12, 12, 12, 12, 12, 12, 12, 12, 12, 12, 12, 12, 12, 12, 12, 12, 12, 12, 12, 12, 12, 12, 12, 12, 12, 12, 12, 12, 12, 12, 12, 12, 12, 12, 12, 12, 12, 12, 12, 12, 12, 12, 12, 12, 12, 12, 12, 12, 12, 12, 12, 12, 12, 12, 12, 12, 12, 12, 12, 12, 12, 12, 12, 12, 12, 12, 12, 12, 12, 12, 12, 12, 12, 12, 12, 12, 12, 12, 12, 12, 12, 12, 12, 12, 12, 12, 12, 13, 13, 13, 13, 13, 13, 13, 13, 13, 13, 13, 13, 13, 13, 13, 13, 13, 13, 13, 13, 13, 13, 13, 13, 13, 13, 13, 13, 13, 13, 13, 13, 13, 13, 13, 13, 13, 13, 13, 13, 13, 13, 13, 13, 13, 13, 13, 13, 13, 13, 13, 13, 13, 13, 13, 13, 13, 13, 13, 13, 13, 13, 13, 13, 13, 13, 13, 13, 13, 13, 13, 13, 13, 13, 13, 13, 13, 13, 13, 13, 13, 13, 13, 13, 13, 13, 13, 13, 13, 13, 13, 13, 13, 13, 13, 13, 13, 13, 13, 13, 14, 14, 14, 14, 14, 14, 14, 14, 14, 14, 14, 14, 14, 14, 14, 14, 14, 14, 14, 14, 14, 14, 14, 14, 14, 14, 14, 14, 14, 14, 14, 14, 14, 14, 14, 14, 14, 14, 14, 14, 14, 14, 14, 14, 14, 14, 14, 14, 14, 14, 14, 14, 14, 14, 14, 14, 14, 14, 14, 14, 14, 14, 14, 14, 14, 14, 14, 14, 14, 14, 14, 14, 14, 14, 14, 14, 14, 14, 14, 14, 14, 14, 14, 14, 14, 14, 14, 14, 14, 14, 14, 14, 14, 14, 14, 14, 14, 14, 14, 14, 15, 15, 15, 15, 15, 15, 15, 15, 15, 15, 15, 15, 15, 15, 15, 15, 15, 15, 15, 15, 15, 15, 15, 15, 15, 15, 15, 15, 15, 15, 15, 15, 15, 15, 15, 15, 15, 15, 15, 15, 15, 15, 15, 15, 15, 15, 15, 15, 15, 15, 15, 15, 15, 15, 15, 15, 15, 15, 15, 15, 15, 15, 15, 15, 15, 15, 15, 15, 15, 15, 15, 15, 15, 15, 15, 15, 15, 15, 15, 15, 15, 15, 15, 15, 15, 15, 15, 15, 15, 15, 15, 15, 15, 15, 15, 15, 15, 15, 15, 15, 16, 16, 16, 16, 16, 16, 16, 16, 16, 16, 16, 16, 16, 16, 16, 16, 16, 16, 16, 16, 16, 16, 16, 16, 16, 16, 16, 16, 16, 16, 16, 16, 16, 16, 16, 16, 16, 16, 16, 16, 16, 16, 16, 16, 16, 16, 16, 16, 16, 16, 16, 16, 16, 16, 16, 16, 16, 16, 16, 16, 16, 16, 16, 16, 16, 16, 16, 16, 16, 16, 16, 16, 16, 16, 16, 16, 16, 16, 16, 16, 16, 16, 16, 16, 16, 16, 16, 16, 16, 16, 16, 16, 16, 16, 16, 16, 16, 16, 16, 16, 17, 17, 17, 17, 17, 17, 17, 17, 17, 17, 17, 17, 17, 17, 17, 17, 17, 17, 17, 17, 17, 17, 17, 17, 17, 17, 17, 17, 17, 17, 17, 17, 17, 17, 17, 17, 17, 17, 17, 17, 17, 17, 17, 17, 17, 17, 17, 17, 17, 17, 17, 17, 17, 17, 17, 17, 17, 17, 17, 17, 17, 17, 17, 17, 17, 17, 17, 17, 17, 17, 17, 17, 17, 17, 17, 17, 17, 17, 17, 17, 17, 17, 17, 17, 17, 17, 17, 17, 17, 17, 17, 17, 17, 17, 17, 17, 17, 17, 17, 17, 18, 18, 18, 18, 18, 18, 18, 18, 18, 18, 18, 18, 18, 18, 18, 18, 18, 18, 18, 18, 18, 18, 18, 18, 18, 18, 18, 18, 18, 18, 18, 18, 18, 18, 18, 18, 18, 18, 18, 18, 18, 18, 18, 18, 18, 18, 18, 18, 18, 18, 18, 18, 18, 18, 18, 18, 18, 18, 18, 18, 18, 18, 18, 18, 18, 18, 18, 18, 18, 18, 18, 18, 18, 18, 18, 18, 18, 18, 18, 18, 18, 18, 18, 18, 18, 18, 18, 18, 18, 18, 18, 18, 18, 18, 18, 18, 18, 18, 18, 18, 19, 19, 19, 19, 19, 19, 19, 19, 19, 19, 19, 19, 19, 19, 19, 19, 19, 19, 19, 19, 19, 19, 19, 19, 19, 19, 19, 19, 19, 19, 19, 19, 19, 19, 19, 19, 19, 19, 19, 19, 19, 19, 19, 19, 19, 19, 19, 19, 19, 19, 19, 19, 19, 19, 19, 19, 19, 19, 19, 19, 19, 19, 19, 19, 19, 19, 19, 19, 19, 19, 19, 19, 19, 19, 19, 19, 19, 19, 19, 19, 19, 19, 19, 19, 19, 19, 19, 19, 19, 19, 19, 19, 19, 19, 19, 19, 19, 19, 19, 19, 20, 20, 20, 20, 20, 20, 20, 20, 20, 20, 20, 20, 20, 20, 20, 20, 20, 20, 20, 20, 20, 20, 20, 20, 20, 20, 20, 20, 20, 20, 20, 20, 20, 20, 20, 20, 20, 20, 20, 20, 20, 20, 20, 20, 20, 20, 20, 20, 20, 20, 20, 20, 20, 20, 20, 20, 20, 20, 20, 20, 20, 20, 20, 20, 20, 20, 20, 20, 20, 20, 20, 20, 20, 20, 20, 20, 20, 20, 20, 20, 20, 20, 20, 20, 20, 20, 20, 20, 20, 20, 20, 20, 20, 20, 20, 20, 20, 20, 20, 20, 21, 21, 21, 21, 21, 21, 21, 21, 21, 21, 21, 21, 21, 21, 21, 21, 21, 21, 21, 21, 21, 21, 21, 21, 21, 21, 21, 21, 21, 21, 21, 21, 21, 21, 21, 21, 21, 21, 21, 21, 21, 21, 21, 21, 21, 21, 21, 21, 21, 21, 21, 21, 21, 21, 21, 21, 21, 21, 21, 21, 21, 21, 21, 21, 21, 21, 21, 21, 21, 21, 21, 21, 21, 21, 21, 21, 21, 21, 21, 21, 21, 21, 21, 21, 21, 21, 21, 21, 21, 21, 21, 21, 21, 21, 21, 21, 21, 21, 21, 21, 22, 22, 22, 22, 22, 22, 22, 22, 22, 22, 22, 22, 22, 22, 22, 22, 22, 22, 22, 22, 22, 22, 22, 22, 22, 22, 22, 22, 22, 22, 22, 22, 22, 22, 22, 22, 22, 22, 22, 22, 22, 22, 22, 22, 22, 22, 22, 22, 22, 22, 22, 22, 22, 22, 22, 22, 22, 22, 22, 22, 22, 22, 22, 22, 22, 22, 22, 22, 22, 22, 22, 22, 22, 22, 22, 22, 22, 22, 22, 22, 22, 22, 22, 22, 22, 22, 22, 22, 22, 22, 22, 22, 22, 22, 22, 22, 22, 22, 22, 22, 23, 23, 23, 23, 23, 23, 23, 23, 23, 23, 23, 23, 23, 23, 23, 23, 23, 23, 23, 23, 23, 23, 23, 23, 23, 23, 23, 23, 23, 23, 23, 23, 23, 23, 23, 23, 23, 23, 23, 23, 23, 23, 23, 23, 23, 23, 23, 23, 23, 23, 23, 23, 23, 23, 23, 23, 23, 23, 23, 23, 23, 23, 23, 23, 23, 23, 23, 23, 23, 23, 23, 23, 23, 23, 23, 23, 23, 23, 23, 23, 23, 23, 23, 23, 23, 23, 23, 23, 23, 23, 23, 23, 23, 23, 23, 23, 23, 23, 23, 23, 24, 24, 24, 24, 24, 24, 24, 24, 24, 24, 24, 24, 24, 24, 24, 24, 24, 24, 24, 24, 24, 24, 24, 24, 24, 24, 24, 24, 24, 24, 24, 24, 24, 24, 24, 24, 24, 24, 24, 24, 24, 24, 24, 24, 24, 24, 24, 24, 24, 24, 24, 24, 24, 24, 24, 24, 24, 24, 24, 24, 24, 24, 24, 24, 24, 24, 24, 24, 24, 24, 24, 24, 24, 24, 24, 24, 24, 24, 24, 24, 24, 24, 24, 24, 24, 24, 24, 24, 24, 24, 24, 24, 24, 24, 24, 24, 24, 24, 24, 24, 25, 25, 25, 25, 25, 25, 25, 25, 25, 25, 25, 25, 25, 25, 25, 25, 25, 25, 25, 25, 25, 25, 25, 25, 25, 25, 25, 25, 25, 25, 25, 25, 25, 25, 25, 25, 25, 25, 25, 25, 25, 25, 25, 25, 25, 25, 25, 25, 25, 25, 25, 25, 25, 25, 25, 25, 25, 25, 25, 25, 25, 25, 25, 25, 25, 25, 25, 25, 25, 25, 25, 25, 25, 25, 25, 25, 25, 25, 25, 25, 25, 25, 25, 25, 25, 25, 25, 25, 25, 25, 25, 25, 25, 25, 25, 25, 25, 25, 25, 25, 26, 26, 26, 26, 26, 26, 26, 26, 26, 26, 26, 26, 26, 26, 26, 26, 26, 26, 26, 26, 26, 26, 26, 26, 26, 26, 26, 26, 26, 26, 26, 26, 26, 26, 26, 26, 26, 26, 26, 26, 26, 26, 26, 26, 26, 26, 26, 26, 26, 26, 26, 26, 26, 26, 26, 26, 26, 26, 26, 26, 26, 26, 26, 26, 26, 26, 26, 26, 26, 26, 26, 26, 26, 26, 26, 26, 26, 26, 26, 26, 26, 26, 26, 26, 26, 26, 26, 26, 26, 26, 26, 26, 26, 26, 26, 26, 26, 26, 26, 26]\n"
     ]
    }
   ],
   "source": [
    "print(np.array(sequences).shape)       # 15 videos, 30 frames, 1662 features\n",
    "print(np.array(labels).shape)\n",
    "print(labels)"
   ],
   "metadata": {
    "collapsed": false,
    "ExecuteTime": {
     "end_time": "2024-06-02T11:00:43.642369700Z",
     "start_time": "2024-06-02T11:00:43.266442400Z"
    }
   },
   "id": "f7e09637e9a16f14"
  },
  {
   "cell_type": "code",
   "execution_count": 7,
   "outputs": [
    {
     "data": {
      "text/plain": "(2700, 30, 1662)"
     },
     "execution_count": 7,
     "metadata": {},
     "output_type": "execute_result"
    }
   ],
   "source": [
    "X = np.array(sequences)\n",
    "X.shape"
   ],
   "metadata": {
    "collapsed": false,
    "ExecuteTime": {
     "end_time": "2024-06-02T11:00:43.983535600Z",
     "start_time": "2024-06-02T11:00:43.629297900Z"
    }
   },
   "id": "9ffadaf6d87150fd"
  },
  {
   "cell_type": "code",
   "execution_count": 8,
   "outputs": [
    {
     "data": {
      "text/plain": "array([[1, 0, 0, ..., 0, 0, 0],\n       [1, 0, 0, ..., 0, 0, 0],\n       [1, 0, 0, ..., 0, 0, 0],\n       ...,\n       [0, 0, 0, ..., 0, 0, 1],\n       [0, 0, 0, ..., 0, 0, 1],\n       [0, 0, 0, ..., 0, 0, 1]])"
     },
     "execution_count": 8,
     "metadata": {},
     "output_type": "execute_result"
    }
   ],
   "source": [
    "y = to_categorical(labels).astype(int)\n",
    "y"
   ],
   "metadata": {
    "collapsed": false,
    "ExecuteTime": {
     "end_time": "2024-06-02T11:00:43.984799Z",
     "start_time": "2024-06-02T11:00:43.976171900Z"
    }
   },
   "id": "6e8c937049e38080"
  },
  {
   "cell_type": "code",
   "execution_count": 9,
   "outputs": [
    {
     "name": "stdout",
     "output_type": "stream",
     "text": [
      "(2565, 27)\n",
      "(135, 27)\n"
     ]
    }
   ],
   "source": [
    "X_train, X_test, y_train, y_test = train_test_split(X, y, test_size=0.05)\n",
    "print(y_train.shape)\n",
    "print(y_test.shape)"
   ],
   "metadata": {
    "collapsed": false,
    "ExecuteTime": {
     "end_time": "2024-06-02T11:00:44.343529900Z",
     "start_time": "2024-06-02T11:00:43.987296Z"
    }
   },
   "id": "1d8011c3059222b5"
  },
  {
   "cell_type": "markdown",
   "source": [
    "### Build and Train LSTM Natural Network"
   ],
   "metadata": {
    "collapsed": false
   },
   "id": "205e0a7e3b67012d"
  },
  {
   "cell_type": "code",
   "execution_count": 17,
   "outputs": [],
   "source": [
    "def create_folder_for_training(number):\n",
    "    # create folders\n",
    "    log_f = os.path.join(cs.LOGS_FOLDER, 'log_' + str(number), '')\n",
    "    # log_f = os.path.join(os.getcwd(), 'logs')\n",
    "    #log_f = \"\"\n",
    "    # log_f = cs.LOGS_FOLDER + \"\" + \"log_\" + str(number)\n",
    "    model_f = os.path.join(cs.MODELS_FOLDER, 'model_' + str(number))\n",
    "    # train_f = os.path.join(cs.TRAINING_FOLDER, 'training_' + str(number))\n",
    "    os.makedirs(log_f, exist_ok=True)\n",
    "    os.makedirs(model_f, exist_ok=True)\n",
    "    log_f = \"D:\\logs\" # + \"log_\" + str(number)\n",
    "    return log_f, model_f"
   ],
   "metadata": {
    "collapsed": false,
    "ExecuteTime": {
     "end_time": "2024-06-02T11:07:17.516709100Z",
     "start_time": "2024-06-02T11:07:17.498739700Z"
    }
   },
   "id": "6cb0bcd2b19391c5"
  },
  {
   "cell_type": "code",
   "execution_count": 42,
   "outputs": [
    {
     "data": {
      "text/plain": "'D:\\\\Università\\\\Magistrale_Roma_Tre\\\\Deep_Learning\\\\Progetto\\\\PROGETTO\\\\AslDetenction'"
     },
     "execution_count": 42,
     "metadata": {},
     "output_type": "execute_result"
    }
   ],
   "source": [
    "os.getcwd()"
   ],
   "metadata": {
    "collapsed": false,
    "ExecuteTime": {
     "end_time": "2024-06-02T10:55:28.428333500Z",
     "start_time": "2024-06-02T10:55:28.405985100Z"
    }
   },
   "id": "7b85507287a1a30c"
  },
  {
   "cell_type": "code",
   "execution_count": 18,
   "outputs": [],
   "source": [
    "log_f, model_f = create_folder_for_training(0)"
   ],
   "metadata": {
    "collapsed": false,
    "ExecuteTime": {
     "end_time": "2024-06-02T11:07:19.870923500Z",
     "start_time": "2024-06-02T11:07:19.845344600Z"
    }
   },
   "id": "97e2b33fad53052e"
  },
  {
   "cell_type": "code",
   "execution_count": 19,
   "outputs": [],
   "source": [
    "# log\n",
    "tensorboard_callback = TensorBoard(log_dir=log_f, histogram_freq=1)\n",
    "training_log = os.path.join(log_f, 'train_log.csv')\n",
    "csv_logger = CSVLogger(training_log, append=True)"
   ],
   "metadata": {
    "collapsed": false,
    "ExecuteTime": {
     "end_time": "2024-06-02T11:07:21.627449600Z",
     "start_time": "2024-06-02T11:07:21.607299900Z"
    }
   },
   "id": "858434da88fb9b50"
  },
  {
   "cell_type": "code",
   "execution_count": 13,
   "outputs": [
    {
     "name": "stdout",
     "output_type": "stream",
     "text": [
      "27\n"
     ]
    }
   ],
   "source": [
    "# LSTM\n",
    "np_actions = np.array(list(gg.actions))\n",
    "print(np_actions.shape[0])\n",
    "model = Sequential()\n",
    "model.add(LSTM(64, return_sequences=True, activation='tanh', input_shape=(30, 1662)))\n",
    "model.add(Dropout(0.2))\n",
    "model.add(LSTM(128, return_sequences=True, activation='tanh'))\n",
    "model.add(Dropout(0.2))\n",
    "model.add(LSTM(64, return_sequences=False, activation='tanh'))\n",
    "model.add(BatchNormalization())\n",
    "model.add(Dense(64, activation='relu', kernel_regularizer=l2(0.01)))\n",
    "model.add(Dropout(0.5))\n",
    "model.add(Dense(32, activation='relu', kernel_regularizer=l2(0.01)))\n",
    "model.add(Dropout(0.5))\n",
    "model.add(Dense(np_actions.shape[0], activation='softmax'))\n"
   ],
   "metadata": {
    "collapsed": false,
    "ExecuteTime": {
     "end_time": "2024-06-01T18:30:50.855723800Z",
     "start_time": "2024-06-01T18:30:49.204777100Z"
    }
   },
   "id": "5f4554201e7ac0cc"
  },
  {
   "cell_type": "code",
   "execution_count": 32,
   "outputs": [
    {
     "ename": "ValueError",
     "evalue": "Unable to load weights saved in HDF5 format into a subclassed Model which has not created its variables yet. Call the Model first, then load the weights.",
     "output_type": "error",
     "traceback": [
      "\u001B[1;31m---------------------------------------------------------------------------\u001B[0m",
      "\u001B[1;31mValueError\u001B[0m                                Traceback (most recent call last)",
      "Cell \u001B[1;32mIn[32], line 3\u001B[0m\n\u001B[0;32m      1\u001B[0m \u001B[38;5;28;01mdel\u001B[39;00m model\n\u001B[0;32m      2\u001B[0m model \u001B[38;5;241m=\u001B[39m Sequential()\n\u001B[1;32m----> 3\u001B[0m model \u001B[38;5;241m=\u001B[39m model\u001B[38;5;241m.\u001B[39mload_weights(\u001B[38;5;124m'\u001B[39m\u001B[38;5;124m./models/old/final_model.h5\u001B[39m\u001B[38;5;124m'\u001B[39m)\n",
      "File \u001B[1;32m~\\AppData\\Roaming\\Python\\Python311\\site-packages\\keras\\src\\utils\\traceback_utils.py:70\u001B[0m, in \u001B[0;36mfilter_traceback.<locals>.error_handler\u001B[1;34m(*args, **kwargs)\u001B[0m\n\u001B[0;32m     67\u001B[0m     filtered_tb \u001B[38;5;241m=\u001B[39m _process_traceback_frames(e\u001B[38;5;241m.\u001B[39m__traceback__)\n\u001B[0;32m     68\u001B[0m     \u001B[38;5;66;03m# To get the full stack trace, call:\u001B[39;00m\n\u001B[0;32m     69\u001B[0m     \u001B[38;5;66;03m# `tf.debugging.disable_traceback_filtering()`\u001B[39;00m\n\u001B[1;32m---> 70\u001B[0m     \u001B[38;5;28;01mraise\u001B[39;00m e\u001B[38;5;241m.\u001B[39mwith_traceback(filtered_tb) \u001B[38;5;28;01mfrom\u001B[39;00m \u001B[38;5;28;01mNone\u001B[39;00m\n\u001B[0;32m     71\u001B[0m \u001B[38;5;28;01mfinally\u001B[39;00m:\n\u001B[0;32m     72\u001B[0m     \u001B[38;5;28;01mdel\u001B[39;00m filtered_tb\n",
      "File \u001B[1;32m~\\AppData\\Roaming\\Python\\Python311\\site-packages\\keras\\src\\saving\\legacy\\save.py:480\u001B[0m, in \u001B[0;36mload_weights\u001B[1;34m(model, filepath, by_name, skip_mismatch, options)\u001B[0m\n\u001B[0;32m    475\u001B[0m     \u001B[38;5;28;01mraise\u001B[39;00m \u001B[38;5;167;01mImportError\u001B[39;00m(\n\u001B[0;32m    476\u001B[0m         \u001B[38;5;124m\"\u001B[39m\u001B[38;5;124m`load_weights` requires h5py package when loading weights \u001B[39m\u001B[38;5;124m\"\u001B[39m\n\u001B[0;32m    477\u001B[0m         \u001B[38;5;124m\"\u001B[39m\u001B[38;5;124mfrom HDF5. Try installing h5py.\u001B[39m\u001B[38;5;124m\"\u001B[39m\n\u001B[0;32m    478\u001B[0m     )\n\u001B[0;32m    479\u001B[0m \u001B[38;5;28;01mif\u001B[39;00m \u001B[38;5;129;01mnot\u001B[39;00m model\u001B[38;5;241m.\u001B[39m_is_graph_network \u001B[38;5;129;01mand\u001B[39;00m \u001B[38;5;129;01mnot\u001B[39;00m model\u001B[38;5;241m.\u001B[39mbuilt:\n\u001B[1;32m--> 480\u001B[0m     \u001B[38;5;28;01mraise\u001B[39;00m \u001B[38;5;167;01mValueError\u001B[39;00m(\n\u001B[0;32m    481\u001B[0m         \u001B[38;5;124m\"\u001B[39m\u001B[38;5;124mUnable to load weights saved in HDF5 format into a \u001B[39m\u001B[38;5;124m\"\u001B[39m\n\u001B[0;32m    482\u001B[0m         \u001B[38;5;124m\"\u001B[39m\u001B[38;5;124msubclassed Model which has not created its variables yet. \u001B[39m\u001B[38;5;124m\"\u001B[39m\n\u001B[0;32m    483\u001B[0m         \u001B[38;5;124m\"\u001B[39m\u001B[38;5;124mCall the Model first, then load the weights.\u001B[39m\u001B[38;5;124m\"\u001B[39m\n\u001B[0;32m    484\u001B[0m     )\n\u001B[0;32m    485\u001B[0m model\u001B[38;5;241m.\u001B[39m_assert_weights_created()\n\u001B[0;32m    486\u001B[0m \u001B[38;5;28;01mwith\u001B[39;00m h5py\u001B[38;5;241m.\u001B[39mFile(filepath, \u001B[38;5;124m\"\u001B[39m\u001B[38;5;124mr\u001B[39m\u001B[38;5;124m\"\u001B[39m) \u001B[38;5;28;01mas\u001B[39;00m f:\n",
      "\u001B[1;31mValueError\u001B[0m: Unable to load weights saved in HDF5 format into a subclassed Model which has not created its variables yet. Call the Model first, then load the weights."
     ]
    }
   ],
   "source": [
    "# LOAD MODEL\n",
    "\n",
    "# del model\n",
    "model = Sequential()\n",
    "model = model.load_weights('./models/old/final_model.h5')\n"
   ],
   "metadata": {
    "collapsed": false,
    "ExecuteTime": {
     "end_time": "2024-05-31T13:24:15.805365600Z",
     "start_time": "2024-05-31T13:24:15.670717100Z"
    }
   },
   "id": "8d5f5c9fc0590c2f"
  },
  {
   "cell_type": "code",
   "execution_count": 20,
   "outputs": [
    {
     "name": "stdout",
     "output_type": "stream",
     "text": [
      "27\n"
     ]
    }
   ],
   "source": [
    "# GRU\n",
    "\n",
    "np_actions = np.array(list(gg.actions))\n",
    "print(np_actions.shape[0])\n",
    "model = Sequential()\n",
    "model.add(GRU(64, return_sequences=True, activation='tanh', input_shape=(30, 1662)))\n",
    "model.add(Dropout(0.2))\n",
    "model.add(GRU(128, return_sequences=True, activation='tanh'))\n",
    "model.add(Dropout(0.2))\n",
    "model.add(GRU(64, return_sequences=False, activation='tanh'))\n",
    "model.add(BatchNormalization())\n",
    "model.add(Dense(64, activation='relu', kernel_regularizer=l2(0.01)))\n",
    "model.add(Dropout(0.5))\n",
    "model.add(Dense(32, activation='relu', kernel_regularizer=l2(0.01)))\n",
    "model.add(Dropout(0.5))\n",
    "model.add(Dense(np_actions.shape[0], activation='softmax'))\n"
   ],
   "metadata": {
    "collapsed": false,
    "ExecuteTime": {
     "end_time": "2024-06-02T11:07:26.223886300Z",
     "start_time": "2024-06-02T11:07:24.076105600Z"
    }
   },
   "id": "cee9f362babf91a2"
  },
  {
   "cell_type": "code",
   "execution_count": 23,
   "outputs": [],
   "source": [
    "# TRANSFORMERS\n"
   ],
   "metadata": {
    "collapsed": false,
    "ExecuteTime": {
     "end_time": "2024-05-31T10:02:03.712169300Z",
     "start_time": "2024-05-31T10:02:03.692013900Z"
    }
   },
   "id": "59efc6036b7352a3"
  },
  {
   "cell_type": "code",
   "execution_count": 70,
   "outputs": [
    {
     "name": "stdout",
     "output_type": "stream",
     "text": [
      "27\n"
     ]
    }
   ],
   "source": [
    "# Old LSTM\n",
    "\n",
    "np_actions = np.array(list(gg.actions))\n",
    "print(np_actions.shape[0])\n",
    "model = Sequential()\n",
    "model.add(LSTM(64, return_sequences=True, activation='relu', input_shape=(30,1662)))\n",
    "model.add(LSTM(128, return_sequences=True, activation='relu'))\n",
    "model.add(LSTM(64, return_sequences=False, activation='relu'))\n",
    "model.add(Dense(64, activation='relu'))\n",
    "model.add(Dense(32, activation='relu'))\n",
    "model.add(Dense(np_actions.shape[0], activation='softmax'))"
   ],
   "metadata": {
    "collapsed": false,
    "ExecuteTime": {
     "end_time": "2024-06-01T08:48:37.535205100Z",
     "start_time": "2024-06-01T08:48:37.086655600Z"
    }
   },
   "id": "442c822b87caafee"
  },
  {
   "cell_type": "code",
   "execution_count": 21,
   "outputs": [
    {
     "name": "stdout",
     "output_type": "stream",
     "text": [
      "Epoch 1/3000\n",
      "81/81 [==============================] - 19s 90ms/step - loss: 4.5323 - categorical_accuracy: 0.0394\n",
      "Epoch 2/3000\n",
      "81/81 [==============================] - 9s 106ms/step - loss: 4.1371 - categorical_accuracy: 0.0398\n",
      "Epoch 3/3000\n",
      "81/81 [==============================] - 9s 113ms/step - loss: 3.9415 - categorical_accuracy: 0.0480\n",
      "Epoch 4/3000\n",
      "81/81 [==============================] - 7s 88ms/step - loss: 3.7511 - categorical_accuracy: 0.0717\n",
      "Epoch 5/3000\n",
      "81/81 [==============================] - 7s 85ms/step - loss: 3.6033 - categorical_accuracy: 0.0749\n",
      "Epoch 6/3000\n",
      "81/81 [==============================] - 7s 84ms/step - loss: 3.4854 - categorical_accuracy: 0.0877\n",
      "Epoch 7/3000\n",
      "81/81 [==============================] - 7s 83ms/step - loss: 3.3270 - categorical_accuracy: 0.0967\n",
      "Epoch 8/3000\n",
      "81/81 [==============================] - 7s 83ms/step - loss: 3.2332 - categorical_accuracy: 0.0967\n",
      "Epoch 9/3000\n",
      "81/81 [==============================] - 7s 81ms/step - loss: 3.1610 - categorical_accuracy: 0.1111\n",
      "Epoch 10/3000\n",
      "81/81 [==============================] - 6s 80ms/step - loss: 3.0726 - categorical_accuracy: 0.0990\n",
      "Epoch 11/3000\n",
      "81/81 [==============================] - 7s 85ms/step - loss: 3.0191 - categorical_accuracy: 0.1138\n",
      "Epoch 12/3000\n",
      "81/81 [==============================] - 7s 85ms/step - loss: 2.9449 - categorical_accuracy: 0.1092\n",
      "Epoch 13/3000\n",
      "81/81 [==============================] - 7s 87ms/step - loss: 2.8853 - categorical_accuracy: 0.1123\n",
      "Epoch 14/3000\n",
      "81/81 [==============================] - 7s 86ms/step - loss: 2.8204 - categorical_accuracy: 0.1251\n",
      "Epoch 15/3000\n",
      "81/81 [==============================] - 7s 83ms/step - loss: 2.7940 - categorical_accuracy: 0.1201\n",
      "Epoch 16/3000\n",
      "81/81 [==============================] - 7s 83ms/step - loss: 2.7366 - categorical_accuracy: 0.1349\n",
      "Epoch 17/3000\n",
      "81/81 [==============================] - 7s 87ms/step - loss: 2.7030 - categorical_accuracy: 0.1462\n",
      "Epoch 18/3000\n",
      "81/81 [==============================] - 7s 84ms/step - loss: 2.7299 - categorical_accuracy: 0.1427\n",
      "Epoch 19/3000\n",
      "81/81 [==============================] - 7s 87ms/step - loss: 2.6864 - categorical_accuracy: 0.1419\n",
      "Epoch 20/3000\n",
      "81/81 [==============================] - 7s 84ms/step - loss: 2.6468 - categorical_accuracy: 0.1614\n",
      "Epoch 21/3000\n",
      "81/81 [==============================] - 7s 84ms/step - loss: 2.6099 - categorical_accuracy: 0.1567\n",
      "Epoch 22/3000\n",
      "81/81 [==============================] - 7s 84ms/step - loss: 2.5803 - categorical_accuracy: 0.1657\n",
      "Epoch 23/3000\n",
      "81/81 [==============================] - 7s 85ms/step - loss: 2.5874 - categorical_accuracy: 0.1676\n",
      "Epoch 24/3000\n",
      "81/81 [==============================] - 7s 88ms/step - loss: 2.5578 - categorical_accuracy: 0.1825\n",
      "Epoch 25/3000\n",
      "81/81 [==============================] - 7s 88ms/step - loss: 2.5467 - categorical_accuracy: 0.1587\n",
      "Epoch 26/3000\n",
      "81/81 [==============================] - 7s 85ms/step - loss: 2.5276 - categorical_accuracy: 0.1661\n",
      "Epoch 27/3000\n",
      "81/81 [==============================] - 7s 89ms/step - loss: 2.6180 - categorical_accuracy: 0.1524\n",
      "Epoch 28/3000\n",
      "81/81 [==============================] - 7s 83ms/step - loss: 2.5908 - categorical_accuracy: 0.1556\n",
      "Epoch 29/3000\n",
      "81/81 [==============================] - 7s 84ms/step - loss: 2.5426 - categorical_accuracy: 0.1556\n",
      "Epoch 30/3000\n",
      "81/81 [==============================] - 7s 84ms/step - loss: 2.5419 - categorical_accuracy: 0.1540\n",
      "Epoch 31/3000\n",
      "81/81 [==============================] - 7s 83ms/step - loss: 2.5875 - categorical_accuracy: 0.1571\n",
      "Epoch 32/3000\n",
      "81/81 [==============================] - 7s 84ms/step - loss: 2.4882 - categorical_accuracy: 0.1715\n",
      "Epoch 33/3000\n",
      "81/81 [==============================] - 7s 84ms/step - loss: 2.4631 - categorical_accuracy: 0.1754\n",
      "Epoch 34/3000\n",
      "81/81 [==============================] - 7s 84ms/step - loss: 2.4661 - categorical_accuracy: 0.1700\n",
      "Epoch 35/3000\n",
      "81/81 [==============================] - 7s 89ms/step - loss: 2.4458 - categorical_accuracy: 0.1684\n",
      "Epoch 36/3000\n",
      "81/81 [==============================] - 7s 85ms/step - loss: 2.4078 - categorical_accuracy: 0.1996\n",
      "Epoch 37/3000\n",
      "81/81 [==============================] - 7s 86ms/step - loss: 2.6230 - categorical_accuracy: 0.1559\n",
      "Epoch 38/3000\n",
      "81/81 [==============================] - 7s 86ms/step - loss: 2.4067 - categorical_accuracy: 0.1957\n",
      "Epoch 39/3000\n",
      "81/81 [==============================] - 8s 93ms/step - loss: 2.3787 - categorical_accuracy: 0.1973\n",
      "Epoch 40/3000\n",
      "81/81 [==============================] - 7s 92ms/step - loss: 2.3693 - categorical_accuracy: 0.2090\n",
      "Epoch 41/3000\n",
      "81/81 [==============================] - 7s 89ms/step - loss: 2.3211 - categorical_accuracy: 0.2183\n",
      "Epoch 42/3000\n",
      "81/81 [==============================] - 7s 91ms/step - loss: 2.3222 - categorical_accuracy: 0.2094\n",
      "Epoch 43/3000\n",
      "81/81 [==============================] - 7s 86ms/step - loss: 2.3446 - categorical_accuracy: 0.2074\n",
      "Epoch 44/3000\n",
      "81/81 [==============================] - 7s 84ms/step - loss: 2.3468 - categorical_accuracy: 0.2058\n",
      "Epoch 45/3000\n",
      "81/81 [==============================] - 7s 84ms/step - loss: 2.2935 - categorical_accuracy: 0.2203\n",
      "Epoch 46/3000\n",
      "81/81 [==============================] - 7s 91ms/step - loss: 2.3188 - categorical_accuracy: 0.2125\n",
      "Epoch 47/3000\n",
      "81/81 [==============================] - 7s 84ms/step - loss: 2.3460 - categorical_accuracy: 0.2109\n",
      "Epoch 48/3000\n",
      "81/81 [==============================] - 7s 86ms/step - loss: 2.2797 - categorical_accuracy: 0.2172\n",
      "Epoch 49/3000\n",
      "81/81 [==============================] - 7s 87ms/step - loss: 2.2445 - categorical_accuracy: 0.2370\n",
      "Epoch 50/3000\n",
      "81/81 [==============================] - 7s 85ms/step - loss: 2.2340 - categorical_accuracy: 0.2382\n",
      "Epoch 51/3000\n",
      "81/81 [==============================] - 7s 84ms/step - loss: 2.2616 - categorical_accuracy: 0.2335\n",
      "Epoch 52/3000\n",
      "81/81 [==============================] - 7s 85ms/step - loss: 2.2443 - categorical_accuracy: 0.2300\n",
      "Epoch 53/3000\n",
      "81/81 [==============================] - 7s 85ms/step - loss: 2.1831 - categorical_accuracy: 0.2495\n",
      "Epoch 54/3000\n",
      "81/81 [==============================] - 7s 84ms/step - loss: 2.2580 - categorical_accuracy: 0.2273\n",
      "Epoch 55/3000\n",
      "81/81 [==============================] - 7s 85ms/step - loss: 2.1953 - categorical_accuracy: 0.2515\n",
      "Epoch 56/3000\n",
      "81/81 [==============================] - 7s 89ms/step - loss: 2.1362 - categorical_accuracy: 0.2803\n",
      "Epoch 57/3000\n",
      "81/81 [==============================] - 7s 89ms/step - loss: 2.1755 - categorical_accuracy: 0.2632\n",
      "Epoch 58/3000\n",
      "81/81 [==============================] - 7s 86ms/step - loss: 2.1257 - categorical_accuracy: 0.2573\n",
      "Epoch 59/3000\n",
      "81/81 [==============================] - 7s 85ms/step - loss: 2.0999 - categorical_accuracy: 0.2838\n",
      "Epoch 60/3000\n",
      "81/81 [==============================] - 7s 84ms/step - loss: 2.1081 - categorical_accuracy: 0.2741\n",
      "Epoch 61/3000\n",
      "81/81 [==============================] - 7s 84ms/step - loss: 2.1369 - categorical_accuracy: 0.2823\n",
      "Epoch 62/3000\n",
      "81/81 [==============================] - 7s 87ms/step - loss: 2.0995 - categorical_accuracy: 0.2846\n",
      "Epoch 63/3000\n",
      "81/81 [==============================] - 7s 89ms/step - loss: 2.0931 - categorical_accuracy: 0.2967\n",
      "Epoch 64/3000\n",
      "81/81 [==============================] - 7s 85ms/step - loss: 2.0378 - categorical_accuracy: 0.2920\n",
      "Epoch 65/3000\n",
      "81/81 [==============================] - 7s 85ms/step - loss: 2.0280 - categorical_accuracy: 0.3002\n",
      "Epoch 66/3000\n",
      "81/81 [==============================] - 7s 84ms/step - loss: 2.0618 - categorical_accuracy: 0.2943\n",
      "Epoch 67/3000\n",
      "81/81 [==============================] - 7s 84ms/step - loss: 2.0381 - categorical_accuracy: 0.2920\n",
      "Epoch 68/3000\n",
      "81/81 [==============================] - 7s 85ms/step - loss: 2.0184 - categorical_accuracy: 0.3033\n",
      "Epoch 69/3000\n",
      "81/81 [==============================] - 7s 86ms/step - loss: 1.9837 - categorical_accuracy: 0.3080\n",
      "Epoch 70/3000\n",
      "81/81 [==============================] - 7s 89ms/step - loss: 1.9818 - categorical_accuracy: 0.3018\n",
      "Epoch 71/3000\n",
      "81/81 [==============================] - 7s 85ms/step - loss: 1.9929 - categorical_accuracy: 0.3189\n",
      "Epoch 72/3000\n",
      "81/81 [==============================] - 7s 86ms/step - loss: 1.9986 - categorical_accuracy: 0.3142\n",
      "Epoch 73/3000\n",
      "81/81 [==============================] - 7s 86ms/step - loss: 1.9694 - categorical_accuracy: 0.3025\n",
      "Epoch 74/3000\n",
      "81/81 [==============================] - 7s 85ms/step - loss: 1.9954 - categorical_accuracy: 0.3080\n",
      "Epoch 75/3000\n",
      "81/81 [==============================] - 7s 84ms/step - loss: 1.9644 - categorical_accuracy: 0.3228\n",
      "Epoch 76/3000\n",
      "81/81 [==============================] - 7s 84ms/step - loss: 1.9699 - categorical_accuracy: 0.3185\n",
      "Epoch 77/3000\n",
      "81/81 [==============================] - 7s 84ms/step - loss: 1.9653 - categorical_accuracy: 0.3314\n",
      "Epoch 78/3000\n",
      "81/81 [==============================] - 7s 88ms/step - loss: 1.8836 - categorical_accuracy: 0.3497\n",
      "Epoch 79/3000\n",
      "81/81 [==============================] - 7s 85ms/step - loss: 1.8810 - categorical_accuracy: 0.3493\n",
      "Epoch 80/3000\n",
      "81/81 [==============================] - 7s 84ms/step - loss: 2.0138 - categorical_accuracy: 0.3127\n",
      "Epoch 81/3000\n",
      "81/81 [==============================] - 7s 84ms/step - loss: 1.9502 - categorical_accuracy: 0.3310\n",
      "Epoch 82/3000\n",
      "81/81 [==============================] - 7s 85ms/step - loss: 1.8887 - categorical_accuracy: 0.3376\n",
      "Epoch 83/3000\n",
      "81/81 [==============================] - 7s 84ms/step - loss: 1.8892 - categorical_accuracy: 0.3376\n",
      "Epoch 84/3000\n",
      "81/81 [==============================] - 7s 88ms/step - loss: 1.8921 - categorical_accuracy: 0.3446\n",
      "Epoch 85/3000\n",
      "81/81 [==============================] - 7s 85ms/step - loss: 1.8795 - categorical_accuracy: 0.3548\n",
      "Epoch 86/3000\n",
      "81/81 [==============================] - 7s 86ms/step - loss: 1.9797 - categorical_accuracy: 0.3201\n",
      "Epoch 87/3000\n",
      "81/81 [==============================] - 7s 86ms/step - loss: 1.8881 - categorical_accuracy: 0.3497\n",
      "Epoch 88/3000\n",
      "81/81 [==============================] - 7s 85ms/step - loss: 1.8719 - categorical_accuracy: 0.3470\n",
      "Epoch 89/3000\n",
      "81/81 [==============================] - 7s 91ms/step - loss: 1.8881 - categorical_accuracy: 0.3532\n",
      "Epoch 90/3000\n",
      "81/81 [==============================] - 7s 84ms/step - loss: 1.8814 - categorical_accuracy: 0.3458\n",
      "Epoch 91/3000\n",
      "81/81 [==============================] - 7s 90ms/step - loss: 1.8469 - categorical_accuracy: 0.3591\n",
      "Epoch 92/3000\n",
      "81/81 [==============================] - 7s 85ms/step - loss: 1.8105 - categorical_accuracy: 0.3704\n",
      "Epoch 93/3000\n",
      "81/81 [==============================] - 7s 85ms/step - loss: 1.8200 - categorical_accuracy: 0.3762\n",
      "Epoch 94/3000\n",
      "81/81 [==============================] - 7s 85ms/step - loss: 1.8008 - categorical_accuracy: 0.3789\n",
      "Epoch 95/3000\n",
      "81/81 [==============================] - 7s 87ms/step - loss: 1.7961 - categorical_accuracy: 0.3653\n",
      "Epoch 96/3000\n",
      "81/81 [==============================] - 7s 86ms/step - loss: 1.8050 - categorical_accuracy: 0.3657\n",
      "Epoch 97/3000\n",
      "81/81 [==============================] - 7s 85ms/step - loss: 1.8004 - categorical_accuracy: 0.3637\n",
      "Epoch 98/3000\n",
      "81/81 [==============================] - 7s 87ms/step - loss: 1.8236 - categorical_accuracy: 0.3696\n",
      "Epoch 99/3000\n",
      "81/81 [==============================] - 7s 85ms/step - loss: 1.7865 - categorical_accuracy: 0.3903\n",
      "Epoch 100/3000\n",
      "81/81 [==============================] - 7s 84ms/step - loss: 1.8194 - categorical_accuracy: 0.3825\n",
      "Epoch 101/3000\n",
      "81/81 [==============================] - 7s 84ms/step - loss: 1.7746 - categorical_accuracy: 0.3684\n",
      "Epoch 102/3000\n",
      "81/81 [==============================] - 7s 84ms/step - loss: 1.7865 - categorical_accuracy: 0.3930\n",
      "Epoch 103/3000\n",
      "81/81 [==============================] - 7s 86ms/step - loss: 1.8119 - categorical_accuracy: 0.3836\n",
      "Epoch 104/3000\n",
      "81/81 [==============================] - 7s 88ms/step - loss: 1.8280 - categorical_accuracy: 0.3789\n",
      "Epoch 105/3000\n",
      "81/81 [==============================] - 7s 85ms/step - loss: 1.7644 - categorical_accuracy: 0.3852\n",
      "Epoch 106/3000\n",
      "81/81 [==============================] - 7s 85ms/step - loss: 1.7901 - categorical_accuracy: 0.3766\n",
      "Epoch 107/3000\n",
      "81/81 [==============================] - 7s 85ms/step - loss: 1.7308 - categorical_accuracy: 0.3996\n",
      "Epoch 108/3000\n",
      "81/81 [==============================] - 7s 84ms/step - loss: 1.7502 - categorical_accuracy: 0.3988\n",
      "Epoch 109/3000\n",
      "81/81 [==============================] - 7s 85ms/step - loss: 1.8807 - categorical_accuracy: 0.3661\n",
      "Epoch 110/3000\n",
      "81/81 [==============================] - 7s 84ms/step - loss: 1.7702 - categorical_accuracy: 0.4016\n",
      "Epoch 111/3000\n",
      "81/81 [==============================] - 7s 87ms/step - loss: 1.7631 - categorical_accuracy: 0.3977\n",
      "Epoch 112/3000\n",
      "81/81 [==============================] - 7s 84ms/step - loss: 1.8494 - categorical_accuracy: 0.3743\n",
      "Epoch 113/3000\n",
      "81/81 [==============================] - 7s 85ms/step - loss: 1.7434 - categorical_accuracy: 0.4047\n",
      "Epoch 114/3000\n",
      "81/81 [==============================] - 7s 84ms/step - loss: 1.7517 - categorical_accuracy: 0.3984\n",
      "Epoch 115/3000\n",
      "81/81 [==============================] - 7s 87ms/step - loss: 1.6927 - categorical_accuracy: 0.4144\n",
      "Epoch 116/3000\n",
      "81/81 [==============================] - 7s 84ms/step - loss: 1.6883 - categorical_accuracy: 0.4250\n",
      "Epoch 117/3000\n",
      "81/81 [==============================] - 7s 84ms/step - loss: 1.7400 - categorical_accuracy: 0.4055\n",
      "Epoch 118/3000\n",
      "81/81 [==============================] - 7s 90ms/step - loss: 1.7251 - categorical_accuracy: 0.4058\n",
      "Epoch 119/3000\n",
      "81/81 [==============================] - 7s 85ms/step - loss: 1.6764 - categorical_accuracy: 0.4402\n",
      "Epoch 120/3000\n",
      "81/81 [==============================] - 7s 86ms/step - loss: 1.6631 - categorical_accuracy: 0.4335\n",
      "Epoch 121/3000\n",
      "81/81 [==============================] - 7s 85ms/step - loss: 1.6291 - categorical_accuracy: 0.4300\n",
      "Epoch 122/3000\n",
      "81/81 [==============================] - 7s 84ms/step - loss: 1.6835 - categorical_accuracy: 0.4312\n",
      "Epoch 123/3000\n",
      "81/81 [==============================] - 7s 84ms/step - loss: 1.6419 - categorical_accuracy: 0.4285\n",
      "Epoch 124/3000\n",
      "81/81 [==============================] - 8s 98ms/step - loss: 1.7389 - categorical_accuracy: 0.4207\n",
      "Epoch 125/3000\n",
      "81/81 [==============================] - 7s 92ms/step - loss: 1.7645 - categorical_accuracy: 0.3977\n",
      "Epoch 126/3000\n",
      "81/81 [==============================] - 7s 87ms/step - loss: 1.7154 - categorical_accuracy: 0.4187\n",
      "Epoch 127/3000\n",
      "81/81 [==============================] - 7s 85ms/step - loss: 1.6655 - categorical_accuracy: 0.4273\n",
      "Epoch 128/3000\n",
      "81/81 [==============================] - 7s 87ms/step - loss: 1.6271 - categorical_accuracy: 0.4386\n",
      "Epoch 129/3000\n",
      "81/81 [==============================] - 7s 86ms/step - loss: 1.6463 - categorical_accuracy: 0.4374\n",
      "Epoch 130/3000\n",
      "81/81 [==============================] - 7s 86ms/step - loss: 1.7276 - categorical_accuracy: 0.4273\n",
      "Epoch 131/3000\n",
      "81/81 [==============================] - 7s 85ms/step - loss: 1.6635 - categorical_accuracy: 0.4483\n",
      "Epoch 132/3000\n",
      "81/81 [==============================] - 7s 88ms/step - loss: 1.6328 - categorical_accuracy: 0.4374\n",
      "Epoch 133/3000\n",
      "81/81 [==============================] - 7s 84ms/step - loss: 1.6289 - categorical_accuracy: 0.4429\n",
      "Epoch 134/3000\n",
      "81/81 [==============================] - 7s 85ms/step - loss: 1.6067 - categorical_accuracy: 0.4429\n",
      "Epoch 135/3000\n",
      "81/81 [==============================] - 7s 85ms/step - loss: 1.6395 - categorical_accuracy: 0.4363\n",
      "Epoch 136/3000\n",
      "81/81 [==============================] - 7s 84ms/step - loss: 1.6488 - categorical_accuracy: 0.4495\n",
      "Epoch 137/3000\n",
      "81/81 [==============================] - 7s 86ms/step - loss: 1.6170 - categorical_accuracy: 0.4487\n",
      "Epoch 138/3000\n",
      "81/81 [==============================] - 7s 86ms/step - loss: 1.7170 - categorical_accuracy: 0.4261\n",
      "Epoch 139/3000\n",
      "81/81 [==============================] - 7s 85ms/step - loss: 1.6034 - categorical_accuracy: 0.4476\n",
      "Epoch 140/3000\n",
      "81/81 [==============================] - 7s 84ms/step - loss: 1.6139 - categorical_accuracy: 0.4538\n",
      "Epoch 141/3000\n",
      "81/81 [==============================] - 7s 85ms/step - loss: 1.5982 - categorical_accuracy: 0.4663\n",
      "Epoch 142/3000\n",
      "81/81 [==============================] - 7s 84ms/step - loss: 1.6039 - categorical_accuracy: 0.4593\n",
      "Epoch 143/3000\n",
      "81/81 [==============================] - 7s 84ms/step - loss: 1.5897 - categorical_accuracy: 0.4713\n",
      "Epoch 144/3000\n",
      "81/81 [==============================] - 7s 85ms/step - loss: 1.5531 - categorical_accuracy: 0.4682\n",
      "Epoch 145/3000\n",
      "81/81 [==============================] - 7s 84ms/step - loss: 1.5886 - categorical_accuracy: 0.4651\n",
      "Epoch 146/3000\n",
      "81/81 [==============================] - 7s 84ms/step - loss: 1.6088 - categorical_accuracy: 0.4460\n",
      "Epoch 147/3000\n",
      "81/81 [==============================] - 7s 88ms/step - loss: 1.7017 - categorical_accuracy: 0.4487\n",
      "Epoch 148/3000\n",
      "81/81 [==============================] - 7s 84ms/step - loss: 1.6043 - categorical_accuracy: 0.4581\n",
      "Epoch 149/3000\n",
      "81/81 [==============================] - 7s 84ms/step - loss: 1.5611 - categorical_accuracy: 0.4534\n",
      "Epoch 150/3000\n",
      "81/81 [==============================] - 7s 85ms/step - loss: 1.5522 - categorical_accuracy: 0.4710\n",
      "Epoch 151/3000\n",
      "81/81 [==============================] - 7s 84ms/step - loss: 1.5747 - categorical_accuracy: 0.4698\n",
      "Epoch 152/3000\n",
      "81/81 [==============================] - 7s 84ms/step - loss: 1.5905 - categorical_accuracy: 0.4620\n",
      "Epoch 153/3000\n",
      "81/81 [==============================] - 7s 84ms/step - loss: 1.5802 - categorical_accuracy: 0.4655\n",
      "Epoch 154/3000\n",
      "81/81 [==============================] - 7s 84ms/step - loss: 1.5773 - categorical_accuracy: 0.4694\n",
      "Epoch 155/3000\n",
      "81/81 [==============================] - 7s 84ms/step - loss: 1.5796 - categorical_accuracy: 0.4628\n",
      "Epoch 156/3000\n",
      "81/81 [==============================] - 7s 87ms/step - loss: 1.5032 - categorical_accuracy: 0.5115\n",
      "Epoch 157/3000\n",
      "81/81 [==============================] - 7s 85ms/step - loss: 1.5418 - categorical_accuracy: 0.4745\n",
      "Epoch 158/3000\n",
      "81/81 [==============================] - 7s 85ms/step - loss: 1.5554 - categorical_accuracy: 0.4713\n",
      "Epoch 159/3000\n",
      "81/81 [==============================] - 7s 85ms/step - loss: 1.4913 - categorical_accuracy: 0.4920\n",
      "Epoch 160/3000\n",
      "81/81 [==============================] - 7s 84ms/step - loss: 1.4556 - categorical_accuracy: 0.5189\n",
      "Epoch 161/3000\n",
      "81/81 [==============================] - 7s 84ms/step - loss: 1.5450 - categorical_accuracy: 0.4752\n",
      "Epoch 162/3000\n",
      "81/81 [==============================] - 7s 84ms/step - loss: 1.4441 - categorical_accuracy: 0.5123\n",
      "Epoch 163/3000\n",
      "81/81 [==============================] - 7s 85ms/step - loss: 1.4864 - categorical_accuracy: 0.5111\n",
      "Epoch 164/3000\n",
      "81/81 [==============================] - 7s 84ms/step - loss: 1.5602 - categorical_accuracy: 0.4776\n",
      "Epoch 165/3000\n",
      "81/81 [==============================] - 7s 85ms/step - loss: 1.6261 - categorical_accuracy: 0.4651\n",
      "Epoch 166/3000\n",
      "81/81 [==============================] - 7s 84ms/step - loss: 1.4994 - categorical_accuracy: 0.5033\n",
      "Epoch 167/3000\n",
      "81/81 [==============================] - 7s 84ms/step - loss: 1.5288 - categorical_accuracy: 0.5014\n",
      "Epoch 168/3000\n",
      "81/81 [==============================] - 7s 83ms/step - loss: 1.4906 - categorical_accuracy: 0.5021\n",
      "Epoch 169/3000\n",
      "81/81 [==============================] - 7s 86ms/step - loss: 1.5156 - categorical_accuracy: 0.4807\n",
      "Epoch 170/3000\n",
      "81/81 [==============================] - 7s 84ms/step - loss: 1.4433 - categorical_accuracy: 0.5283\n",
      "Epoch 171/3000\n",
      "81/81 [==============================] - 7s 84ms/step - loss: 1.5203 - categorical_accuracy: 0.4986\n",
      "Epoch 172/3000\n",
      "81/81 [==============================] - 7s 84ms/step - loss: 1.3709 - categorical_accuracy: 0.5493\n",
      "Epoch 173/3000\n",
      "81/81 [==============================] - 7s 87ms/step - loss: 1.4748 - categorical_accuracy: 0.5220\n",
      "Epoch 174/3000\n",
      "81/81 [==============================] - 7s 88ms/step - loss: 1.5272 - categorical_accuracy: 0.4858\n",
      "Epoch 175/3000\n",
      "81/81 [==============================] - 7s 85ms/step - loss: 1.4317 - categorical_accuracy: 0.5162\n",
      "Epoch 176/3000\n",
      "81/81 [==============================] - 7s 87ms/step - loss: 1.4781 - categorical_accuracy: 0.5220\n",
      "Epoch 177/3000\n",
      "81/81 [==============================] - 7s 82ms/step - loss: 1.5063 - categorical_accuracy: 0.5057\n",
      "Epoch 178/3000\n",
      "81/81 [==============================] - 7s 87ms/step - loss: 1.4252 - categorical_accuracy: 0.5302\n",
      "Epoch 179/3000\n",
      "81/81 [==============================] - 7s 84ms/step - loss: 1.3817 - categorical_accuracy: 0.5501\n",
      "Epoch 180/3000\n",
      "81/81 [==============================] - 7s 83ms/step - loss: 1.4304 - categorical_accuracy: 0.5333\n",
      "Epoch 181/3000\n",
      "81/81 [==============================] - 7s 83ms/step - loss: 1.4576 - categorical_accuracy: 0.5310\n",
      "Epoch 182/3000\n",
      "81/81 [==============================] - 7s 84ms/step - loss: 1.4043 - categorical_accuracy: 0.5435\n",
      "Epoch 183/3000\n",
      "81/81 [==============================] - 7s 82ms/step - loss: 1.3877 - categorical_accuracy: 0.5548\n",
      "Epoch 184/3000\n",
      "81/81 [==============================] - 7s 83ms/step - loss: 1.4375 - categorical_accuracy: 0.5290\n",
      "Epoch 185/3000\n",
      "81/81 [==============================] - 7s 82ms/step - loss: 1.3785 - categorical_accuracy: 0.5427\n",
      "Epoch 186/3000\n",
      "81/81 [==============================] - 7s 83ms/step - loss: 1.3614 - categorical_accuracy: 0.5602\n",
      "Epoch 187/3000\n",
      "81/81 [==============================] - 7s 82ms/step - loss: 1.3987 - categorical_accuracy: 0.5598\n",
      "Epoch 188/3000\n",
      "81/81 [==============================] - 7s 85ms/step - loss: 1.3561 - categorical_accuracy: 0.5673\n",
      "Epoch 189/3000\n",
      "81/81 [==============================] - 7s 82ms/step - loss: 1.4038 - categorical_accuracy: 0.5392\n",
      "Epoch 190/3000\n",
      "81/81 [==============================] - 7s 82ms/step - loss: 1.4814 - categorical_accuracy: 0.5216\n",
      "Epoch 191/3000\n",
      "81/81 [==============================] - 7s 86ms/step - loss: 1.5282 - categorical_accuracy: 0.5049\n",
      "Epoch 192/3000\n",
      "81/81 [==============================] - 7s 83ms/step - loss: 1.5112 - categorical_accuracy: 0.4998\n",
      "Epoch 193/3000\n",
      "81/81 [==============================] - 7s 83ms/step - loss: 1.3587 - categorical_accuracy: 0.5493\n",
      "Epoch 194/3000\n",
      "81/81 [==============================] - 7s 83ms/step - loss: 1.3687 - categorical_accuracy: 0.5614\n",
      "Epoch 195/3000\n",
      "81/81 [==============================] - 7s 83ms/step - loss: 1.4483 - categorical_accuracy: 0.5248\n",
      "Epoch 196/3000\n",
      "81/81 [==============================] - 7s 82ms/step - loss: 1.3766 - categorical_accuracy: 0.5462\n",
      "Epoch 197/3000\n",
      "81/81 [==============================] - 7s 83ms/step - loss: 1.3243 - categorical_accuracy: 0.5735\n",
      "Epoch 198/3000\n",
      "81/81 [==============================] - 7s 83ms/step - loss: 1.6673 - categorical_accuracy: 0.4749\n",
      "Epoch 199/3000\n",
      "81/81 [==============================] - 7s 83ms/step - loss: 1.3660 - categorical_accuracy: 0.5591\n",
      "Epoch 200/3000\n",
      "81/81 [==============================] - 7s 88ms/step - loss: 1.3602 - categorical_accuracy: 0.5548\n",
      "Epoch 201/3000\n",
      "81/81 [==============================] - 7s 84ms/step - loss: 1.3008 - categorical_accuracy: 0.5844\n",
      "Epoch 202/3000\n",
      "81/81 [==============================] - 7s 82ms/step - loss: 1.5019 - categorical_accuracy: 0.5037\n",
      "Epoch 203/3000\n",
      "81/81 [==============================] - 7s 83ms/step - loss: 1.4331 - categorical_accuracy: 0.5474\n",
      "Epoch 204/3000\n",
      "81/81 [==============================] - 7s 83ms/step - loss: 1.2790 - categorical_accuracy: 0.5704\n",
      "Epoch 205/3000\n",
      "81/81 [==============================] - 7s 82ms/step - loss: 1.3725 - categorical_accuracy: 0.5524\n",
      "Epoch 206/3000\n",
      "81/81 [==============================] - 7s 82ms/step - loss: 1.5653 - categorical_accuracy: 0.5018\n",
      "Epoch 207/3000\n",
      "81/81 [==============================] - 7s 82ms/step - loss: 1.2963 - categorical_accuracy: 0.5821\n",
      "Epoch 208/3000\n",
      "81/81 [==============================] - 7s 82ms/step - loss: 1.3317 - categorical_accuracy: 0.5766\n",
      "Epoch 209/3000\n",
      "81/81 [==============================] - 7s 83ms/step - loss: 1.2963 - categorical_accuracy: 0.5754\n",
      "Epoch 210/3000\n",
      "81/81 [==============================] - 7s 86ms/step - loss: 1.5600 - categorical_accuracy: 0.4994\n",
      "Epoch 211/3000\n",
      "81/81 [==============================] - 7s 83ms/step - loss: 1.3102 - categorical_accuracy: 0.5696\n",
      "Epoch 212/3000\n",
      "81/81 [==============================] - 7s 83ms/step - loss: 1.4169 - categorical_accuracy: 0.5497\n",
      "Epoch 213/3000\n",
      "81/81 [==============================] - 7s 83ms/step - loss: 1.3926 - categorical_accuracy: 0.5462\n",
      "Epoch 214/3000\n",
      "81/81 [==============================] - 7s 83ms/step - loss: 1.3073 - categorical_accuracy: 0.5676\n",
      "Epoch 215/3000\n",
      "81/81 [==============================] - 7s 83ms/step - loss: 1.3032 - categorical_accuracy: 0.5821\n",
      "Epoch 216/3000\n",
      "81/81 [==============================] - 7s 83ms/step - loss: 1.2702 - categorical_accuracy: 0.6027\n",
      "Epoch 217/3000\n",
      "81/81 [==============================] - 7s 83ms/step - loss: 1.2612 - categorical_accuracy: 0.5856\n",
      "Epoch 218/3000\n",
      "81/81 [==============================] - 7s 84ms/step - loss: 1.2950 - categorical_accuracy: 0.5918\n",
      "Epoch 219/3000\n",
      "81/81 [==============================] - 7s 83ms/step - loss: 1.3089 - categorical_accuracy: 0.5844\n",
      "Epoch 220/3000\n",
      "81/81 [==============================] - 7s 87ms/step - loss: 1.3149 - categorical_accuracy: 0.5867\n",
      "Epoch 221/3000\n",
      "81/81 [==============================] - 7s 84ms/step - loss: 1.2193 - categorical_accuracy: 0.6140\n",
      "Epoch 222/3000\n",
      "81/81 [==============================] - 7s 83ms/step - loss: 1.2137 - categorical_accuracy: 0.6117\n",
      "Epoch 223/3000\n",
      "81/81 [==============================] - 7s 84ms/step - loss: 1.2161 - categorical_accuracy: 0.6078\n",
      "Epoch 224/3000\n",
      "81/81 [==============================] - 7s 84ms/step - loss: 1.2630 - categorical_accuracy: 0.5930\n",
      "Epoch 225/3000\n",
      "81/81 [==============================] - 7s 83ms/step - loss: 1.4133 - categorical_accuracy: 0.5513\n",
      "Epoch 226/3000\n",
      "81/81 [==============================] - 7s 83ms/step - loss: 1.3089 - categorical_accuracy: 0.5996\n",
      "Epoch 227/3000\n",
      "81/81 [==============================] - 7s 84ms/step - loss: 1.2402 - categorical_accuracy: 0.6253\n",
      "Epoch 228/3000\n",
      "81/81 [==============================] - 7s 83ms/step - loss: 1.2221 - categorical_accuracy: 0.6187\n",
      "Epoch 229/3000\n",
      "81/81 [==============================] - 7s 83ms/step - loss: 1.2616 - categorical_accuracy: 0.6008\n",
      "Epoch 230/3000\n",
      "81/81 [==============================] - 7s 84ms/step - loss: 1.3525 - categorical_accuracy: 0.5704\n",
      "Epoch 231/3000\n",
      "81/81 [==============================] - 7s 84ms/step - loss: 1.1614 - categorical_accuracy: 0.6269\n",
      "Epoch 232/3000\n",
      "81/81 [==============================] - 7s 83ms/step - loss: 1.2243 - categorical_accuracy: 0.6129\n",
      "Epoch 233/3000\n",
      "81/81 [==============================] - 7s 83ms/step - loss: 1.2545 - categorical_accuracy: 0.6082\n",
      "Epoch 234/3000\n",
      "81/81 [==============================] - 7s 84ms/step - loss: 1.3305 - categorical_accuracy: 0.5797\n",
      "Epoch 235/3000\n",
      "81/81 [==============================] - 7s 84ms/step - loss: 1.3752 - categorical_accuracy: 0.5719\n",
      "Epoch 236/3000\n",
      "81/81 [==============================] - 7s 84ms/step - loss: 1.3174 - categorical_accuracy: 0.5856\n",
      "Epoch 237/3000\n",
      "81/81 [==============================] - 7s 87ms/step - loss: 1.2560 - categorical_accuracy: 0.6004\n",
      "Epoch 238/3000\n",
      "81/81 [==============================] - 7s 84ms/step - loss: 1.2236 - categorical_accuracy: 0.6175\n",
      "Epoch 239/3000\n",
      "81/81 [==============================] - 7s 83ms/step - loss: 1.3122 - categorical_accuracy: 0.5782\n",
      "Epoch 240/3000\n",
      "81/81 [==============================] - 7s 83ms/step - loss: 1.2016 - categorical_accuracy: 0.6191\n",
      "Epoch 241/3000\n",
      "81/81 [==============================] - 7s 83ms/step - loss: 1.2147 - categorical_accuracy: 0.6292\n",
      "Epoch 242/3000\n",
      "81/81 [==============================] - 7s 83ms/step - loss: 1.2964 - categorical_accuracy: 0.5938\n",
      "Epoch 243/3000\n",
      "81/81 [==============================] - 7s 84ms/step - loss: 1.2361 - categorical_accuracy: 0.6043\n",
      "Epoch 244/3000\n",
      "81/81 [==============================] - 7s 84ms/step - loss: 1.2237 - categorical_accuracy: 0.6199\n",
      "Epoch 245/3000\n",
      "81/81 [==============================] - 7s 84ms/step - loss: 1.2691 - categorical_accuracy: 0.6043\n",
      "Epoch 246/3000\n",
      "81/81 [==============================] - 7s 85ms/step - loss: 1.1838 - categorical_accuracy: 0.6226\n",
      "Epoch 247/3000\n",
      "81/81 [==============================] - 7s 86ms/step - loss: 1.1537 - categorical_accuracy: 0.6460\n",
      "Epoch 248/3000\n",
      "81/81 [==============================] - 7s 84ms/step - loss: 1.1807 - categorical_accuracy: 0.6296\n",
      "Epoch 249/3000\n",
      "81/81 [==============================] - 7s 84ms/step - loss: 1.1719 - categorical_accuracy: 0.6522\n",
      "Epoch 250/3000\n",
      "81/81 [==============================] - 7s 84ms/step - loss: 1.1582 - categorical_accuracy: 0.6394\n",
      "Epoch 251/3000\n",
      "81/81 [==============================] - 7s 83ms/step - loss: 1.2492 - categorical_accuracy: 0.6136\n",
      "Epoch 252/3000\n",
      "81/81 [==============================] - 7s 84ms/step - loss: 1.1297 - categorical_accuracy: 0.6635\n",
      "Epoch 253/3000\n",
      "81/81 [==============================] - 7s 86ms/step - loss: 1.3737 - categorical_accuracy: 0.5774\n",
      "Epoch 254/3000\n",
      "81/81 [==============================] - 7s 85ms/step - loss: 1.2206 - categorical_accuracy: 0.6277\n",
      "Epoch 255/3000\n",
      "81/81 [==============================] - 7s 84ms/step - loss: 1.9965 - categorical_accuracy: 0.4133\n",
      "Epoch 256/3000\n",
      "81/81 [==============================] - 7s 84ms/step - loss: 1.1983 - categorical_accuracy: 0.6148\n",
      "Epoch 257/3000\n",
      "81/81 [==============================] - 7s 84ms/step - loss: 1.1418 - categorical_accuracy: 0.6441\n",
      "Epoch 258/3000\n",
      "81/81 [==============================] - 7s 85ms/step - loss: 1.1473 - categorical_accuracy: 0.6456\n",
      "Epoch 259/3000\n",
      "81/81 [==============================] - 7s 83ms/step - loss: 1.1381 - categorical_accuracy: 0.6366\n",
      "Epoch 260/3000\n",
      "81/81 [==============================] - 7s 84ms/step - loss: 1.2399 - categorical_accuracy: 0.6062\n",
      "Epoch 261/3000\n",
      "81/81 [==============================] - 7s 83ms/step - loss: 1.2393 - categorical_accuracy: 0.6133\n",
      "Epoch 262/3000\n",
      "81/81 [==============================] - 7s 84ms/step - loss: 1.2821 - categorical_accuracy: 0.6129\n",
      "Epoch 263/3000\n",
      "81/81 [==============================] - 7s 85ms/step - loss: 1.1554 - categorical_accuracy: 0.6452\n",
      "Epoch 264/3000\n",
      "81/81 [==============================] - 7s 85ms/step - loss: 1.2637 - categorical_accuracy: 0.6140\n",
      "Epoch 265/3000\n",
      "81/81 [==============================] - 7s 90ms/step - loss: 1.2597 - categorical_accuracy: 0.6160\n",
      "Epoch 266/3000\n",
      "81/81 [==============================] - 7s 84ms/step - loss: 1.1168 - categorical_accuracy: 0.6538\n",
      "Epoch 267/3000\n",
      "81/81 [==============================] - 7s 84ms/step - loss: 1.1622 - categorical_accuracy: 0.6402\n",
      "Epoch 268/3000\n",
      "81/81 [==============================] - 7s 84ms/step - loss: 1.1240 - categorical_accuracy: 0.6390\n",
      "Epoch 269/3000\n",
      "81/81 [==============================] - 7s 84ms/step - loss: 1.1381 - categorical_accuracy: 0.6487\n",
      "Epoch 270/3000\n",
      "81/81 [==============================] - 7s 86ms/step - loss: 1.1044 - categorical_accuracy: 0.6721\n",
      "Epoch 271/3000\n",
      "81/81 [==============================] - 7s 85ms/step - loss: 1.1244 - categorical_accuracy: 0.6593\n",
      "Epoch 272/3000\n",
      "81/81 [==============================] - 7s 84ms/step - loss: 1.2054 - categorical_accuracy: 0.6175\n",
      "Epoch 273/3000\n",
      "81/81 [==============================] - 7s 85ms/step - loss: 1.1396 - categorical_accuracy: 0.6503\n",
      "Epoch 274/3000\n",
      "81/81 [==============================] - 7s 84ms/step - loss: 1.2196 - categorical_accuracy: 0.6324\n",
      "Epoch 275/3000\n",
      "81/81 [==============================] - 7s 85ms/step - loss: 1.1421 - categorical_accuracy: 0.6558\n",
      "Epoch 276/3000\n",
      "81/81 [==============================] - 7s 84ms/step - loss: 1.1303 - categorical_accuracy: 0.6581\n",
      "Epoch 277/3000\n",
      "81/81 [==============================] - 7s 84ms/step - loss: 1.1972 - categorical_accuracy: 0.6214\n",
      "Epoch 278/3000\n",
      "81/81 [==============================] - 7s 86ms/step - loss: 1.0933 - categorical_accuracy: 0.6733\n",
      "Epoch 279/3000\n",
      "81/81 [==============================] - 7s 84ms/step - loss: 1.1866 - categorical_accuracy: 0.6331\n",
      "Epoch 280/3000\n",
      "81/81 [==============================] - 7s 86ms/step - loss: 1.1808 - categorical_accuracy: 0.6370\n",
      "Epoch 281/3000\n",
      "81/81 [==============================] - 7s 86ms/step - loss: 1.1077 - categorical_accuracy: 0.6772\n",
      "Epoch 282/3000\n",
      "81/81 [==============================] - 7s 85ms/step - loss: 1.2372 - categorical_accuracy: 0.6253\n",
      "Epoch 283/3000\n",
      "81/81 [==============================] - 7s 86ms/step - loss: 1.0589 - categorical_accuracy: 0.6671\n",
      "Epoch 284/3000\n",
      "81/81 [==============================] - 7s 85ms/step - loss: 1.1050 - categorical_accuracy: 0.6534\n",
      "Epoch 285/3000\n",
      "81/81 [==============================] - 7s 84ms/step - loss: 1.1254 - categorical_accuracy: 0.6624\n",
      "Epoch 286/3000\n",
      "81/81 [==============================] - 7s 84ms/step - loss: 1.1007 - categorical_accuracy: 0.6869\n",
      "Epoch 287/3000\n",
      "81/81 [==============================] - 7s 85ms/step - loss: 1.0879 - categorical_accuracy: 0.6589\n",
      "Epoch 288/3000\n",
      "81/81 [==============================] - 7s 85ms/step - loss: 1.1869 - categorical_accuracy: 0.6405\n",
      "Epoch 289/3000\n",
      "81/81 [==============================] - 7s 85ms/step - loss: 1.0804 - categorical_accuracy: 0.6916\n",
      "Epoch 290/3000\n",
      "81/81 [==============================] - 7s 86ms/step - loss: 1.1687 - categorical_accuracy: 0.6355\n",
      "Epoch 291/3000\n",
      "81/81 [==============================] - 7s 85ms/step - loss: 1.0652 - categorical_accuracy: 0.6784\n",
      "Epoch 292/3000\n",
      "81/81 [==============================] - 7s 84ms/step - loss: 1.1922 - categorical_accuracy: 0.6398\n",
      "Epoch 293/3000\n",
      "81/81 [==============================] - 7s 85ms/step - loss: 1.1314 - categorical_accuracy: 0.6565\n",
      "Epoch 294/3000\n",
      "81/81 [==============================] - 7s 84ms/step - loss: 1.0673 - categorical_accuracy: 0.6869\n",
      "Epoch 295/3000\n",
      "81/81 [==============================] - 7s 85ms/step - loss: 1.0655 - categorical_accuracy: 0.6760\n",
      "Epoch 296/3000\n",
      "81/81 [==============================] - 7s 85ms/step - loss: 1.2240 - categorical_accuracy: 0.6304\n",
      "Epoch 297/3000\n",
      "81/81 [==============================] - 7s 85ms/step - loss: 1.0791 - categorical_accuracy: 0.6694\n",
      "Epoch 298/3000\n",
      "81/81 [==============================] - 7s 85ms/step - loss: 1.0830 - categorical_accuracy: 0.6788\n",
      "Epoch 299/3000\n",
      "81/81 [==============================] - 7s 86ms/step - loss: 1.1155 - categorical_accuracy: 0.6682\n",
      "Epoch 300/3000\n",
      "81/81 [==============================] - 7s 86ms/step - loss: 1.2185 - categorical_accuracy: 0.6382\n",
      "Epoch 301/3000\n",
      "81/81 [==============================] - 7s 85ms/step - loss: 1.0535 - categorical_accuracy: 0.6846\n",
      "Epoch 302/3000\n",
      "81/81 [==============================] - 7s 84ms/step - loss: 1.0657 - categorical_accuracy: 0.6912\n",
      "Epoch 303/3000\n",
      "81/81 [==============================] - 7s 84ms/step - loss: 1.0805 - categorical_accuracy: 0.6772\n",
      "Epoch 304/3000\n",
      "81/81 [==============================] - 7s 85ms/step - loss: 1.0231 - categorical_accuracy: 0.6979\n",
      "Epoch 305/3000\n",
      "81/81 [==============================] - 7s 89ms/step - loss: 1.1636 - categorical_accuracy: 0.6499\n",
      "Epoch 306/3000\n",
      "81/81 [==============================] - 7s 85ms/step - loss: 1.0345 - categorical_accuracy: 0.7033\n",
      "Epoch 307/3000\n",
      "81/81 [==============================] - 7s 86ms/step - loss: 1.0815 - categorical_accuracy: 0.6678\n",
      "Epoch 308/3000\n",
      "81/81 [==============================] - 7s 92ms/step - loss: 1.0183 - categorical_accuracy: 0.6990\n",
      "Epoch 309/3000\n",
      "81/81 [==============================] - 7s 87ms/step - loss: 0.9584 - categorical_accuracy: 0.7131\n",
      "Epoch 310/3000\n",
      "81/81 [==============================] - 7s 83ms/step - loss: 0.9566 - categorical_accuracy: 0.7146\n",
      "Epoch 311/3000\n",
      "81/81 [==============================] - 7s 83ms/step - loss: 1.0258 - categorical_accuracy: 0.7002\n",
      "Epoch 312/3000\n",
      "81/81 [==============================] - 7s 82ms/step - loss: 1.3301 - categorical_accuracy: 0.6109\n",
      "Epoch 313/3000\n",
      "81/81 [==============================] - 7s 83ms/step - loss: 1.0514 - categorical_accuracy: 0.6865\n",
      "Epoch 314/3000\n",
      "81/81 [==============================] - 7s 83ms/step - loss: 1.0503 - categorical_accuracy: 0.6943\n",
      "Epoch 315/3000\n",
      "81/81 [==============================] - 7s 84ms/step - loss: 1.0778 - categorical_accuracy: 0.6901\n",
      "Epoch 316/3000\n",
      "81/81 [==============================] - 7s 85ms/step - loss: 1.0384 - categorical_accuracy: 0.6975\n",
      "Epoch 317/3000\n",
      "81/81 [==============================] - 7s 83ms/step - loss: 1.0084 - categorical_accuracy: 0.7092\n",
      "Epoch 318/3000\n",
      "81/81 [==============================] - 7s 82ms/step - loss: 0.9714 - categorical_accuracy: 0.7158\n",
      "Epoch 319/3000\n",
      "81/81 [==============================] - 7s 82ms/step - loss: 1.0491 - categorical_accuracy: 0.6967\n",
      "Epoch 320/3000\n",
      "81/81 [==============================] - 7s 83ms/step - loss: 1.2340 - categorical_accuracy: 0.6214\n",
      "Epoch 321/3000\n",
      "81/81 [==============================] - 7s 82ms/step - loss: 1.1270 - categorical_accuracy: 0.6659\n",
      "Epoch 322/3000\n",
      "81/81 [==============================] - 7s 82ms/step - loss: 1.0267 - categorical_accuracy: 0.6967\n",
      "Epoch 323/3000\n",
      "81/81 [==============================] - 7s 82ms/step - loss: 1.0004 - categorical_accuracy: 0.7142\n",
      "Epoch 324/3000\n",
      "81/81 [==============================] - 7s 83ms/step - loss: 1.0719 - categorical_accuracy: 0.6877\n",
      "Epoch 325/3000\n",
      "81/81 [==============================] - 7s 83ms/step - loss: 1.0749 - categorical_accuracy: 0.6850\n",
      "Epoch 326/3000\n",
      "81/81 [==============================] - 7s 82ms/step - loss: 0.9851 - categorical_accuracy: 0.7049\n",
      "Epoch 327/3000\n",
      "81/81 [==============================] - 7s 82ms/step - loss: 1.0445 - categorical_accuracy: 0.6955\n",
      "Epoch 328/3000\n",
      "81/81 [==============================] - 7s 82ms/step - loss: 0.9626 - categorical_accuracy: 0.7185\n",
      "Epoch 329/3000\n",
      "81/81 [==============================] - 7s 82ms/step - loss: 1.3747 - categorical_accuracy: 0.5961\n",
      "Epoch 330/3000\n",
      "81/81 [==============================] - 7s 83ms/step - loss: 1.0445 - categorical_accuracy: 0.6873\n",
      "Epoch 331/3000\n",
      "81/81 [==============================] - 7s 82ms/step - loss: 1.0495 - categorical_accuracy: 0.7021\n",
      "Epoch 332/3000\n",
      "81/81 [==============================] - 7s 86ms/step - loss: 1.0037 - categorical_accuracy: 0.7232\n",
      "Epoch 333/3000\n",
      "81/81 [==============================] - 7s 83ms/step - loss: 1.0835 - categorical_accuracy: 0.6928\n",
      "Epoch 334/3000\n",
      "81/81 [==============================] - 7s 85ms/step - loss: 0.9984 - categorical_accuracy: 0.7021\n",
      "Epoch 335/3000\n",
      "81/81 [==============================] - 7s 83ms/step - loss: 0.9711 - categorical_accuracy: 0.7201\n",
      "Epoch 336/3000\n",
      "81/81 [==============================] - 7s 82ms/step - loss: 0.9738 - categorical_accuracy: 0.7177\n",
      "Epoch 337/3000\n",
      "81/81 [==============================] - 7s 83ms/step - loss: 0.9069 - categorical_accuracy: 0.7365\n",
      "Epoch 338/3000\n",
      "81/81 [==============================] - 7s 82ms/step - loss: 1.0029 - categorical_accuracy: 0.7060\n",
      "Epoch 339/3000\n",
      "81/81 [==============================] - 7s 83ms/step - loss: 1.0212 - categorical_accuracy: 0.7068\n",
      "Epoch 340/3000\n",
      "81/81 [==============================] - 7s 82ms/step - loss: 0.8880 - categorical_accuracy: 0.7446\n",
      "Epoch 341/3000\n",
      "81/81 [==============================] - 7s 82ms/step - loss: 1.0476 - categorical_accuracy: 0.7029\n",
      "Epoch 342/3000\n",
      "81/81 [==============================] - 7s 83ms/step - loss: 1.0005 - categorical_accuracy: 0.7158\n",
      "Epoch 343/3000\n",
      "81/81 [==============================] - 7s 82ms/step - loss: 1.1255 - categorical_accuracy: 0.6659\n",
      "Epoch 344/3000\n",
      "81/81 [==============================] - 7s 82ms/step - loss: 1.0428 - categorical_accuracy: 0.6842\n",
      "Epoch 345/3000\n",
      "81/81 [==============================] - 7s 82ms/step - loss: 1.0125 - categorical_accuracy: 0.7088\n",
      "Epoch 346/3000\n",
      "81/81 [==============================] - 7s 82ms/step - loss: 1.0048 - categorical_accuracy: 0.7138\n",
      "Epoch 347/3000\n",
      "81/81 [==============================] - 7s 82ms/step - loss: 0.9072 - categorical_accuracy: 0.7439\n",
      "Epoch 348/3000\n",
      "81/81 [==============================] - 7s 82ms/step - loss: 0.9489 - categorical_accuracy: 0.7341\n",
      "Epoch 349/3000\n",
      "81/81 [==============================] - 7s 82ms/step - loss: 0.9621 - categorical_accuracy: 0.7287\n",
      "Epoch 350/3000\n",
      "81/81 [==============================] - 7s 85ms/step - loss: 1.0354 - categorical_accuracy: 0.7033\n",
      "Epoch 351/3000\n",
      "81/81 [==============================] - 7s 83ms/step - loss: 0.9792 - categorical_accuracy: 0.7177\n",
      "Epoch 352/3000\n",
      "81/81 [==============================] - 7s 83ms/step - loss: 0.9168 - categorical_accuracy: 0.7365\n",
      "Epoch 353/3000\n",
      "81/81 [==============================] - 7s 86ms/step - loss: 1.0866 - categorical_accuracy: 0.6994\n",
      "Epoch 354/3000\n",
      "81/81 [==============================] - 7s 82ms/step - loss: 1.0975 - categorical_accuracy: 0.6788\n",
      "Epoch 355/3000\n",
      "81/81 [==============================] - 7s 83ms/step - loss: 0.8864 - categorical_accuracy: 0.7415\n",
      "Epoch 356/3000\n",
      "81/81 [==============================] - 7s 82ms/step - loss: 0.9544 - categorical_accuracy: 0.7251\n",
      "Epoch 357/3000\n",
      "81/81 [==============================] - 7s 82ms/step - loss: 0.9252 - categorical_accuracy: 0.7294\n",
      "Epoch 358/3000\n",
      "81/81 [==============================] - 7s 83ms/step - loss: 0.9494 - categorical_accuracy: 0.7177\n",
      "Epoch 359/3000\n",
      "81/81 [==============================] - 7s 85ms/step - loss: 0.8660 - categorical_accuracy: 0.7532\n",
      "Epoch 360/3000\n",
      "81/81 [==============================] - 7s 83ms/step - loss: 0.9139 - categorical_accuracy: 0.7345\n",
      "Epoch 361/3000\n",
      "81/81 [==============================] - 7s 83ms/step - loss: 1.0637 - categorical_accuracy: 0.6916\n",
      "Epoch 362/3000\n",
      "81/81 [==============================] - 7s 83ms/step - loss: 0.9975 - categorical_accuracy: 0.7002\n",
      "Epoch 363/3000\n",
      "81/81 [==============================] - 7s 83ms/step - loss: 1.0396 - categorical_accuracy: 0.7076\n",
      "Epoch 364/3000\n",
      "81/81 [==============================] - 7s 82ms/step - loss: 1.0167 - categorical_accuracy: 0.7057\n",
      "Epoch 365/3000\n",
      "81/81 [==============================] - 7s 82ms/step - loss: 0.9240 - categorical_accuracy: 0.7435\n",
      "Epoch 366/3000\n",
      "81/81 [==============================] - 7s 82ms/step - loss: 0.8908 - categorical_accuracy: 0.7419\n",
      "Epoch 367/3000\n",
      "81/81 [==============================] - 7s 83ms/step - loss: 0.9474 - categorical_accuracy: 0.7349\n",
      "Epoch 368/3000\n",
      "81/81 [==============================] - 7s 83ms/step - loss: 1.0494 - categorical_accuracy: 0.7099\n",
      "Epoch 369/3000\n",
      "81/81 [==============================] - 7s 83ms/step - loss: 0.9322 - categorical_accuracy: 0.7404\n",
      "Epoch 370/3000\n",
      "81/81 [==============================] - 7s 85ms/step - loss: 0.8734 - categorical_accuracy: 0.7501\n",
      "Epoch 371/3000\n",
      "81/81 [==============================] - 7s 83ms/step - loss: 0.9215 - categorical_accuracy: 0.7244\n",
      "Epoch 372/3000\n",
      "81/81 [==============================] - 7s 83ms/step - loss: 0.8894 - categorical_accuracy: 0.7618\n",
      "Epoch 373/3000\n",
      "81/81 [==============================] - 7s 83ms/step - loss: 0.8946 - categorical_accuracy: 0.7435\n",
      "Epoch 374/3000\n",
      "81/81 [==============================] - 7s 82ms/step - loss: 1.1935 - categorical_accuracy: 0.6632\n",
      "Epoch 375/3000\n",
      "81/81 [==============================] - 7s 83ms/step - loss: 0.8850 - categorical_accuracy: 0.7481\n",
      "Epoch 376/3000\n",
      "81/81 [==============================] - 7s 83ms/step - loss: 1.0130 - categorical_accuracy: 0.7209\n",
      "Epoch 377/3000\n",
      "81/81 [==============================] - 7s 83ms/step - loss: 0.9805 - categorical_accuracy: 0.7212\n",
      "Epoch 378/3000\n",
      "81/81 [==============================] - 7s 83ms/step - loss: 0.8840 - categorical_accuracy: 0.7384\n",
      "Epoch 379/3000\n",
      "81/81 [==============================] - 7s 83ms/step - loss: 0.9082 - categorical_accuracy: 0.7431\n",
      "Epoch 380/3000\n",
      "81/81 [==============================] - 7s 83ms/step - loss: 0.8711 - categorical_accuracy: 0.7579\n",
      "Epoch 381/3000\n",
      "81/81 [==============================] - 7s 82ms/step - loss: 1.0912 - categorical_accuracy: 0.6749\n",
      "Epoch 382/3000\n",
      "81/81 [==============================] - 7s 83ms/step - loss: 0.9738 - categorical_accuracy: 0.7205\n",
      "Epoch 383/3000\n",
      "81/81 [==============================] - 7s 84ms/step - loss: 0.8669 - categorical_accuracy: 0.7540\n",
      "Epoch 384/3000\n",
      "81/81 [==============================] - 7s 83ms/step - loss: 1.0203 - categorical_accuracy: 0.7146\n",
      "Epoch 385/3000\n",
      "81/81 [==============================] - 7s 83ms/step - loss: 1.0922 - categorical_accuracy: 0.6908\n",
      "Epoch 386/3000\n",
      "81/81 [==============================] - 7s 86ms/step - loss: 1.5477 - categorical_accuracy: 0.5723\n",
      "Epoch 387/3000\n",
      "81/81 [==============================] - 7s 84ms/step - loss: 0.9563 - categorical_accuracy: 0.7349\n",
      "Epoch 388/3000\n",
      "81/81 [==============================] - 7s 84ms/step - loss: 0.8637 - categorical_accuracy: 0.7513\n",
      "Epoch 389/3000\n",
      "81/81 [==============================] - 7s 86ms/step - loss: 0.9156 - categorical_accuracy: 0.7446\n",
      "Epoch 390/3000\n",
      "81/81 [==============================] - 7s 83ms/step - loss: 0.8661 - categorical_accuracy: 0.7536\n",
      "Epoch 391/3000\n",
      "81/81 [==============================] - 7s 83ms/step - loss: 0.9877 - categorical_accuracy: 0.7248\n",
      "Epoch 392/3000\n",
      "81/81 [==============================] - 7s 82ms/step - loss: 1.0005 - categorical_accuracy: 0.7088\n",
      "Epoch 393/3000\n",
      "81/81 [==============================] - 7s 85ms/step - loss: 0.9299 - categorical_accuracy: 0.7528\n",
      "Epoch 394/3000\n",
      "81/81 [==============================] - 7s 83ms/step - loss: 2.0105 - categorical_accuracy: 0.4690\n",
      "Epoch 395/3000\n",
      "81/81 [==============================] - 7s 84ms/step - loss: 1.0042 - categorical_accuracy: 0.7185\n",
      "Epoch 396/3000\n",
      "81/81 [==============================] - 7s 84ms/step - loss: 0.9307 - categorical_accuracy: 0.7419\n",
      "Epoch 397/3000\n",
      "81/81 [==============================] - 7s 89ms/step - loss: 0.9869 - categorical_accuracy: 0.7115\n",
      "Epoch 398/3000\n",
      "81/81 [==============================] - 7s 83ms/step - loss: 0.9402 - categorical_accuracy: 0.7415\n",
      "Epoch 399/3000\n",
      "81/81 [==============================] - 7s 83ms/step - loss: 0.8203 - categorical_accuracy: 0.7750\n",
      "Epoch 400/3000\n",
      "81/81 [==============================] - 7s 83ms/step - loss: 1.2087 - categorical_accuracy: 0.6577\n",
      "Epoch 401/3000\n",
      "81/81 [==============================] - 7s 83ms/step - loss: 0.8766 - categorical_accuracy: 0.7442\n",
      "Epoch 402/3000\n",
      "81/81 [==============================] - 7s 84ms/step - loss: 0.8711 - categorical_accuracy: 0.7544\n",
      "Epoch 403/3000\n",
      "81/81 [==============================] - 7s 84ms/step - loss: 0.8907 - categorical_accuracy: 0.7458\n",
      "Epoch 404/3000\n",
      "81/81 [==============================] - 7s 83ms/step - loss: 0.9412 - categorical_accuracy: 0.7357\n",
      "Epoch 405/3000\n",
      "81/81 [==============================] - 7s 84ms/step - loss: 0.8281 - categorical_accuracy: 0.7735\n",
      "Epoch 406/3000\n",
      "81/81 [==============================] - 7s 83ms/step - loss: 0.9511 - categorical_accuracy: 0.7376\n",
      "Epoch 407/3000\n",
      "81/81 [==============================] - 7s 83ms/step - loss: 0.8242 - categorical_accuracy: 0.7793\n",
      "Epoch 408/3000\n",
      "81/81 [==============================] - 7s 83ms/step - loss: 0.7685 - categorical_accuracy: 0.7981\n",
      "Epoch 409/3000\n",
      "81/81 [==============================] - 7s 83ms/step - loss: 0.9156 - categorical_accuracy: 0.7618\n",
      "Epoch 410/3000\n",
      "81/81 [==============================] - 7s 84ms/step - loss: 0.8867 - categorical_accuracy: 0.7598\n",
      "Epoch 411/3000\n",
      "81/81 [==============================] - 7s 83ms/step - loss: 1.2521 - categorical_accuracy: 0.6526\n",
      "Epoch 412/3000\n",
      "81/81 [==============================] - 7s 83ms/step - loss: 0.8528 - categorical_accuracy: 0.7653\n",
      "Epoch 413/3000\n",
      "81/81 [==============================] - 7s 84ms/step - loss: 0.9081 - categorical_accuracy: 0.7400\n",
      "Epoch 414/3000\n",
      "81/81 [==============================] - 7s 84ms/step - loss: 0.8230 - categorical_accuracy: 0.7669\n",
      "Epoch 415/3000\n",
      "81/81 [==============================] - 7s 83ms/step - loss: 1.1001 - categorical_accuracy: 0.6904\n",
      "Epoch 416/3000\n",
      "81/81 [==============================] - 7s 83ms/step - loss: 0.9151 - categorical_accuracy: 0.7528\n",
      "Epoch 417/3000\n",
      "81/81 [==============================] - 7s 88ms/step - loss: 1.2121 - categorical_accuracy: 0.6635\n",
      "Epoch 418/3000\n",
      "81/81 [==============================] - 7s 85ms/step - loss: 0.9059 - categorical_accuracy: 0.7595\n",
      "Epoch 419/3000\n",
      "81/81 [==============================] - 7s 92ms/step - loss: 0.9533 - categorical_accuracy: 0.7380\n",
      "Epoch 420/3000\n",
      "81/81 [==============================] - 7s 86ms/step - loss: 0.8345 - categorical_accuracy: 0.7657\n",
      "Epoch 421/3000\n",
      "81/81 [==============================] - 7s 84ms/step - loss: 0.8611 - categorical_accuracy: 0.7684\n",
      "Epoch 422/3000\n",
      "81/81 [==============================] - 7s 84ms/step - loss: 1.0304 - categorical_accuracy: 0.7033\n",
      "Epoch 423/3000\n",
      "81/81 [==============================] - 7s 85ms/step - loss: 0.9186 - categorical_accuracy: 0.7341\n",
      "Epoch 424/3000\n",
      "81/81 [==============================] - 7s 84ms/step - loss: 0.7932 - categorical_accuracy: 0.7809\n",
      "Epoch 425/3000\n",
      "81/81 [==============================] - 7s 84ms/step - loss: 0.8058 - categorical_accuracy: 0.7844\n",
      "Epoch 426/3000\n",
      "81/81 [==============================] - 7s 85ms/step - loss: 0.7673 - categorical_accuracy: 0.7813\n",
      "Epoch 427/3000\n",
      "81/81 [==============================] - 7s 84ms/step - loss: 0.8618 - categorical_accuracy: 0.7793\n",
      "Epoch 428/3000\n",
      "81/81 [==============================] - 7s 84ms/step - loss: 0.7541 - categorical_accuracy: 0.7910\n",
      "Epoch 429/3000\n",
      "81/81 [==============================] - 7s 86ms/step - loss: 0.8373 - categorical_accuracy: 0.7661\n",
      "Epoch 430/3000\n",
      "81/81 [==============================] - 7s 84ms/step - loss: 0.8672 - categorical_accuracy: 0.7470\n",
      "Epoch 431/3000\n",
      "81/81 [==============================] - 7s 85ms/step - loss: 0.7601 - categorical_accuracy: 0.7887\n",
      "Epoch 432/3000\n",
      "81/81 [==============================] - 7s 84ms/step - loss: 1.0738 - categorical_accuracy: 0.7049\n",
      "Epoch 433/3000\n",
      "81/81 [==============================] - 7s 84ms/step - loss: 0.8771 - categorical_accuracy: 0.7634\n",
      "Epoch 434/3000\n",
      "81/81 [==============================] - 7s 84ms/step - loss: 0.8112 - categorical_accuracy: 0.7789\n",
      "Epoch 435/3000\n",
      "81/81 [==============================] - 7s 84ms/step - loss: 1.5624 - categorical_accuracy: 0.5797\n",
      "Epoch 436/3000\n",
      "81/81 [==============================] - 7s 84ms/step - loss: 0.8605 - categorical_accuracy: 0.7598\n",
      "Epoch 437/3000\n",
      "81/81 [==============================] - 7s 84ms/step - loss: 0.7957 - categorical_accuracy: 0.7930\n",
      "Epoch 438/3000\n",
      "81/81 [==============================] - 7s 86ms/step - loss: 0.8379 - categorical_accuracy: 0.7750\n",
      "Epoch 439/3000\n",
      "81/81 [==============================] - 7s 86ms/step - loss: 1.0988 - categorical_accuracy: 0.7018\n",
      "Epoch 440/3000\n",
      "81/81 [==============================] - 7s 93ms/step - loss: 0.7845 - categorical_accuracy: 0.7805\n",
      "Epoch 441/3000\n",
      "81/81 [==============================] - 7s 89ms/step - loss: 0.8636 - categorical_accuracy: 0.7669\n",
      "Epoch 442/3000\n",
      "81/81 [==============================] - 7s 84ms/step - loss: 0.8865 - categorical_accuracy: 0.7614\n",
      "Epoch 443/3000\n",
      "81/81 [==============================] - 7s 88ms/step - loss: 0.8215 - categorical_accuracy: 0.7715\n",
      "Epoch 444/3000\n",
      "81/81 [==============================] - 7s 92ms/step - loss: 1.0982 - categorical_accuracy: 0.6854\n",
      "Epoch 445/3000\n",
      "81/81 [==============================] - 7s 85ms/step - loss: 0.9081 - categorical_accuracy: 0.7478\n",
      "Epoch 446/3000\n",
      "81/81 [==============================] - 7s 82ms/step - loss: 0.9513 - categorical_accuracy: 0.7341\n",
      "Epoch 447/3000\n",
      "81/81 [==============================] - 7s 83ms/step - loss: 1.1028 - categorical_accuracy: 0.6936\n",
      "Epoch 448/3000\n",
      "81/81 [==============================] - 7s 83ms/step - loss: 1.5010 - categorical_accuracy: 0.5793\n",
      "Epoch 449/3000\n",
      "81/81 [==============================] - 7s 85ms/step - loss: 0.9681 - categorical_accuracy: 0.7236\n",
      "Epoch 450/3000\n",
      "81/81 [==============================] - 7s 82ms/step - loss: 0.8522 - categorical_accuracy: 0.7684\n",
      "Epoch 451/3000\n",
      "81/81 [==============================] - 7s 82ms/step - loss: 0.9475 - categorical_accuracy: 0.7380\n",
      "Epoch 452/3000\n",
      "81/81 [==============================] - 7s 82ms/step - loss: 0.8235 - categorical_accuracy: 0.7836\n",
      "Epoch 453/3000\n",
      "81/81 [==============================] - 7s 84ms/step - loss: 0.8563 - categorical_accuracy: 0.7489\n",
      "Epoch 454/3000\n",
      "81/81 [==============================] - 7s 81ms/step - loss: 0.7814 - categorical_accuracy: 0.7918\n",
      "Epoch 455/3000\n",
      "81/81 [==============================] - 7s 82ms/step - loss: 0.9928 - categorical_accuracy: 0.7322\n",
      "Epoch 456/3000\n",
      "81/81 [==============================] - 7s 83ms/step - loss: 0.9599 - categorical_accuracy: 0.7411\n",
      "Epoch 457/3000\n",
      "81/81 [==============================] - 7s 83ms/step - loss: 1.4006 - categorical_accuracy: 0.6144\n",
      "Epoch 458/3000\n",
      "81/81 [==============================] - 7s 83ms/step - loss: 0.8685 - categorical_accuracy: 0.7610\n"
     ]
    }
   ],
   "source": [
    "model.compile(optimizer='Adam', loss='categorical_crossentropy', metrics=['categorical_accuracy'])\n",
    "early_stopping = EarlyStopping(monitor='loss', patience=30, restore_best_weights=True)\n",
    "best_model_path = os.path.join(model_f, 'best_model.h5') \n",
    "checkpoint = ModelCheckpoint(best_model_path, monitor='loss', save_best_only=True)\n",
    "history = model.fit(X_train, y_train, epochs=3000, callbacks=[early_stopping,\n",
    "                                                              checkpoint,\n",
    "                                                              csv_logger,\n",
    "                                                              tensorboard_callback])\n",
    "# save best model\n",
    "final_model_path = os.path.join(model_f, 'final_model.h5')\n",
    "model.save(final_model_path)"
   ],
   "metadata": {
    "collapsed": false,
    "ExecuteTime": {
     "end_time": "2024-06-02T12:00:03.802697300Z",
     "start_time": "2024-06-02T11:07:31.348550500Z"
    }
   },
   "id": "a95bc5d05d55f9bf"
  },
  {
   "cell_type": "code",
   "execution_count": 22,
   "outputs": [
    {
     "name": "stdout",
     "output_type": "stream",
     "text": [
      "Model: \"sequential_1\"\n",
      "_________________________________________________________________\n",
      " Layer (type)                Output Shape              Param #   \n",
      "=================================================================\n",
      " gru_3 (GRU)                 (None, 30, 64)            331776    \n",
      "                                                                 \n",
      " dropout_4 (Dropout)         (None, 30, 64)            0         \n",
      "                                                                 \n",
      " gru_4 (GRU)                 (None, 30, 128)           74496     \n",
      "                                                                 \n",
      " dropout_5 (Dropout)         (None, 30, 128)           0         \n",
      "                                                                 \n",
      " gru_5 (GRU)                 (None, 64)                37248     \n",
      "                                                                 \n",
      " batch_normalization_1 (Bat  (None, 64)                256       \n",
      " chNormalization)                                                \n",
      "                                                                 \n",
      " dense_3 (Dense)             (None, 64)                4160      \n",
      "                                                                 \n",
      " dropout_6 (Dropout)         (None, 64)                0         \n",
      "                                                                 \n",
      " dense_4 (Dense)             (None, 32)                2080      \n",
      "                                                                 \n",
      " dropout_7 (Dropout)         (None, 32)                0         \n",
      "                                                                 \n",
      " dense_5 (Dense)             (None, 27)                891       \n",
      "                                                                 \n",
      "=================================================================\n",
      "Total params: 450907 (1.72 MB)\n",
      "Trainable params: 450779 (1.72 MB)\n",
      "Non-trainable params: 128 (512.00 Byte)\n",
      "_________________________________________________________________\n"
     ]
    }
   ],
   "source": [
    "model.summary()"
   ],
   "metadata": {
    "collapsed": false,
    "ExecuteTime": {
     "end_time": "2024-06-02T15:10:27.679189300Z",
     "start_time": "2024-06-02T15:10:27.600988500Z"
    }
   },
   "id": "3387bbde19fe3fb5"
  },
  {
   "cell_type": "code",
   "execution_count": 23,
   "outputs": [],
   "source": [
    "def write_layers(s):\n",
    "    with open('./models/model_0/layers.txt', 'a') as f:\n",
    "        print(s, file=f)\n",
    "\n",
    "model.summary(print_fn=write_layers)"
   ],
   "metadata": {
    "collapsed": false,
    "ExecuteTime": {
     "end_time": "2024-06-02T15:10:43.135204700Z",
     "start_time": "2024-06-02T15:10:43.091366300Z"
    }
   },
   "id": "9dfbfdd3750241dd"
  },
  {
   "cell_type": "markdown",
   "source": [
    "### Make Predictions"
   ],
   "metadata": {
    "collapsed": false
   },
   "id": "cf1bb348d73b3e9"
  },
  {
   "cell_type": "code",
   "execution_count": 24,
   "outputs": [
    {
     "name": "stdout",
     "output_type": "stream",
     "text": [
      "5/5 [==============================] - 4s 23ms/step\n"
     ]
    }
   ],
   "source": [
    "res = model.predict(X_test)"
   ],
   "metadata": {
    "collapsed": false,
    "ExecuteTime": {
     "end_time": "2024-06-02T15:10:56.807435800Z",
     "start_time": "2024-06-02T15:10:53.000265200Z"
    }
   },
   "id": "5b62f11bb764f4e"
  },
  {
   "cell_type": "code",
   "execution_count": 25,
   "outputs": [
    {
     "data": {
      "text/plain": "'m'"
     },
     "execution_count": 25,
     "metadata": {},
     "output_type": "execute_result"
    }
   ],
   "source": [
    "np_actions[np.argmax(res[4])]"
   ],
   "metadata": {
    "collapsed": false,
    "ExecuteTime": {
     "end_time": "2024-06-02T15:10:56.807435800Z",
     "start_time": "2024-06-02T15:10:56.777723600Z"
    }
   },
   "id": "da07033415ab75dd"
  },
  {
   "cell_type": "code",
   "execution_count": 26,
   "outputs": [
    {
     "data": {
      "text/plain": "'m'"
     },
     "execution_count": 26,
     "metadata": {},
     "output_type": "execute_result"
    }
   ],
   "source": [
    "np_actions[np.argmax(y_test[4])]"
   ],
   "metadata": {
    "collapsed": false,
    "ExecuteTime": {
     "end_time": "2024-06-02T15:10:56.817364500Z",
     "start_time": "2024-06-02T15:10:56.797714800Z"
    }
   },
   "id": "911f0a43a6249d78"
  },
  {
   "cell_type": "code",
   "execution_count": 38,
   "outputs": [
    {
     "ename": "FileNotFoundError",
     "evalue": "[Errno 2] Unable to open file (unable to open file: name = 'action.h5', errno = 2, error message = 'No such file or directory', flags = 0, o_flags = 0)",
     "output_type": "error",
     "traceback": [
      "\u001B[1;31m---------------------------------------------------------------------------\u001B[0m",
      "\u001B[1;31mFileNotFoundError\u001B[0m                         Traceback (most recent call last)",
      "Cell \u001B[1;32mIn[38], line 1\u001B[0m\n\u001B[1;32m----> 1\u001B[0m model\u001B[38;5;241m.\u001B[39mload_weights(\u001B[38;5;124m'\u001B[39m\u001B[38;5;124maction.h5\u001B[39m\u001B[38;5;124m'\u001B[39m)\n",
      "File \u001B[1;32m~\\AppData\\Roaming\\Python\\Python311\\site-packages\\keras\\src\\utils\\traceback_utils.py:70\u001B[0m, in \u001B[0;36mfilter_traceback.<locals>.error_handler\u001B[1;34m(*args, **kwargs)\u001B[0m\n\u001B[0;32m     67\u001B[0m     filtered_tb \u001B[38;5;241m=\u001B[39m _process_traceback_frames(e\u001B[38;5;241m.\u001B[39m__traceback__)\n\u001B[0;32m     68\u001B[0m     \u001B[38;5;66;03m# To get the full stack trace, call:\u001B[39;00m\n\u001B[0;32m     69\u001B[0m     \u001B[38;5;66;03m# `tf.debugging.disable_traceback_filtering()`\u001B[39;00m\n\u001B[1;32m---> 70\u001B[0m     \u001B[38;5;28;01mraise\u001B[39;00m e\u001B[38;5;241m.\u001B[39mwith_traceback(filtered_tb) \u001B[38;5;28;01mfrom\u001B[39;00m \u001B[38;5;28;01mNone\u001B[39;00m\n\u001B[0;32m     71\u001B[0m \u001B[38;5;28;01mfinally\u001B[39;00m:\n\u001B[0;32m     72\u001B[0m     \u001B[38;5;28;01mdel\u001B[39;00m filtered_tb\n",
      "File \u001B[1;32m~\\AppData\\Roaming\\Python\\Python311\\site-packages\\h5py\\_hl\\files.py:567\u001B[0m, in \u001B[0;36mFile.__init__\u001B[1;34m(self, name, mode, driver, libver, userblock_size, swmr, rdcc_nslots, rdcc_nbytes, rdcc_w0, track_order, fs_strategy, fs_persist, fs_threshold, fs_page_size, page_buf_size, min_meta_keep, min_raw_keep, locking, alignment_threshold, alignment_interval, meta_block_size, **kwds)\u001B[0m\n\u001B[0;32m    558\u001B[0m     fapl \u001B[38;5;241m=\u001B[39m make_fapl(driver, libver, rdcc_nslots, rdcc_nbytes, rdcc_w0,\n\u001B[0;32m    559\u001B[0m                      locking, page_buf_size, min_meta_keep, min_raw_keep,\n\u001B[0;32m    560\u001B[0m                      alignment_threshold\u001B[38;5;241m=\u001B[39malignment_threshold,\n\u001B[0;32m    561\u001B[0m                      alignment_interval\u001B[38;5;241m=\u001B[39malignment_interval,\n\u001B[0;32m    562\u001B[0m                      meta_block_size\u001B[38;5;241m=\u001B[39mmeta_block_size,\n\u001B[0;32m    563\u001B[0m                      \u001B[38;5;241m*\u001B[39m\u001B[38;5;241m*\u001B[39mkwds)\n\u001B[0;32m    564\u001B[0m     fcpl \u001B[38;5;241m=\u001B[39m make_fcpl(track_order\u001B[38;5;241m=\u001B[39mtrack_order, fs_strategy\u001B[38;5;241m=\u001B[39mfs_strategy,\n\u001B[0;32m    565\u001B[0m                      fs_persist\u001B[38;5;241m=\u001B[39mfs_persist, fs_threshold\u001B[38;5;241m=\u001B[39mfs_threshold,\n\u001B[0;32m    566\u001B[0m                      fs_page_size\u001B[38;5;241m=\u001B[39mfs_page_size)\n\u001B[1;32m--> 567\u001B[0m     fid \u001B[38;5;241m=\u001B[39m make_fid(name, mode, userblock_size, fapl, fcpl, swmr\u001B[38;5;241m=\u001B[39mswmr)\n\u001B[0;32m    569\u001B[0m \u001B[38;5;28;01mif\u001B[39;00m \u001B[38;5;28misinstance\u001B[39m(libver, \u001B[38;5;28mtuple\u001B[39m):\n\u001B[0;32m    570\u001B[0m     \u001B[38;5;28mself\u001B[39m\u001B[38;5;241m.\u001B[39m_libver \u001B[38;5;241m=\u001B[39m libver\n",
      "File \u001B[1;32m~\\AppData\\Roaming\\Python\\Python311\\site-packages\\h5py\\_hl\\files.py:231\u001B[0m, in \u001B[0;36mmake_fid\u001B[1;34m(name, mode, userblock_size, fapl, fcpl, swmr)\u001B[0m\n\u001B[0;32m    229\u001B[0m     \u001B[38;5;28;01mif\u001B[39;00m swmr \u001B[38;5;129;01mand\u001B[39;00m swmr_support:\n\u001B[0;32m    230\u001B[0m         flags \u001B[38;5;241m|\u001B[39m\u001B[38;5;241m=\u001B[39m h5f\u001B[38;5;241m.\u001B[39mACC_SWMR_READ\n\u001B[1;32m--> 231\u001B[0m     fid \u001B[38;5;241m=\u001B[39m h5f\u001B[38;5;241m.\u001B[39mopen(name, flags, fapl\u001B[38;5;241m=\u001B[39mfapl)\n\u001B[0;32m    232\u001B[0m \u001B[38;5;28;01melif\u001B[39;00m mode \u001B[38;5;241m==\u001B[39m \u001B[38;5;124m'\u001B[39m\u001B[38;5;124mr+\u001B[39m\u001B[38;5;124m'\u001B[39m:\n\u001B[0;32m    233\u001B[0m     fid \u001B[38;5;241m=\u001B[39m h5f\u001B[38;5;241m.\u001B[39mopen(name, h5f\u001B[38;5;241m.\u001B[39mACC_RDWR, fapl\u001B[38;5;241m=\u001B[39mfapl)\n",
      "File \u001B[1;32mh5py\\_objects.pyx:54\u001B[0m, in \u001B[0;36mh5py._objects.with_phil.wrapper\u001B[1;34m()\u001B[0m\n",
      "File \u001B[1;32mh5py\\_objects.pyx:55\u001B[0m, in \u001B[0;36mh5py._objects.with_phil.wrapper\u001B[1;34m()\u001B[0m\n",
      "File \u001B[1;32mh5py\\h5f.pyx:106\u001B[0m, in \u001B[0;36mh5py.h5f.open\u001B[1;34m()\u001B[0m\n",
      "\u001B[1;31mFileNotFoundError\u001B[0m: [Errno 2] Unable to open file (unable to open file: name = 'action.h5', errno = 2, error message = 'No such file or directory', flags = 0, o_flags = 0)"
     ]
    }
   ],
   "source": [
    "# model.load_weights('action.h5')"
   ],
   "metadata": {
    "collapsed": false,
    "ExecuteTime": {
     "end_time": "2024-05-22T17:01:33.376275300Z",
     "start_time": "2024-05-22T17:01:32.920290800Z"
    }
   },
   "id": "1b1e5dc495ac7ecb"
  },
  {
   "cell_type": "markdown",
   "source": [
    "### Evaluation using Confusion Matrix and Accuracy"
   ],
   "metadata": {
    "collapsed": false
   },
   "id": "4b203153c613ace6"
  },
  {
   "cell_type": "code",
   "execution_count": 34,
   "outputs": [],
   "source": [
    "# Caricare il modello salvato\n",
    "# loaded_model = keras.models.load_model('models/best_model.h5')"
   ],
   "metadata": {
    "collapsed": false,
    "ExecuteTime": {
     "end_time": "2024-05-23T08:58:57.906075900Z",
     "start_time": "2024-05-23T08:58:57.900139500Z"
    }
   },
   "id": "42aee536a80d9155"
  },
  {
   "cell_type": "code",
   "execution_count": 27,
   "outputs": [
    {
     "name": "stdout",
     "output_type": "stream",
     "text": [
      "5/5 [==============================] - 0s 22ms/step\n"
     ]
    }
   ],
   "source": [
    "y_pred = model.predict(X_test)"
   ],
   "metadata": {
    "collapsed": false,
    "ExecuteTime": {
     "end_time": "2024-06-02T15:11:01.966156100Z",
     "start_time": "2024-06-02T15:11:01.725895300Z"
    }
   },
   "id": "ceedaeffbe070080"
  },
  {
   "cell_type": "code",
   "execution_count": 28,
   "outputs": [],
   "source": [
    "y_true = np.argmax(y_test, axis=1).tolist()\n",
    "y_pred = np.argmax(y_pred, axis=1).tolist()\n"
   ],
   "metadata": {
    "collapsed": false,
    "ExecuteTime": {
     "end_time": "2024-06-02T15:11:02.190942200Z",
     "start_time": "2024-06-02T15:11:02.190427800Z"
    }
   },
   "id": "803dc04ea0222ba3"
  },
  {
   "cell_type": "code",
   "execution_count": 29,
   "outputs": [
    {
     "data": {
      "text/plain": "135"
     },
     "execution_count": 29,
     "metadata": {},
     "output_type": "execute_result"
    }
   ],
   "source": [
    "len(y_true)"
   ],
   "metadata": {
    "collapsed": false,
    "ExecuteTime": {
     "end_time": "2024-06-02T15:11:02.948123700Z",
     "start_time": "2024-06-02T15:11:02.905639100Z"
    }
   },
   "id": "d540f574748ba877"
  },
  {
   "cell_type": "code",
   "execution_count": 30,
   "outputs": [
    {
     "data": {
      "text/plain": "<Figure size 640x480 with 2 Axes>",
      "image/png": "[encoded data removed]"
     },
     "metadata": {},
     "output_type": "display_data"
    }
   ],
   "source": [
    "# CONFUSION MATRIX \n",
    "\n",
    "cm = confusion_matrix(y_true, y_pred)\n",
    "\n",
    "disp = ConfusionMatrixDisplay(confusion_matrix=cm)\n",
    "# Personalizzare il plot con una scala di blu\n",
    "fig, ax = plt.subplots()\n",
    "disp.plot(ax=ax, cmap='Blues')\n",
    "plt.show()\n"
   ],
   "metadata": {
    "collapsed": false,
    "ExecuteTime": {
     "end_time": "2024-06-02T15:11:10.376451200Z",
     "start_time": "2024-06-02T15:11:08.142158300Z"
    }
   },
   "id": "5ff6097e60661fa3"
  },
  {
   "cell_type": "code",
   "execution_count": 31,
   "outputs": [
    {
     "data": {
      "text/plain": "0.8074074074074075"
     },
     "execution_count": 31,
     "metadata": {},
     "output_type": "execute_result"
    }
   ],
   "source": [
    "accuracy_score(y_true, y_pred)"
   ],
   "metadata": {
    "collapsed": false,
    "ExecuteTime": {
     "end_time": "2024-06-02T15:11:16.045453100Z",
     "start_time": "2024-06-02T15:11:16.040838Z"
    }
   },
   "id": "ed22dd7d1f1030b4"
  },
  {
   "cell_type": "code",
   "execution_count": null,
   "outputs": [],
   "source": [],
   "metadata": {
    "collapsed": false
   },
   "id": "6886f452890e0703"
  },
  {
   "cell_type": "code",
   "execution_count": null,
   "outputs": [],
   "source": [],
   "metadata": {
    "collapsed": false
   },
   "id": "9d2579b3e8cc8c4e"
  },
  {
   "cell_type": "code",
   "execution_count": null,
   "outputs": [],
   "source": [],
   "metadata": {
    "collapsed": false
   },
   "id": "71f89647f39c2003"
  },
  {
   "cell_type": "code",
   "execution_count": null,
   "outputs": [],
   "source": [],
   "metadata": {
    "collapsed": false
   },
   "id": "440828e442feb5b3"
  }
 ],
 "metadata": {
  "kernelspec": {
   "display_name": "Python 3",
   "language": "python",
   "name": "python3"
  },
  "language_info": {
   "codemirror_mode": {
    "name": "ipython",
    "version": 2
   },
   "file_extension": ".py",
   "mimetype": "text/x-python",
   "name": "python",
   "nbconvert_exporter": "python",
   "pygments_lexer": "ipython2",
   "version": "2.7.6"
  }
 },
 "nbformat": 4,
 "nbformat_minor": 5
}
