{
 "cells": [
  {
   "cell_type": "code",
   "execution_count": 1,
   "id": "initial_id",
   "metadata": {
    "collapsed": true,
    "ExecuteTime": {
     "end_time": "2024-05-31T08:34:44.323280800Z",
     "start_time": "2024-05-31T08:34:44.278653200Z"
    }
   },
   "outputs": [],
   "source": [
    "import cv2"
   ]
  },
  {
   "cell_type": "code",
   "execution_count": 3,
   "outputs": [],
   "source": [
    "# Apri la webcam (0 è il primo dispositivo della webcam)\n",
    "cap = cv2.VideoCapture(1)\n",
    "\n",
    "if not cap.isOpened():\n",
    "    print(\"Errore nell'apertura della webcam\")\n",
    "    exit()\n",
    "\n",
    "while True:\n",
    "    # Cattura frame-by-frame\n",
    "    ret, frame = cap.read()\n",
    "\n",
    "    # Se il frame è stato catturato correttamente, ret è True\n",
    "    if not ret:\n",
    "        print(\"Errore nella cattura del frame\")\n",
    "        break\n",
    "\n",
    "    # Visualizza il frame\n",
    "    cv2.imshow('Webcam', frame)\n",
    "\n",
    "    # Premere 'q' per uscire dal ciclo\n",
    "    if cv2.waitKey(1) & 0xFF == ord('q'):\n",
    "        break\n",
    "\n",
    "# Rilascia il dispositivo di cattura e chiude le finestre\n",
    "cap.release()\n",
    "cv2.destroyAllWindows()"
   ],
   "metadata": {
    "collapsed": false,
    "ExecuteTime": {
     "end_time": "2024-05-31T08:35:27.510524900Z",
     "start_time": "2024-05-31T08:34:55.491514700Z"
    }
   },
   "id": "1cd6bd8503b368bd"
  },
  {
   "cell_type": "code",
   "execution_count": null,
   "outputs": [],
   "source": [],
   "metadata": {
    "collapsed": false
   },
   "id": "d818c6ffa79ab7b"
  },
  {
   "cell_type": "code",
   "execution_count": null,
   "outputs": [],
   "source": [],
   "metadata": {
    "collapsed": false
   },
   "id": "92f9d3f404105f92"
  },
  {
   "cell_type": "code",
   "execution_count": null,
   "outputs": [],
   "source": [],
   "metadata": {
    "collapsed": false
   },
   "id": "a3bfa2a44126d807"
  },
  {
   "cell_type": "code",
   "execution_count": null,
   "outputs": [],
   "source": [],
   "metadata": {
    "collapsed": false
   },
   "id": "c384f37de7dde54d"
  }
 ],
 "metadata": {
  "kernelspec": {
   "display_name": "Python 3",
   "language": "python",
   "name": "python3"
  },
  "language_info": {
   "codemirror_mode": {
    "name": "ipython",
    "version": 2
   },
   "file_extension": ".py",
   "mimetype": "text/x-python",
   "name": "python",
   "nbconvert_exporter": "python",
   "pygments_lexer": "ipython2",
   "version": "2.7.6"
  }
 },
 "nbformat": 4,
 "nbformat_minor": 5
}
