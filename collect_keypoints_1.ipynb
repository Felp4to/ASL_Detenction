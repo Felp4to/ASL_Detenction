{
 "cells": [
  {
   "cell_type": "markdown",
   "source": [
    "### Collect keypoints 1"
   ],
   "metadata": {
    "collapsed": false
   },
   "id": "8a21830550ebe257"
  },
  {
   "cell_type": "code",
   "execution_count": 1,
   "outputs": [
    {
     "name": "stdout",
     "output_type": "stream",
     "text": [
      "Requirement already satisfied: tensorflow in c:\\users\\paolo\\appdata\\roaming\\python\\python311\\site-packages (2.13.0)\n",
      "Requirement already satisfied: opencv-python in c:\\users\\paolo\\appdata\\roaming\\python\\python311\\site-packages (4.9.0.80)\n",
      "Requirement already satisfied: mediapipe in c:\\users\\paolo\\anaconda3\\envs\\asl_detenction\\lib\\site-packages (0.10.14)\n",
      "Requirement already satisfied: matplotlib in c:\\users\\paolo\\anaconda3\\envs\\asl_detenction\\lib\\site-packages (3.8.4)\n",
      "Requirement already satisfied: numpy in c:\\users\\paolo\\anaconda3\\envs\\asl_detenction\\lib\\site-packages (1.24.3)\n",
      "Requirement already satisfied: tensorflow-intel==2.13.0 in c:\\users\\paolo\\appdata\\roaming\\python\\python311\\site-packages (from tensorflow) (2.13.0)\n",
      "Requirement already satisfied: absl-py>=1.0.0 in c:\\users\\paolo\\appdata\\roaming\\python\\python311\\site-packages (from tensorflow-intel==2.13.0->tensorflow) (1.4.0)\n",
      "Requirement already satisfied: astunparse>=1.6.0 in c:\\users\\paolo\\appdata\\roaming\\python\\python311\\site-packages (from tensorflow-intel==2.13.0->tensorflow) (1.6.3)\n",
      "Requirement already satisfied: flatbuffers>=23.1.21 in c:\\users\\paolo\\anaconda3\\envs\\asl_detenction\\lib\\site-packages (from tensorflow-intel==2.13.0->tensorflow) (24.3.25)\n",
      "Requirement already satisfied: gast<=0.4.0,>=0.2.1 in c:\\users\\paolo\\appdata\\roaming\\python\\python311\\site-packages (from tensorflow-intel==2.13.0->tensorflow) (0.4.0)\n",
      "Requirement already satisfied: google-pasta>=0.1.1 in c:\\users\\paolo\\appdata\\roaming\\python\\python311\\site-packages (from tensorflow-intel==2.13.0->tensorflow) (0.2.0)\n",
      "Requirement already satisfied: h5py>=2.9.0 in c:\\users\\paolo\\appdata\\roaming\\python\\python311\\site-packages (from tensorflow-intel==2.13.0->tensorflow) (3.9.0)\n",
      "Requirement already satisfied: libclang>=13.0.0 in c:\\users\\paolo\\anaconda3\\envs\\asl_detenction\\lib\\site-packages (from tensorflow-intel==2.13.0->tensorflow) (18.1.1)\n",
      "Requirement already satisfied: opt-einsum>=2.3.2 in c:\\users\\paolo\\appdata\\roaming\\python\\python311\\site-packages (from tensorflow-intel==2.13.0->tensorflow) (3.3.0)\n",
      "Requirement already satisfied: packaging in c:\\users\\paolo\\anaconda3\\envs\\asl_detenction\\lib\\site-packages (from tensorflow-intel==2.13.0->tensorflow) (23.2)\n",
      "Requirement already satisfied: protobuf!=4.21.0,!=4.21.1,!=4.21.2,!=4.21.3,!=4.21.4,!=4.21.5,<5.0.0dev,>=3.20.3 in c:\\users\\paolo\\anaconda3\\envs\\asl_detenction\\lib\\site-packages (from tensorflow-intel==2.13.0->tensorflow) (4.25.3)\n",
      "Requirement already satisfied: setuptools in c:\\users\\paolo\\anaconda3\\envs\\asl_detenction\\lib\\site-packages (from tensorflow-intel==2.13.0->tensorflow) (69.5.1)\n",
      "Requirement already satisfied: six>=1.12.0 in c:\\users\\paolo\\anaconda3\\envs\\asl_detenction\\lib\\site-packages (from tensorflow-intel==2.13.0->tensorflow) (1.16.0)\n",
      "Requirement already satisfied: termcolor>=1.1.0 in c:\\users\\paolo\\anaconda3\\envs\\asl_detenction\\lib\\site-packages (from tensorflow-intel==2.13.0->tensorflow) (2.4.0)\n",
      "Requirement already satisfied: typing-extensions<4.6.0,>=3.6.6 in c:\\users\\paolo\\anaconda3\\envs\\asl_detenction\\lib\\site-packages (from tensorflow-intel==2.13.0->tensorflow) (4.5.0)\n",
      "Requirement already satisfied: wrapt>=1.11.0 in c:\\users\\paolo\\anaconda3\\envs\\asl_detenction\\lib\\site-packages (from tensorflow-intel==2.13.0->tensorflow) (1.16.0)\n",
      "Requirement already satisfied: grpcio<2.0,>=1.24.3 in c:\\users\\paolo\\appdata\\roaming\\python\\python311\\site-packages (from tensorflow-intel==2.13.0->tensorflow) (1.56.0)\n",
      "Requirement already satisfied: tensorboard<2.14,>=2.13 in c:\\users\\paolo\\appdata\\roaming\\python\\python311\\site-packages (from tensorflow-intel==2.13.0->tensorflow) (2.13.0)\n",
      "Requirement already satisfied: tensorflow-estimator<2.14,>=2.13.0 in c:\\users\\paolo\\anaconda3\\envs\\asl_detenction\\lib\\site-packages (from tensorflow-intel==2.13.0->tensorflow) (2.13.0)\n",
      "Requirement already satisfied: keras<2.14,>=2.13.1 in c:\\users\\paolo\\appdata\\roaming\\python\\python311\\site-packages (from tensorflow-intel==2.13.0->tensorflow) (2.13.1)\n",
      "Requirement already satisfied: tensorflow-io-gcs-filesystem>=0.23.1 in c:\\users\\paolo\\anaconda3\\envs\\asl_detenction\\lib\\site-packages (from tensorflow-intel==2.13.0->tensorflow) (0.31.0)\n",
      "Requirement already satisfied: attrs>=19.1.0 in c:\\users\\paolo\\anaconda3\\envs\\asl_detenction\\lib\\site-packages (from mediapipe) (23.1.0)\n",
      "Requirement already satisfied: jax in c:\\users\\paolo\\anaconda3\\envs\\asl_detenction\\lib\\site-packages (from mediapipe) (0.4.28)\n",
      "Requirement already satisfied: jaxlib in c:\\users\\paolo\\anaconda3\\envs\\asl_detenction\\lib\\site-packages (from mediapipe) (0.4.28)\n",
      "Requirement already satisfied: opencv-contrib-python in c:\\users\\paolo\\anaconda3\\envs\\asl_detenction\\lib\\site-packages (from mediapipe) (4.9.0.80)\n",
      "Requirement already satisfied: sounddevice>=0.4.4 in c:\\users\\paolo\\anaconda3\\envs\\asl_detenction\\lib\\site-packages (from mediapipe) (0.4.6)\n",
      "Requirement already satisfied: contourpy>=1.0.1 in c:\\users\\paolo\\anaconda3\\envs\\asl_detenction\\lib\\site-packages (from matplotlib) (1.2.0)\n",
      "Requirement already satisfied: cycler>=0.10 in c:\\users\\paolo\\anaconda3\\envs\\asl_detenction\\lib\\site-packages (from matplotlib) (0.11.0)\n",
      "Requirement already satisfied: fonttools>=4.22.0 in c:\\users\\paolo\\appdata\\roaming\\python\\python311\\site-packages (from matplotlib) (4.51.0)\n",
      "Requirement already satisfied: kiwisolver>=1.3.1 in c:\\users\\paolo\\anaconda3\\envs\\asl_detenction\\lib\\site-packages (from matplotlib) (1.4.4)\n",
      "Requirement already satisfied: pillow>=8 in c:\\users\\paolo\\anaconda3\\envs\\asl_detenction\\lib\\site-packages (from matplotlib) (10.3.0)\n",
      "Requirement already satisfied: pyparsing>=2.3.1 in c:\\users\\paolo\\anaconda3\\envs\\asl_detenction\\lib\\site-packages (from matplotlib) (3.0.9)\n",
      "Requirement already satisfied: python-dateutil>=2.7 in c:\\users\\paolo\\anaconda3\\envs\\asl_detenction\\lib\\site-packages (from matplotlib) (2.8.2)\n",
      "Requirement already satisfied: CFFI>=1.0 in c:\\users\\paolo\\anaconda3\\envs\\asl_detenction\\lib\\site-packages (from sounddevice>=0.4.4->mediapipe) (1.16.0)\n",
      "Requirement already satisfied: ml-dtypes>=0.2.0 in c:\\users\\paolo\\anaconda3\\envs\\asl_detenction\\lib\\site-packages (from jax->mediapipe) (0.4.0)\n",
      "Requirement already satisfied: scipy>=1.9 in c:\\users\\paolo\\anaconda3\\envs\\asl_detenction\\lib\\site-packages (from jax->mediapipe) (1.13.0)\n",
      "Requirement already satisfied: wheel<1.0,>=0.23.0 in c:\\users\\paolo\\anaconda3\\envs\\asl_detenction\\lib\\site-packages (from astunparse>=1.6.0->tensorflow-intel==2.13.0->tensorflow) (0.43.0)\n",
      "Requirement already satisfied: pycparser in c:\\users\\paolo\\anaconda3\\envs\\asl_detenction\\lib\\site-packages (from CFFI>=1.0->sounddevice>=0.4.4->mediapipe) (2.21)\n",
      "Requirement already satisfied: google-auth<3,>=1.6.3 in c:\\users\\paolo\\appdata\\roaming\\python\\python311\\site-packages (from tensorboard<2.14,>=2.13->tensorflow-intel==2.13.0->tensorflow) (2.21.0)\n",
      "Requirement already satisfied: google-auth-oauthlib<1.1,>=0.5 in c:\\users\\paolo\\appdata\\roaming\\python\\python311\\site-packages (from tensorboard<2.14,>=2.13->tensorflow-intel==2.13.0->tensorflow) (1.0.0)\n",
      "Requirement already satisfied: markdown>=2.6.8 in c:\\users\\paolo\\appdata\\roaming\\python\\python311\\site-packages (from tensorboard<2.14,>=2.13->tensorflow-intel==2.13.0->tensorflow) (3.4.3)\n",
      "Requirement already satisfied: requests<3,>=2.21.0 in c:\\users\\paolo\\anaconda3\\envs\\asl_detenction\\lib\\site-packages (from tensorboard<2.14,>=2.13->tensorflow-intel==2.13.0->tensorflow) (2.31.0)\n",
      "Requirement already satisfied: tensorboard-data-server<0.8.0,>=0.7.0 in c:\\users\\paolo\\anaconda3\\envs\\asl_detenction\\lib\\site-packages (from tensorboard<2.14,>=2.13->tensorflow-intel==2.13.0->tensorflow) (0.7.2)\n",
      "Requirement already satisfied: werkzeug>=1.0.1 in c:\\users\\paolo\\anaconda3\\envs\\asl_detenction\\lib\\site-packages (from tensorboard<2.14,>=2.13->tensorflow-intel==2.13.0->tensorflow) (2.3.8)\n",
      "Requirement already satisfied: cachetools<6.0,>=2.0.0 in c:\\users\\paolo\\appdata\\roaming\\python\\python311\\site-packages (from google-auth<3,>=1.6.3->tensorboard<2.14,>=2.13->tensorflow-intel==2.13.0->tensorflow) (5.3.1)\n",
      "Requirement already satisfied: pyasn1-modules>=0.2.1 in c:\\users\\paolo\\appdata\\roaming\\python\\python311\\site-packages (from google-auth<3,>=1.6.3->tensorboard<2.14,>=2.13->tensorflow-intel==2.13.0->tensorflow) (0.3.0)\n",
      "Requirement already satisfied: rsa<5,>=3.1.4 in c:\\users\\paolo\\appdata\\roaming\\python\\python311\\site-packages (from google-auth<3,>=1.6.3->tensorboard<2.14,>=2.13->tensorflow-intel==2.13.0->tensorflow) (4.9)\n",
      "Requirement already satisfied: urllib3<2.0 in c:\\users\\paolo\\anaconda3\\envs\\asl_detenction\\lib\\site-packages (from google-auth<3,>=1.6.3->tensorboard<2.14,>=2.13->tensorflow-intel==2.13.0->tensorflow) (1.26.18)\n",
      "Requirement already satisfied: requests-oauthlib>=0.7.0 in c:\\users\\paolo\\appdata\\roaming\\python\\python311\\site-packages (from google-auth-oauthlib<1.1,>=0.5->tensorboard<2.14,>=2.13->tensorflow-intel==2.13.0->tensorflow) (1.3.1)\n",
      "Requirement already satisfied: charset-normalizer<4,>=2 in c:\\users\\paolo\\anaconda3\\envs\\asl_detenction\\lib\\site-packages (from requests<3,>=2.21.0->tensorboard<2.14,>=2.13->tensorflow-intel==2.13.0->tensorflow) (2.0.4)\n",
      "Requirement already satisfied: idna<4,>=2.5 in c:\\users\\paolo\\anaconda3\\envs\\asl_detenction\\lib\\site-packages (from requests<3,>=2.21.0->tensorboard<2.14,>=2.13->tensorflow-intel==2.13.0->tensorflow) (3.7)\n",
      "Requirement already satisfied: certifi>=2017.4.17 in c:\\users\\paolo\\anaconda3\\envs\\asl_detenction\\lib\\site-packages (from requests<3,>=2.21.0->tensorboard<2.14,>=2.13->tensorflow-intel==2.13.0->tensorflow) (2024.2.2)\n",
      "Requirement already satisfied: MarkupSafe>=2.1.1 in c:\\users\\paolo\\anaconda3\\envs\\asl_detenction\\lib\\site-packages (from werkzeug>=1.0.1->tensorboard<2.14,>=2.13->tensorflow-intel==2.13.0->tensorflow) (2.1.3)\n",
      "Requirement already satisfied: pyasn1<0.6.0,>=0.4.6 in c:\\users\\paolo\\anaconda3\\envs\\asl_detenction\\lib\\site-packages (from pyasn1-modules>=0.2.1->google-auth<3,>=1.6.3->tensorboard<2.14,>=2.13->tensorflow-intel==2.13.0->tensorflow) (0.4.8)\n",
      "Requirement already satisfied: oauthlib>=3.0.0 in c:\\users\\paolo\\anaconda3\\envs\\asl_detenction\\lib\\site-packages (from requests-oauthlib>=0.7.0->google-auth-oauthlib<1.1,>=0.5->tensorboard<2.14,>=2.13->tensorflow-intel==2.13.0->tensorflow) (3.2.2)\n"
     ]
    }
   ],
   "source": [
    "!pip install tensorflow opencv-python mediapipe matplotlib numpy"
   ],
   "metadata": {
    "collapsed": false,
    "ExecuteTime": {
     "end_time": "2024-06-09T09:42:14.840731400Z",
     "start_time": "2024-06-09T09:42:09.770564800Z"
    }
   },
   "id": "initial_id"
  },
  {
   "cell_type": "code",
   "execution_count": 2,
   "outputs": [],
   "source": [
    "import constants as cs\n",
    "import globali as gg\n",
    "import config_loader as cl\n",
    "import detect_keypoints as dk"
   ],
   "metadata": {
    "collapsed": false,
    "ExecuteTime": {
     "end_time": "2024-06-09T09:42:24.124010100Z",
     "start_time": "2024-06-09T09:42:14.609206800Z"
    }
   },
   "id": "732807148be4b4c"
  },
  {
   "cell_type": "code",
   "execution_count": 3,
   "outputs": [],
   "source": [
    "import cv2\n",
    "import numpy as np\n",
    "import os\n",
    "import shutil"
   ],
   "metadata": {
    "collapsed": false,
    "ExecuteTime": {
     "end_time": "2024-06-09T09:42:24.139160800Z",
     "start_time": "2024-06-09T09:42:24.127015400Z"
    }
   },
   "id": "ff3a3a0dc21c85da"
  },
  {
   "cell_type": "markdown",
   "source": [
    "### Initialization"
   ],
   "metadata": {
    "collapsed": false
   },
   "id": "26b63ab9cc5cbcd9"
  },
  {
   "cell_type": "code",
   "execution_count": 4,
   "outputs": [],
   "source": [
    "# initialization\n",
    "gg.actions, gg.counters = cl.read_yaml_fields()"
   ],
   "metadata": {
    "collapsed": false,
    "ExecuteTime": {
     "end_time": "2024-06-09T09:42:24.151766700Z",
     "start_time": "2024-06-09T09:42:24.135154Z"
    }
   },
   "id": "ce5dc84607b38497"
  },
  {
   "cell_type": "markdown",
   "source": [
    "### Collect Data"
   ],
   "metadata": {
    "collapsed": false
   },
   "id": "cc9d79cb6ab3843"
  },
  {
   "cell_type": "code",
   "execution_count": 5,
   "outputs": [],
   "source": [
    "# function that erase content videos' folder\n",
    "def clean_folder():\n",
    "    for file in os.listdir(cs.VIDEOS_FOLDER):\n",
    "        file_path = os.path.join(cs.VIDEOS_FOLDER, file)\n",
    "        if os.path.isfile(file_path) or os.path.islink(file_path):\n",
    "            os.unlink(file_path)\n",
    "        elif os.path.isdir(file_path):\n",
    "            shutil.rmtree(file_path)\n",
    "            \n",
    "# function to collect videos\n",
    "def collect_data(action, no_sequences, no_frames, time_record, signer, camId):\n",
    "    gg.actions, gg.counters = cl.read_yaml_fields()\n",
    "    \n",
    "    if action not in gg.actions:\n",
    "        gg.counters[action] = 0\n",
    "    \n",
    "    action_folder = os.path.join(cs.KEYPOINTS_FOLDER, action)\n",
    "    os.makedirs(action_folder, exist_ok=True)\n",
    "    action_folder2 = os.path.join(cs.VIDEOS_FOLDER, action)\n",
    "    os.makedirs(action_folder2, exist_ok=True)\n",
    "    gg.actions.add(action)\n",
    "    \n",
    "    # clean folder videos\n",
    "    #clean_folder()\n",
    "    \n",
    "    cap = cv2.VideoCapture(camId)\n",
    "    \n",
    "    # Set mediapipe model \n",
    "    with dk.mp_holistic.Holistic(min_detection_confidence=0.5, min_tracking_confidence=0.5) as holistic:\n",
    "        \n",
    "        for sequence in range(no_sequences):\n",
    "            \n",
    "            video_folder = os.path.join(action_folder, str(gg.counters[action] + sequence))\n",
    "            os.makedirs(video_folder, exist_ok=True)\n",
    "            video_folder2 = os.path.join(action_folder2, str(gg.counters[action] + sequence))\n",
    "            os.makedirs(video_folder2, exist_ok=True)\n",
    "            \n",
    "            for frame_num in range(no_frames):\n",
    "                \n",
    "                ret, frame = cap.read()                                                     # Read feed\n",
    "                image, results = dk.mediapipe_detection(frame, holistic)                   # Make detections\n",
    "                dk.draw_styled_landmarks(image, results)                                   # Draw landmarks     \n",
    "                \n",
    "                num = gg.counters[action] + sequence\n",
    "                frame_path = os.path.join(cs.VIDEOS_FOLDER, action, str(num), str(frame_num) + \".jpg\")\n",
    "                cv2.imwrite(frame_path, frame)\n",
    "                \n",
    "                if frame_num == 0: \n",
    "                    cv2.putText(image, 'STARTING COLLECTION', (120,200), \n",
    "                               cv2.FONT_HERSHEY_SIMPLEX, 1, (0,255, 0), 4, cv2.LINE_AA)\n",
    "                    cv2.putText(image, 'Collecting frames for {} Video Number {}'.format(action, sequence), (15,12),\n",
    "                               cv2.FONT_HERSHEY_SIMPLEX, 0.5, (0, 0, 255), 1, cv2.LINE_AA)\n",
    "                    # Show to screen\n",
    "                    cv2.imshow('OpenCV Feed', image)\n",
    "                    cv2.waitKey(time_record)\n",
    "                else:\n",
    "                    cv2.putText(image, 'Collecting frames for {} Video Number {}'.format(action, sequence), (15,12), \n",
    "                               cv2.FONT_HERSHEY_SIMPLEX, 0.5, (0, 0, 255), 1, cv2.LINE_AA)\n",
    "                    # Show to screen\n",
    "                    cv2.imshow('OpenCV Feed', image)\n",
    "                \n",
    "                keypoints = dk.extract_keypoints(results)\n",
    "                \n",
    "                npy_path = os.path.join(video_folder, str(frame_num))\n",
    "                np.save(npy_path, keypoints)\n",
    "                \n",
    "                # Break gracefully\n",
    "                if cv2.waitKey(10) & 0xFF == ord('q'):\n",
    "                    break\n",
    "                \n",
    "        # update actions and counters\n",
    "        gg.counters[action] += no_sequences\n",
    "        cl.update_yaml_fields(gg.actions, gg.counters)\n",
    "        \n",
    "        cap.release()\n",
    "        cv2.destroyAllWindows()\n",
    "    cap.release()\n",
    "    cv2.destroyAllWindows()    \n",
    "    "
   ],
   "metadata": {
    "collapsed": false,
    "ExecuteTime": {
     "end_time": "2024-06-09T09:42:24.180212900Z",
     "start_time": "2024-06-09T09:42:24.156695500Z"
    }
   },
   "id": "9dbf23d52db2f143"
  },
  {
   "cell_type": "code",
   "execution_count": 19,
   "outputs": [],
   "source": [
    "# function to collect keypoints from webcam video\n",
    "collect_data(\"candy\", 30, cs.NUM_FRAME, 1500, \"paolo\", 0)                       "
   ],
   "metadata": {
    "collapsed": false,
    "ExecuteTime": {
     "end_time": "2024-06-09T10:04:30.461656900Z",
     "start_time": "2024-06-09T10:02:24.619526300Z"
    }
   },
   "id": "2b33a93648f869bc"
  }
 ],
 "metadata": {
  "kernelspec": {
   "display_name": "Python 3",
   "language": "python",
   "name": "python3"
  },
  "language_info": {
   "codemirror_mode": {
    "name": "ipython",
    "version": 2
   },
   "file_extension": ".py",
   "mimetype": "text/x-python",
   "name": "python",
   "nbconvert_exporter": "python",
   "pygments_lexer": "ipython2",
   "version": "2.7.6"
  }
 },
 "nbformat": 4,
 "nbformat_minor": 5
}
