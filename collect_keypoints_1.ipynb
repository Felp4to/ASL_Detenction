{
 "cells": [
  {
   "cell_type": "markdown",
   "source": [
    "### Collect keypoints 1 - video autoprodotti"
   ],
   "metadata": {
    "collapsed": false
   },
   "id": "8a21830550ebe257"
  },
  {
   "cell_type": "code",
   "execution_count": 2,
   "outputs": [],
   "source": [
    "import constants as cs\n",
    "import globali as gg\n",
    "import config_loader as cl\n",
    "import detect_keypoints as dk\n",
    "import cv2\n",
    "import numpy as np\n",
    "import os\n",
    "import shutil"
   ],
   "metadata": {
    "collapsed": false,
    "ExecuteTime": {
     "end_time": "2024-06-09T09:42:24.124010100Z",
     "start_time": "2024-06-09T09:42:14.609206800Z"
    }
   },
   "id": "732807148be4b4c"
  },
  {
   "cell_type": "markdown",
   "source": [
    "### Initialization"
   ],
   "metadata": {
    "collapsed": false
   },
   "id": "26b63ab9cc5cbcd9"
  },
  {
   "cell_type": "code",
   "execution_count": 4,
   "outputs": [],
   "source": [
    "# initialization\n",
    "gg.actions, gg.counters = cl.read_yaml_fields()"
   ],
   "metadata": {
    "collapsed": false,
    "ExecuteTime": {
     "end_time": "2024-06-09T09:42:24.151766700Z",
     "start_time": "2024-06-09T09:42:24.135154Z"
    }
   },
   "id": "ce5dc84607b38497"
  },
  {
   "cell_type": "markdown",
   "source": [
    "### Collect Data"
   ],
   "metadata": {
    "collapsed": false
   },
   "id": "cc9d79cb6ab3843"
  },
  {
   "cell_type": "code",
   "execution_count": 5,
   "outputs": [],
   "source": [
    "# function that erase content videos' folder\n",
    "def clean_folder():\n",
    "    for file in os.listdir(cs.VIDEOS_FOLDER):\n",
    "        file_path = os.path.join(cs.VIDEOS_FOLDER, file)\n",
    "        if os.path.isfile(file_path) or os.path.islink(file_path):\n",
    "            os.unlink(file_path)\n",
    "        elif os.path.isdir(file_path):\n",
    "            shutil.rmtree(file_path)\n",
    "            \n",
    "# function to collect videos\n",
    "def collect_data(action, no_sequences, no_frames, time_record, signer, camId):\n",
    "    gg.actions, gg.counters = cl.read_yaml_fields()\n",
    "    \n",
    "    if action not in gg.actions:\n",
    "        gg.counters[action] = 0\n",
    "    \n",
    "    action_folder = os.path.join(cs.KEYPOINTS_FOLDER, action)\n",
    "    os.makedirs(action_folder, exist_ok=True)\n",
    "    action_folder2 = os.path.join(cs.VIDEOS_FOLDER, action)\n",
    "    os.makedirs(action_folder2, exist_ok=True)\n",
    "    gg.actions.add(action)\n",
    "    \n",
    "    # clean folder videos\n",
    "    #clean_folder()\n",
    "    \n",
    "    cap = cv2.VideoCapture(camId)\n",
    "    \n",
    "    # Set mediapipe model \n",
    "    with dk.mp_holistic.Holistic(min_detection_confidence=0.5, min_tracking_confidence=0.5) as holistic:\n",
    "        \n",
    "        for sequence in range(no_sequences):\n",
    "            \n",
    "            video_folder = os.path.join(action_folder, str(gg.counters[action] + sequence))\n",
    "            os.makedirs(video_folder, exist_ok=True)\n",
    "            video_folder2 = os.path.join(action_folder2, str(gg.counters[action] + sequence))\n",
    "            os.makedirs(video_folder2, exist_ok=True)\n",
    "            \n",
    "            for frame_num in range(no_frames):\n",
    "                \n",
    "                ret, frame = cap.read()                                                    # Read feed\n",
    "                image, results = dk.mediapipe_detection(frame, holistic)                   # Make detections\n",
    "                dk.draw_styled_landmarks(image, results)                                   # Draw landmarks     \n",
    "                \n",
    "                num = gg.counters[action] + sequence\n",
    "                frame_path = os.path.join(cs.VIDEOS_FOLDER, action, str(num), str(frame_num) + \".jpg\")\n",
    "                cv2.imwrite(frame_path, frame)\n",
    "                \n",
    "                if frame_num == 0: \n",
    "                    cv2.putText(image, 'STARTING COLLECTION', (120,200), \n",
    "                               cv2.FONT_HERSHEY_SIMPLEX, 1, (0,255, 0), 4, cv2.LINE_AA)\n",
    "                    cv2.putText(image, 'Collecting frames for {} Video Number {}'.format(action, sequence), (15,12),\n",
    "                               cv2.FONT_HERSHEY_SIMPLEX, 0.5, (0, 0, 255), 1, cv2.LINE_AA)\n",
    "                    # Show to screen\n",
    "                    cv2.imshow('OpenCV Feed', image)\n",
    "                    cv2.waitKey(time_record)\n",
    "                else:\n",
    "                    cv2.putText(image, 'Collecting frames for {} Video Number {}'.format(action, sequence), (15,12), \n",
    "                               cv2.FONT_HERSHEY_SIMPLEX, 0.5, (0, 0, 255), 1, cv2.LINE_AA)\n",
    "                    # Show to screen\n",
    "                    cv2.imshow('OpenCV Feed', image)\n",
    "                \n",
    "                keypoints = dk.extract_keypoints(results)\n",
    "                \n",
    "                npy_path = os.path.join(video_folder, str(frame_num))\n",
    "                np.save(npy_path, keypoints)\n",
    "                \n",
    "                # Break gracefully\n",
    "                if cv2.waitKey(10) & 0xFF == ord('q'):\n",
    "                    break\n",
    "                \n",
    "        # update actions and counters\n",
    "        gg.counters[action] += no_sequences\n",
    "        cl.update_yaml_fields(gg.actions, gg.counters)\n",
    "        \n",
    "        cap.release()\n",
    "        cv2.destroyAllWindows()\n",
    "    cap.release()\n",
    "    cv2.destroyAllWindows()    \n",
    "    "
   ],
   "metadata": {
    "collapsed": false,
    "ExecuteTime": {
     "end_time": "2024-06-09T09:42:24.180212900Z",
     "start_time": "2024-06-09T09:42:24.156695500Z"
    }
   },
   "id": "9dbf23d52db2f143"
  },
  {
   "cell_type": "code",
   "execution_count": 19,
   "outputs": [],
   "source": [
    "# function to collect keypoints from webcam video\n",
    "collect_data(\"candy\", 30, cs.NUM_FRAME, 1500, \"paolo\", 0)                       "
   ],
   "metadata": {
    "collapsed": false,
    "ExecuteTime": {
     "end_time": "2024-06-09T10:04:30.461656900Z",
     "start_time": "2024-06-09T10:02:24.619526300Z"
    }
   },
   "id": "2b33a93648f869bc"
  }
 ],
 "metadata": {
  "kernelspec": {
   "display_name": "Python 3",
   "language": "python",
   "name": "python3"
  },
  "language_info": {
   "codemirror_mode": {
    "name": "ipython",
    "version": 2
   },
   "file_extension": ".py",
   "mimetype": "text/x-python",
   "name": "python",
   "nbconvert_exporter": "python",
   "pygments_lexer": "ipython2",
   "version": "2.7.6"
  }
 },
 "nbformat": 4,
 "nbformat_minor": 5
}
