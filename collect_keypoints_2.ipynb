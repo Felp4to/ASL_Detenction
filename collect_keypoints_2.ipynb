{
 "cells": [
  {
   "cell_type": "markdown",
   "source": [
    "### Collect keypoints 2"
   ],
   "metadata": {
    "collapsed": false
   },
   "id": "f5eed41f8b316ec2"
  },
  {
   "cell_type": "code",
   "execution_count": 1,
   "outputs": [],
   "source": [
    "import constants as cs\n",
    "import globali as gg\n",
    "import config_loader as cl\n",
    "import detect_keypoints as dk"
   ],
   "metadata": {
    "collapsed": false,
    "ExecuteTime": {
     "end_time": "2024-06-07T21:36:01.999796200Z",
     "start_time": "2024-06-07T21:35:45.570632700Z"
    }
   },
   "id": "eec6fbd28b7dcf7e"
  },
  {
   "cell_type": "code",
   "execution_count": 2,
   "outputs": [],
   "source": [
    "import os\n",
    "import json\n",
    "import cv2\n",
    "import numpy as np\n",
    "from tqdm import tqdm"
   ],
   "metadata": {
    "collapsed": false,
    "ExecuteTime": {
     "end_time": "2024-06-07T21:36:02.071258900Z",
     "start_time": "2024-06-07T21:36:02.006910600Z"
    }
   },
   "id": "initial_id"
  },
  {
   "cell_type": "markdown",
   "source": [
    "### Initialization"
   ],
   "metadata": {
    "collapsed": false
   },
   "id": "9dc896a54e860eed"
  },
  {
   "cell_type": "code",
   "execution_count": 3,
   "outputs": [],
   "source": [
    "def init():\n",
    "    action_videos = {}\n",
    "    with open(cs.JSON_PATH, 'r') as file:\n",
    "        data = json.load(file)    \n",
    "    for action in data:\n",
    "        new_list = []\n",
    "        for instance in action['instances']:\n",
    "            new_list.append(instance['video_id'])\n",
    "        action_videos[action['gloss']] = new_list\n",
    "    return os.listdir(cs.VIDEOS_PATH), action_videos"
   ],
   "metadata": {
    "collapsed": false,
    "ExecuteTime": {
     "end_time": "2024-06-07T21:36:02.148010700Z",
     "start_time": "2024-06-07T21:36:02.072261200Z"
    }
   },
   "id": "edef84bc3b40f413"
  },
  {
   "cell_type": "code",
   "execution_count": 4,
   "outputs": [],
   "source": [
    "# initialization\n",
    "gg.actions, gg.counters = cl.read_yaml_fields()"
   ],
   "metadata": {
    "collapsed": false,
    "ExecuteTime": {
     "end_time": "2024-06-07T21:36:02.186280700Z",
     "start_time": "2024-06-07T21:36:02.151012800Z"
    }
   },
   "id": "c8657341080e9d8f"
  },
  {
   "cell_type": "code",
   "execution_count": 5,
   "outputs": [],
   "source": [
    "videoList, action_dict = init()\n",
    "action_dict_true = {}"
   ],
   "metadata": {
    "collapsed": false,
    "ExecuteTime": {
     "end_time": "2024-06-07T21:36:24.829363600Z",
     "start_time": "2024-06-07T21:36:24.579734100Z"
    }
   },
   "id": "7a62c045d805c90b"
  },
  {
   "cell_type": "code",
   "execution_count": 6,
   "outputs": [],
   "source": [
    "\n",
    "for action in action_dict:\n",
    "    action_dict_true[action] = list()\n",
    "    for instance in action_dict[action]:\n",
    "        filename = str(instance) + \".mp4\"\n",
    "        if filename in videoList:\n",
    "            action_dict_true[action].append(instance)\n",
    "\n",
    "action_dict_true = dict(sorted(action_dict_true.items(), key=lambda item: len(item[1]), reverse=True))\n"
   ],
   "metadata": {
    "collapsed": false,
    "ExecuteTime": {
     "end_time": "2024-06-07T21:36:31.175246900Z",
     "start_time": "2024-06-07T21:36:26.416535Z"
    }
   },
   "id": "26a5d39e90d2bc7c"
  },
  {
   "cell_type": "markdown",
   "source": [
    "### Collect Data"
   ],
   "metadata": {
    "collapsed": false
   },
   "id": "517346ba9b041219"
  },
  {
   "cell_type": "code",
   "execution_count": 7,
   "outputs": [],
   "source": [
    "def collect_keypoints_from_video(video_path, action, no_frames):\n",
    "    \n",
    "    # load values from settings file \n",
    "    gg.actions, gg.counters = cl.read_yaml_fields()\n",
    "    \n",
    "    # create directories\n",
    "    if action not in gg.actions:\n",
    "        gg.counters[action] = 0\n",
    "    action_folder = os.path.join(cs.KEYPOINTS_FOLDER, action)\n",
    "    os.makedirs(action_folder, exist_ok=True)\n",
    "    action_folder2 = os.path.join(cs.VIDEOS_FOLDER, action)\n",
    "    os.makedirs(action_folder2, exist_ok=True)\n",
    "    gg.actions.add(action)\n",
    "    video_folder = os.path.join(action_folder, str(gg.counters[action]))\n",
    "    os.makedirs(video_folder, exist_ok=True)\n",
    "    \n",
    "    # extract frames from video\n",
    "    frames = dk.extract_frames(video_path, no_frames)   # cs.NUM_FRAME\n",
    "    \n",
    "    # Set mediapipe model \n",
    "    with dk.mp_holistic.Holistic(min_detection_confidence=0.5,\n",
    "                                 min_tracking_confidence=0.5) as holistic:\n",
    "        # for each frame detect keypoints\n",
    "        for idx, frame in enumerate(frames):\n",
    "            image, results = dk.mediapipe_detection(frame, holistic)                   # Make detections\n",
    "            dk.draw_styled_landmarks(image, results)                                   # Draw landmarks \n",
    "            keypoints = dk.extract_keypoints(results)                                  # Extract keypoints\n",
    "            \n",
    "            # save keypoints in a file\n",
    "            npy_folder = os.path.join(video_folder, str(idx))\n",
    "            np.save(npy_folder, keypoints)\n",
    "            \n",
    "            # save video in a file\n",
    "            frame_path = os.path.join(cs.VIDEOS_FOLDER, action,\n",
    "                                      str(gg.counters[action]))\n",
    "            os.makedirs(frame_path, exist_ok=True)\n",
    "            frame_path = os.path.join(cs.VIDEOS_FOLDER, action, \n",
    "                                      str(gg.counters[action]), str(idx) + \".jpg\")\n",
    "            cv2.imwrite(frame_path, frame)\n",
    "            \n",
    "        # update actions and counters\n",
    "        gg.counters[action] += 1\n",
    "        cl.update_yaml_fields(gg.actions, gg.counters)\n",
    "    "
   ],
   "metadata": {
    "collapsed": false,
    "ExecuteTime": {
     "end_time": "2024-06-07T21:36:39.055291600Z",
     "start_time": "2024-06-07T21:36:39.044140200Z"
    }
   },
   "id": "eba07c578f0f97f9"
  },
  {
   "cell_type": "code",
   "execution_count": 8,
   "outputs": [
    {
     "name": "stdout",
     "output_type": "stream",
     "text": [
      "key:  thin\n",
      "D:/Università/Magistrale_Roma_Tre/Deep_Learning/Progetto/PROGETTO/videos\\57919.mp4\n",
      "D:/Università/Magistrale_Roma_Tre/Deep_Learning/Progetto/PROGETTO/videos\\57948.mp4\n",
      "D:/Università/Magistrale_Roma_Tre/Deep_Learning/Progetto/PROGETTO/videos\\57949.mp4\n",
      "D:/Università/Magistrale_Roma_Tre/Deep_Learning/Progetto/PROGETTO/videos\\57934.mp4\n",
      "D:/Università/Magistrale_Roma_Tre/Deep_Learning/Progetto/PROGETTO/videos\\57935.mp4\n",
      "D:/Università/Magistrale_Roma_Tre/Deep_Learning/Progetto/PROGETTO/videos\\57936.mp4\n",
      "D:/Università/Magistrale_Roma_Tre/Deep_Learning/Progetto/PROGETTO/videos\\57937.mp4\n",
      "D:/Università/Magistrale_Roma_Tre/Deep_Learning/Progetto/PROGETTO/videos\\66606.mp4\n",
      "D:/Università/Magistrale_Roma_Tre/Deep_Learning/Progetto/PROGETTO/videos\\57939.mp4\n",
      "D:/Università/Magistrale_Roma_Tre/Deep_Learning/Progetto/PROGETTO/videos\\57940.mp4\n",
      "D:/Università/Magistrale_Roma_Tre/Deep_Learning/Progetto/PROGETTO/videos\\57941.mp4\n",
      "D:/Università/Magistrale_Roma_Tre/Deep_Learning/Progetto/PROGETTO/videos\\57942.mp4\n",
      "D:/Università/Magistrale_Roma_Tre/Deep_Learning/Progetto/PROGETTO/videos\\66607.mp4\n",
      "D:/Università/Magistrale_Roma_Tre/Deep_Learning/Progetto/PROGETTO/videos\\57933.mp4\n",
      "D:/Università/Magistrale_Roma_Tre/Deep_Learning/Progetto/PROGETTO/videos\\57943.mp4\n",
      "D:/Università/Magistrale_Roma_Tre/Deep_Learning/Progetto/PROGETTO/videos\\57947.mp4\n",
      "key:  go\n",
      "D:/Università/Magistrale_Roma_Tre/Deep_Learning/Progetto/PROGETTO/videos\\24857.mp4\n",
      "D:/Università/Magistrale_Roma_Tre/Deep_Learning/Progetto/PROGETTO/videos\\69345.mp4\n",
      "D:/Università/Magistrale_Roma_Tre/Deep_Learning/Progetto/PROGETTO/videos\\24955.mp4\n",
      "D:/Università/Magistrale_Roma_Tre/Deep_Learning/Progetto/PROGETTO/videos\\24956.mp4\n",
      "D:/Università/Magistrale_Roma_Tre/Deep_Learning/Progetto/PROGETTO/videos\\24941.mp4\n",
      "D:/Università/Magistrale_Roma_Tre/Deep_Learning/Progetto/PROGETTO/videos\\24960.mp4\n",
      "D:/Università/Magistrale_Roma_Tre/Deep_Learning/Progetto/PROGETTO/videos\\24961.mp4\n",
      "D:/Università/Magistrale_Roma_Tre/Deep_Learning/Progetto/PROGETTO/videos\\24962.mp4\n",
      "D:/Università/Magistrale_Roma_Tre/Deep_Learning/Progetto/PROGETTO/videos\\65824.mp4\n",
      "D:/Università/Magistrale_Roma_Tre/Deep_Learning/Progetto/PROGETTO/videos\\24943.mp4\n",
      "D:/Università/Magistrale_Roma_Tre/Deep_Learning/Progetto/PROGETTO/videos\\24946.mp4\n",
      "D:/Università/Magistrale_Roma_Tre/Deep_Learning/Progetto/PROGETTO/videos\\24947.mp4\n",
      "D:/Università/Magistrale_Roma_Tre/Deep_Learning/Progetto/PROGETTO/videos\\24940.mp4\n",
      "D:/Università/Magistrale_Roma_Tre/Deep_Learning/Progetto/PROGETTO/videos\\24952.mp4\n",
      "D:/Università/Magistrale_Roma_Tre/Deep_Learning/Progetto/PROGETTO/videos\\24954.mp4\n",
      "key:  computer\n",
      "D:/Università/Magistrale_Roma_Tre/Deep_Learning/Progetto/PROGETTO/videos\\12306.mp4\n",
      "D:/Università/Magistrale_Roma_Tre/Deep_Learning/Progetto/PROGETTO/videos\\12328.mp4\n",
      "D:/Università/Magistrale_Roma_Tre/Deep_Learning/Progetto/PROGETTO/videos\\12312.mp4\n",
      "D:/Università/Magistrale_Roma_Tre/Deep_Learning/Progetto/PROGETTO/videos\\12311.mp4\n",
      "D:/Università/Magistrale_Roma_Tre/Deep_Learning/Progetto/PROGETTO/videos\\12313.mp4\n",
      "D:/Università/Magistrale_Roma_Tre/Deep_Learning/Progetto/PROGETTO/videos\\12314.mp4\n",
      "D:/Università/Magistrale_Roma_Tre/Deep_Learning/Progetto/PROGETTO/videos\\12315.mp4\n",
      "D:/Università/Magistrale_Roma_Tre/Deep_Learning/Progetto/PROGETTO/videos\\12316.mp4\n",
      "D:/Università/Magistrale_Roma_Tre/Deep_Learning/Progetto/PROGETTO/videos\\12317.mp4\n",
      "D:/Università/Magistrale_Roma_Tre/Deep_Learning/Progetto/PROGETTO/videos\\12318.mp4\n",
      "D:/Università/Magistrale_Roma_Tre/Deep_Learning/Progetto/PROGETTO/videos\\12319.mp4\n",
      "D:/Università/Magistrale_Roma_Tre/Deep_Learning/Progetto/PROGETTO/videos\\12320.mp4\n",
      "D:/Università/Magistrale_Roma_Tre/Deep_Learning/Progetto/PROGETTO/videos\\12326.mp4\n",
      "D:/Università/Magistrale_Roma_Tre/Deep_Learning/Progetto/PROGETTO/videos\\12327.mp4\n",
      "key:  before\n",
      "D:/Università/Magistrale_Roma_Tre/Deep_Learning/Progetto/PROGETTO/videos\\05724.mp4\n",
      "D:/Università/Magistrale_Roma_Tre/Deep_Learning/Progetto/PROGETTO/videos\\05728.mp4\n",
      "D:/Università/Magistrale_Roma_Tre/Deep_Learning/Progetto/PROGETTO/videos\\05729.mp4\n",
      "D:/Università/Magistrale_Roma_Tre/Deep_Learning/Progetto/PROGETTO/videos\\05730.mp4\n",
      "D:/Università/Magistrale_Roma_Tre/Deep_Learning/Progetto/PROGETTO/videos\\05731.mp4\n",
      "D:/Università/Magistrale_Roma_Tre/Deep_Learning/Progetto/PROGETTO/videos\\05732.mp4\n",
      "D:/Università/Magistrale_Roma_Tre/Deep_Learning/Progetto/PROGETTO/videos\\05733.mp4\n",
      "D:/Università/Magistrale_Roma_Tre/Deep_Learning/Progetto/PROGETTO/videos\\05734.mp4\n",
      "D:/Università/Magistrale_Roma_Tre/Deep_Learning/Progetto/PROGETTO/videos\\05727.mp4\n",
      "D:/Università/Magistrale_Roma_Tre/Deep_Learning/Progetto/PROGETTO/videos\\05739.mp4\n",
      "D:/Università/Magistrale_Roma_Tre/Deep_Learning/Progetto/PROGETTO/videos\\05740.mp4\n",
      "D:/Università/Magistrale_Roma_Tre/Deep_Learning/Progetto/PROGETTO/videos\\05741.mp4\n",
      "D:/Università/Magistrale_Roma_Tre/Deep_Learning/Progetto/PROGETTO/videos\\05742.mp4\n",
      "D:/Università/Magistrale_Roma_Tre/Deep_Learning/Progetto/PROGETTO/videos\\05743.mp4\n",
      "key:  help\n",
      "D:/Università/Magistrale_Roma_Tre/Deep_Learning/Progetto/PROGETTO/videos\\27194.mp4\n",
      "D:/Università/Magistrale_Roma_Tre/Deep_Learning/Progetto/PROGETTO/videos\\69364.mp4\n",
      "D:/Università/Magistrale_Roma_Tre/Deep_Learning/Progetto/PROGETTO/videos\\27206.mp4\n",
      "D:/Università/Magistrale_Roma_Tre/Deep_Learning/Progetto/PROGETTO/videos\\27207.mp4\n",
      "D:/Università/Magistrale_Roma_Tre/Deep_Learning/Progetto/PROGETTO/videos\\27208.mp4\n",
      "D:/Università/Magistrale_Roma_Tre/Deep_Learning/Progetto/PROGETTO/videos\\27209.mp4\n",
      "D:/Università/Magistrale_Roma_Tre/Deep_Learning/Progetto/PROGETTO/videos\\65890.mp4\n",
      "D:/Università/Magistrale_Roma_Tre/Deep_Learning/Progetto/PROGETTO/videos\\27213.mp4\n",
      "D:/Università/Magistrale_Roma_Tre/Deep_Learning/Progetto/PROGETTO/videos\\27214.mp4\n",
      "D:/Università/Magistrale_Roma_Tre/Deep_Learning/Progetto/PROGETTO/videos\\65891.mp4\n",
      "D:/Università/Magistrale_Roma_Tre/Deep_Learning/Progetto/PROGETTO/videos\\65889.mp4\n",
      "D:/Università/Magistrale_Roma_Tre/Deep_Learning/Progetto/PROGETTO/videos\\27215.mp4\n",
      "D:/Università/Magistrale_Roma_Tre/Deep_Learning/Progetto/PROGETTO/videos\\27216.mp4\n",
      "D:/Università/Magistrale_Roma_Tre/Deep_Learning/Progetto/PROGETTO/videos\\27217.mp4\n",
      "key:  bowling\n",
      "D:/Università/Magistrale_Roma_Tre/Deep_Learning/Progetto/PROGETTO/videos\\07383.mp4\n",
      "D:/Università/Magistrale_Roma_Tre/Deep_Learning/Progetto/PROGETTO/videos\\07389.mp4\n",
      "D:/Università/Magistrale_Roma_Tre/Deep_Learning/Progetto/PROGETTO/videos\\07390.mp4\n",
      "D:/Università/Magistrale_Roma_Tre/Deep_Learning/Progetto/PROGETTO/videos\\07391.mp4\n",
      "D:/Università/Magistrale_Roma_Tre/Deep_Learning/Progetto/PROGETTO/videos\\07392.mp4\n",
      "D:/Università/Magistrale_Roma_Tre/Deep_Learning/Progetto/PROGETTO/videos\\07393.mp4\n",
      "D:/Università/Magistrale_Roma_Tre/Deep_Learning/Progetto/PROGETTO/videos\\07394.mp4\n",
      "D:/Università/Magistrale_Roma_Tre/Deep_Learning/Progetto/PROGETTO/videos\\07397.mp4\n",
      "D:/Università/Magistrale_Roma_Tre/Deep_Learning/Progetto/PROGETTO/videos\\65242.mp4\n",
      "D:/Università/Magistrale_Roma_Tre/Deep_Learning/Progetto/PROGETTO/videos\\65241.mp4\n",
      "D:/Università/Magistrale_Roma_Tre/Deep_Learning/Progetto/PROGETTO/videos\\07388.mp4\n",
      "D:/Università/Magistrale_Roma_Tre/Deep_Learning/Progetto/PROGETTO/videos\\07398.mp4\n",
      "D:/Università/Magistrale_Roma_Tre/Deep_Learning/Progetto/PROGETTO/videos\\07399.mp4\n",
      "D:/Università/Magistrale_Roma_Tre/Deep_Learning/Progetto/PROGETTO/videos\\07400.mp4\n",
      "key:  cool\n",
      "D:/Università/Magistrale_Roma_Tre/Deep_Learning/Progetto/PROGETTO/videos\\69281.mp4\n",
      "D:/Università/Magistrale_Roma_Tre/Deep_Learning/Progetto/PROGETTO/videos\\65403.mp4\n",
      "D:/Università/Magistrale_Roma_Tre/Deep_Learning/Progetto/PROGETTO/videos\\13213.mp4\n",
      "D:/Università/Magistrale_Roma_Tre/Deep_Learning/Progetto/PROGETTO/videos\\13197.mp4\n",
      "D:/Università/Magistrale_Roma_Tre/Deep_Learning/Progetto/PROGETTO/videos\\13198.mp4\n",
      "D:/Università/Magistrale_Roma_Tre/Deep_Learning/Progetto/PROGETTO/videos\\13199.mp4\n",
      "D:/Università/Magistrale_Roma_Tre/Deep_Learning/Progetto/PROGETTO/videos\\13200.mp4\n",
      "D:/Università/Magistrale_Roma_Tre/Deep_Learning/Progetto/PROGETTO/videos\\13201.mp4\n",
      "D:/Università/Magistrale_Roma_Tre/Deep_Learning/Progetto/PROGETTO/videos\\13202.mp4\n",
      "D:/Università/Magistrale_Roma_Tre/Deep_Learning/Progetto/PROGETTO/videos\\13203.mp4\n",
      "D:/Università/Magistrale_Roma_Tre/Deep_Learning/Progetto/PROGETTO/videos\\13196.mp4\n",
      "D:/Università/Magistrale_Roma_Tre/Deep_Learning/Progetto/PROGETTO/videos\\13208.mp4\n",
      "D:/Università/Magistrale_Roma_Tre/Deep_Learning/Progetto/PROGETTO/videos\\13209.mp4\n",
      "key:  bed\n",
      "D:/Università/Magistrale_Roma_Tre/Deep_Learning/Progetto/PROGETTO/videos\\05628.mp4\n",
      "D:/Università/Magistrale_Roma_Tre/Deep_Learning/Progetto/PROGETTO/videos\\05629.mp4\n",
      "D:/Università/Magistrale_Roma_Tre/Deep_Learning/Progetto/PROGETTO/videos\\05630.mp4\n",
      "D:/Università/Magistrale_Roma_Tre/Deep_Learning/Progetto/PROGETTO/videos\\05631.mp4\n",
      "D:/Università/Magistrale_Roma_Tre/Deep_Learning/Progetto/PROGETTO/videos\\05632.mp4\n",
      "D:/Università/Magistrale_Roma_Tre/Deep_Learning/Progetto/PROGETTO/videos\\05633.mp4\n",
      "D:/Università/Magistrale_Roma_Tre/Deep_Learning/Progetto/PROGETTO/videos\\05634.mp4\n",
      "D:/Università/Magistrale_Roma_Tre/Deep_Learning/Progetto/PROGETTO/videos\\05636.mp4\n",
      "D:/Università/Magistrale_Roma_Tre/Deep_Learning/Progetto/PROGETTO/videos\\65162.mp4\n",
      "D:/Università/Magistrale_Roma_Tre/Deep_Learning/Progetto/PROGETTO/videos\\05637.mp4\n",
      "D:/Università/Magistrale_Roma_Tre/Deep_Learning/Progetto/PROGETTO/videos\\65163.mp4\n",
      "D:/Università/Magistrale_Roma_Tre/Deep_Learning/Progetto/PROGETTO/videos\\65161.mp4\n",
      "D:/Università/Magistrale_Roma_Tre/Deep_Learning/Progetto/PROGETTO/videos\\05638.mp4\n",
      "key:  tall\n",
      "D:/Università/Magistrale_Roma_Tre/Deep_Learning/Progetto/PROGETTO/videos\\56835.mp4\n",
      "D:/Università/Magistrale_Roma_Tre/Deep_Learning/Progetto/PROGETTO/videos\\56838.mp4\n",
      "D:/Università/Magistrale_Roma_Tre/Deep_Learning/Progetto/PROGETTO/videos\\56839.mp4\n",
      "D:/Università/Magistrale_Roma_Tre/Deep_Learning/Progetto/PROGETTO/videos\\56840.mp4\n",
      "D:/Università/Magistrale_Roma_Tre/Deep_Learning/Progetto/PROGETTO/videos\\56841.mp4\n",
      "D:/Università/Magistrale_Roma_Tre/Deep_Learning/Progetto/PROGETTO/videos\\56842.mp4\n",
      "D:/Università/Magistrale_Roma_Tre/Deep_Learning/Progetto/PROGETTO/videos\\56843.mp4\n",
      "D:/Università/Magistrale_Roma_Tre/Deep_Learning/Progetto/PROGETTO/videos\\56844.mp4\n",
      "D:/Università/Magistrale_Roma_Tre/Deep_Learning/Progetto/PROGETTO/videos\\66591.mp4\n",
      "D:/Università/Magistrale_Roma_Tre/Deep_Learning/Progetto/PROGETTO/videos\\56846.mp4\n",
      "D:/Università/Magistrale_Roma_Tre/Deep_Learning/Progetto/PROGETTO/videos\\66592.mp4\n",
      "D:/Università/Magistrale_Roma_Tre/Deep_Learning/Progetto/PROGETTO/videos\\56837.mp4\n",
      "D:/Università/Magistrale_Roma_Tre/Deep_Learning/Progetto/PROGETTO/videos\\56848.mp4\n",
      "key:  accident\n",
      "D:/Università/Magistrale_Roma_Tre/Deep_Learning/Progetto/PROGETTO/videos\\00618.mp4\n",
      "D:/Università/Magistrale_Roma_Tre/Deep_Learning/Progetto/PROGETTO/videos\\00624.mp4\n",
      "D:/Università/Magistrale_Roma_Tre/Deep_Learning/Progetto/PROGETTO/videos\\00625.mp4\n",
      "D:/Università/Magistrale_Roma_Tre/Deep_Learning/Progetto/PROGETTO/videos\\00626.mp4\n",
      "D:/Università/Magistrale_Roma_Tre/Deep_Learning/Progetto/PROGETTO/videos\\00627.mp4\n",
      "D:/Università/Magistrale_Roma_Tre/Deep_Learning/Progetto/PROGETTO/videos\\00628.mp4\n",
      "D:/Università/Magistrale_Roma_Tre/Deep_Learning/Progetto/PROGETTO/videos\\00629.mp4\n",
      "D:/Università/Magistrale_Roma_Tre/Deep_Learning/Progetto/PROGETTO/videos\\00631.mp4\n",
      "D:/Università/Magistrale_Roma_Tre/Deep_Learning/Progetto/PROGETTO/videos\\00632.mp4\n",
      "D:/Università/Magistrale_Roma_Tre/Deep_Learning/Progetto/PROGETTO/videos\\65009.mp4\n",
      "D:/Università/Magistrale_Roma_Tre/Deep_Learning/Progetto/PROGETTO/videos\\00623.mp4\n",
      "D:/Università/Magistrale_Roma_Tre/Deep_Learning/Progetto/PROGETTO/videos\\00633.mp4\n",
      "D:/Università/Magistrale_Roma_Tre/Deep_Learning/Progetto/PROGETTO/videos\\00634.mp4\n",
      "key:  trade\n",
      "D:/Università/Magistrale_Roma_Tre/Deep_Learning/Progetto/PROGETTO/videos\\59203.mp4\n",
      "D:/Università/Magistrale_Roma_Tre/Deep_Learning/Progetto/PROGETTO/videos\\59206.mp4\n",
      "D:/Università/Magistrale_Roma_Tre/Deep_Learning/Progetto/PROGETTO/videos\\59207.mp4\n",
      "D:/Università/Magistrale_Roma_Tre/Deep_Learning/Progetto/PROGETTO/videos\\59208.mp4\n",
      "D:/Università/Magistrale_Roma_Tre/Deep_Learning/Progetto/PROGETTO/videos\\59209.mp4\n",
      "D:/Università/Magistrale_Roma_Tre/Deep_Learning/Progetto/PROGETTO/videos\\59210.mp4\n",
      "D:/Università/Magistrale_Roma_Tre/Deep_Learning/Progetto/PROGETTO/videos\\59211.mp4\n",
      "D:/Università/Magistrale_Roma_Tre/Deep_Learning/Progetto/PROGETTO/videos\\59212.mp4\n",
      "D:/Università/Magistrale_Roma_Tre/Deep_Learning/Progetto/PROGETTO/videos\\59214.mp4\n",
      "D:/Università/Magistrale_Roma_Tre/Deep_Learning/Progetto/PROGETTO/videos\\59215.mp4\n",
      "D:/Università/Magistrale_Roma_Tre/Deep_Learning/Progetto/PROGETTO/videos\\59216.mp4\n",
      "D:/Università/Magistrale_Roma_Tre/Deep_Learning/Progetto/PROGETTO/videos\\59204.mp4\n",
      "D:/Università/Magistrale_Roma_Tre/Deep_Learning/Progetto/PROGETTO/videos\\59205.mp4\n",
      "key:  drink\n",
      "D:/Università/Magistrale_Roma_Tre/Deep_Learning/Progetto/PROGETTO/videos\\69302.mp4\n",
      "D:/Università/Magistrale_Roma_Tre/Deep_Learning/Progetto/PROGETTO/videos\\17710.mp4\n",
      "D:/Università/Magistrale_Roma_Tre/Deep_Learning/Progetto/PROGETTO/videos\\65540.mp4\n",
      "D:/Università/Magistrale_Roma_Tre/Deep_Learning/Progetto/PROGETTO/videos\\17711.mp4\n",
      "D:/Università/Magistrale_Roma_Tre/Deep_Learning/Progetto/PROGETTO/videos\\17712.mp4\n",
      "D:/Università/Magistrale_Roma_Tre/Deep_Learning/Progetto/PROGETTO/videos\\17713.mp4\n",
      "D:/Università/Magistrale_Roma_Tre/Deep_Learning/Progetto/PROGETTO/videos\\17709.mp4\n",
      "D:/Università/Magistrale_Roma_Tre/Deep_Learning/Progetto/PROGETTO/videos\\17720.mp4\n",
      "D:/Università/Magistrale_Roma_Tre/Deep_Learning/Progetto/PROGETTO/videos\\17721.mp4\n",
      "D:/Università/Magistrale_Roma_Tre/Deep_Learning/Progetto/PROGETTO/videos\\17722.mp4\n",
      "D:/Università/Magistrale_Roma_Tre/Deep_Learning/Progetto/PROGETTO/videos\\17723.mp4\n",
      "D:/Università/Magistrale_Roma_Tre/Deep_Learning/Progetto/PROGETTO/videos\\17724.mp4\n",
      "key:  who\n",
      "D:/Università/Magistrale_Roma_Tre/Deep_Learning/Progetto/PROGETTO/videos\\63219.mp4\n",
      "D:/Università/Magistrale_Roma_Tre/Deep_Learning/Progetto/PROGETTO/videos\\69534.mp4\n",
      "D:/Università/Magistrale_Roma_Tre/Deep_Learning/Progetto/PROGETTO/videos\\63226.mp4\n",
      "D:/Università/Magistrale_Roma_Tre/Deep_Learning/Progetto/PROGETTO/videos\\63227.mp4\n",
      "D:/Università/Magistrale_Roma_Tre/Deep_Learning/Progetto/PROGETTO/videos\\63228.mp4\n",
      "D:/Università/Magistrale_Roma_Tre/Deep_Learning/Progetto/PROGETTO/videos\\63229.mp4\n",
      "D:/Università/Magistrale_Roma_Tre/Deep_Learning/Progetto/PROGETTO/videos\\63230.mp4\n",
      "D:/Università/Magistrale_Roma_Tre/Deep_Learning/Progetto/PROGETTO/videos\\63231.mp4\n",
      "D:/Università/Magistrale_Roma_Tre/Deep_Learning/Progetto/PROGETTO/videos\\63232.mp4\n",
      "D:/Università/Magistrale_Roma_Tre/Deep_Learning/Progetto/PROGETTO/videos\\63225.mp4\n",
      "D:/Università/Magistrale_Roma_Tre/Deep_Learning/Progetto/PROGETTO/videos\\63236.mp4\n",
      "D:/Università/Magistrale_Roma_Tre/Deep_Learning/Progetto/PROGETTO/videos\\63237.mp4\n",
      "key:  candy\n",
      "D:/Università/Magistrale_Roma_Tre/Deep_Learning/Progetto/PROGETTO/videos\\08909.mp4\n",
      "D:/Università/Magistrale_Roma_Tre/Deep_Learning/Progetto/PROGETTO/videos\\08916.mp4\n",
      "D:/Università/Magistrale_Roma_Tre/Deep_Learning/Progetto/PROGETTO/videos\\08917.mp4\n",
      "D:/Università/Magistrale_Roma_Tre/Deep_Learning/Progetto/PROGETTO/videos\\08918.mp4\n",
      "D:/Università/Magistrale_Roma_Tre/Deep_Learning/Progetto/PROGETTO/videos\\08919.mp4\n",
      "D:/Università/Magistrale_Roma_Tre/Deep_Learning/Progetto/PROGETTO/videos\\08920.mp4\n",
      "D:/Università/Magistrale_Roma_Tre/Deep_Learning/Progetto/PROGETTO/videos\\08921.mp4\n",
      "D:/Università/Magistrale_Roma_Tre/Deep_Learning/Progetto/PROGETTO/videos\\65298.mp4\n",
      "D:/Università/Magistrale_Roma_Tre/Deep_Learning/Progetto/PROGETTO/videos\\08924.mp4\n",
      "D:/Università/Magistrale_Roma_Tre/Deep_Learning/Progetto/PROGETTO/videos\\65300.mp4\n",
      "D:/Università/Magistrale_Roma_Tre/Deep_Learning/Progetto/PROGETTO/videos\\08915.mp4\n",
      "D:/Università/Magistrale_Roma_Tre/Deep_Learning/Progetto/PROGETTO/videos\\08925.mp4\n",
      "key:  deaf\n",
      "D:/Università/Magistrale_Roma_Tre/Deep_Learning/Progetto/PROGETTO/videos\\14855.mp4\n",
      "D:/Università/Magistrale_Roma_Tre/Deep_Learning/Progetto/PROGETTO/videos\\14882.mp4\n",
      "D:/Università/Magistrale_Roma_Tre/Deep_Learning/Progetto/PROGETTO/videos\\14883.mp4\n",
      "D:/Università/Magistrale_Roma_Tre/Deep_Learning/Progetto/PROGETTO/videos\\14884.mp4\n",
      "D:/Università/Magistrale_Roma_Tre/Deep_Learning/Progetto/PROGETTO/videos\\14885.mp4\n",
      "D:/Università/Magistrale_Roma_Tre/Deep_Learning/Progetto/PROGETTO/videos\\14886.mp4\n",
      "D:/Università/Magistrale_Roma_Tre/Deep_Learning/Progetto/PROGETTO/videos\\65445.mp4\n",
      "D:/Università/Magistrale_Roma_Tre/Deep_Learning/Progetto/PROGETTO/videos\\14887.mp4\n",
      "D:/Università/Magistrale_Roma_Tre/Deep_Learning/Progetto/PROGETTO/videos\\14888.mp4\n",
      "D:/Università/Magistrale_Roma_Tre/Deep_Learning/Progetto/PROGETTO/videos\\14893.mp4\n",
      "D:/Università/Magistrale_Roma_Tre/Deep_Learning/Progetto/PROGETTO/videos\\14894.mp4\n",
      "D:/Università/Magistrale_Roma_Tre/Deep_Learning/Progetto/PROGETTO/videos\\14896.mp4\n"
     ]
    }
   ],
   "source": [
    "first_elements  = list(action_dict_true.items())[:15]\n",
    "\n",
    "for key, value in first_elements:\n",
    "    for video in value:\n",
    "        video_path = os.path.join(cs.VIDEOS_PATH, video + \".mp4\")\n",
    "        collect_keypoints_from_video(video_path, key, cs.NUM_FRAME)\n",
    "        "
   ],
   "metadata": {
    "collapsed": false,
    "ExecuteTime": {
     "end_time": "2024-06-07T21:47:07.778715500Z",
     "start_time": "2024-06-07T21:37:09.522354400Z"
    }
   },
   "id": "240d05f3363c0c54"
  }
 ],
 "metadata": {
  "kernelspec": {
   "display_name": "Python 3",
   "language": "python",
   "name": "python3"
  },
  "language_info": {
   "codemirror_mode": {
    "name": "ipython",
    "version": 2
   },
   "file_extension": ".py",
   "mimetype": "text/x-python",
   "name": "python",
   "nbconvert_exporter": "python",
   "pygments_lexer": "ipython2",
   "version": "2.7.6"
  }
 },
 "nbformat": 4,
 "nbformat_minor": 5
}
