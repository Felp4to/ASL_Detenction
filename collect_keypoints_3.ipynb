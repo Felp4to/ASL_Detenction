{
 "cells": [
  {
   "cell_type": "markdown",
   "source": [
    "### Collect keypoints 3 - form youtube videos"
   ],
   "metadata": {
    "collapsed": false
   },
   "id": "41d82b2ee2b38fe5"
  },
  {
   "cell_type": "code",
   "execution_count": 1,
   "outputs": [],
   "source": [
    "import os\n",
    "import cv2\n",
    "import numpy as np\n",
    "from pytube import YouTube\n",
    "from moviepy.video.io.VideoFileClip import VideoFileClip\n",
    "import constants as cs\n",
    "import globali as gg\n",
    "import config_loader as cl\n",
    "import detect_keypoints as dk"
   ],
   "metadata": {
    "collapsed": false,
    "ExecuteTime": {
     "end_time": "2024-06-28T12:31:12.297319400Z",
     "start_time": "2024-06-28T12:30:54.957689500Z"
    }
   },
   "id": "3b539c9e23dcb918"
  },
  {
   "cell_type": "markdown",
   "source": [
    "### Extract keypoints from video"
   ],
   "metadata": {
    "collapsed": false
   },
   "id": "d115e172ae0b9cb7"
  },
  {
   "cell_type": "code",
   "execution_count": 3,
   "outputs": [],
   "source": [
    "def download_and_trim_youtube_video(url, start_time, end_time, action, no_frames):\n",
    "    \n",
    "    # load values from settings file \n",
    "    gg.actions, gg.counters = cl.read_yaml_fields()\n",
    "    \n",
    "    # create directories\n",
    "    if action not in gg.actions:\n",
    "        gg.actions.add(action)\n",
    "        gg.counters[action] = 0\n",
    "    action_folder = os.path.join(cs.KEYPOINTS_FOLDER, action)\n",
    "    os.makedirs(action_folder, exist_ok=True)\n",
    "    action_folder2 = os.path.join(cs.VIDEOS_FOLDER, action)\n",
    "    os.makedirs(action_folder2, exist_ok=True)\n",
    "    video_folder = os.path.join(action_folder, str(gg.counters[action]))\n",
    "    os.makedirs(video_folder, exist_ok=True)\n",
    "    \n",
    "    # download youtube video\n",
    "    yt = YouTube(url)\n",
    "    video_stream = yt.streams.filter(progressive=True, file_extension='mp4').first()\n",
    "    video_path = video_stream.download(video_folder)\n",
    "    \n",
    "    # create file name for the trim video\n",
    "    name = str(action) + \".mp4\"\n",
    "    trimmed_video_path = os.path.join(video_folder, name)\n",
    "    \n",
    "    # cut video\n",
    "    with VideoFileClip(video_path) as video:\n",
    "        trimmed_video = video.subclip(start_time, end_time)\n",
    "        # resized_video = trimmed_video.resize(new_resolution)\n",
    "        trimmed_video.write_videofile(trimmed_video_path, codec='libx264')\n",
    "        \n",
    "    # extract frames from video\n",
    "    frames = dk.extract_frames(trimmed_video_path, no_frames)  \n",
    "    \n",
    "    # delete original video\n",
    "    os.remove(video_path)\n",
    "    os.remove(trimmed_video_path)\n",
    "    \n",
    "    # Set mediapipe model \n",
    "    with dk.mp_holistic.Holistic(min_detection_confidence=0.5,\n",
    "                                 min_tracking_confidence=0.5) as holistic:\n",
    "        # for each frame detect keypoints\n",
    "        for idx, frame in enumerate(frames):\n",
    "            image, results = dk.mediapipe_detection(frame, holistic)                   # Make detections\n",
    "            dk.draw_styled_landmarks(image, results)                                   # Draw landmarks \n",
    "            keypoints = dk.extract_keypoints(results)                                  # Extract keypoints\n",
    "            \n",
    "            # save keypoints in a file\n",
    "            npy_folder = os.path.join(video_folder, str(idx))\n",
    "            np.save(npy_folder, keypoints)\n",
    "            \n",
    "            # save video in a file\n",
    "            frame_path = os.path.join(cs.VIDEOS_FOLDER, action,\n",
    "                                      str(gg.counters[action]))\n",
    "            os.makedirs(frame_path, exist_ok=True)\n",
    "            frame_path = os.path.join(cs.VIDEOS_FOLDER, action, \n",
    "                                      str(gg.counters[action]), str(idx) + \".jpg\")\n",
    "            cv2.imwrite(frame_path, frame)\n",
    "            \n",
    "        # update actions and counters\n",
    "        gg.counters[action] += 1\n",
    "        cl.update_yaml_fields(gg.actions, gg.counters)\n",
    "    \n",
    "    print(f\"Video tagliato salvato in: {trimmed_video_path}\")"
   ],
   "metadata": {
    "collapsed": false,
    "ExecuteTime": {
     "end_time": "2024-06-09T09:36:59.498523900Z",
     "start_time": "2024-06-09T09:36:59.474506900Z"
    }
   },
   "id": "b57aad3ebe1ebdda"
  },
  {
   "cell_type": "code",
   "execution_count": 17,
   "outputs": [],
   "source": [
    "action = \"candy\"\n",
    "url = 'https://www.youtube.com/watch?v=EfJ4xLiX5IA'\n",
    "start_time = 0                                          # start time in seconds\n",
    "end_time = 2                                          # end time in seconds\n",
    "new_resolution = (640, 360)                             # new resolution (width, height)"
   ],
   "metadata": {
    "collapsed": false,
    "ExecuteTime": {
     "end_time": "2024-06-09T09:58:28.992019400Z",
     "start_time": "2024-06-09T09:58:28.980843300Z"
    }
   },
   "id": "f63efc77f2d2970d"
  },
  {
   "cell_type": "code",
   "execution_count": 19,
   "outputs": [
    {
     "name": "stdout",
     "output_type": "stream",
     "text": [
      "Moviepy - Building video ./dataset/keypoints\\candy\\12\\candy.mp4.\n",
      "MoviePy - Writing audio in candyTEMP_MPY_wvf_snd.mp3\n"
     ]
    },
    {
     "name": "stderr",
     "output_type": "stream",
     "text": [
      "                                                                 \r"
     ]
    },
    {
     "name": "stdout",
     "output_type": "stream",
     "text": [
      "MoviePy - Done.\n",
      "Moviepy - Writing video ./dataset/keypoints\\candy\\12\\candy.mp4\n"
     ]
    },
    {
     "name": "stderr",
     "output_type": "stream",
     "text": [
      "                                                             \r"
     ]
    },
    {
     "name": "stdout",
     "output_type": "stream",
     "text": [
      "Moviepy - Done !\n",
      "Moviepy - video ready ./dataset/keypoints\\candy\\12\\candy.mp4\n"
     ]
    },
    {
     "ename": "FileNotFoundError",
     "evalue": "[WinError 2] Impossibile trovare il file specificato: './dataset/keypoints\\\\candy\\\\12\\\\candy.mp4'",
     "output_type": "error",
     "traceback": [
      "\u001B[1;31m---------------------------------------------------------------------------\u001B[0m",
      "\u001B[1;31mFileNotFoundError\u001B[0m                         Traceback (most recent call last)",
      "Cell \u001B[1;32mIn[19], line 1\u001B[0m\n\u001B[1;32m----> 1\u001B[0m download_and_trim_youtube_video(url, start_time, end_time, action, cs\u001B[38;5;241m.\u001B[39mNUM_FRAME)\n",
      "Cell \u001B[1;32mIn[3], line 37\u001B[0m, in \u001B[0;36mdownload_and_trim_youtube_video\u001B[1;34m(url, start_time, end_time, action, no_frames)\u001B[0m\n\u001B[0;32m     35\u001B[0m \u001B[38;5;66;03m# delete original video\u001B[39;00m\n\u001B[0;32m     36\u001B[0m os\u001B[38;5;241m.\u001B[39mremove(video_path)\n\u001B[1;32m---> 37\u001B[0m os\u001B[38;5;241m.\u001B[39mremove(trimmed_video_path)\n\u001B[0;32m     39\u001B[0m \u001B[38;5;66;03m# Set mediapipe model \u001B[39;00m\n\u001B[0;32m     40\u001B[0m \u001B[38;5;28;01mwith\u001B[39;00m dk\u001B[38;5;241m.\u001B[39mmp_holistic\u001B[38;5;241m.\u001B[39mHolistic(min_detection_confidence\u001B[38;5;241m=\u001B[39m\u001B[38;5;241m0.5\u001B[39m,\n\u001B[0;32m     41\u001B[0m                              min_tracking_confidence\u001B[38;5;241m=\u001B[39m\u001B[38;5;241m0.5\u001B[39m) \u001B[38;5;28;01mas\u001B[39;00m holistic:\n\u001B[0;32m     42\u001B[0m     \u001B[38;5;66;03m# for each frame detect keypoints\u001B[39;00m\n",
      "\u001B[1;31mFileNotFoundError\u001B[0m: [WinError 2] Impossibile trovare il file specificato: './dataset/keypoints\\\\candy\\\\12\\\\candy.mp4'"
     ]
    }
   ],
   "source": [
    "download_and_trim_youtube_video(url, start_time, end_time, action, cs.NUM_FRAME)"
   ],
   "metadata": {
    "collapsed": false,
    "ExecuteTime": {
     "end_time": "2024-06-09T09:59:05.837744300Z",
     "start_time": "2024-06-09T09:58:59.852742900Z"
    }
   },
   "id": "bf6dbf0142228b8f"
  }
 ],
 "metadata": {
  "kernelspec": {
   "display_name": "Python 3",
   "language": "python",
   "name": "python3"
  },
  "language_info": {
   "codemirror_mode": {
    "name": "ipython",
    "version": 2
   },
   "file_extension": ".py",
   "mimetype": "text/x-python",
   "name": "python",
   "nbconvert_exporter": "python",
   "pygments_lexer": "ipython2",
   "version": "2.7.6"
  }
 },
 "nbformat": 4,
 "nbformat_minor": 5
}
