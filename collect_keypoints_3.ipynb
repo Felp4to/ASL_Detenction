{
 "cells": [
  {
   "cell_type": "markdown",
   "source": [
    "### Collect keypoints 3 - from youtube videos"
   ],
   "metadata": {
    "collapsed": false
   },
   "id": "41d82b2ee2b38fe5"
  },
  {
   "cell_type": "code",
   "execution_count": 9,
   "outputs": [],
   "source": [
    "import os\n",
    "import cv2\n",
    "import numpy as np\n",
    "from pytube import YouTube\n",
    "from moviepy.video.io.VideoFileClip import VideoFileClip\n",
    "import constants as cs\n",
    "import globali as gg\n",
    "import config_loader as cl\n",
    "import detect_keypoints as dk\n",
    "import matplotlib.pyplot as plt"
   ],
   "metadata": {
    "collapsed": false,
    "ExecuteTime": {
     "end_time": "2024-07-13T04:48:03.808493500Z",
     "start_time": "2024-07-13T04:48:03.785830800Z"
    }
   },
   "id": "3b539c9e23dcb918"
  },
  {
   "cell_type": "markdown",
   "source": [
    "### Extract keypoints from video"
   ],
   "metadata": {
    "collapsed": false
   },
   "id": "d115e172ae0b9cb7"
  },
  {
   "cell_type": "code",
   "execution_count": 10,
   "outputs": [],
   "source": [
    "def download_and_trim_youtube_video(url, start_time, end_time, action, no_frames):\n",
    "    \n",
    "    # load values from settings file \n",
    "    gg.actions, gg.counters = cl.read_yaml_fields()\n",
    "    \n",
    "    # create directories\n",
    "    if action not in gg.actions:\n",
    "        gg.actions.add(action)\n",
    "        gg.counters[action] = 0\n",
    "    action_folder = os.path.join(cs.KEYPOINTS_FOLDER, action)\n",
    "    os.makedirs(action_folder, exist_ok=True)\n",
    "    action_folder2 = os.path.join(cs.VIDEOS_FOLDER, action)\n",
    "    os.makedirs(action_folder2, exist_ok=True)\n",
    "    video_folder = os.path.join(action_folder, str(gg.counters[action]))\n",
    "    os.makedirs(video_folder, exist_ok=True)\n",
    "    \n",
    "    # download youtube video\n",
    "    yt = YouTube(url)\n",
    "    video_stream = yt.streams.filter(progressive=True, file_extension='mp4').first()\n",
    "    video_path = video_stream.download(video_folder)\n",
    "    \n",
    "    # create file name for the trim video\n",
    "    name = str(action) + \".mp4\"\n",
    "    trimmed_video_path = os.path.join(video_folder, name)\n",
    "    \n",
    "    # cut video\n",
    "    with VideoFileClip(video_path) as video:\n",
    "        trimmed_video = video.subclip(start_time, end_time)\n",
    "        # resized_video = trimmed_video.resize(new_resolution)\n",
    "        trimmed_video.write_videofile(trimmed_video_path, codec='libx264')\n",
    "        \n",
    "    # extract frames from video\n",
    "    frames = dk.extract_frames(trimmed_video_path, no_frames)  \n",
    "    \n",
    "    # delete original video\n",
    "    os.remove(video_path)\n",
    "    os.remove(trimmed_video_path)\n",
    "    \n",
    "    # Set mediapipe model \n",
    "    with dk.mp_holistic.Holistic(min_detection_confidence=0.5,\n",
    "                                 min_tracking_confidence=0.5) as holistic:\n",
    "        # for each frame detect keypoints\n",
    "        for idx, frame in enumerate(frames):\n",
    "            image, results = dk.mediapipe_detection(frame, holistic)                   # Make detections\n",
    "            dk.draw_styled_landmarks(image, results)                                   # Draw landmarks \n",
    "            #plt.imshow(cv2.cvtColor(image, cv2.COLOR_BGR2RGB))\n",
    "            #plt.axis('off')\n",
    "            #plt.show()\n",
    "            keypoints = dk.extract_keypoints(results)                                  # Extract keypoints\n",
    "            \n",
    "            # save keypoints in a file\n",
    "            npy_folder = os.path.join(video_folder, str(idx))\n",
    "            np.save(npy_folder, keypoints)\n",
    "            \n",
    "            # save video in a file\n",
    "            frame_path = os.path.join(cs.VIDEOS_FOLDER, action,\n",
    "                                      str(gg.counters[action]))\n",
    "            os.makedirs(frame_path, exist_ok=True)\n",
    "            frame_path = os.path.join(cs.VIDEOS_FOLDER, action, \n",
    "                                      str(gg.counters[action]), str(idx) + \".jpg\")\n",
    "            cv2.imwrite(frame_path, frame)\n",
    "            \n",
    "        # update actions and counters\n",
    "        gg.counters[action] += 1\n",
    "        cl.update_yaml_fields(gg.actions, gg.counters)\n",
    "    \n",
    "    print(f\"Video tagliato salvato in: {trimmed_video_path}\")\n",
    "    "
   ],
   "metadata": {
    "collapsed": false,
    "ExecuteTime": {
     "end_time": "2024-07-13T04:48:04.378361Z",
     "start_time": "2024-07-13T04:48:04.364779400Z"
    }
   },
   "id": "b57aad3ebe1ebdda"
  },
  {
   "cell_type": "code",
   "execution_count": 11,
   "outputs": [],
   "source": [
    "action = \"hello\"\n",
    "url = 'https://www.youtube.com/watch?v=MbggypBmHGw&ab_channel=StartASL'\n",
    "start_time = 0                                                                  # start time in seconds\n",
    "end_time = 2                                                                    # end time in seconds\n",
    "new_resolution = (640, 360)                                                     # new resolution (width, height)"
   ],
   "metadata": {
    "collapsed": false,
    "ExecuteTime": {
     "end_time": "2024-07-13T04:48:04.588852Z",
     "start_time": "2024-07-13T04:48:04.562961400Z"
    }
   },
   "id": "f63efc77f2d2970d"
  },
  {
   "cell_type": "code",
   "execution_count": 12,
   "outputs": [
    {
     "ename": "RegexMatchError",
     "evalue": "get_throttling_function_name: could not find match for multiple",
     "output_type": "error",
     "traceback": [
      "\u001B[1;31m---------------------------------------------------------------------------\u001B[0m",
      "\u001B[1;31mRegexMatchError\u001B[0m                           Traceback (most recent call last)",
      "File \u001B[1;32m~\\anaconda3\\envs\\ASL_Detenction\\Lib\\site-packages\\pytube\\__main__.py:181\u001B[0m, in \u001B[0;36mYouTube.fmt_streams\u001B[1;34m(self)\u001B[0m\n\u001B[0;32m    180\u001B[0m \u001B[38;5;28;01mtry\u001B[39;00m:\n\u001B[1;32m--> 181\u001B[0m     extract\u001B[38;5;241m.\u001B[39mapply_signature(stream_manifest, \u001B[38;5;28mself\u001B[39m\u001B[38;5;241m.\u001B[39mvid_info, \u001B[38;5;28mself\u001B[39m\u001B[38;5;241m.\u001B[39mjs)\n\u001B[0;32m    182\u001B[0m \u001B[38;5;28;01mexcept\u001B[39;00m exceptions\u001B[38;5;241m.\u001B[39mExtractError:\n\u001B[0;32m    183\u001B[0m     \u001B[38;5;66;03m# To force an update to the js file, we clear the cache and retry\u001B[39;00m\n",
      "File \u001B[1;32m~\\anaconda3\\envs\\ASL_Detenction\\Lib\\site-packages\\pytube\\extract.py:409\u001B[0m, in \u001B[0;36mapply_signature\u001B[1;34m(stream_manifest, vid_info, js)\u001B[0m\n\u001B[0;32m    401\u001B[0m \u001B[38;5;250m\u001B[39m\u001B[38;5;124;03m\"\"\"Apply the decrypted signature to the stream manifest.\u001B[39;00m\n\u001B[0;32m    402\u001B[0m \n\u001B[0;32m    403\u001B[0m \u001B[38;5;124;03m:param dict stream_manifest:\u001B[39;00m\n\u001B[1;32m   (...)\u001B[0m\n\u001B[0;32m    407\u001B[0m \n\u001B[0;32m    408\u001B[0m \u001B[38;5;124;03m\"\"\"\u001B[39;00m\n\u001B[1;32m--> 409\u001B[0m cipher \u001B[38;5;241m=\u001B[39m Cipher(js\u001B[38;5;241m=\u001B[39mjs)\n\u001B[0;32m    411\u001B[0m \u001B[38;5;28;01mfor\u001B[39;00m i, stream \u001B[38;5;129;01min\u001B[39;00m \u001B[38;5;28menumerate\u001B[39m(stream_manifest):\n",
      "File \u001B[1;32m~\\anaconda3\\envs\\ASL_Detenction\\Lib\\site-packages\\pytube\\cipher.py:43\u001B[0m, in \u001B[0;36mCipher.__init__\u001B[1;34m(self, js)\u001B[0m\n\u001B[0;32m     38\u001B[0m \u001B[38;5;28mself\u001B[39m\u001B[38;5;241m.\u001B[39mjs_func_patterns \u001B[38;5;241m=\u001B[39m [\n\u001B[0;32m     39\u001B[0m     \u001B[38;5;124mr\u001B[39m\u001B[38;5;124m\"\u001B[39m\u001B[38;5;124m\\\u001B[39m\u001B[38;5;124mw+\u001B[39m\u001B[38;5;124m\\\u001B[39m\u001B[38;5;124m.(\u001B[39m\u001B[38;5;124m\\\u001B[39m\u001B[38;5;124mw+)\u001B[39m\u001B[38;5;124m\\\u001B[39m\u001B[38;5;124m(\u001B[39m\u001B[38;5;124m\\\u001B[39m\u001B[38;5;124mw,(\u001B[39m\u001B[38;5;124m\\\u001B[39m\u001B[38;5;124md+)\u001B[39m\u001B[38;5;124m\\\u001B[39m\u001B[38;5;124m)\u001B[39m\u001B[38;5;124m\"\u001B[39m,\n\u001B[0;32m     40\u001B[0m     \u001B[38;5;124mr\u001B[39m\u001B[38;5;124m\"\u001B[39m\u001B[38;5;124m\\\u001B[39m\u001B[38;5;124mw+\u001B[39m\u001B[38;5;124m\\\u001B[39m\u001B[38;5;124m[(\u001B[39m\u001B[38;5;130;01m\\\"\u001B[39;00m\u001B[38;5;124m\\\u001B[39m\u001B[38;5;124mw+\u001B[39m\u001B[38;5;130;01m\\\"\u001B[39;00m\u001B[38;5;124m)\u001B[39m\u001B[38;5;124m\\\u001B[39m\u001B[38;5;124m]\u001B[39m\u001B[38;5;124m\\\u001B[39m\u001B[38;5;124m(\u001B[39m\u001B[38;5;124m\\\u001B[39m\u001B[38;5;124mw,(\u001B[39m\u001B[38;5;124m\\\u001B[39m\u001B[38;5;124md+)\u001B[39m\u001B[38;5;124m\\\u001B[39m\u001B[38;5;124m)\u001B[39m\u001B[38;5;124m\"\u001B[39m\n\u001B[0;32m     41\u001B[0m ]\n\u001B[1;32m---> 43\u001B[0m \u001B[38;5;28mself\u001B[39m\u001B[38;5;241m.\u001B[39mthrottling_plan \u001B[38;5;241m=\u001B[39m get_throttling_plan(js)\n\u001B[0;32m     44\u001B[0m \u001B[38;5;28mself\u001B[39m\u001B[38;5;241m.\u001B[39mthrottling_array \u001B[38;5;241m=\u001B[39m get_throttling_function_array(js)\n",
      "File \u001B[1;32m~\\anaconda3\\envs\\ASL_Detenction\\Lib\\site-packages\\pytube\\cipher.py:405\u001B[0m, in \u001B[0;36mget_throttling_plan\u001B[1;34m(js)\u001B[0m\n\u001B[0;32m    393\u001B[0m \u001B[38;5;250m\u001B[39m\u001B[38;5;124;03m\"\"\"Extract the \"throttling plan\".\u001B[39;00m\n\u001B[0;32m    394\u001B[0m \n\u001B[0;32m    395\u001B[0m \u001B[38;5;124;03mThe \"throttling plan\" is a list of tuples used for calling functions\u001B[39;00m\n\u001B[1;32m   (...)\u001B[0m\n\u001B[0;32m    403\u001B[0m \u001B[38;5;124;03m    The full function code for computing the throttlign parameter.\u001B[39;00m\n\u001B[0;32m    404\u001B[0m \u001B[38;5;124;03m\"\"\"\u001B[39;00m\n\u001B[1;32m--> 405\u001B[0m raw_code \u001B[38;5;241m=\u001B[39m get_throttling_function_code(js)\n\u001B[0;32m    407\u001B[0m transform_start \u001B[38;5;241m=\u001B[39m \u001B[38;5;124mr\u001B[39m\u001B[38;5;124m\"\u001B[39m\u001B[38;5;124mtry\u001B[39m\u001B[38;5;124m{\u001B[39m\u001B[38;5;124m\"\u001B[39m\n",
      "File \u001B[1;32m~\\anaconda3\\envs\\ASL_Detenction\\Lib\\site-packages\\pytube\\cipher.py:311\u001B[0m, in \u001B[0;36mget_throttling_function_code\u001B[1;34m(js)\u001B[0m\n\u001B[0;32m    310\u001B[0m \u001B[38;5;66;03m# Begin by extracting the correct function name\u001B[39;00m\n\u001B[1;32m--> 311\u001B[0m name \u001B[38;5;241m=\u001B[39m re\u001B[38;5;241m.\u001B[39mescape(get_throttling_function_name(js))\n\u001B[0;32m    313\u001B[0m \u001B[38;5;66;03m# Identify where the function is defined\u001B[39;00m\n",
      "File \u001B[1;32m~\\anaconda3\\envs\\ASL_Detenction\\Lib\\site-packages\\pytube\\cipher.py:296\u001B[0m, in \u001B[0;36mget_throttling_function_name\u001B[1;34m(js)\u001B[0m\n\u001B[0;32m    294\u001B[0m                 \u001B[38;5;28;01mreturn\u001B[39;00m array[\u001B[38;5;28mint\u001B[39m(idx)]\n\u001B[1;32m--> 296\u001B[0m \u001B[38;5;28;01mraise\u001B[39;00m RegexMatchError(\n\u001B[0;32m    297\u001B[0m     caller\u001B[38;5;241m=\u001B[39m\u001B[38;5;124m\"\u001B[39m\u001B[38;5;124mget_throttling_function_name\u001B[39m\u001B[38;5;124m\"\u001B[39m, pattern\u001B[38;5;241m=\u001B[39m\u001B[38;5;124m\"\u001B[39m\u001B[38;5;124mmultiple\u001B[39m\u001B[38;5;124m\"\u001B[39m\n\u001B[0;32m    298\u001B[0m )\n",
      "\u001B[1;31mRegexMatchError\u001B[0m: get_throttling_function_name: could not find match for multiple",
      "\nDuring handling of the above exception, another exception occurred:\n",
      "\u001B[1;31mRegexMatchError\u001B[0m                           Traceback (most recent call last)",
      "Cell \u001B[1;32mIn[12], line 1\u001B[0m\n\u001B[1;32m----> 1\u001B[0m download_and_trim_youtube_video(url, start_time, end_time, action, cs\u001B[38;5;241m.\u001B[39mNUM_FRAME)\n",
      "Cell \u001B[1;32mIn[10], line 19\u001B[0m, in \u001B[0;36mdownload_and_trim_youtube_video\u001B[1;34m(url, start_time, end_time, action, no_frames)\u001B[0m\n\u001B[0;32m     17\u001B[0m \u001B[38;5;66;03m# download youtube video\u001B[39;00m\n\u001B[0;32m     18\u001B[0m yt \u001B[38;5;241m=\u001B[39m YouTube(url)\n\u001B[1;32m---> 19\u001B[0m video_stream \u001B[38;5;241m=\u001B[39m yt\u001B[38;5;241m.\u001B[39mstreams\u001B[38;5;241m.\u001B[39mfilter(progressive\u001B[38;5;241m=\u001B[39m\u001B[38;5;28;01mTrue\u001B[39;00m, file_extension\u001B[38;5;241m=\u001B[39m\u001B[38;5;124m'\u001B[39m\u001B[38;5;124mmp4\u001B[39m\u001B[38;5;124m'\u001B[39m)\u001B[38;5;241m.\u001B[39mfirst()\n\u001B[0;32m     20\u001B[0m video_path \u001B[38;5;241m=\u001B[39m video_stream\u001B[38;5;241m.\u001B[39mdownload(video_folder)\n\u001B[0;32m     22\u001B[0m \u001B[38;5;66;03m# create file name for the trim video\u001B[39;00m\n",
      "File \u001B[1;32m~\\anaconda3\\envs\\ASL_Detenction\\Lib\\site-packages\\pytube\\__main__.py:296\u001B[0m, in \u001B[0;36mYouTube.streams\u001B[1;34m(self)\u001B[0m\n\u001B[0;32m    291\u001B[0m \u001B[38;5;250m\u001B[39m\u001B[38;5;124;03m\"\"\"Interface to query both adaptive (DASH) and progressive streams.\u001B[39;00m\n\u001B[0;32m    292\u001B[0m \n\u001B[0;32m    293\u001B[0m \u001B[38;5;124;03m:rtype: :class:`StreamQuery <StreamQuery>`.\u001B[39;00m\n\u001B[0;32m    294\u001B[0m \u001B[38;5;124;03m\"\"\"\u001B[39;00m\n\u001B[0;32m    295\u001B[0m \u001B[38;5;28mself\u001B[39m\u001B[38;5;241m.\u001B[39mcheck_availability()\n\u001B[1;32m--> 296\u001B[0m \u001B[38;5;28;01mreturn\u001B[39;00m StreamQuery(\u001B[38;5;28mself\u001B[39m\u001B[38;5;241m.\u001B[39mfmt_streams)\n",
      "File \u001B[1;32m~\\anaconda3\\envs\\ASL_Detenction\\Lib\\site-packages\\pytube\\__main__.py:188\u001B[0m, in \u001B[0;36mYouTube.fmt_streams\u001B[1;34m(self)\u001B[0m\n\u001B[0;32m    186\u001B[0m     pytube\u001B[38;5;241m.\u001B[39m__js__ \u001B[38;5;241m=\u001B[39m \u001B[38;5;28;01mNone\u001B[39;00m\n\u001B[0;32m    187\u001B[0m     pytube\u001B[38;5;241m.\u001B[39m__js_url__ \u001B[38;5;241m=\u001B[39m \u001B[38;5;28;01mNone\u001B[39;00m\n\u001B[1;32m--> 188\u001B[0m     extract\u001B[38;5;241m.\u001B[39mapply_signature(stream_manifest, \u001B[38;5;28mself\u001B[39m\u001B[38;5;241m.\u001B[39mvid_info, \u001B[38;5;28mself\u001B[39m\u001B[38;5;241m.\u001B[39mjs)\n\u001B[0;32m    190\u001B[0m \u001B[38;5;66;03m# build instances of :class:`Stream <Stream>`\u001B[39;00m\n\u001B[0;32m    191\u001B[0m \u001B[38;5;66;03m# Initialize stream objects\u001B[39;00m\n\u001B[0;32m    192\u001B[0m \u001B[38;5;28;01mfor\u001B[39;00m stream \u001B[38;5;129;01min\u001B[39;00m stream_manifest:\n",
      "File \u001B[1;32m~\\anaconda3\\envs\\ASL_Detenction\\Lib\\site-packages\\pytube\\extract.py:409\u001B[0m, in \u001B[0;36mapply_signature\u001B[1;34m(stream_manifest, vid_info, js)\u001B[0m\n\u001B[0;32m    400\u001B[0m \u001B[38;5;28;01mdef\u001B[39;00m \u001B[38;5;21mapply_signature\u001B[39m(stream_manifest: Dict, vid_info: Dict, js: \u001B[38;5;28mstr\u001B[39m) \u001B[38;5;241m-\u001B[39m\u001B[38;5;241m>\u001B[39m \u001B[38;5;28;01mNone\u001B[39;00m:\n\u001B[0;32m    401\u001B[0m \u001B[38;5;250m    \u001B[39m\u001B[38;5;124;03m\"\"\"Apply the decrypted signature to the stream manifest.\u001B[39;00m\n\u001B[0;32m    402\u001B[0m \n\u001B[0;32m    403\u001B[0m \u001B[38;5;124;03m    :param dict stream_manifest:\u001B[39;00m\n\u001B[1;32m   (...)\u001B[0m\n\u001B[0;32m    407\u001B[0m \n\u001B[0;32m    408\u001B[0m \u001B[38;5;124;03m    \"\"\"\u001B[39;00m\n\u001B[1;32m--> 409\u001B[0m     cipher \u001B[38;5;241m=\u001B[39m Cipher(js\u001B[38;5;241m=\u001B[39mjs)\n\u001B[0;32m    411\u001B[0m     \u001B[38;5;28;01mfor\u001B[39;00m i, stream \u001B[38;5;129;01min\u001B[39;00m \u001B[38;5;28menumerate\u001B[39m(stream_manifest):\n\u001B[0;32m    412\u001B[0m         \u001B[38;5;28;01mtry\u001B[39;00m:\n",
      "File \u001B[1;32m~\\anaconda3\\envs\\ASL_Detenction\\Lib\\site-packages\\pytube\\cipher.py:43\u001B[0m, in \u001B[0;36mCipher.__init__\u001B[1;34m(self, js)\u001B[0m\n\u001B[0;32m     37\u001B[0m \u001B[38;5;28mself\u001B[39m\u001B[38;5;241m.\u001B[39mtransform_map \u001B[38;5;241m=\u001B[39m get_transform_map(js, var)\n\u001B[0;32m     38\u001B[0m \u001B[38;5;28mself\u001B[39m\u001B[38;5;241m.\u001B[39mjs_func_patterns \u001B[38;5;241m=\u001B[39m [\n\u001B[0;32m     39\u001B[0m     \u001B[38;5;124mr\u001B[39m\u001B[38;5;124m\"\u001B[39m\u001B[38;5;124m\\\u001B[39m\u001B[38;5;124mw+\u001B[39m\u001B[38;5;124m\\\u001B[39m\u001B[38;5;124m.(\u001B[39m\u001B[38;5;124m\\\u001B[39m\u001B[38;5;124mw+)\u001B[39m\u001B[38;5;124m\\\u001B[39m\u001B[38;5;124m(\u001B[39m\u001B[38;5;124m\\\u001B[39m\u001B[38;5;124mw,(\u001B[39m\u001B[38;5;124m\\\u001B[39m\u001B[38;5;124md+)\u001B[39m\u001B[38;5;124m\\\u001B[39m\u001B[38;5;124m)\u001B[39m\u001B[38;5;124m\"\u001B[39m,\n\u001B[0;32m     40\u001B[0m     \u001B[38;5;124mr\u001B[39m\u001B[38;5;124m\"\u001B[39m\u001B[38;5;124m\\\u001B[39m\u001B[38;5;124mw+\u001B[39m\u001B[38;5;124m\\\u001B[39m\u001B[38;5;124m[(\u001B[39m\u001B[38;5;130;01m\\\"\u001B[39;00m\u001B[38;5;124m\\\u001B[39m\u001B[38;5;124mw+\u001B[39m\u001B[38;5;130;01m\\\"\u001B[39;00m\u001B[38;5;124m)\u001B[39m\u001B[38;5;124m\\\u001B[39m\u001B[38;5;124m]\u001B[39m\u001B[38;5;124m\\\u001B[39m\u001B[38;5;124m(\u001B[39m\u001B[38;5;124m\\\u001B[39m\u001B[38;5;124mw,(\u001B[39m\u001B[38;5;124m\\\u001B[39m\u001B[38;5;124md+)\u001B[39m\u001B[38;5;124m\\\u001B[39m\u001B[38;5;124m)\u001B[39m\u001B[38;5;124m\"\u001B[39m\n\u001B[0;32m     41\u001B[0m ]\n\u001B[1;32m---> 43\u001B[0m \u001B[38;5;28mself\u001B[39m\u001B[38;5;241m.\u001B[39mthrottling_plan \u001B[38;5;241m=\u001B[39m get_throttling_plan(js)\n\u001B[0;32m     44\u001B[0m \u001B[38;5;28mself\u001B[39m\u001B[38;5;241m.\u001B[39mthrottling_array \u001B[38;5;241m=\u001B[39m get_throttling_function_array(js)\n\u001B[0;32m     46\u001B[0m \u001B[38;5;28mself\u001B[39m\u001B[38;5;241m.\u001B[39mcalculated_n \u001B[38;5;241m=\u001B[39m \u001B[38;5;28;01mNone\u001B[39;00m\n",
      "File \u001B[1;32m~\\anaconda3\\envs\\ASL_Detenction\\Lib\\site-packages\\pytube\\cipher.py:405\u001B[0m, in \u001B[0;36mget_throttling_plan\u001B[1;34m(js)\u001B[0m\n\u001B[0;32m    392\u001B[0m \u001B[38;5;28;01mdef\u001B[39;00m \u001B[38;5;21mget_throttling_plan\u001B[39m(js: \u001B[38;5;28mstr\u001B[39m):\n\u001B[0;32m    393\u001B[0m \u001B[38;5;250m    \u001B[39m\u001B[38;5;124;03m\"\"\"Extract the \"throttling plan\".\u001B[39;00m\n\u001B[0;32m    394\u001B[0m \n\u001B[0;32m    395\u001B[0m \u001B[38;5;124;03m    The \"throttling plan\" is a list of tuples used for calling functions\u001B[39;00m\n\u001B[1;32m   (...)\u001B[0m\n\u001B[0;32m    403\u001B[0m \u001B[38;5;124;03m        The full function code for computing the throttlign parameter.\u001B[39;00m\n\u001B[0;32m    404\u001B[0m \u001B[38;5;124;03m    \"\"\"\u001B[39;00m\n\u001B[1;32m--> 405\u001B[0m     raw_code \u001B[38;5;241m=\u001B[39m get_throttling_function_code(js)\n\u001B[0;32m    407\u001B[0m     transform_start \u001B[38;5;241m=\u001B[39m \u001B[38;5;124mr\u001B[39m\u001B[38;5;124m\"\u001B[39m\u001B[38;5;124mtry\u001B[39m\u001B[38;5;124m{\u001B[39m\u001B[38;5;124m\"\u001B[39m\n\u001B[0;32m    408\u001B[0m     plan_regex \u001B[38;5;241m=\u001B[39m re\u001B[38;5;241m.\u001B[39mcompile(transform_start)\n",
      "File \u001B[1;32m~\\anaconda3\\envs\\ASL_Detenction\\Lib\\site-packages\\pytube\\cipher.py:311\u001B[0m, in \u001B[0;36mget_throttling_function_code\u001B[1;34m(js)\u001B[0m\n\u001B[0;32m    302\u001B[0m \u001B[38;5;250m\u001B[39m\u001B[38;5;124;03m\"\"\"Extract the raw code for the throttling function.\u001B[39;00m\n\u001B[0;32m    303\u001B[0m \n\u001B[0;32m    304\u001B[0m \u001B[38;5;124;03m:param str js:\u001B[39;00m\n\u001B[1;32m   (...)\u001B[0m\n\u001B[0;32m    308\u001B[0m \u001B[38;5;124;03m    The name of the function used to compute the throttling parameter.\u001B[39;00m\n\u001B[0;32m    309\u001B[0m \u001B[38;5;124;03m\"\"\"\u001B[39;00m\n\u001B[0;32m    310\u001B[0m \u001B[38;5;66;03m# Begin by extracting the correct function name\u001B[39;00m\n\u001B[1;32m--> 311\u001B[0m name \u001B[38;5;241m=\u001B[39m re\u001B[38;5;241m.\u001B[39mescape(get_throttling_function_name(js))\n\u001B[0;32m    313\u001B[0m \u001B[38;5;66;03m# Identify where the function is defined\u001B[39;00m\n\u001B[0;32m    314\u001B[0m pattern_start \u001B[38;5;241m=\u001B[39m \u001B[38;5;124mr\u001B[39m\u001B[38;5;124m\"\u001B[39m\u001B[38;5;132;01m%s\u001B[39;00m\u001B[38;5;124m=function\u001B[39m\u001B[38;5;124m\\\u001B[39m\u001B[38;5;124m(\u001B[39m\u001B[38;5;124m\\\u001B[39m\u001B[38;5;124mw\u001B[39m\u001B[38;5;124m\\\u001B[39m\u001B[38;5;124m)\u001B[39m\u001B[38;5;124m\"\u001B[39m \u001B[38;5;241m%\u001B[39m name\n",
      "File \u001B[1;32m~\\anaconda3\\envs\\ASL_Detenction\\Lib\\site-packages\\pytube\\cipher.py:296\u001B[0m, in \u001B[0;36mget_throttling_function_name\u001B[1;34m(js)\u001B[0m\n\u001B[0;32m    293\u001B[0m                 array \u001B[38;5;241m=\u001B[39m [x\u001B[38;5;241m.\u001B[39mstrip() \u001B[38;5;28;01mfor\u001B[39;00m x \u001B[38;5;129;01min\u001B[39;00m array]\n\u001B[0;32m    294\u001B[0m                 \u001B[38;5;28;01mreturn\u001B[39;00m array[\u001B[38;5;28mint\u001B[39m(idx)]\n\u001B[1;32m--> 296\u001B[0m \u001B[38;5;28;01mraise\u001B[39;00m RegexMatchError(\n\u001B[0;32m    297\u001B[0m     caller\u001B[38;5;241m=\u001B[39m\u001B[38;5;124m\"\u001B[39m\u001B[38;5;124mget_throttling_function_name\u001B[39m\u001B[38;5;124m\"\u001B[39m, pattern\u001B[38;5;241m=\u001B[39m\u001B[38;5;124m\"\u001B[39m\u001B[38;5;124mmultiple\u001B[39m\u001B[38;5;124m\"\u001B[39m\n\u001B[0;32m    298\u001B[0m )\n",
      "\u001B[1;31mRegexMatchError\u001B[0m: get_throttling_function_name: could not find match for multiple"
     ]
    }
   ],
   "source": [
    "download_and_trim_youtube_video(url, start_time, end_time, action, cs.NUM_FRAME)"
   ],
   "metadata": {
    "collapsed": false,
    "ExecuteTime": {
     "end_time": "2024-07-13T04:48:09.230098500Z",
     "start_time": "2024-07-13T04:48:05.265617Z"
    }
   },
   "id": "bf6dbf0142228b8f"
  }
 ],
 "metadata": {
  "kernelspec": {
   "display_name": "Python 3",
   "language": "python",
   "name": "python3"
  },
  "language_info": {
   "codemirror_mode": {
    "name": "ipython",
    "version": 2
   },
   "file_extension": ".py",
   "mimetype": "text/x-python",
   "name": "python",
   "nbconvert_exporter": "python",
   "pygments_lexer": "ipython2",
   "version": "2.7.6"
  }
 },
 "nbformat": 4,
 "nbformat_minor": 5
}
